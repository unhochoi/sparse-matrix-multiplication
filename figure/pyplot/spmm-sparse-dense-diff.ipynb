{
 "cells": [
  {
   "cell_type": "markdown",
   "id": "22d75187",
   "metadata": {},
   "source": [
    "- spmm-sparse-dense-diff\n",
    "    - x축\n",
    "        - 우측 행렬의 density\n",
    "    - y축\n",
    "        - 왼쪽 행렬 고정한 뒤, 우측 행렬 density 증가에 따른 곱셈 성능"
   ]
  },
  {
   "cell_type": "code",
   "execution_count": null,
   "id": "93b2c753",
   "metadata": {},
   "outputs": [],
   "source": []
  }
 ],
 "metadata": {
  "kernelspec": {
   "display_name": "Python 3",
   "language": "python",
   "name": "python3"
  },
  "language_info": {
   "codemirror_mode": {
    "name": "ipython",
    "version": 3
   },
   "file_extension": ".py",
   "mimetype": "text/x-python",
   "name": "python",
   "nbconvert_exporter": "python",
   "pygments_lexer": "ipython3",
   "version": "3.7.0"
  }
 },
 "nbformat": 4,
 "nbformat_minor": 5
}
