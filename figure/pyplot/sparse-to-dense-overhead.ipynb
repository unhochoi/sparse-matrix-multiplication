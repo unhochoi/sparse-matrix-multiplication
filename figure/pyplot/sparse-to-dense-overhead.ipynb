{
 "cells": [
  {
   "cell_type": "markdown",
   "id": "e621ad84",
   "metadata": {},
   "source": [
    "- sparse-to-dense-overhead (sparse를 dense로 바꾸는 오버헤드가 크다는 것을 표현하는게 핵심)\n",
    "    - x축\n",
    "        - 3단계 (우측 matrix의 사이즈 단위로 small, medium, large)\n",
    "        - 각 단계를 3단계로 추가 분할 (우측 matrix의 density 단위로 ex. 0.001, 0.01, 0.1)\n",
    "    - y축\n",
    "        - 좌측 y축 : sparse to dense latency\n",
    "        - 우측 y축 : memory consumption\n",
    "            - dense memory / sparse memory\n",
    "            - sparse memory / dense memory\n",
    "            - logscale(sparse memory / dense memory)\n",
    "            - etc.."
   ]
  },
  {
   "cell_type": "code",
   "execution_count": null,
   "id": "af21f07d",
   "metadata": {},
   "outputs": [],
   "source": []
  }
 ],
 "metadata": {
  "kernelspec": {
   "display_name": "Python 3",
   "language": "python",
   "name": "python3"
  },
  "language_info": {
   "codemirror_mode": {
    "name": "ipython",
    "version": 3
   },
   "file_extension": ".py",
   "mimetype": "text/x-python",
   "name": "python",
   "nbconvert_exporter": "python",
   "pygments_lexer": "ipython3",
   "version": "3.7.0"
  }
 },
 "nbformat": 4,
 "nbformat_minor": 5
}
