{
 "cells": [
  {
   "cell_type": "code",
   "execution_count": 1,
   "metadata": {},
   "outputs": [],
   "source": [
    "import pandas as pd\n",
    "import numpy as np\n",
    "import matplotlib.pyplot as plt\n",
    "import tensorflow as tf\n",
    "from tensorflow import keras\n",
    "from tensorflow.keras.models import Sequential\n",
    "from tensorflow.keras.layers import Dense\n",
    "from tensorflow.keras.layers import ReLU\n",
    "from tensorflow.keras.optimizers import Adam\n",
    "\n",
    "# 1727, 191\n",
    "train = pd.read_csv('/Users/bdlab/Desktop/sparse-matrix-multiplication/scenario-extraction/d-optimal/d-optimal-of-spmm/train-test-csv/1727-nonsquare-train-from-1918-nonsquare-spmm-over-3s.csv')\n",
    "test = pd.read_csv('/Users/bdlab/Desktop/sparse-matrix-multiplication/scenario-extraction/d-optimal/d-optimal-of-spmm/train-test-csv/191-nonsquare-test-from-1918-nonsquare-spmm-over-3s.csv')"
   ]
  },
  {
   "cell_type": "code",
   "execution_count": 2,
   "metadata": {},
   "outputs": [],
   "source": [
    "# feature 1개 추가\n",
    "# Train + Valid\n",
    "X_train = train[['lr','lc','rc','ld','rd','lnnz','rnnz','lr*lc','lc*rc','lr*rc','lr*lc*rc','ld*rd','lr*rc*ld*rd','lr*lc*rc*ld*rd','lnnz*rnnz']] \n",
    "sp_smdm_y_train = train['sp_smdm']\n",
    "bz_smsm_y_train = train['bz_smsm']\n",
    "\n",
    "# Test\n",
    "X_test = test[['lr','lc','rc','ld','rd','lnnz','rnnz','lr*lc','lc*rc','lr*rc','lr*lc*rc','ld*rd','lr*rc*ld*rd','lr*lc*rc*ld*rd','lnnz*rnnz']] \n",
    "sp_smdm_y_test = test['sp_smdm']\n",
    "bz_smsm_y_test = test['bz_smsm']"
   ]
  },
  {
   "cell_type": "code",
   "execution_count": 3,
   "metadata": {},
   "outputs": [],
   "source": [
    "# 데이터 표준화(Standardization)\n",
    "from sklearn.preprocessing import StandardScaler\n",
    "\n",
    "# 변형 객체 생성\n",
    "std_scaler = StandardScaler()\n",
    "\n",
    "# 훈련데이터의 모수 분포 저장\n",
    "std_scaler.fit(X_train)\n",
    "\n",
    "# 훈련 데이터 스케일링\n",
    "X_train_scaled = std_scaler.transform(X_train)\n",
    "\n",
    "# # 테스트 데이터의 스케일링\n",
    "# X_test_scaled = std_scaler.transform(X_test)"
   ]
  },
  {
   "cell_type": "code",
   "execution_count": 4,
   "metadata": {},
   "outputs": [],
   "source": [
    "from sklearn.metrics import mean_squared_error\n",
    "\n",
    "def mape_error(y_test, y_pred):\n",
    "    y_test, y_pred = np.array(y_test), np.array(y_pred)\n",
    "    return np.mean(np.abs((y_test - y_pred) / y_test)) * 100\n",
    "\n",
    "def rmse_error(y_true, y_pred):\n",
    "    rmse = np.sqrt(np.mean(np.square(y_pred - y_true))) \n",
    "    return rmse"
   ]
  },
  {
   "cell_type": "markdown",
   "metadata": {},
   "source": [
    "# sp_smdm"
   ]
  },
  {
   "cell_type": "markdown",
   "metadata": {},
   "source": [
    "### xgbregressor"
   ]
  },
  {
   "cell_type": "code",
   "execution_count": 5,
   "metadata": {},
   "outputs": [
    {
     "data": {
      "text/plain": [
       "XGBRegressor(learning_rate=0.03043527433312202, max_depth=15,\n",
       "             min_child_weight=0.9475568411577447, n_estimators=117, n_jobs=-1,\n",
       "             objective='reg:squarederror', reg_lambda=0.6647400190467575,\n",
       "             subsample=0.7657624341353388)"
      ]
     },
     "execution_count": 5,
     "metadata": {},
     "output_type": "execute_result"
    }
   ],
   "source": [
    "import xgboost as xgb\n",
    "\n",
    "# Train + Valid cross-validation을 거친, 최적의 하이퍼파라미터를 사용\n",
    "sp_smdm_xgbregressor_model = xgb.XGBRegressor(\n",
    "objective = 'reg:squarederror',\n",
    "max_depth=int(15),\n",
    "learning_rate=0.03043527433312202,\n",
    "n_estimators=int(117),\n",
    "subsample=0.7657624341353388,\n",
    "reg_lambda = 0.6647400190467575,    \n",
    "min_child_weight = 0.9475568411577447,\n",
    "n_jobs=-1\n",
    "                             )\n",
    "# 모델 훈련\n",
    "sp_smdm_xgbregressor_model.fit(X_train, sp_smdm_y_train)"
   ]
  },
  {
   "cell_type": "markdown",
   "metadata": {},
   "source": [
    "### dnn"
   ]
  },
  {
   "cell_type": "code",
   "execution_count": 6,
   "metadata": {},
   "outputs": [],
   "source": [
    "# 모델 생성\n",
    "def build_model():\n",
    "\n",
    "    model=Sequential()\n",
    "\n",
    "    model.add(Dense(256, activation=\"relu\", input_shape=(X_train.shape[1],)))  \n",
    "    model.add(Dense(128, activation=\"relu\"))\n",
    "    model.add(Dense(64, activation=\"relu\"))\n",
    "    model.add(Dense(32, activation=\"relu\"))\n",
    "    model.add(Dense(1))\n",
    "    \n",
    "    optimizer = Adam(lr=0.01)\n",
    "    \n",
    "    model.compile(optimizer=optimizer ,\n",
    "                  loss='mape',\n",
    "                  metrics=['mape'])\n",
    "    return model\n",
    "\n",
    "sp_smdm_dnn_model = build_model()"
   ]
  },
  {
   "cell_type": "code",
   "execution_count": 7,
   "metadata": {},
   "outputs": [
    {
     "name": "stdout",
     "output_type": "stream",
     "text": [
      "\n",
      "....................................................................................................\n",
      "....................................................................................................\n",
      "....................................................................................................\n",
      "....................................................................................................\n",
      "................................"
     ]
    },
    {
     "data": {
      "text/plain": [
       "<tensorflow.python.keras.callbacks.History at 0x7fd132a6e910>"
      ]
     },
     "execution_count": 7,
     "metadata": {},
     "output_type": "execute_result"
    }
   ],
   "source": [
    "# 에포크가 끝날 때마다 점(.)을 출력해 훈련 진행 과정을 표시합니다\n",
    "class PrintDot(keras.callbacks.Callback):\n",
    "    def on_epoch_end(self, epoch, logs):\n",
    "        if epoch % 100 == 0: print('')\n",
    "        print('.', end='')\n",
    "\n",
    "early_stop = keras.callbacks.EarlyStopping(monitor='val_mape', patience=150)\n",
    "\n",
    "EPOCHS = 100000\n",
    "\n",
    "sp_smdm_dnn_model.fit(X_train_scaled, \n",
    "                sp_smdm_y_train,\n",
    "                epochs=EPOCHS, \n",
    "                validation_split = 0.1, \n",
    "                verbose =0, \n",
    "                callbacks=[early_stop, PrintDot()])"
   ]
  },
  {
   "cell_type": "markdown",
   "metadata": {},
   "source": [
    "### linear regressor"
   ]
  },
  {
   "cell_type": "code",
   "execution_count": 8,
   "metadata": {},
   "outputs": [
    {
     "data": {
      "text/plain": [
       "LinearRegression()"
      ]
     },
     "execution_count": 8,
     "metadata": {},
     "output_type": "execute_result"
    }
   ],
   "source": [
    "from sklearn.linear_model import LinearRegression\n",
    "\n",
    "sp_smdm_linear_model = LinearRegression()\n",
    "\n",
    "sp_smdm_linear_model.fit(X_train,sp_smdm_y_train)"
   ]
  },
  {
   "cell_type": "markdown",
   "metadata": {},
   "source": [
    "### X_test를 입력 받았을 때, ensemble 모델을 사용해 최종적인 sp_smdm y_pred 반환"
   ]
  },
  {
   "cell_type": "code",
   "execution_count": 9,
   "metadata": {},
   "outputs": [],
   "source": [
    "def sp_smdm_pred(X_test):\n",
    "\n",
    "    sp_smdm_xgbregressor_y_pred = sp_smdm_xgbregressor_model.predict(X_test)\n",
    "    sp_smdm_dnn_y_pred = sp_smdm_dnn_model.predict(std_scaler.transform(X_test)).reshape(-1,)\n",
    "    sp_smdm_linear_y_pred = sp_smdm_linear_model.predict(X_test)\n",
    "\n",
    "    # 3가지 y_pred를 concat\n",
    "    y_pred_concat = pd.concat([pd.DataFrame(sp_smdm_xgbregressor_y_pred),pd.DataFrame(sp_smdm_dnn_y_pred),pd.DataFrame(sp_smdm_linear_y_pred)],axis=1)   \n",
    "    \n",
    "    # 3가지 y_pred 중 median 값을 추출해 최종 y_pred 생성\n",
    "    y_pred = y_pred_concat.median(axis=1).to_numpy()\n",
    "\n",
    "    return y_pred\n",
    "    "
   ]
  },
  {
   "cell_type": "code",
   "execution_count": 24,
   "metadata": {},
   "outputs": [],
   "source": [
    "# sp_smdm 최종 y_pred 배열 생성\n",
    "sp_smdm_y_pred = sp_smdm_pred(X_test)\n",
    "sp_smdm_y_pred = sp_smdm_y_pred.astype(np.int64)"
   ]
  },
  {
   "cell_type": "code",
   "execution_count": null,
   "metadata": {},
   "outputs": [],
   "source": []
  },
  {
   "cell_type": "markdown",
   "metadata": {},
   "source": [
    "# bz_smsm"
   ]
  },
  {
   "cell_type": "markdown",
   "metadata": {},
   "source": [
    "### xgbregressor"
   ]
  },
  {
   "cell_type": "code",
   "execution_count": 11,
   "metadata": {},
   "outputs": [
    {
     "data": {
      "text/plain": [
       "XGBRegressor(colsample_bytree=0.9571507504641366, learning_rate=0.04,\n",
       "             max_depth=18, n_estimators=95, n_jobs=-1,\n",
       "             objective='reg:squarederror', reg_lambda=0.7058132473615808,\n",
       "             subsample=0.5625626271955027)"
      ]
     },
     "execution_count": 11,
     "metadata": {},
     "output_type": "execute_result"
    }
   ],
   "source": [
    "import xgboost as xgb\n",
    "\n",
    "# Train + Valid cross-validation을 거친, 최적의 하이퍼파라미터를 사용\n",
    "bz_smsm_xgbregressor_model = xgb.XGBRegressor(\n",
    "objective = 'reg:squarederror',\n",
    "max_depth=int(18),\n",
    "learning_rate=0.04,\n",
    "n_estimators=int(95),\n",
    "subsample=0.5625626271955027,\n",
    "reg_lambda = 0.7058132473615808,    \n",
    "colsample_bytree=0.9571507504641366,\n",
    "n_jobs=-1\n",
    "                             )\n",
    "# 모델 훈련\n",
    "bz_smsm_xgbregressor_model.fit(X_train, bz_smsm_y_train)"
   ]
  },
  {
   "cell_type": "markdown",
   "metadata": {},
   "source": [
    "### dnn"
   ]
  },
  {
   "cell_type": "code",
   "execution_count": 12,
   "metadata": {},
   "outputs": [],
   "source": [
    "# 모델 생성\n",
    "def build_model():\n",
    "\n",
    "    model=Sequential()\n",
    "\n",
    "    model.add(Dense(256, activation=\"relu\", input_shape=(X_train.shape[1],)))  \n",
    "    model.add(Dense(512, activation=\"relu\"))\n",
    "    model.add(Dense(128, activation=\"relu\"))\n",
    "    model.add(Dense(64, activation=\"relu\"))\n",
    "    model.add(Dense(32, activation=\"relu\"))\n",
    "    model.add(Dense(1))\n",
    "    \n",
    "    optimizer = Adam(lr=0.01)\n",
    "    \n",
    "    model.compile(optimizer=optimizer ,\n",
    "                  loss='mape',\n",
    "                  metrics=['mape'])\n",
    "    return model\n",
    "\n",
    "bz_smsm_dnn_model = build_model()"
   ]
  },
  {
   "cell_type": "code",
   "execution_count": 13,
   "metadata": {},
   "outputs": [
    {
     "name": "stdout",
     "output_type": "stream",
     "text": [
      "\n",
      "....................................................................................................\n",
      "....................................................................................................\n",
      "..................................................................................................."
     ]
    },
    {
     "data": {
      "text/plain": [
       "<tensorflow.python.keras.callbacks.History at 0x7fd139ba7ad0>"
      ]
     },
     "execution_count": 13,
     "metadata": {},
     "output_type": "execute_result"
    }
   ],
   "source": [
    "# 에포크가 끝날 때마다 점(.)을 출력해 훈련 진행 과정을 표시합니다\n",
    "class PrintDot(keras.callbacks.Callback):\n",
    "    def on_epoch_end(self, epoch, logs):\n",
    "        if epoch % 100 == 0: print('')\n",
    "        print('.', end='')\n",
    "\n",
    "early_stop = keras.callbacks.EarlyStopping(monitor='val_mape', patience=150)\n",
    "\n",
    "EPOCHS = 100000\n",
    "\n",
    "bz_smsm_dnn_model.fit(X_train_scaled, \n",
    "                bz_smsm_y_train,\n",
    "                epochs=EPOCHS, \n",
    "                validation_split = 0.1, \n",
    "                verbose =0, \n",
    "                callbacks=[early_stop, PrintDot()])"
   ]
  },
  {
   "cell_type": "markdown",
   "metadata": {},
   "source": [
    "### linear regressor"
   ]
  },
  {
   "cell_type": "code",
   "execution_count": 14,
   "metadata": {},
   "outputs": [
    {
     "data": {
      "text/plain": [
       "LinearRegression()"
      ]
     },
     "execution_count": 14,
     "metadata": {},
     "output_type": "execute_result"
    }
   ],
   "source": [
    "from sklearn.linear_model import LinearRegression\n",
    "\n",
    "bz_smsm_linear_model = LinearRegression()\n",
    "\n",
    "bz_smsm_linear_model.fit(X_train,bz_smsm_y_train)"
   ]
  },
  {
   "cell_type": "markdown",
   "metadata": {},
   "source": [
    "### X_test를 입력 받았을 때, ensemble 모델을 사용해 최종적인 bz_smsm y_pred 반환"
   ]
  },
  {
   "cell_type": "code",
   "execution_count": 15,
   "metadata": {},
   "outputs": [],
   "source": [
    "def bz_smsm_pred(X_test):\n",
    "\n",
    "    bz_smsm_xgbregressor_y_pred = bz_smsm_xgbregressor_model.predict(X_test)\n",
    "    bz_smsm_dnn_y_pred = bz_smsm_dnn_model.predict(std_scaler.transform(X_test)).reshape(-1,)\n",
    "    bz_smsm_linear_y_pred = bz_smsm_linear_model.predict(X_test)\n",
    "\n",
    "    # 3가지 y_pred를 concat\n",
    "    y_pred_concat = pd.concat([pd.DataFrame(bz_smsm_xgbregressor_y_pred),pd.DataFrame(bz_smsm_dnn_y_pred),pd.DataFrame(bz_smsm_linear_y_pred)],axis=1)   \n",
    "    \n",
    "    # 3가지 y_pred 중 median 값을 추출해 최종 y_pred 생성\n",
    "    y_pred = y_pred_concat.median(axis=1).to_numpy()\n",
    "\n",
    "    return y_pred\n",
    "    "
   ]
  },
  {
   "cell_type": "code",
   "execution_count": 23,
   "metadata": {},
   "outputs": [],
   "source": [
    "# bz_smdm 최종 y_pred 배열 생성\n",
    "bz_smsm_y_pred = bz_smsm_pred(X_test)\n",
    "bz_smsm_y_pred = bz_smsm_y_pred.astype(np.int64)"
   ]
  },
  {
   "cell_type": "code",
   "execution_count": null,
   "metadata": {},
   "outputs": [],
   "source": []
  },
  {
   "cell_type": "markdown",
   "metadata": {},
   "source": [
    "### sp_smdm_y_pred와 bz_smsm_y_pred를 사용해, y_pred_label 생성"
   ]
  },
  {
   "cell_type": "code",
   "execution_count": 17,
   "metadata": {},
   "outputs": [],
   "source": [
    "y_pred_label = []\n",
    "\n",
    "for i in range(len(X_test)):\n",
    "    latency_list = []\n",
    "    latency_list.append(sp_smdm_y_pred[i])\n",
    "    latency_list.append(bz_smsm_y_pred[i])\n",
    "    y_pred_label.append(latency_list.index(min(latency_list)))"
   ]
  },
  {
   "cell_type": "markdown",
   "metadata": {},
   "source": [
    "### 실제 sp_smdm과 bz_smsm을 통해, y_real_label 생성"
   ]
  },
  {
   "cell_type": "code",
   "execution_count": 19,
   "metadata": {},
   "outputs": [],
   "source": [
    "y_real_label = []\n",
    "\n",
    "for i in range(len(X_test)):\n",
    "    latency_list = []\n",
    "    latency_list.append(test.loc[i,'sp_smdm'])\n",
    "    latency_list.append(test.loc[i,'bz_smsm'])\n",
    "    y_real_label.append(latency_list.index(min(latency_list)))"
   ]
  },
  {
   "cell_type": "markdown",
   "metadata": {},
   "source": [
    "### y_pred_label과 y_real_label 간 accuracy 측정"
   ]
  },
  {
   "cell_type": "code",
   "execution_count": 20,
   "metadata": {},
   "outputs": [
    {
     "data": {
      "text/plain": [
       "0.9427083333333334"
      ]
     },
     "execution_count": 20,
     "metadata": {},
     "output_type": "execute_result"
    }
   ],
   "source": [
    "from sklearn.metrics import accuracy_score\n",
    "\n",
    "accuracy_score(y_pred_label, y_real_label)"
   ]
  },
  {
   "cell_type": "markdown",
   "metadata": {},
   "source": [
    "### 결과 dataframe 생성"
   ]
  },
  {
   "cell_type": "code",
   "execution_count": 25,
   "metadata": {},
   "outputs": [
    {
     "data": {
      "text/html": [
       "<div>\n",
       "<style scoped>\n",
       "    .dataframe tbody tr th:only-of-type {\n",
       "        vertical-align: middle;\n",
       "    }\n",
       "\n",
       "    .dataframe tbody tr th {\n",
       "        vertical-align: top;\n",
       "    }\n",
       "\n",
       "    .dataframe thead th {\n",
       "        text-align: right;\n",
       "    }\n",
       "</style>\n",
       "<table border=\"1\" class=\"dataframe\">\n",
       "  <thead>\n",
       "    <tr style=\"text-align: right;\">\n",
       "      <th></th>\n",
       "      <th>lr</th>\n",
       "      <th>lc</th>\n",
       "      <th>rc</th>\n",
       "      <th>ld</th>\n",
       "      <th>rd</th>\n",
       "      <th>lnnz</th>\n",
       "      <th>rnnz</th>\n",
       "      <th>sp_smdm</th>\n",
       "      <th>bz_smsm</th>\n",
       "      <th>y_pred_label</th>\n",
       "      <th>sp_smdm_y_pred</th>\n",
       "      <th>bz_smsm_y_pred</th>\n",
       "      <th>y_real_label</th>\n",
       "    </tr>\n",
       "  </thead>\n",
       "  <tbody>\n",
       "    <tr>\n",
       "      <th>0</th>\n",
       "      <td>131403</td>\n",
       "      <td>43733</td>\n",
       "      <td>7722</td>\n",
       "      <td>0.000084</td>\n",
       "      <td>0.10</td>\n",
       "      <td>484397</td>\n",
       "      <td>33774444</td>\n",
       "      <td>29621</td>\n",
       "      <td>34386</td>\n",
       "      <td>0</td>\n",
       "      <td>29454</td>\n",
       "      <td>36816</td>\n",
       "      <td>0</td>\n",
       "    </tr>\n",
       "    <tr>\n",
       "      <th>1</th>\n",
       "      <td>15728</td>\n",
       "      <td>31500</td>\n",
       "      <td>45522</td>\n",
       "      <td>0.008605</td>\n",
       "      <td>0.03</td>\n",
       "      <td>4263462</td>\n",
       "      <td>43019639</td>\n",
       "      <td>247887</td>\n",
       "      <td>116536</td>\n",
       "      <td>1</td>\n",
       "      <td>201186</td>\n",
       "      <td>129839</td>\n",
       "      <td>1</td>\n",
       "    </tr>\n",
       "    <tr>\n",
       "      <th>2</th>\n",
       "      <td>32231</td>\n",
       "      <td>80720</td>\n",
       "      <td>577</td>\n",
       "      <td>0.001605</td>\n",
       "      <td>0.30</td>\n",
       "      <td>4176859</td>\n",
       "      <td>13985604</td>\n",
       "      <td>3975</td>\n",
       "      <td>6960</td>\n",
       "      <td>0</td>\n",
       "      <td>4333</td>\n",
       "      <td>7006</td>\n",
       "      <td>0</td>\n",
       "    </tr>\n",
       "    <tr>\n",
       "      <th>3</th>\n",
       "      <td>33895</td>\n",
       "      <td>53317</td>\n",
       "      <td>26714</td>\n",
       "      <td>0.003706</td>\n",
       "      <td>0.01</td>\n",
       "      <td>6696942</td>\n",
       "      <td>14243336</td>\n",
       "      <td>280837</td>\n",
       "      <td>92404</td>\n",
       "      <td>1</td>\n",
       "      <td>264359</td>\n",
       "      <td>92275</td>\n",
       "      <td>1</td>\n",
       "    </tr>\n",
       "    <tr>\n",
       "      <th>4</th>\n",
       "      <td>124226</td>\n",
       "      <td>83003</td>\n",
       "      <td>2310</td>\n",
       "      <td>0.003706</td>\n",
       "      <td>0.23</td>\n",
       "      <td>38209922</td>\n",
       "      <td>44118447</td>\n",
       "      <td>312134</td>\n",
       "      <td>224158</td>\n",
       "      <td>1</td>\n",
       "      <td>280096</td>\n",
       "      <td>222585</td>\n",
       "      <td>1</td>\n",
       "    </tr>\n",
       "    <tr>\n",
       "      <th>...</th>\n",
       "      <td>...</td>\n",
       "      <td>...</td>\n",
       "      <td>...</td>\n",
       "      <td>...</td>\n",
       "      <td>...</td>\n",
       "      <td>...</td>\n",
       "      <td>...</td>\n",
       "      <td>...</td>\n",
       "      <td>...</td>\n",
       "      <td>...</td>\n",
       "      <td>...</td>\n",
       "      <td>...</td>\n",
       "      <td>...</td>\n",
       "    </tr>\n",
       "    <tr>\n",
       "      <th>187</th>\n",
       "      <td>26143</td>\n",
       "      <td>60856</td>\n",
       "      <td>21307</td>\n",
       "      <td>0.001639</td>\n",
       "      <td>0.01</td>\n",
       "      <td>2608393</td>\n",
       "      <td>12967105</td>\n",
       "      <td>88332</td>\n",
       "      <td>37055</td>\n",
       "      <td>1</td>\n",
       "      <td>86052</td>\n",
       "      <td>33104</td>\n",
       "      <td>1</td>\n",
       "    </tr>\n",
       "    <tr>\n",
       "      <th>188</th>\n",
       "      <td>2629</td>\n",
       "      <td>50352</td>\n",
       "      <td>42240</td>\n",
       "      <td>0.001825</td>\n",
       "      <td>0.03</td>\n",
       "      <td>241666</td>\n",
       "      <td>63807645</td>\n",
       "      <td>40930</td>\n",
       "      <td>12841</td>\n",
       "      <td>1</td>\n",
       "      <td>32018</td>\n",
       "      <td>14190</td>\n",
       "      <td>1</td>\n",
       "    </tr>\n",
       "    <tr>\n",
       "      <th>189</th>\n",
       "      <td>149605</td>\n",
       "      <td>87549</td>\n",
       "      <td>749</td>\n",
       "      <td>0.000319</td>\n",
       "      <td>0.15</td>\n",
       "      <td>4183568</td>\n",
       "      <td>9836644</td>\n",
       "      <td>10982</td>\n",
       "      <td>17169</td>\n",
       "      <td>0</td>\n",
       "      <td>9259</td>\n",
       "      <td>15255</td>\n",
       "      <td>0</td>\n",
       "    </tr>\n",
       "    <tr>\n",
       "      <th>190</th>\n",
       "      <td>44373</td>\n",
       "      <td>7434</td>\n",
       "      <td>41589</td>\n",
       "      <td>0.000563</td>\n",
       "      <td>0.13</td>\n",
       "      <td>185611</td>\n",
       "      <td>40196551</td>\n",
       "      <td>40966</td>\n",
       "      <td>86949</td>\n",
       "      <td>0</td>\n",
       "      <td>36936</td>\n",
       "      <td>74643</td>\n",
       "      <td>0</td>\n",
       "    </tr>\n",
       "    <tr>\n",
       "      <th>191</th>\n",
       "      <td>59421</td>\n",
       "      <td>10745</td>\n",
       "      <td>7366</td>\n",
       "      <td>0.001082</td>\n",
       "      <td>0.30</td>\n",
       "      <td>690710</td>\n",
       "      <td>23745843</td>\n",
       "      <td>18578</td>\n",
       "      <td>55799</td>\n",
       "      <td>0</td>\n",
       "      <td>15176</td>\n",
       "      <td>51608</td>\n",
       "      <td>0</td>\n",
       "    </tr>\n",
       "  </tbody>\n",
       "</table>\n",
       "<p>192 rows × 13 columns</p>\n",
       "</div>"
      ],
      "text/plain": [
       "         lr     lc     rc        ld    rd      lnnz      rnnz  sp_smdm  \\\n",
       "0    131403  43733   7722  0.000084  0.10    484397  33774444    29621   \n",
       "1     15728  31500  45522  0.008605  0.03   4263462  43019639   247887   \n",
       "2     32231  80720    577  0.001605  0.30   4176859  13985604     3975   \n",
       "3     33895  53317  26714  0.003706  0.01   6696942  14243336   280837   \n",
       "4    124226  83003   2310  0.003706  0.23  38209922  44118447   312134   \n",
       "..      ...    ...    ...       ...   ...       ...       ...      ...   \n",
       "187   26143  60856  21307  0.001639  0.01   2608393  12967105    88332   \n",
       "188    2629  50352  42240  0.001825  0.03    241666  63807645    40930   \n",
       "189  149605  87549    749  0.000319  0.15   4183568   9836644    10982   \n",
       "190   44373   7434  41589  0.000563  0.13    185611  40196551    40966   \n",
       "191   59421  10745   7366  0.001082  0.30    690710  23745843    18578   \n",
       "\n",
       "     bz_smsm  y_pred_label  sp_smdm_y_pred  bz_smsm_y_pred  y_real_label  \n",
       "0      34386             0           29454           36816             0  \n",
       "1     116536             1          201186          129839             1  \n",
       "2       6960             0            4333            7006             0  \n",
       "3      92404             1          264359           92275             1  \n",
       "4     224158             1          280096          222585             1  \n",
       "..       ...           ...             ...             ...           ...  \n",
       "187    37055             1           86052           33104             1  \n",
       "188    12841             1           32018           14190             1  \n",
       "189    17169             0            9259           15255             0  \n",
       "190    86949             0           36936           74643             0  \n",
       "191    55799             0           15176           51608             0  \n",
       "\n",
       "[192 rows x 13 columns]"
      ]
     },
     "execution_count": 25,
     "metadata": {},
     "output_type": "execute_result"
    }
   ],
   "source": [
    "temp = test[['lr','lc','rc','ld','rd','lnnz','rnnz','sp_smdm','bz_smsm']]\n",
    "pd.concat([temp,pd.DataFrame(y_pred_label,columns=['y_pred_label']),pd.DataFrame(sp_smdm_y_pred,columns=['sp_smdm_y_pred']),pd.DataFrame(bz_smsm_y_pred,columns=['bz_smsm_y_pred']), pd.DataFrame(y_real_label,columns=['y_real_label']) ],axis=1)"
   ]
  },
  {
   "cell_type": "code",
   "execution_count": null,
   "metadata": {},
   "outputs": [],
   "source": []
  }
 ],
 "metadata": {
  "kernelspec": {
   "display_name": "Python 3",
   "language": "python",
   "name": "python3"
  },
  "language_info": {
   "codemirror_mode": {
    "name": "ipython",
    "version": 3
   },
   "file_extension": ".py",
   "mimetype": "text/x-python",
   "name": "python",
   "nbconvert_exporter": "python",
   "pygments_lexer": "ipython3",
   "version": "3.7.7"
  }
 },
 "nbformat": 4,
 "nbformat_minor": 4
}
