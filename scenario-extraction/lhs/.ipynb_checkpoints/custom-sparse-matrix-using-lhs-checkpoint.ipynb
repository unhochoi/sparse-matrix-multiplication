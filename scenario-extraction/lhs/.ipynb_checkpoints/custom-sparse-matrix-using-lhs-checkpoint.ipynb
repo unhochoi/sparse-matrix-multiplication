{
 "cells": [
  {
   "cell_type": "markdown",
   "metadata": {},
   "source": [
    "## LHS로 lr, lc, rc, ld, rd, lnnz, rnnz 생성하기"
   ]
  },
  {
   "cell_type": "code",
   "execution_count": 1,
   "metadata": {},
   "outputs": [],
   "source": [
    "from scipy.stats.distributions import norm\n",
    "from pyDOE import *\n",
    "import numpy as np\n",
    "import pandas as pd\n",
    "import random"
   ]
  },
  {
   "cell_type": "code",
   "execution_count": 2,
   "metadata": {},
   "outputs": [],
   "source": [
    "sample = 4000000"
   ]
  },
  {
   "cell_type": "code",
   "execution_count": 3,
   "metadata": {},
   "outputs": [],
   "source": [
    "# lhs를 사용해 lr, lc, rc 생성\n",
    "lr = lhs(1, samples=sample)\n",
    "lr = lr * 150000\n",
    "\n",
    "lc = lhs(1, samples=sample)\n",
    "lc = lc * 100000\n",
    "\n",
    "rc = lhs(1, samples=sample)\n",
    "rc = rc * 50000"
   ]
  },
  {
   "cell_type": "code",
   "execution_count": 4,
   "metadata": {},
   "outputs": [],
   "source": [
    "# ld로 사용 가능한 density\n",
    "ld_list = \\\n",
    "[0.00108175,\n",
    "0.00082282,\n",
    "0.00056263,\n",
    "0.00034241,\n",
    "0.00015297,\n",
    "0.00002088,\n",
    "0.00163948,\n",
    "0.00078778,\n",
    "0.00041097,\n",
    "0.00019487,\n",
    "0.00008429,\n",
    "0.00001651,\n",
    "0.02533638,\n",
    "0.00952101,\n",
    "0.00296184,\n",
    "0.00082185,\n",
    "0.00018467,\n",
    "0.00000464,\n",
    "0.01084252,\n",
    "0.00860544,\n",
    "0.00491597,\n",
    "0.00160539,\n",
    "0.00047003,\n",
    "0.00002483,\n",
    "0.00370564,\n",
    "0.00182521,\n",
    "0.00082487,\n",
    "0.00031941,\n",
    "0.00013363,\n",
    "0.00000434]"
   ]
  },
  {
   "cell_type": "code",
   "execution_count": 5,
   "metadata": {},
   "outputs": [],
   "source": [
    "# rd로 사용 가능한 density\n",
    "rd_list = \\\n",
    "[0.0005,\n",
    "0.001,\n",
    "0.005,\n",
    "0.01,\n",
    "0.03,\n",
    "0.05,\n",
    "0.07,\n",
    "0.1,\n",
    "0.13,\n",
    "0.15,\n",
    "0.17,\n",
    "0.2, \n",
    "0.23,\n",
    "0.25,\n",
    "0.27,\n",
    "0.3]"
   ]
  },
  {
   "cell_type": "code",
   "execution_count": 6,
   "metadata": {},
   "outputs": [],
   "source": [
    "# 균등한 분포로 ld, rd 생성\n",
    "ld = np.random.choice(ld_list, size=(sample,1))\n",
    "rd = np.random.choice(rd_list, size=(sample,1))\n",
    "\n",
    "ld_rd = np.concatenate((ld, rd), axis = 1)"
   ]
  },
  {
   "cell_type": "code",
   "execution_count": 7,
   "metadata": {},
   "outputs": [],
   "source": [
    "# lr, lc, rc, ld, rd 연결\n",
    "lr_to_rd = np.concatenate((lr,lc,rc,ld,rd), axis = 1)\n",
    "\n",
    "# lnnz 생성\n",
    "lnnz = lr_to_rd[:,0] * lr_to_rd[:,1] * lr_to_rd[:,3]\n",
    "lnnz = lnnz.reshape(-1,1)\n",
    "\n",
    "# rnnz 생성\n",
    "rnnz = lr_to_rd[:,1] * lr_to_rd[:,2] * lr_to_rd[:,4]\n",
    "rnnz = rnnz.reshape(-1,1)\n",
    "\n",
    "# lr, lc, rc, ld, rd, lnnz, rnnz 생성\n",
    "lr_to_rnnz = np.concatenate((lr_to_rd, lnnz, rnnz), axis = 1)\n",
    "\n",
    "# DataFrame 생성\n",
    "lr_to_rnnz_df = pd.DataFrame(lr_to_rnnz,columns=['lr','lc','rc','ld','rd','lnnz','rnnz'])\n",
    "\n",
    "lr_to_rnnz_df = lr_to_rnnz_df.astype({'lr': 'int','lc': 'int','rc': 'int','lnnz': 'int','rnnz': 'int'}) "
   ]
  },
  {
   "cell_type": "code",
   "execution_count": 8,
   "metadata": {},
   "outputs": [
    {
     "name": "stdout",
     "output_type": "stream",
     "text": [
      "lt 0.1 rd : 1998748\n",
      "gt 0.1 rd : 2001252\n"
     ]
    }
   ],
   "source": [
    "lt = lr_to_rnnz_df[lr_to_rnnz_df['rd'] <= 0.1]\n",
    "gt = lr_to_rnnz_df[lr_to_rnnz_df['rd'] > 0.1]\n",
    "\n",
    "print(\"lt 0.1 rd : {}\".format(len(lt)))\n",
    "print(\"gt 0.1 rd : {}\".format(len(gt)))"
   ]
  },
  {
   "cell_type": "markdown",
   "metadata": {},
   "source": [
    "### 데이터전처리"
   ]
  },
  {
   "cell_type": "code",
   "execution_count": 9,
   "metadata": {},
   "outputs": [
    {
     "data": {
      "text/html": [
       "<div>\n",
       "<style scoped>\n",
       "    .dataframe tbody tr th:only-of-type {\n",
       "        vertical-align: middle;\n",
       "    }\n",
       "\n",
       "    .dataframe tbody tr th {\n",
       "        vertical-align: top;\n",
       "    }\n",
       "\n",
       "    .dataframe thead th {\n",
       "        text-align: right;\n",
       "    }\n",
       "</style>\n",
       "<table border=\"1\" class=\"dataframe\">\n",
       "  <thead>\n",
       "    <tr style=\"text-align: right;\">\n",
       "      <th></th>\n",
       "      <th>lr</th>\n",
       "      <th>lc</th>\n",
       "      <th>rc</th>\n",
       "      <th>ld</th>\n",
       "      <th>rd</th>\n",
       "      <th>lnnz</th>\n",
       "      <th>rnnz</th>\n",
       "    </tr>\n",
       "  </thead>\n",
       "  <tbody>\n",
       "    <tr>\n",
       "      <th>0</th>\n",
       "      <td>30613</td>\n",
       "      <td>25153</td>\n",
       "      <td>14741</td>\n",
       "      <td>0.000319</td>\n",
       "      <td>0.1000</td>\n",
       "      <td>245953</td>\n",
       "      <td>37079555</td>\n",
       "    </tr>\n",
       "    <tr>\n",
       "      <th>2</th>\n",
       "      <td>116468</td>\n",
       "      <td>16399</td>\n",
       "      <td>6978</td>\n",
       "      <td>0.025336</td>\n",
       "      <td>0.1000</td>\n",
       "      <td>48393069</td>\n",
       "      <td>11443666</td>\n",
       "    </tr>\n",
       "    <tr>\n",
       "      <th>5</th>\n",
       "      <td>118761</td>\n",
       "      <td>7097</td>\n",
       "      <td>16922</td>\n",
       "      <td>0.000822</td>\n",
       "      <td>0.2700</td>\n",
       "      <td>692712</td>\n",
       "      <td>32427438</td>\n",
       "    </tr>\n",
       "    <tr>\n",
       "      <th>7</th>\n",
       "      <td>3427</td>\n",
       "      <td>15588</td>\n",
       "      <td>38565</td>\n",
       "      <td>0.000134</td>\n",
       "      <td>0.0005</td>\n",
       "      <td>7139</td>\n",
       "      <td>300586</td>\n",
       "    </tr>\n",
       "    <tr>\n",
       "      <th>17</th>\n",
       "      <td>17854</td>\n",
       "      <td>2835</td>\n",
       "      <td>49034</td>\n",
       "      <td>0.000195</td>\n",
       "      <td>0.0300</td>\n",
       "      <td>9864</td>\n",
       "      <td>4170638</td>\n",
       "    </tr>\n",
       "    <tr>\n",
       "      <th>...</th>\n",
       "      <td>...</td>\n",
       "      <td>...</td>\n",
       "      <td>...</td>\n",
       "      <td>...</td>\n",
       "      <td>...</td>\n",
       "      <td>...</td>\n",
       "      <td>...</td>\n",
       "    </tr>\n",
       "    <tr>\n",
       "      <th>3999982</th>\n",
       "      <td>148151</td>\n",
       "      <td>2769</td>\n",
       "      <td>3955</td>\n",
       "      <td>0.009521</td>\n",
       "      <td>0.0500</td>\n",
       "      <td>3906579</td>\n",
       "      <td>547728</td>\n",
       "    </tr>\n",
       "    <tr>\n",
       "      <th>3999985</th>\n",
       "      <td>146811</td>\n",
       "      <td>7813</td>\n",
       "      <td>10044</td>\n",
       "      <td>0.000319</td>\n",
       "      <td>0.0700</td>\n",
       "      <td>366400</td>\n",
       "      <td>5494059</td>\n",
       "    </tr>\n",
       "    <tr>\n",
       "      <th>3999986</th>\n",
       "      <td>27495</td>\n",
       "      <td>94978</td>\n",
       "      <td>2651</td>\n",
       "      <td>0.000342</td>\n",
       "      <td>0.0500</td>\n",
       "      <td>894206</td>\n",
       "      <td>12593068</td>\n",
       "    </tr>\n",
       "    <tr>\n",
       "      <th>3999992</th>\n",
       "      <td>97467</td>\n",
       "      <td>58505</td>\n",
       "      <td>5503</td>\n",
       "      <td>0.000134</td>\n",
       "      <td>0.0010</td>\n",
       "      <td>762006</td>\n",
       "      <td>321958</td>\n",
       "    </tr>\n",
       "    <tr>\n",
       "      <th>3999998</th>\n",
       "      <td>122446</td>\n",
       "      <td>75689</td>\n",
       "      <td>4353</td>\n",
       "      <td>0.000185</td>\n",
       "      <td>0.0700</td>\n",
       "      <td>1711504</td>\n",
       "      <td>23067986</td>\n",
       "    </tr>\n",
       "  </tbody>\n",
       "</table>\n",
       "<p>1422667 rows × 7 columns</p>\n",
       "</div>"
      ],
      "text/plain": [
       "             lr     lc     rc        ld      rd      lnnz      rnnz\n",
       "0         30613  25153  14741  0.000319  0.1000    245953  37079555\n",
       "2        116468  16399   6978  0.025336  0.1000  48393069  11443666\n",
       "5        118761   7097  16922  0.000822  0.2700    692712  32427438\n",
       "7          3427  15588  38565  0.000134  0.0005      7139    300586\n",
       "17        17854   2835  49034  0.000195  0.0300      9864   4170638\n",
       "...         ...    ...    ...       ...     ...       ...       ...\n",
       "3999982  148151   2769   3955  0.009521  0.0500   3906579    547728\n",
       "3999985  146811   7813  10044  0.000319  0.0700    366400   5494059\n",
       "3999986   27495  94978   2651  0.000342  0.0500    894206  12593068\n",
       "3999992   97467  58505   5503  0.000134  0.0010    762006    321958\n",
       "3999998  122446  75689   4353  0.000185  0.0700   1711504  23067986\n",
       "\n",
       "[1422667 rows x 7 columns]"
      ]
     },
     "execution_count": 9,
     "metadata": {},
     "output_type": "execute_result"
    }
   ],
   "source": [
    "### pd.options.display.float_format = '{:.8f}'.format\n",
    "intmaxvalue = 2147483647\n",
    "\n",
    "# 좌측 sparsematrix의 nnz가 intMaxValue를 넘어가는 경우 제외\n",
    "temp1 = lr_to_rnnz_df[ lr_to_rnnz_df['lnnz'] >= intmaxvalue ]\n",
    "lr_to_rnnz_df = lr_to_rnnz_df[ lr_to_rnnz_df['lnnz'] < intmaxvalue ]\n",
    "\n",
    "# 우측 densematrix의 nnz가 intMaxValue를 넘어가는 경우 제외\n",
    "temp2 = lr_to_rnnz_df[ (lr_to_rnnz_df['lc'] * lr_to_rnnz_df['rc']) >= intmaxvalue ]\n",
    "lr_to_rnnz_df = lr_to_rnnz_df[ (lr_to_rnnz_df['lc'] * lr_to_rnnz_df['rc']) < intmaxvalue ]\n",
    "\n",
    "# 결과 densematrix의 nnz가 intMaxValue를 넘어가는 경우 제외\n",
    "temp3 = lr_to_rnnz_df[ (lr_to_rnnz_df['lr'] * lr_to_rnnz_df['rc']) >= intmaxvalue ]\n",
    "lr_to_rnnz_df = lr_to_rnnz_df[ (lr_to_rnnz_df['lr'] * lr_to_rnnz_df['rc']) < intmaxvalue ]\n",
    "\n",
    "# rnnz가 30,000 이상인 데이터만\n",
    "#temp4 = lr_to_rnnz_df[ (lr_to_rnnz_df['lnnz'] <= 40000) | (lr_to_rnnz_df['rnnz'] <= 40000) ]\n",
    "#lr_to_rnnz_df = lr_to_rnnz_df[ (lr_to_rnnz_df['lnnz'] > 60000) & (lr_to_rnnz_df['rnnz'] > 60000) ]\n",
    "\n",
    "# lnnz, rnnz가 70,000,000 이하인 데이터만\n",
    "temp5 = lr_to_rnnz_df[ (lr_to_rnnz_df['lnnz'] >= 70000000) | (lr_to_rnnz_df['rnnz'] >= 70000000) ]\n",
    "lr_to_rnnz_df = lr_to_rnnz_df[ (lr_to_rnnz_df['lnnz'] < 70000000) & (lr_to_rnnz_df['rnnz'] < 70000000) ]\n",
    "lr_to_rnnz_df"
   ]
  },
  {
   "cell_type": "code",
   "execution_count": 10,
   "metadata": {},
   "outputs": [
    {
     "name": "stdout",
     "output_type": "stream",
     "text": [
      "lt 0.1 rd : 992605\n",
      "gt 0.1 rd : 430062\n"
     ]
    }
   ],
   "source": [
    "lt = lr_to_rnnz_df[lr_to_rnnz_df['rd'] <= 0.1]\n",
    "gt = lr_to_rnnz_df[lr_to_rnnz_df['rd'] > 0.1]\n",
    "\n",
    "print(\"lt 0.1 rd : {}\".format(len(lt)))\n",
    "print(\"gt 0.1 rd : {}\".format(len(gt)))"
   ]
  },
  {
   "cell_type": "code",
   "execution_count": 11,
   "metadata": {},
   "outputs": [
    {
     "name": "stdout",
     "output_type": "stream",
     "text": [
      "rd lt 0.1 : 446672\n",
      "rd gt 0.1 : 430062\n"
     ]
    }
   ],
   "source": [
    "# density 분포가 균등하게 만들기\n",
    "lt = lt.sample(frac=0.45, random_state=1)\n",
    "#lt = lt.sample(frac=1, random_state=1)\n",
    "#gt = lt.sample(frac=0.7, random_state=1)\n",
    "print(\"rd lt 0.1 : {}\".format(len(lt)))\n",
    "print(\"rd gt 0.1 : {}\".format(len(gt)))"
   ]
  },
  {
   "cell_type": "code",
   "execution_count": 12,
   "metadata": {},
   "outputs": [
    {
     "name": "stdout",
     "output_type": "stream",
     "text": [
      "876734\n"
     ]
    }
   ],
   "source": [
    "# 균등하게 나눈 dataframe 합치기\n",
    "lr_to_rnnz_df = pd.concat([lt,gt])\n",
    "print(len(lr_to_rnnz_df))"
   ]
  },
  {
   "cell_type": "code",
   "execution_count": 13,
   "metadata": {},
   "outputs": [],
   "source": [
    "# dataframe의 행을 무작위로 섞기\n",
    "lr_to_rnnz_df = lr_to_rnnz_df.sample(frac=1).reset_index(drop=True)"
   ]
  },
  {
   "cell_type": "code",
   "execution_count": 14,
   "metadata": {},
   "outputs": [],
   "source": [
    "# 남은 데이터에 D-optimal를 적용하기 위해 csv로 전환\n",
    "lr_to_rnnz_df.to_csv('spmm-nonsquare-lr-150000-lc-100000-rc-50000-higdrd-v5.csv',index=False)"
   ]
  }
 ],
 "metadata": {
  "kernelspec": {
   "display_name": "Python 3",
   "language": "python",
   "name": "python3"
  },
  "language_info": {
   "codemirror_mode": {
    "name": "ipython",
    "version": 3
   },
   "file_extension": ".py",
   "mimetype": "text/x-python",
   "name": "python",
   "nbconvert_exporter": "python",
   "pygments_lexer": "ipython3",
   "version": "3.7.7"
  }
 },
 "nbformat": 4,
 "nbformat_minor": 4
}
