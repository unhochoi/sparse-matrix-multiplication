{
 "cells": [
  {
   "cell_type": "markdown",
   "metadata": {},
   "source": [
    "## LHS로 lr, lc, rc, ld, rd, lnnz, rnnz 생성하기"
   ]
  },
  {
   "cell_type": "code",
   "execution_count": 1,
   "metadata": {},
   "outputs": [],
   "source": [
    "from scipy.stats.distributions import norm\n",
    "from pyDOE import *\n",
    "import numpy as np\n",
    "import pandas as pd\n",
    "import random"
   ]
  },
  {
   "cell_type": "code",
   "execution_count": 2,
   "metadata": {},
   "outputs": [],
   "source": [
    "sample = 4000000"
   ]
  },
  {
   "cell_type": "code",
   "execution_count": 3,
   "metadata": {},
   "outputs": [],
   "source": [
    "# lhs를 사용해 lr, lc, rc 생성\n",
    "lr = lhs(1, samples=sample)\n",
    "lr = lr * 150000\n",
    "\n",
    "lc = lhs(1, samples=sample)\n",
    "lc = lc * 100000\n",
    "\n",
    "rc = lhs(1, samples=sample)\n",
    "rc = rc * 50000"
   ]
  },
  {
   "cell_type": "code",
   "execution_count": 4,
   "metadata": {},
   "outputs": [],
   "source": [
    "# ld로 사용 가능한 density\n",
    "# 평균 0.000016, 표준편차 0.000022로 lhs를 사용해 구한 뒤,\n",
    "# 음수값 제거 및 10 곱하기\n",
    "ld_list = \\\n",
    "[0.00108175,\n",
    "0.00082282,\n",
    "0.00056263,\n",
    "0.00034241,\n",
    "0.00015297,\n",
    "0.00002088,\n",
    "0.00163948,\n",
    "0.00078778,\n",
    "0.00041097,\n",
    "0.00019487,\n",
    "0.00008429,\n",
    "0.00001651,\n",
    "0.02533638,\n",
    "0.00952101,\n",
    "0.00296184,\n",
    "0.00082185,\n",
    "0.00018467,\n",
    "0.00000464,\n",
    "0.01084252,\n",
    "0.00860544,\n",
    "0.00491597,\n",
    "0.00160539,\n",
    "0.00047003,\n",
    "0.00002483,\n",
    "0.00370564,\n",
    "0.00182521,\n",
    "0.00082487,\n",
    "0.00031941,\n",
    "0.00013363,\n",
    "0.00000434]"
   ]
  },
  {
   "cell_type": "code",
   "execution_count": 5,
   "metadata": {},
   "outputs": [],
   "source": [
    "# rd로 사용 가능한 density\n",
    "rd_list = \\\n",
    "[0.0005,\n",
    "0.001,\n",
    "0.005,\n",
    "0.01,\n",
    "0.03,\n",
    "0.05,\n",
    "0.07,\n",
    "0.1,\n",
    "0.13,\n",
    "0.15,\n",
    "0.17,\n",
    "0.2, \n",
    "0.23,\n",
    "0.25,\n",
    "0.27,\n",
    "0.3]"
   ]
  },
  {
   "cell_type": "code",
   "execution_count": 6,
   "metadata": {},
   "outputs": [],
   "source": [
    "# 각각 균등한 분포를 가지는 ld, rd 생성\n",
    "ld = np.random.choice(ld_list, size=(sample,1))\n",
    "rd = np.random.choice(rd_list, size=(sample,1))\n",
    "# ld, rd 연결\n",
    "ld_rd = np.concatenate((ld, rd), axis = 1)"
   ]
  },
  {
   "cell_type": "code",
   "execution_count": 7,
   "metadata": {},
   "outputs": [],
   "source": [
    "# lr, lc, rc, ld, rd 연결\n",
    "lr_to_rd = np.concatenate((lr,lc,rc,ld,rd), axis = 1)\n",
    "\n",
    "# lnnz 생성\n",
    "lnnz = lr_to_rd[:,0] * lr_to_rd[:,1] * lr_to_rd[:,3]\n",
    "lnnz = lnnz.reshape(-1,1)\n",
    "\n",
    "# rnnz 생성\n",
    "rnnz = lr_to_rd[:,1] * lr_to_rd[:,2] * lr_to_rd[:,4]\n",
    "rnnz = rnnz.reshape(-1,1)\n",
    "\n",
    "# lr, lc, rc, ld, rd, lnnz, rnnz 연결\n",
    "lr_to_rnnz = np.concatenate((lr_to_rd, lnnz, rnnz), axis = 1)\n",
    "\n",
    "# DataFrame 생성\n",
    "lr_to_rnnz_df = pd.DataFrame(lr_to_rnnz,columns=['lr','lc','rc','ld','rd','lnnz','rnnz'])\n",
    "\n",
    "# lr, lc, rc, lnnz, rnnz 타입 변환\n",
    "lr_to_rnnz_df = lr_to_rnnz_df.astype({'lr': 'int','lc': 'int','rc': 'int','lnnz': 'int','rnnz': 'int'}) "
   ]
  },
  {
   "cell_type": "code",
   "execution_count": 8,
   "metadata": {},
   "outputs": [
    {
     "name": "stdout",
     "output_type": "stream",
     "text": [
      "lt 0.1 rd : 2001853\n",
      "gt 0.1 rd : 1998147\n"
     ]
    }
   ],
   "source": [
    "# rd가 0.1 이하인 개수와 0.1 초과인 개수가 균등한지 확인\n",
    "lt = lr_to_rnnz_df[lr_to_rnnz_df['rd'] <= 0.1]\n",
    "gt = lr_to_rnnz_df[lr_to_rnnz_df['rd'] > 0.1]\n",
    "print(\"lt 0.1 rd : {}\".format(len(lt)))\n",
    "print(\"gt 0.1 rd : {}\".format(len(gt)))"
   ]
  },
  {
   "cell_type": "markdown",
   "metadata": {},
   "source": [
    "### 데이터전처리 (생성 가능한 Matrix 조합을 가지도록)"
   ]
  },
  {
   "cell_type": "code",
   "execution_count": 9,
   "metadata": {},
   "outputs": [
    {
     "data": {
      "text/html": [
       "<div>\n",
       "<style scoped>\n",
       "    .dataframe tbody tr th:only-of-type {\n",
       "        vertical-align: middle;\n",
       "    }\n",
       "\n",
       "    .dataframe tbody tr th {\n",
       "        vertical-align: top;\n",
       "    }\n",
       "\n",
       "    .dataframe thead th {\n",
       "        text-align: right;\n",
       "    }\n",
       "</style>\n",
       "<table border=\"1\" class=\"dataframe\">\n",
       "  <thead>\n",
       "    <tr style=\"text-align: right;\">\n",
       "      <th></th>\n",
       "      <th>lr</th>\n",
       "      <th>lc</th>\n",
       "      <th>rc</th>\n",
       "      <th>ld</th>\n",
       "      <th>rd</th>\n",
       "      <th>lnnz</th>\n",
       "      <th>rnnz</th>\n",
       "    </tr>\n",
       "  </thead>\n",
       "  <tbody>\n",
       "    <tr>\n",
       "      <th>0</th>\n",
       "      <td>25443</td>\n",
       "      <td>48813</td>\n",
       "      <td>24347</td>\n",
       "      <td>0.000134</td>\n",
       "      <td>0.0005</td>\n",
       "      <td>165966</td>\n",
       "      <td>594228</td>\n",
       "    </tr>\n",
       "    <tr>\n",
       "      <th>3</th>\n",
       "      <td>139234</td>\n",
       "      <td>51094</td>\n",
       "      <td>13476</td>\n",
       "      <td>0.000185</td>\n",
       "      <td>0.0005</td>\n",
       "      <td>1313767</td>\n",
       "      <td>344287</td>\n",
       "    </tr>\n",
       "    <tr>\n",
       "      <th>6</th>\n",
       "      <td>107786</td>\n",
       "      <td>18744</td>\n",
       "      <td>5644</td>\n",
       "      <td>0.000342</td>\n",
       "      <td>0.0010</td>\n",
       "      <td>691801</td>\n",
       "      <td>105807</td>\n",
       "    </tr>\n",
       "    <tr>\n",
       "      <th>12</th>\n",
       "      <td>27324</td>\n",
       "      <td>4907</td>\n",
       "      <td>14028</td>\n",
       "      <td>0.000788</td>\n",
       "      <td>0.1300</td>\n",
       "      <td>105634</td>\n",
       "      <td>8949176</td>\n",
       "    </tr>\n",
       "    <tr>\n",
       "      <th>14</th>\n",
       "      <td>37560</td>\n",
       "      <td>35080</td>\n",
       "      <td>21394</td>\n",
       "      <td>0.000788</td>\n",
       "      <td>0.0005</td>\n",
       "      <td>1038011</td>\n",
       "      <td>375266</td>\n",
       "    </tr>\n",
       "    <tr>\n",
       "      <th>...</th>\n",
       "      <td>...</td>\n",
       "      <td>...</td>\n",
       "      <td>...</td>\n",
       "      <td>...</td>\n",
       "      <td>...</td>\n",
       "      <td>...</td>\n",
       "      <td>...</td>\n",
       "    </tr>\n",
       "    <tr>\n",
       "      <th>3999989</th>\n",
       "      <td>91710</td>\n",
       "      <td>30385</td>\n",
       "      <td>8397</td>\n",
       "      <td>0.001825</td>\n",
       "      <td>0.2500</td>\n",
       "      <td>5086235</td>\n",
       "      <td>63788371</td>\n",
       "    </tr>\n",
       "    <tr>\n",
       "      <th>3999991</th>\n",
       "      <td>47729</td>\n",
       "      <td>26240</td>\n",
       "      <td>7778</td>\n",
       "      <td>0.003706</td>\n",
       "      <td>0.2700</td>\n",
       "      <td>4641112</td>\n",
       "      <td>55111894</td>\n",
       "    </tr>\n",
       "    <tr>\n",
       "      <th>3999995</th>\n",
       "      <td>52414</td>\n",
       "      <td>59132</td>\n",
       "      <td>9267</td>\n",
       "      <td>0.000185</td>\n",
       "      <td>0.0010</td>\n",
       "      <td>572363</td>\n",
       "      <td>548011</td>\n",
       "    </tr>\n",
       "    <tr>\n",
       "      <th>3999998</th>\n",
       "      <td>109950</td>\n",
       "      <td>5228</td>\n",
       "      <td>1624</td>\n",
       "      <td>0.025336</td>\n",
       "      <td>0.2700</td>\n",
       "      <td>14565085</td>\n",
       "      <td>2293365</td>\n",
       "    </tr>\n",
       "    <tr>\n",
       "      <th>3999999</th>\n",
       "      <td>20358</td>\n",
       "      <td>30358</td>\n",
       "      <td>2840</td>\n",
       "      <td>0.009521</td>\n",
       "      <td>0.1500</td>\n",
       "      <td>5884661</td>\n",
       "      <td>12935659</td>\n",
       "    </tr>\n",
       "  </tbody>\n",
       "</table>\n",
       "<p>1424736 rows × 7 columns</p>\n",
       "</div>"
      ],
      "text/plain": [
       "             lr     lc     rc        ld      rd      lnnz      rnnz\n",
       "0         25443  48813  24347  0.000134  0.0005    165966    594228\n",
       "3        139234  51094  13476  0.000185  0.0005   1313767    344287\n",
       "6        107786  18744   5644  0.000342  0.0010    691801    105807\n",
       "12        27324   4907  14028  0.000788  0.1300    105634   8949176\n",
       "14        37560  35080  21394  0.000788  0.0005   1038011    375266\n",
       "...         ...    ...    ...       ...     ...       ...       ...\n",
       "3999989   91710  30385   8397  0.001825  0.2500   5086235  63788371\n",
       "3999991   47729  26240   7778  0.003706  0.2700   4641112  55111894\n",
       "3999995   52414  59132   9267  0.000185  0.0010    572363    548011\n",
       "3999998  109950   5228   1624  0.025336  0.2700  14565085   2293365\n",
       "3999999   20358  30358   2840  0.009521  0.1500   5884661  12935659\n",
       "\n",
       "[1424736 rows x 7 columns]"
      ]
     },
     "execution_count": 9,
     "metadata": {},
     "output_type": "execute_result"
    }
   ],
   "source": [
    "intmaxvalue = 2147483647\n",
    "\n",
    "# 좌측 sparsematrix의 nnz가 intMaxValue를 넘어가는 경우 제외\n",
    "temp1 = lr_to_rnnz_df[ lr_to_rnnz_df['lnnz'] >= intmaxvalue ]\n",
    "lr_to_rnnz_df = lr_to_rnnz_df[ lr_to_rnnz_df['lnnz'] < intmaxvalue ]\n",
    "\n",
    "# 우측 densematrix의 nnz가 intMaxValue를 넘어가는 경우 제외\n",
    "temp2 = lr_to_rnnz_df[ (lr_to_rnnz_df['lc'] * lr_to_rnnz_df['rc']) >= intmaxvalue ]\n",
    "lr_to_rnnz_df = lr_to_rnnz_df[ (lr_to_rnnz_df['lc'] * lr_to_rnnz_df['rc']) < intmaxvalue ]\n",
    "\n",
    "# 결과 densematrix의 nnz가 intMaxValue를 넘어가는 경우 제외\n",
    "temp3 = lr_to_rnnz_df[ (lr_to_rnnz_df['lr'] * lr_to_rnnz_df['rc']) >= intmaxvalue ]\n",
    "lr_to_rnnz_df = lr_to_rnnz_df[ (lr_to_rnnz_df['lr'] * lr_to_rnnz_df['rc']) < intmaxvalue ]\n",
    "\n",
    "# lnnz, rnnz가 70,000,000 이하인 데이터만\n",
    "temp5 = lr_to_rnnz_df[ (lr_to_rnnz_df['lnnz'] >= 70000000) | (lr_to_rnnz_df['rnnz'] >= 70000000) ]\n",
    "lr_to_rnnz_df = lr_to_rnnz_df[ (lr_to_rnnz_df['lnnz'] < 70000000) & (lr_to_rnnz_df['rnnz'] < 70000000) ]\n",
    "lr_to_rnnz_df"
   ]
  },
  {
   "cell_type": "code",
   "execution_count": 10,
   "metadata": {},
   "outputs": [
    {
     "name": "stdout",
     "output_type": "stream",
     "text": [
      "lt 0.1 rd : 995357\n",
      "gt 0.1 rd : 429379\n"
     ]
    }
   ],
   "source": [
    "# rd가 0.1 이하인 개수와 0.1 초과인 개수가 균등한지 확인\n",
    "lt = lr_to_rnnz_df[lr_to_rnnz_df['rd'] <= 0.1]\n",
    "gt = lr_to_rnnz_df[lr_to_rnnz_df['rd'] > 0.1]\n",
    "\n",
    "print(\"lt 0.1 rd : {}\".format(len(lt)))\n",
    "print(\"gt 0.1 rd : {}\".format(len(gt)))"
   ]
  },
  {
   "cell_type": "code",
   "execution_count": 11,
   "metadata": {},
   "outputs": [
    {
     "name": "stdout",
     "output_type": "stream",
     "text": [
      "rd lt 0.1 : 447911\n",
      "rd gt 0.1 : 429379\n"
     ]
    }
   ],
   "source": [
    "# rd 분포가 균등하게 만들기\n",
    "lt = lt.sample(frac=0.45, random_state=1)\n",
    "print(\"rd lt 0.1 : {}\".format(len(lt)))\n",
    "print(\"rd gt 0.1 : {}\".format(len(gt)))"
   ]
  },
  {
   "cell_type": "code",
   "execution_count": 12,
   "metadata": {},
   "outputs": [
    {
     "name": "stdout",
     "output_type": "stream",
     "text": [
      "877290\n"
     ]
    }
   ],
   "source": [
    "# rd가 균등해지도록 나눈 lt와 gt를 dataframe으로 합치기\n",
    "lr_to_rnnz_df = pd.concat([lt,gt])\n",
    "print(len(lr_to_rnnz_df))"
   ]
  },
  {
   "cell_type": "code",
   "execution_count": 13,
   "metadata": {},
   "outputs": [],
   "source": [
    "# dataframe의 행을 무작위로 섞기\n",
    "lr_to_rnnz_df = lr_to_rnnz_df.sample(frac=1).reset_index(drop=True)"
   ]
  },
  {
   "cell_type": "code",
   "execution_count": 14,
   "metadata": {},
   "outputs": [],
   "source": [
    "# lhs로 생성된 데이터 조합에 D-optimal을 적용하기 위해 csv로 전환\n",
    "lr_to_rnnz_df.to_csv('./csv-after-lhs/lhs-lr-150000-lc-100000-rc-50000-v1.csv',index=False)"
   ]
  }
 ],
 "metadata": {
  "kernelspec": {
   "display_name": "Python 3",
   "language": "python",
   "name": "python3"
  },
  "language_info": {
   "codemirror_mode": {
    "name": "ipython",
    "version": 3
   },
   "file_extension": ".py",
   "mimetype": "text/x-python",
   "name": "python",
   "nbconvert_exporter": "python",
   "pygments_lexer": "ipython3",
   "version": "3.7.0"
  }
 },
 "nbformat": 4,
 "nbformat_minor": 4
}
