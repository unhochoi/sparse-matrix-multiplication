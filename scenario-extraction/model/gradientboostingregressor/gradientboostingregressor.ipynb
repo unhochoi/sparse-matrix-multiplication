{
 "cells": [
  {
   "cell_type": "code",
   "execution_count": 1,
   "metadata": {},
   "outputs": [],
   "source": [
    "import pandas as pd\n",
    "import numpy as np\n",
    "\n",
    "train = pd.read_csv('./spmm-square-nonsquare-data-doptimal-1800.csv')\n",
    "test = pd.read_csv('./spmm-square-nonsquare-data-doptimal-200.csv')"
   ]
  },
  {
   "cell_type": "code",
   "execution_count": 2,
   "metadata": {},
   "outputs": [],
   "source": [
    "# 900개\n",
    "X_train = train[['lr','lc','rc','ld','rd','lnnz','rnnz','lr*lc','lc*rc','lr*rc','lr*lc*rc','ld*rd','lr*rc*ld*rd','lr*lc*rc*ld*rd']] \n",
    "y_train = train['bz_smsm']\n",
    "# 100개\n",
    "X_test = test[['lr','lc','rc','ld','rd','lnnz','rnnz','lr*lc','lc*rc','lr*rc','lr*lc*rc','ld*rd','lr*rc*ld*rd','lr*lc*rc*ld*rd']] \n",
    "y_test = test['bz_smsm']"
   ]
  },
  {
   "cell_type": "code",
   "execution_count": 3,
   "metadata": {},
   "outputs": [],
   "source": [
    "from sklearn.metrics import mean_squared_error\n",
    "\n",
    "def mean_absolute_percentage_error(y_test, y_pred):\n",
    "    y_test, y_pred = np.array(y_test), np.array(y_pred)\n",
    "    return np.mean(np.abs((y_test - y_pred) / y_test)) * 100\n",
    "\n",
    "def rmse(y_true, y_pred):\n",
    "    rmse = np.sqrt(np.mean(np.square(y_pred - y_true))) \n",
    "    return rmse\n",
    "\n",
    "def custom_scoring(y_test, y_pred):\n",
    "\n",
    "    rmse = np.sqrt(mean_squared_error(y_test, y_pred))\n",
    "    mape = mean_absolute_percentage_error(y_test, y_pred)\n",
    "\n",
    "    return mape"
   ]
  },
  {
   "cell_type": "code",
   "execution_count": null,
   "metadata": {},
   "outputs": [
    {
     "name": "stdout",
     "output_type": "stream",
     "text": [
      "Fitting 10 folds for each of 25920 candidates, totalling 259200 fits\n"
     ]
    },
    {
     "name": "stderr",
     "output_type": "stream",
     "text": [
      "[Parallel(n_jobs=-1)]: Using backend LokyBackend with 48 concurrent workers.\n",
      "[Parallel(n_jobs=-1)]: Done  32 tasks      | elapsed:   10.8s\n",
      "[Parallel(n_jobs=-1)]: Done 192 tasks      | elapsed:   30.9s\n",
      "[Parallel(n_jobs=-1)]: Done 416 tasks      | elapsed:   55.3s\n",
      "[Parallel(n_jobs=-1)]: Done 704 tasks      | elapsed:  1.5min\n",
      "[Parallel(n_jobs=-1)]: Done 1056 tasks      | elapsed:  2.3min\n",
      "[Parallel(n_jobs=-1)]: Done 1472 tasks      | elapsed:  3.4min\n",
      "[Parallel(n_jobs=-1)]: Done 1952 tasks      | elapsed:  4.7min\n",
      "[Parallel(n_jobs=-1)]: Done 2496 tasks      | elapsed:  6.3min\n",
      "[Parallel(n_jobs=-1)]: Done 3104 tasks      | elapsed:  8.3min\n",
      "[Parallel(n_jobs=-1)]: Done 3776 tasks      | elapsed: 37.1min\n",
      "[Parallel(n_jobs=-1)]: Done 4512 tasks      | elapsed: 98.2min\n",
      "[Parallel(n_jobs=-1)]: Done 5312 tasks      | elapsed: 102.0min\n",
      "[Parallel(n_jobs=-1)]: Done 6176 tasks      | elapsed: 107.5min\n",
      "[Parallel(n_jobs=-1)]: Done 7104 tasks      | elapsed: 117.4min\n",
      "[Parallel(n_jobs=-1)]: Done 8096 tasks      | elapsed: 123.4min\n",
      "[Parallel(n_jobs=-1)]: Done 9152 tasks      | elapsed: 135.8min\n",
      "[Parallel(n_jobs=-1)]: Done 10272 tasks      | elapsed: 156.9min\n",
      "[Parallel(n_jobs=-1)]: Done 11456 tasks      | elapsed: 167.7min\n",
      "[Parallel(n_jobs=-1)]: Done 12704 tasks      | elapsed: 171.5min\n",
      "[Parallel(n_jobs=-1)]: Done 14016 tasks      | elapsed: 176.6min\n",
      "[Parallel(n_jobs=-1)]: Done 15392 tasks      | elapsed: 178.5min\n",
      "[Parallel(n_jobs=-1)]: Done 16832 tasks      | elapsed: 179.6min\n",
      "[Parallel(n_jobs=-1)]: Done 18336 tasks      | elapsed: 181.4min\n",
      "[Parallel(n_jobs=-1)]: Done 19904 tasks      | elapsed: 186.9min\n",
      "[Parallel(n_jobs=-1)]: Done 21536 tasks      | elapsed: 199.1min\n",
      "[Parallel(n_jobs=-1)]: Done 23232 tasks      | elapsed: 206.5min\n",
      "[Parallel(n_jobs=-1)]: Done 24992 tasks      | elapsed: 228.6min\n",
      "[Parallel(n_jobs=-1)]: Done 26816 tasks      | elapsed: 234.2min\n",
      "[Parallel(n_jobs=-1)]: Done 28704 tasks      | elapsed: 244.8min\n",
      "[Parallel(n_jobs=-1)]: Done 30656 tasks      | elapsed: 246.4min\n",
      "[Parallel(n_jobs=-1)]: Done 32672 tasks      | elapsed: 248.6min\n",
      "[Parallel(n_jobs=-1)]: Done 34752 tasks      | elapsed: 255.6min\n",
      "[Parallel(n_jobs=-1)]: Done 36896 tasks      | elapsed: 267.2min\n",
      "[Parallel(n_jobs=-1)]: Done 39104 tasks      | elapsed: 287.1min\n",
      "[Parallel(n_jobs=-1)]: Done 41376 tasks      | elapsed: 296.8min\n"
     ]
    }
   ],
   "source": [
    "from sklearn.ensemble import GradientBoostingRegressor\n",
    "from sklearn.model_selection import GridSearchCV\n",
    "from sklearn.model_selection import KFold\n",
    "from sklearn.metrics import make_scorer\n",
    "\n",
    "grid = {\n",
    "    'max_depth' : [6,8,10,12,14,16],\n",
    "    'loss' : ['ls', 'lad', 'huber', 'quantile'],\n",
    "    'criterion' : ['friedman_mse', 'mse', 'mae'],\n",
    "    'min_samples_leaf' : [1,2,4,8],\n",
    "    'min_samples_split' : [2,4,8],\n",
    "    'max_features' : ['sqrt'],\n",
    "    'n_estimators' : [100,200,400,600,800],\n",
    "    'learning_rate' : [0.01, 0.05, 0.1, 0.2, 0.25, 0.3],\n",
    "}\n",
    "\n",
    "regressor = GradientBoostingRegressor()\n",
    "\n",
    "kf = KFold(random_state=30,\n",
    "           n_splits=10,\n",
    "           shuffle=True\n",
    "          )\n",
    "\n",
    "regressor_grid = GridSearchCV(regressor, \n",
    "                              param_grid = grid, \n",
    "                              scoring = make_scorer(custom_scoring, greater_is_better=False),\n",
    "                              cv=kf, \n",
    "                              n_jobs=-1,\n",
    "                              verbose=3) \n",
    "\n",
    "regressor_grid.fit(X_train, y_train)\n",
    "\n",
    "print(\"최고의 파라미터 :\", regressor_grid.best_params_)\n",
    "#print(\"최고 평균 정확도 : {}\".format(regressor_grid.best_score_))"
   ]
  },
  {
   "cell_type": "code",
   "execution_count": null,
   "metadata": {},
   "outputs": [],
   "source": [
    "# regressor = GradientBoostingRegressor(\n",
    "# learning_rate=0.05,\n",
    "# max_depth=8,\n",
    "# n_estimators=600    \n",
    "# )\n",
    "# regressor.fit(X_train, y_train)\n",
    "\n",
    "# y_pred_train = regressor.predict(X_train)\n",
    "# y_pred = regressor.predict(X_test)"
   ]
  },
  {
   "cell_type": "code",
   "execution_count": null,
   "metadata": {},
   "outputs": [],
   "source": [
    "# # 훈련 자체 에러율\n",
    "# print(\"--------train 에러율--------\")\n",
    "# print(\"rmse : {}\".format(rmse(y_test,y_pred)))\n",
    "# print(\"mape : {}\".format(mean_absolute_percentage_error(y_train, y_pred_train)))\n",
    "\n",
    "# # 테스트 에러율\n",
    "# print(\"--------test 에러율--------\")\n",
    "# print(\"rmse : {}\".format(rmse(y_test,y_pred)))\n",
    "# print(\"mape : {}\".format(mean_absolute_percentage_error(y_test,y_pred)))"
   ]
  },
  {
   "cell_type": "code",
   "execution_count": null,
   "metadata": {},
   "outputs": [],
   "source": [
    "# --------train 에러율--------\n",
    "# rmse : 23418.322014128913\n",
    "# mape : 3.284169705358724\n",
    "# --------test 에러율--------\n",
    "# rmse : 23418.322014128913\n",
    "# mape : 32.723544718729144"
   ]
  }
 ],
 "metadata": {
  "kernelspec": {
   "display_name": "Python 3",
   "language": "python",
   "name": "python3"
  },
  "language_info": {
   "codemirror_mode": {
    "name": "ipython",
    "version": 3
   },
   "file_extension": ".py",
   "mimetype": "text/x-python",
   "name": "python",
   "nbconvert_exporter": "python",
   "pygments_lexer": "ipython3",
   "version": "3.6.9"
  }
 },
 "nbformat": 4,
 "nbformat_minor": 2
}
