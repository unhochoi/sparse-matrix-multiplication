{
 "cells": [
  {
   "cell_type": "code",
   "execution_count": 1,
   "metadata": {},
   "outputs": [],
   "source": [
    "import pandas as pd\n",
    "import numpy as np\n",
    "from sklearn.model_selection import train_test_split\n",
    "import matplotlib.pyplot as plt\n",
    "import tensorflow as tf\n",
    "from tensorflow import keras\n",
    "from tensorflow.keras.models import Sequential\n",
    "from tensorflow.keras.layers import Dense\n",
    "from tensorflow.keras.layers import Dropout\n",
    "from tensorflow.keras.layers import LeakyReLU\n",
    "from tensorflow.keras.layers import ReLU\n",
    "from tensorflow.keras.optimizers import Adam\n",
    "from tensorflow.keras.optimizers import SGD"
   ]
  },
  {
   "cell_type": "code",
   "execution_count": 2,
   "metadata": {},
   "outputs": [],
   "source": [
    "import pandas as pd\n",
    "import numpy as np\n",
    "\n",
    "# 1727, 191\n",
    "train = pd.read_csv('/Users/bdlab/Desktop/sparse-matrix-multiplication/scenario-extraction/d-optimal/d-optimal-of-spmm/train-test-csv/1727-nonsquare-train-from-1918-nonsquare-spmm-over-3s.csv')\n",
    "test = pd.read_csv('/Users/bdlab/Desktop/sparse-matrix-multiplication/scenario-extraction/d-optimal/d-optimal-of-spmm/train-test-csv/191-nonsquare-test-from-1918-nonsquare-spmm-over-3s.csv')"
   ]
  },
  {
   "cell_type": "code",
   "execution_count": 3,
   "metadata": {},
   "outputs": [],
   "source": [
    "# # 원본 feature\n",
    "\n",
    "# # Train + Valid\n",
    "# X_train = train[['lr','lc','rc','ld','rd','lnnz','rnnz','lr*lc','lc*rc','lr*rc','lr*lc*rc','ld*rd','lr*rc*ld*rd','lr*lc*rc*ld*rd']] \n",
    "# y_train = train['bz_smsm']\n",
    "\n",
    "# # Test\n",
    "# X_test = test[['lr','lc','rc','ld','rd','lnnz','rnnz','lr*lc','lc*rc','lr*rc','lr*lc*rc','ld*rd','lr*rc*ld*rd','lr*lc*rc*ld*rd']] \n",
    "# y_test = test['bz_smsm']"
   ]
  },
  {
   "cell_type": "code",
   "execution_count": 4,
   "metadata": {},
   "outputs": [],
   "source": [
    "# 전체 feature -> MAPE \n",
    "\n",
    "# Train + Valid\n",
    "X_train = train[['lr','lc','rc','lnnz','rnnz','lr*lc','lc*rc','lr*rc','lr*lc*rc','lr*rc*ld*rd','lr*lc*rc*ld*rd','lnnz*rnnz']] \n",
    "y_train = train['bz_smsm']\n",
    "\n",
    "# Test\n",
    "X_test = test[['lr','lc','rc','lnnz','rnnz','lr*lc','lc*rc','lr*rc','lr*lc*rc','lr*rc*ld*rd','lr*lc*rc*ld*rd','lnnz*rnnz']] \n",
    "y_test = test['bz_smsm']"
   ]
  },
  {
   "cell_type": "code",
   "execution_count": 5,
   "metadata": {},
   "outputs": [],
   "source": [
    "# 데이터 표준화(Standardization) (하는게 성능 좋음)\n",
    "mean = X_train.mean(axis=0)\n",
    "std = X_train.std(axis=0)\n",
    "\n",
    "X_train -= mean\n",
    "X_train /= std\n",
    "\n",
    "X_test -= mean\n",
    "X_test /= std"
   ]
  },
  {
   "cell_type": "code",
   "execution_count": 6,
   "metadata": {},
   "outputs": [],
   "source": [
    "# # 특징 추출\n",
    "# from sklearn.decomposition import PCA\n",
    "\n",
    "# pca = PCA(n_components=5)\n",
    "# X_train = pca.fit_transform(X_train)\n",
    "# X_test = pca.transform(X_test)"
   ]
  },
  {
   "cell_type": "code",
   "execution_count": 7,
   "metadata": {},
   "outputs": [],
   "source": [
    "from keras import backend as K\n",
    "\n",
    "def rmse(y_true, y_pred):\n",
    "    rmse = K.sqrt(K.mean(K.square(y_pred - y_true))) \n",
    "    return rmse"
   ]
  },
  {
   "cell_type": "code",
   "execution_count": 8,
   "metadata": {},
   "outputs": [],
   "source": [
    "# 모델 생성\n",
    "def build_model():\n",
    "\n",
    "    model=Sequential()\n",
    "\n",
    "    model.add(Dense(64, activation=\"relu\", input_shape=(X_train.shape[1],)))  \n",
    "    model.add(Dense(128, activation=\"relu\"))\n",
    "    model.add(Dense(32, activation=\"relu\"))\n",
    "    model.add(Dense(1))\n",
    "    \n",
    "    optimizer = Adam(lr=0.01)\n",
    "    \n",
    "    model.compile(optimizer=optimizer ,\n",
    "                  loss='mape',\n",
    "                  metrics=['mape',rmse])\n",
    "    return model\n",
    "\n",
    "model = build_model()"
   ]
  },
  {
   "cell_type": "code",
   "execution_count": 9,
   "metadata": {},
   "outputs": [
    {
     "name": "stdout",
     "output_type": "stream",
     "text": [
      "\n",
      "....................................................................................................\n",
      "....................................................................................................\n",
      "....................................................................................................\n",
      "....................................................................................................\n",
      "....................................................................................................\n",
      "....................................................................................................\n",
      "............................................................"
     ]
    }
   ],
   "source": [
    "# 에포크가 끝날 때마다 점(.)을 출력해 훈련 진행 과정을 표시합니다\n",
    "class PrintDot(keras.callbacks.Callback):\n",
    "    def on_epoch_end(self, epoch, logs):\n",
    "        if epoch % 100 == 0: print('')\n",
    "        #print(\"epoch : {}, logs : {}\".format(epoch,logs))\n",
    "        print('.', end='')\n",
    "\n",
    "# monitor는 어떤 매개변수를 볼 것인지 입니다.\n",
    "# patience 매개변수는 성능 향상을 체크할 에포크 횟수입니다\n",
    "# 지정된 에포크 횟수 동안 성능 향상이 없으면 자동으로 훈련이 멈춥니다.\n",
    "early_stop = keras.callbacks.EarlyStopping(monitor='val_mape', patience=150)\n",
    "\n",
    "EPOCHS = 100000\n",
    "\n",
    "# 훈련 정확도와 검증 정확도 출력\n",
    "# 에포크마다 훈련 상태를 점검하기 위해 EarlyStopping 콜백(callback)을 사용합니다.\n",
    "history = model.fit(X_train, \n",
    "                    y_train,\n",
    "                    epochs=EPOCHS, \n",
    "                    validation_split = 0.1, \n",
    "                    verbose =0, \n",
    "                    callbacks=[early_stop, PrintDot()])"
   ]
  },
  {
   "cell_type": "code",
   "execution_count": 10,
   "metadata": {},
   "outputs": [
    {
     "data": {
      "text/html": [
       "<div>\n",
       "<style scoped>\n",
       "    .dataframe tbody tr th:only-of-type {\n",
       "        vertical-align: middle;\n",
       "    }\n",
       "\n",
       "    .dataframe tbody tr th {\n",
       "        vertical-align: top;\n",
       "    }\n",
       "\n",
       "    .dataframe thead th {\n",
       "        text-align: right;\n",
       "    }\n",
       "</style>\n",
       "<table border=\"1\" class=\"dataframe\">\n",
       "  <thead>\n",
       "    <tr style=\"text-align: right;\">\n",
       "      <th></th>\n",
       "      <th>loss</th>\n",
       "      <th>mape</th>\n",
       "      <th>rmse</th>\n",
       "      <th>val_loss</th>\n",
       "      <th>val_mape</th>\n",
       "      <th>val_rmse</th>\n",
       "      <th>epoch</th>\n",
       "    </tr>\n",
       "  </thead>\n",
       "  <tbody>\n",
       "    <tr>\n",
       "      <th>655</th>\n",
       "      <td>8.819906</td>\n",
       "      <td>8.819906</td>\n",
       "      <td>9537.083008</td>\n",
       "      <td>19.781033</td>\n",
       "      <td>19.781033</td>\n",
       "      <td>14674.066406</td>\n",
       "      <td>655</td>\n",
       "    </tr>\n",
       "    <tr>\n",
       "      <th>656</th>\n",
       "      <td>8.215943</td>\n",
       "      <td>8.215943</td>\n",
       "      <td>9395.673828</td>\n",
       "      <td>21.749813</td>\n",
       "      <td>21.749813</td>\n",
       "      <td>12975.313477</td>\n",
       "      <td>656</td>\n",
       "    </tr>\n",
       "    <tr>\n",
       "      <th>657</th>\n",
       "      <td>8.252281</td>\n",
       "      <td>8.252281</td>\n",
       "      <td>9078.068359</td>\n",
       "      <td>23.391788</td>\n",
       "      <td>23.391788</td>\n",
       "      <td>13969.639648</td>\n",
       "      <td>657</td>\n",
       "    </tr>\n",
       "    <tr>\n",
       "      <th>658</th>\n",
       "      <td>8.957808</td>\n",
       "      <td>8.957808</td>\n",
       "      <td>9122.938477</td>\n",
       "      <td>24.337484</td>\n",
       "      <td>24.337484</td>\n",
       "      <td>14143.957031</td>\n",
       "      <td>658</td>\n",
       "    </tr>\n",
       "    <tr>\n",
       "      <th>659</th>\n",
       "      <td>9.782656</td>\n",
       "      <td>9.782656</td>\n",
       "      <td>11376.370117</td>\n",
       "      <td>21.294382</td>\n",
       "      <td>21.294382</td>\n",
       "      <td>13246.752930</td>\n",
       "      <td>659</td>\n",
       "    </tr>\n",
       "  </tbody>\n",
       "</table>\n",
       "</div>"
      ],
      "text/plain": [
       "         loss      mape          rmse   val_loss   val_mape      val_rmse  \\\n",
       "655  8.819906  8.819906   9537.083008  19.781033  19.781033  14674.066406   \n",
       "656  8.215943  8.215943   9395.673828  21.749813  21.749813  12975.313477   \n",
       "657  8.252281  8.252281   9078.068359  23.391788  23.391788  13969.639648   \n",
       "658  8.957808  8.957808   9122.938477  24.337484  24.337484  14143.957031   \n",
       "659  9.782656  9.782656  11376.370117  21.294382  21.294382  13246.752930   \n",
       "\n",
       "     epoch  \n",
       "655    655  \n",
       "656    656  \n",
       "657    657  \n",
       "658    658  \n",
       "659    659  "
      ]
     },
     "execution_count": 10,
     "metadata": {},
     "output_type": "execute_result"
    }
   ],
   "source": [
    "hist = pd.DataFrame(history.history)\n",
    "hist['epoch'] = history.epoch\n",
    "hist.tail()"
   ]
  },
  {
   "cell_type": "code",
   "execution_count": 11,
   "metadata": {},
   "outputs": [
    {
     "data": {
      "image/png": "[encoded data removed]",
      "text/plain": [
       "<Figure size 576x864 with 2 Axes>"
      ]
     },
     "metadata": {
      "needs_background": "light"
     },
     "output_type": "display_data"
    }
   ],
   "source": [
    "def plot_history(history):\n",
    "    hist = pd.DataFrame(history.history)\n",
    "    hist['epoch'] = history.epoch\n",
    "\n",
    "    plt.figure(figsize=(8,12))\n",
    "\n",
    "    # mape metric\n",
    "    plt.subplot(3,1,2)\n",
    "    plt.xlabel('Epoch')\n",
    "    plt.ylabel('mape')\n",
    "    plt.plot(hist['epoch'], hist['mape'],\n",
    "           label='Train Error')\n",
    "    plt.plot(hist['epoch'], hist['val_mape'],\n",
    "           label = 'Val Error')\n",
    "    plt.legend()\n",
    "    \n",
    "    # rmse metric\n",
    "    plt.subplot(3,1,3)\n",
    "    plt.xlabel('Epoch')\n",
    "    plt.ylabel('rmse')\n",
    "    plt.plot(hist['epoch'], hist['rmse'],\n",
    "           label='Train Error')\n",
    "    plt.plot(hist['epoch'], hist['val_rmse'],\n",
    "           label = 'Val Error')\n",
    "    plt.legend()\n",
    "\n",
    "    plt.show()\n",
    "    \n",
    "\n",
    "plot_history(history)"
   ]
  },
  {
   "cell_type": "code",
   "execution_count": 12,
   "metadata": {},
   "outputs": [],
   "source": [
    "from sklearn.metrics import mean_squared_error\n",
    "\n",
    "def mape_error(y_test, y_pred):\n",
    "    y_test, y_pred = np.array(y_test), np.array(y_pred)\n",
    "    return np.mean(np.abs((y_test - y_pred) / y_test)) * 100\n",
    "\n",
    "def rmse_error(y_true, y_pred):\n",
    "    rmse = np.sqrt(np.mean(np.square(y_pred - y_true))) \n",
    "    return rmse"
   ]
  },
  {
   "cell_type": "code",
   "execution_count": 13,
   "metadata": {},
   "outputs": [
    {
     "name": "stdout",
     "output_type": "stream",
     "text": [
      "-------- 훈련데이터 예측 --------------------------\n",
      "rmse : 11416.218293749625\n",
      "mape : 10.109844828508383\n",
      "\n",
      "\n",
      "-------- 테스트데이터 예측 -------------------------\n",
      "rmse : 10509.639632374536\n",
      "mape : 21.122853035317082\n",
      "\n",
      "\n"
     ]
    }
   ],
   "source": [
    "# 훈련데이터 예측\n",
    "y_train_pred = model.predict(X_train).reshape(-1,)\n",
    "print(\"-------- 훈련데이터 예측 --------------------------\")\n",
    "print(\"rmse : {}\".format(rmse_error(y_train,y_train_pred)))\n",
    "print(\"mape : {}\".format(mape_error(y_train,y_train_pred)))\n",
    "print(\"\\n\")\n",
    "\n",
    "# 테스트데이터 예측\n",
    "y_pred = model.predict(X_test).reshape(-1,)\n",
    "print(\"-------- 테스트데이터 예측 -------------------------\")\n",
    "print(\"rmse : {}\".format(rmse_error(y_test,y_pred)))\n",
    "print(\"mape : {}\".format(mape_error(y_test,y_pred)))\n",
    "print(\"\\n\")"
   ]
  }
 ],
 "metadata": {
  "kernelspec": {
   "display_name": "Python 3",
   "language": "python",
   "name": "python3"
  },
  "language_info": {
   "codemirror_mode": {
    "name": "ipython",
    "version": 3
   },
   "file_extension": ".py",
   "mimetype": "text/x-python",
   "name": "python",
   "nbconvert_exporter": "python",
   "pygments_lexer": "ipython3",
   "version": "3.7.0"
  }
 },
 "nbformat": 4,
 "nbformat_minor": 4
}
