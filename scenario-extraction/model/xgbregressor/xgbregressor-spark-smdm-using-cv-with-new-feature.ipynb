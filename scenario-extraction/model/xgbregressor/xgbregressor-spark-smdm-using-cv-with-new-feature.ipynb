{
 "cells": [
  {
   "cell_type": "code",
   "execution_count": 1,
   "metadata": {},
   "outputs": [],
   "source": [
    "import pandas as pd\n",
    "import numpy as np\n",
    "\n",
    "# 1727, 191\n",
    "train = pd.read_csv('/Users/bdlab/Desktop/sparse-matrix-multiplication/scenario-extraction/d-optimal/d-optimal-of-spmm/train-test-csv/1727-nonsquare-train-from-1918-nonsquare-spmm-over-3s.csv')\n",
    "test = pd.read_csv('/Users/bdlab/Desktop/sparse-matrix-multiplication/scenario-extraction/d-optimal/d-optimal-of-spmm/train-test-csv/191-nonsquare-test-from-1918-nonsquare-spmm-over-3s.csv')"
   ]
  },
  {
   "cell_type": "code",
   "execution_count": 2,
   "metadata": {},
   "outputs": [],
   "source": [
    "# # 전체 feature -> MAPE 14\n",
    "\n",
    "# # Train + Valid\n",
    "# X_train = train[['lr','lc','rc','ld','rd','lnnz','rnnz','lr*lc','lc*rc','lr*rc','lr*lc*rc','lr*lc+lc*rc','ld*rd','lr*rc*ld*rd','lr*lc*rc*ld*rd','lnnz*rnnz','lnnz+rnnz','lnnz+lc*rc','lr*lc+rnnz']] \n",
    "# y_train = train['sp_smdm']\n",
    "\n",
    "# # Test\n",
    "# X_test = test[['lr','lc','rc','ld','rd','lnnz','rnnz','lr*lc','lc*rc','lr*rc','lr*lc*rc','lr*lc+lc*rc','ld*rd','lr*rc*ld*rd','lr*lc*rc*ld*rd','lnnz*rnnz','lnnz+rnnz','lnnz+lc*rc','lr*lc+rnnz']] \n",
    "# y_test = test['sp_smdm']"
   ]
  },
  {
   "cell_type": "code",
   "execution_count": 3,
   "metadata": {},
   "outputs": [],
   "source": [
    "# 일부 feature -> MAPE 12\n",
    "\n",
    "# Train + Valid\n",
    "X_train = train[['lr','lc','rc','ld','rd','lnnz','rnnz','lr*lc','lc*rc','lr*rc','lr*lc*rc','ld*rd','lr*rc*ld*rd','lr*lc*rc*ld*rd','lnnz*rnnz']] \n",
    "y_train = train['bz_smdm']\n",
    "\n",
    "# Test\n",
    "X_test = test[['lr','lc','rc','ld','rd','lnnz','rnnz','lr*lc','lc*rc','lr*rc','lr*lc*rc','ld*rd','lr*rc*ld*rd','lr*lc*rc*ld*rd','lnnz*rnnz']] \n",
    "y_test = test['bz_smdm']"
   ]
  },
  {
   "cell_type": "code",
   "execution_count": 5,
   "metadata": {},
   "outputs": [],
   "source": [
    "from sklearn.metrics import r2_score, mean_squared_error\n",
    "\n",
    "# Metric\n",
    "def mean_absolute_percentage_error(y_test, y_pred):\n",
    "    y_test, y_pred = np.array(y_test), np.array(y_pred)\n",
    "    return np.mean(np.abs((y_test - y_pred) / y_test)) * 100\n",
    "\n",
    "def custom_scoring(real, pred):\n",
    "    rmse = np.sqrt(mean_squared_error(real, pred))\n",
    "    r2 = r2_score(real, pred)\n",
    "    mape = mean_absolute_percentage_error(real, pred)\n",
    "    return mape"
   ]
  },
  {
   "cell_type": "code",
   "execution_count": 6,
   "metadata": {},
   "outputs": [],
   "source": [
    "import xgboost as xgb\n",
    "from sklearn.model_selection import cross_val_score\n",
    "from sklearn.model_selection import KFold\n",
    "from sklearn.metrics import make_scorer\n",
    "\n",
    "# 탐색 대상 함수 (XGBRegressor)\n",
    "def XGB(\n",
    "max_depth,\n",
    "learning_rate, \n",
    "n_estimators, \n",
    "min_child_weight, \n",
    "subsample,\n",
    "_lambda,\n",
    "#gamma ,\n",
    "#colsample_bytree, \n",
    "#_alpha,\n",
    "silent=True, \n",
    "n_jobs=-1):\n",
    "    \n",
    "    # 모델 정의\n",
    "    model = xgb.XGBRegressor( \n",
    "objective = 'reg:squarederror',\n",
    "max_depth=int(max_depth),\n",
    "learning_rate=learning_rate,\n",
    "n_estimators=int(n_estimators),\n",
    "min_child_weight=min_child_weight,\n",
    "subsample=subsample,\n",
    "reg_lambda=_lambda,        \n",
    "#gamma=gamma,\n",
    "#colsample_bytree=colsample_bytree, \n",
    "#reg_alpha=_alpha\n",
    "n_jobs=n_jobs        \n",
    "                              )\n",
    "    \n",
    "    # bayesian optimization을 통해 파라미터를 받아\n",
    "    # Train을 Train + Validation으로 나눠 cross-validation 성능 확인\n",
    "    kfold = KFold(n_splits=9, shuffle = True, random_state=0)\n",
    "\n",
    "    # cross-validation 평균 성능 성능 확인\n",
    "    score = cross_val_score(model,\n",
    "                            X_train, \n",
    "                            y_train, \n",
    "                            cv=kfold,\n",
    "                            scoring=make_scorer(custom_scoring,greater_is_better=False),\n",
    "                            n_jobs=-1\n",
    "                           ).mean()\n",
    "    \n",
    "    return score"
   ]
  },
  {
   "cell_type": "code",
   "execution_count": 7,
   "metadata": {},
   "outputs": [
    {
     "name": "stdout",
     "output_type": "stream",
     "text": [
      "|   iter    |  target   |  _lambda  | learni... | max_depth | min_ch... | n_esti... | subsample |\n",
      "-------------------------------------------------------------------------------------------------\n",
      "| \u001b[0m 1       \u001b[0m | \u001b[0m-17.68   \u001b[0m | \u001b[0m 0.4753  \u001b[0m | \u001b[0m 0.2189  \u001b[0m | \u001b[0m 12.0    \u001b[0m | \u001b[0m 0.3721  \u001b[0m | \u001b[0m 64.68   \u001b[0m | \u001b[0m 0.5462  \u001b[0m |\n",
      "| \u001b[95m 2       \u001b[0m | \u001b[95m-14.8    \u001b[0m | \u001b[95m 0.2676  \u001b[0m | \u001b[95m 0.1102  \u001b[0m | \u001b[95m 13.59   \u001b[0m | \u001b[95m 0.5849  \u001b[0m | \u001b[95m 91.92   \u001b[0m | \u001b[95m 0.8426  \u001b[0m |\n",
      "| \u001b[0m 3       \u001b[0m | \u001b[0m-15.07   \u001b[0m | \u001b[0m 0.2233  \u001b[0m | \u001b[0m 0.1116  \u001b[0m | \u001b[0m 13.92   \u001b[0m | \u001b[0m 0.4265  \u001b[0m | \u001b[0m 91.26   \u001b[0m | \u001b[0m 0.7918  \u001b[0m |\n",
      "| \u001b[0m 4       \u001b[0m | \u001b[0m-16.46   \u001b[0m | \u001b[0m 0.4609  \u001b[0m | \u001b[0m 0.1041  \u001b[0m | \u001b[0m 12.14   \u001b[0m | \u001b[0m 1.0     \u001b[0m | \u001b[0m 94.81   \u001b[0m | \u001b[0m 1.0     \u001b[0m |\n",
      "| \u001b[0m 5       \u001b[0m | \u001b[0m-16.27   \u001b[0m | \u001b[0m 0.3712  \u001b[0m | \u001b[0m 0.06365 \u001b[0m | \u001b[0m 12.28   \u001b[0m | \u001b[0m 1.0     \u001b[0m | \u001b[0m 91.35   \u001b[0m | \u001b[0m 1.0     \u001b[0m |\n",
      "| \u001b[0m 6       \u001b[0m | \u001b[0m-15.13   \u001b[0m | \u001b[0m 0.2157  \u001b[0m | \u001b[0m 0.1355  \u001b[0m | \u001b[0m 14.26   \u001b[0m | \u001b[0m 0.4007  \u001b[0m | \u001b[0m 92.3    \u001b[0m | \u001b[0m 0.768   \u001b[0m |\n",
      "| \u001b[0m 7       \u001b[0m | \u001b[0m-18.27   \u001b[0m | \u001b[0m 0.949   \u001b[0m | \u001b[0m 0.2365  \u001b[0m | \u001b[0m 13.6    \u001b[0m | \u001b[0m 0.1     \u001b[0m | \u001b[0m 91.98   \u001b[0m | \u001b[0m 0.5     \u001b[0m |\n",
      "| \u001b[0m 8       \u001b[0m | \u001b[0m-15.04   \u001b[0m | \u001b[0m 0.3894  \u001b[0m | \u001b[0m 0.1523  \u001b[0m | \u001b[0m 14.31   \u001b[0m | \u001b[0m 0.3133  \u001b[0m | \u001b[0m 92.38   \u001b[0m | \u001b[0m 0.7246  \u001b[0m |\n",
      "| \u001b[0m 9       \u001b[0m | \u001b[0m-15.48   \u001b[0m | \u001b[0m 0.1957  \u001b[0m | \u001b[0m 0.1182  \u001b[0m | \u001b[0m 13.49   \u001b[0m | \u001b[0m 0.7085  \u001b[0m | \u001b[0m 92.2    \u001b[0m | \u001b[0m 0.8839  \u001b[0m |\n",
      "| \u001b[0m 10      \u001b[0m | \u001b[0m-15.31   \u001b[0m | \u001b[0m 0.1849  \u001b[0m | \u001b[0m 0.1728  \u001b[0m | \u001b[0m 14.07   \u001b[0m | \u001b[0m 0.3613  \u001b[0m | \u001b[0m 92.37   \u001b[0m | \u001b[0m 0.7094  \u001b[0m |\n",
      "| \u001b[0m 11      \u001b[0m | \u001b[0m-15.74   \u001b[0m | \u001b[0m 0.1601  \u001b[0m | \u001b[0m 0.1414  \u001b[0m | \u001b[0m 13.92   \u001b[0m | \u001b[0m 0.8206  \u001b[0m | \u001b[0m 91.9    \u001b[0m | \u001b[0m 0.7703  \u001b[0m |\n",
      "| \u001b[0m 12      \u001b[0m | \u001b[0m-18.45   \u001b[0m | \u001b[0m 0.1106  \u001b[0m | \u001b[0m 0.2932  \u001b[0m | \u001b[0m 13.59   \u001b[0m | \u001b[0m 0.4983  \u001b[0m | \u001b[0m 91.75   \u001b[0m | \u001b[0m 0.9987  \u001b[0m |\n",
      "| \u001b[0m 13      \u001b[0m | \u001b[0m-16.97   \u001b[0m | \u001b[0m 0.99    \u001b[0m | \u001b[0m 0.2263  \u001b[0m | \u001b[0m 13.29   \u001b[0m | \u001b[0m 0.4368  \u001b[0m | \u001b[0m 82.61   \u001b[0m | \u001b[0m 0.7904  \u001b[0m |\n",
      "| \u001b[0m 14      \u001b[0m | \u001b[0m-15.2    \u001b[0m | \u001b[0m 0.1687  \u001b[0m | \u001b[0m 0.1596  \u001b[0m | \u001b[0m 13.93   \u001b[0m | \u001b[0m 0.1599  \u001b[0m | \u001b[0m 91.2    \u001b[0m | \u001b[0m 0.7512  \u001b[0m |\n",
      "| \u001b[0m 15      \u001b[0m | \u001b[0m-17.51   \u001b[0m | \u001b[0m 0.8865  \u001b[0m | \u001b[0m 0.2977  \u001b[0m | \u001b[0m 13.55   \u001b[0m | \u001b[0m 0.8767  \u001b[0m | \u001b[0m 129.2   \u001b[0m | \u001b[0m 0.8625  \u001b[0m |\n",
      "| \u001b[0m 16      \u001b[0m | \u001b[0m-16.43   \u001b[0m | \u001b[0m 0.2849  \u001b[0m | \u001b[0m 0.2417  \u001b[0m | \u001b[0m 14.21   \u001b[0m | \u001b[0m 0.508   \u001b[0m | \u001b[0m 92.18   \u001b[0m | \u001b[0m 0.8788  \u001b[0m |\n",
      "| \u001b[95m 17      \u001b[0m | \u001b[95m-14.63   \u001b[0m | \u001b[95m 0.2315  \u001b[0m | \u001b[95m 0.07993 \u001b[0m | \u001b[95m 13.99   \u001b[0m | \u001b[95m 0.3193  \u001b[0m | \u001b[95m 91.16   \u001b[0m | \u001b[95m 0.7221  \u001b[0m |\n",
      "| \u001b[0m 18      \u001b[0m | \u001b[0m-16.21   \u001b[0m | \u001b[0m 0.1688  \u001b[0m | \u001b[0m 0.2044  \u001b[0m | \u001b[0m 14.76   \u001b[0m | \u001b[0m 0.7172  \u001b[0m | \u001b[0m 77.99   \u001b[0m | \u001b[0m 0.8086  \u001b[0m |\n",
      "| \u001b[0m 19      \u001b[0m | \u001b[0m-47.74   \u001b[0m | \u001b[0m 0.8485  \u001b[0m | \u001b[0m 0.01214 \u001b[0m | \u001b[0m 12.16   \u001b[0m | \u001b[0m 0.827   \u001b[0m | \u001b[0m 59.04   \u001b[0m | \u001b[0m 0.8782  \u001b[0m |\n",
      "| \u001b[0m 20      \u001b[0m | \u001b[0m-37.53   \u001b[0m | \u001b[0m 0.1323  \u001b[0m | \u001b[0m 0.01    \u001b[0m | \u001b[0m 15.72   \u001b[0m | \u001b[0m 0.1     \u001b[0m | \u001b[0m 94.49   \u001b[0m | \u001b[0m 0.5     \u001b[0m |\n",
      "| \u001b[0m 21      \u001b[0m | \u001b[0m-43.08   \u001b[0m | \u001b[0m 0.1     \u001b[0m | \u001b[0m 0.01    \u001b[0m | \u001b[0m 15.54   \u001b[0m | \u001b[0m 0.1     \u001b[0m | \u001b[0m 80.54   \u001b[0m | \u001b[0m 0.6639  \u001b[0m |\n",
      "| \u001b[0m 22      \u001b[0m | \u001b[0m-17.53   \u001b[0m | \u001b[0m 0.2369  \u001b[0m | \u001b[0m 0.3     \u001b[0m | \u001b[0m 14.22   \u001b[0m | \u001b[0m 1.0     \u001b[0m | \u001b[0m 76.46   \u001b[0m | \u001b[0m 0.9021  \u001b[0m |\n",
      "| \u001b[0m 23      \u001b[0m | \u001b[0m-17.33   \u001b[0m | \u001b[0m 1.0     \u001b[0m | \u001b[0m 0.3     \u001b[0m | \u001b[0m 12.0    \u001b[0m | \u001b[0m 0.7286  \u001b[0m | \u001b[0m 84.06   \u001b[0m | \u001b[0m 0.8879  \u001b[0m |\n",
      "| \u001b[0m 24      \u001b[0m | \u001b[0m-39.33   \u001b[0m | \u001b[0m 0.1     \u001b[0m | \u001b[0m 0.01    \u001b[0m | \u001b[0m 12.62   \u001b[0m | \u001b[0m 0.1     \u001b[0m | \u001b[0m 88.74   \u001b[0m | \u001b[0m 0.5     \u001b[0m |\n",
      "| \u001b[0m 25      \u001b[0m | \u001b[0m-16.89   \u001b[0m | \u001b[0m 0.8988  \u001b[0m | \u001b[0m 0.3     \u001b[0m | \u001b[0m 12.5    \u001b[0m | \u001b[0m 1.0     \u001b[0m | \u001b[0m 77.98   \u001b[0m | \u001b[0m 1.0     \u001b[0m |\n",
      "| \u001b[95m 26      \u001b[0m | \u001b[95m-14.19   \u001b[0m | \u001b[95m 0.8656  \u001b[0m | \u001b[95m 0.03143 \u001b[0m | \u001b[95m 12.34   \u001b[0m | \u001b[95m 0.9622  \u001b[0m | \u001b[95m 93.08   \u001b[0m | \u001b[95m 0.7826  \u001b[0m |\n",
      "| \u001b[0m 27      \u001b[0m | \u001b[0m-22.0    \u001b[0m | \u001b[0m 0.2764  \u001b[0m | \u001b[0m 0.3     \u001b[0m | \u001b[0m 12.0    \u001b[0m | \u001b[0m 0.1112  \u001b[0m | \u001b[0m 67.61   \u001b[0m | \u001b[0m 0.5     \u001b[0m |\n",
      "| \u001b[0m 28      \u001b[0m | \u001b[0m-38.83   \u001b[0m | \u001b[0m 0.2194  \u001b[0m | \u001b[0m 0.01    \u001b[0m | \u001b[0m 14.21   \u001b[0m | \u001b[0m 0.114   \u001b[0m | \u001b[0m 91.75   \u001b[0m | \u001b[0m 0.5     \u001b[0m |\n",
      "| \u001b[0m 29      \u001b[0m | \u001b[0m-15.62   \u001b[0m | \u001b[0m 0.2378  \u001b[0m | \u001b[0m 0.1615  \u001b[0m | \u001b[0m 13.79   \u001b[0m | \u001b[0m 0.2724  \u001b[0m | \u001b[0m 90.82   \u001b[0m | \u001b[0m 0.8418  \u001b[0m |\n",
      "| \u001b[0m 30      \u001b[0m | \u001b[0m-14.84   \u001b[0m | \u001b[0m 0.2625  \u001b[0m | \u001b[0m 0.07106 \u001b[0m | \u001b[0m 14.27   \u001b[0m | \u001b[0m 0.5806  \u001b[0m | \u001b[0m 92.68   \u001b[0m | \u001b[0m 0.8405  \u001b[0m |\n",
      "| \u001b[0m 31      \u001b[0m | \u001b[0m-15.06   \u001b[0m | \u001b[0m 0.6508  \u001b[0m | \u001b[0m 0.027   \u001b[0m | \u001b[0m 13.24   \u001b[0m | \u001b[0m 0.9237  \u001b[0m | \u001b[0m 92.03   \u001b[0m | \u001b[0m 0.8134  \u001b[0m |\n",
      "| \u001b[0m 32      \u001b[0m | \u001b[0m-14.31   \u001b[0m | \u001b[0m 0.6324  \u001b[0m | \u001b[0m 0.06807 \u001b[0m | \u001b[0m 12.3    \u001b[0m | \u001b[0m 0.5217  \u001b[0m | \u001b[0m 92.25   \u001b[0m | \u001b[0m 0.8116  \u001b[0m |\n",
      "| \u001b[0m 33      \u001b[0m | \u001b[0m-14.39   \u001b[0m | \u001b[0m 0.9063  \u001b[0m | \u001b[0m 0.06945 \u001b[0m | \u001b[0m 12.77   \u001b[0m | \u001b[0m 0.5661  \u001b[0m | \u001b[0m 92.67   \u001b[0m | \u001b[0m 0.6562  \u001b[0m |\n",
      "| \u001b[0m 34      \u001b[0m | \u001b[0m-16.13   \u001b[0m | \u001b[0m 0.423   \u001b[0m | \u001b[0m 0.1417  \u001b[0m | \u001b[0m 12.39   \u001b[0m | \u001b[0m 0.535   \u001b[0m | \u001b[0m 80.09   \u001b[0m | \u001b[0m 0.9526  \u001b[0m |\n",
      "| \u001b[0m 35      \u001b[0m | \u001b[0m-38.98   \u001b[0m | \u001b[0m 0.6534  \u001b[0m | \u001b[0m 0.01    \u001b[0m | \u001b[0m 12.39   \u001b[0m | \u001b[0m 1.0     \u001b[0m | \u001b[0m 92.5    \u001b[0m | \u001b[0m 0.5     \u001b[0m |\n",
      "| \u001b[0m 36      \u001b[0m | \u001b[0m-16.84   \u001b[0m | \u001b[0m 0.2111  \u001b[0m | \u001b[0m 0.05746 \u001b[0m | \u001b[0m 14.27   \u001b[0m | \u001b[0m 0.2316  \u001b[0m | \u001b[0m 62.71   \u001b[0m | \u001b[0m 0.9852  \u001b[0m |\n",
      "| \u001b[0m 37      \u001b[0m | \u001b[0m-15.78   \u001b[0m | \u001b[0m 0.7928  \u001b[0m | \u001b[0m 0.1063  \u001b[0m | \u001b[0m 12.55   \u001b[0m | \u001b[0m 0.2736  \u001b[0m | \u001b[0m 92.37   \u001b[0m | \u001b[0m 0.9901  \u001b[0m |\n",
      "| \u001b[0m 38      \u001b[0m | \u001b[0m-15.93   \u001b[0m | \u001b[0m 0.8351  \u001b[0m | \u001b[0m 0.1624  \u001b[0m | \u001b[0m 12.69   \u001b[0m | \u001b[0m 0.7007  \u001b[0m | \u001b[0m 92.97   \u001b[0m | \u001b[0m 0.9624  \u001b[0m |\n",
      "| \u001b[0m 39      \u001b[0m | \u001b[0m-14.58   \u001b[0m | \u001b[0m 0.601   \u001b[0m | \u001b[0m 0.0781  \u001b[0m | \u001b[0m 12.22   \u001b[0m | \u001b[0m 0.173   \u001b[0m | \u001b[0m 92.13   \u001b[0m | \u001b[0m 0.6506  \u001b[0m |\n",
      "| \u001b[0m 40      \u001b[0m | \u001b[0m-15.57   \u001b[0m | \u001b[0m 0.8169  \u001b[0m | \u001b[0m 0.1241  \u001b[0m | \u001b[0m 12.16   \u001b[0m | \u001b[0m 0.4389  \u001b[0m | \u001b[0m 92.13   \u001b[0m | \u001b[0m 0.9734  \u001b[0m |\n",
      "| \u001b[0m 41      \u001b[0m | \u001b[0m-16.5    \u001b[0m | \u001b[0m 0.2681  \u001b[0m | \u001b[0m 0.2175  \u001b[0m | \u001b[0m 14.83   \u001b[0m | \u001b[0m 0.8024  \u001b[0m | \u001b[0m 102.2   \u001b[0m | \u001b[0m 0.6356  \u001b[0m |\n",
      "| \u001b[95m 42      \u001b[0m | \u001b[95m-13.82   \u001b[0m | \u001b[95m 0.8886  \u001b[0m | \u001b[95m 0.05055 \u001b[0m | \u001b[95m 13.3    \u001b[0m | \u001b[95m 0.3005  \u001b[0m | \u001b[95m 92.83   \u001b[0m | \u001b[95m 0.7426  \u001b[0m |\n",
      "| \u001b[95m 43      \u001b[0m | \u001b[95m-13.76   \u001b[0m | \u001b[95m 0.9451  \u001b[0m | \u001b[95m 0.04651 \u001b[0m | \u001b[95m 13.2    \u001b[0m | \u001b[95m 0.4611  \u001b[0m | \u001b[95m 92.39   \u001b[0m | \u001b[95m 0.7788  \u001b[0m |\n",
      "| \u001b[0m 44      \u001b[0m | \u001b[0m-14.36   \u001b[0m | \u001b[0m 0.7771  \u001b[0m | \u001b[0m 0.03086 \u001b[0m | \u001b[0m 12.07   \u001b[0m | \u001b[0m 0.5747  \u001b[0m | \u001b[0m 93.06   \u001b[0m | \u001b[0m 0.8346  \u001b[0m |\n",
      "| \u001b[0m 45      \u001b[0m | \u001b[0m-38.86   \u001b[0m | \u001b[0m 1.0     \u001b[0m | \u001b[0m 0.01    \u001b[0m | \u001b[0m 12.29   \u001b[0m | \u001b[0m 0.8328  \u001b[0m | \u001b[0m 93.4    \u001b[0m | \u001b[0m 0.8701  \u001b[0m |\n",
      "| \u001b[0m 46      \u001b[0m | \u001b[0m-15.16   \u001b[0m | \u001b[0m 0.7927  \u001b[0m | \u001b[0m 0.1109  \u001b[0m | \u001b[0m 13.02   \u001b[0m | \u001b[0m 0.4078  \u001b[0m | \u001b[0m 92.67   \u001b[0m | \u001b[0m 0.827   \u001b[0m |\n",
      "| \u001b[0m 47      \u001b[0m | \u001b[0m-17.68   \u001b[0m | \u001b[0m 0.9397  \u001b[0m | \u001b[0m 0.2353  \u001b[0m | \u001b[0m 13.6    \u001b[0m | \u001b[0m 0.1133  \u001b[0m | \u001b[0m 100.4   \u001b[0m | \u001b[0m 0.6245  \u001b[0m |\n",
      "| \u001b[0m 48      \u001b[0m | \u001b[0m-14.96   \u001b[0m | \u001b[0m 0.6961  \u001b[0m | \u001b[0m 0.04202 \u001b[0m | \u001b[0m 13.52   \u001b[0m | \u001b[0m 0.8598  \u001b[0m | \u001b[0m 92.37   \u001b[0m | \u001b[0m 0.9441  \u001b[0m |\n",
      "| \u001b[0m 49      \u001b[0m | \u001b[0m-16.12   \u001b[0m | \u001b[0m 0.7447  \u001b[0m | \u001b[0m 0.2033  \u001b[0m | \u001b[0m 12.18   \u001b[0m | \u001b[0m 0.5366  \u001b[0m | \u001b[0m 92.18   \u001b[0m | \u001b[0m 0.9533  \u001b[0m |\n",
      "| \u001b[0m 50      \u001b[0m | \u001b[0m-15.7    \u001b[0m | \u001b[0m 0.7511  \u001b[0m | \u001b[0m 0.03023 \u001b[0m | \u001b[0m 13.23   \u001b[0m | \u001b[0m 0.4787  \u001b[0m | \u001b[0m 91.93   \u001b[0m | \u001b[0m 0.9787  \u001b[0m |\n"
     ]
    },
    {
     "name": "stdout",
     "output_type": "stream",
     "text": [
      "| \u001b[0m 51      \u001b[0m | \u001b[0m-14.56   \u001b[0m | \u001b[0m 0.7141  \u001b[0m | \u001b[0m 0.05042 \u001b[0m | \u001b[0m 12.18   \u001b[0m | \u001b[0m 0.4466  \u001b[0m | \u001b[0m 92.76   \u001b[0m | \u001b[0m 0.9056  \u001b[0m |\n",
      "| \u001b[0m 52      \u001b[0m | \u001b[0m-14.12   \u001b[0m | \u001b[0m 0.1305  \u001b[0m | \u001b[0m 0.09845 \u001b[0m | \u001b[0m 12.22   \u001b[0m | \u001b[0m 0.6377  \u001b[0m | \u001b[0m 128.4   \u001b[0m | \u001b[0m 0.633   \u001b[0m |\n",
      "=================================================================================================\n",
      "{'target': -13.763342958835349, 'params': {'_lambda': 0.9451431034745988, 'learning_rate': 0.046511988648759946, 'max_depth': 13.198983281111595, 'min_child_weight': 0.46111277482097246, 'n_estimators': 92.39362639667561, 'subsample': 0.7787662529502287}}\n",
      "\n"
     ]
    }
   ],
   "source": [
    "from bayes_opt import BayesianOptimization\n",
    "\n",
    "# 하이퍼파라미터 정의\n",
    "pbounds = {\n",
    "'max_depth': (12, 16), \n",
    "'learning_rate': (0.01, 0.3),\n",
    "'n_estimators': (50, 150),\n",
    "'min_child_weight': (0.1, 1),\n",
    "'subsample': (0.5, 1), \n",
    "'_lambda' : (0.1,1),    \n",
    "#'gamma': (0, 0.3),     \n",
    "#'colsample_bytree' :(0.5, 1)\n",
    "#'_alpha' : (0,1)           \n",
    "                      }\n",
    "\n",
    "# Bayesian optimization 객체 생성\n",
    "bo=BayesianOptimization(f=XGB, pbounds=pbounds, verbose=2, random_state=1 )    \n",
    "\n",
    "# 메소드를 이용해 최대화 과정 수행 (파라미터 넣고 목적함수 값 출력하고)\n",
    "bo.maximize(init_points=2, n_iter=50, acq='ei', xi=0.01)\n",
    "\n",
    "# 뽑힌 최적의 하이퍼파라미터 값 확인\n",
    "print(\"{}\\n\".format(bo.max))"
   ]
  },
  {
   "cell_type": "code",
   "execution_count": 8,
   "metadata": {},
   "outputs": [
    {
     "data": {
      "text/plain": [
       "XGBRegressor(learning_rate=0.046511988648759946, max_depth=13,\n",
       "             min_child_weight=0.46111277482097246, n_estimators=92, n_jobs=-1,\n",
       "             objective='reg:squarederror', reg_lambda=0.9451431034745988,\n",
       "             subsample=0.7787662529502287)"
      ]
     },
     "execution_count": 8,
     "metadata": {},
     "output_type": "execute_result"
    }
   ],
   "source": [
    "import xgboost as xgb\n",
    "\n",
    "# Train + Valid cross-validation을 거친, 최적의 하이퍼파라미터를 사용\n",
    "best_model = xgb.XGBRegressor(\n",
    "objective = 'reg:squarederror',\n",
    "max_depth=int(bo.max['params']['max_depth']),\n",
    "learning_rate=bo.max['params']['learning_rate'],\n",
    "n_estimators=int(bo.max['params']['n_estimators']),\n",
    "min_child_weight=bo.max['params']['min_child_weight'],\n",
    "subsample=bo.max['params']['subsample'],\n",
    "reg_lambda = bo.max['params']['_lambda'],    \n",
    "#gamma=bo.max['params']['gamma'],\n",
    "#colsample_bytree=bo.max['params']['colsample_bytree'],\n",
    "#reg_alpha = bo.max['params']['_alpha']\n",
    "n_jobs=-1\n",
    "                             )\n",
    "# 모델 훈련\n",
    "best_model.fit(X_train, y_train)"
   ]
  },
  {
   "cell_type": "code",
   "execution_count": 9,
   "metadata": {},
   "outputs": [
    {
     "name": "stdout",
     "output_type": "stream",
     "text": [
      "{'target': -13.763342958835349, 'params': {'_lambda': 0.9451431034745988, 'learning_rate': 0.046511988648759946, 'max_depth': 13.198983281111595, 'min_child_weight': 0.46111277482097246, 'n_estimators': 92.39362639667561, 'subsample': 0.7787662529502287}}\n",
      "\n",
      "-------- 훈련데이터 예측 --------------------------\n",
      "rmse : 38941.06549439024\n",
      "mape : 2.413516754248107%\n",
      "\n",
      "\n",
      "-------- 검증데이터 예측 --------------------------\n",
      "mape : 13.763342958835349%\n",
      "\n",
      "\n",
      "-------- 테스트데이터 예측 -------------------------\n",
      "rmse : 135797.88146759383\n",
      "mape : 12.371482661510083%\n",
      "\n",
      "\n"
     ]
    }
   ],
   "source": [
    "# 최적의 하이퍼파라미터 값 확인\n",
    "print(\"{}\\n\".format(bo.max))\n",
    "\n",
    "# 훈련데이터 예측\n",
    "y_train_pred = best_model.predict(X_train)\n",
    "print(\"-------- 훈련데이터 예측 --------------------------\")\n",
    "print(\"rmse : {}\".format(np.sqrt(mean_squared_error(y_train, y_train_pred))))\n",
    "print(\"mape : {}%\".format(mean_absolute_percentage_error(y_train, y_train_pred)))\n",
    "print(\"\\n\")\n",
    "\n",
    "# 검증데이터 예측\n",
    "print(\"-------- 검증데이터 예측 --------------------------\")\n",
    "print(\"mape : {}%\".format(-bo.max['target']))\n",
    "print(\"\\n\")\n",
    "\n",
    "# 테스트데이터 예측\n",
    "y_pred = best_model.predict(X_test)\n",
    "print(\"-------- 테스트데이터 예측 -------------------------\")\n",
    "print(\"rmse : {}\".format(np.sqrt(mean_squared_error(y_test, y_pred))))\n",
    "print(\"mape : {}%\".format(mean_absolute_percentage_error(y_test, y_pred)))\n",
    "print(\"\\n\")"
   ]
  },
  {
   "cell_type": "code",
   "execution_count": 10,
   "metadata": {},
   "outputs": [],
   "source": [
    "# mape_list = {}\n",
    "# # 예측값, 실제값을 확인하며 mape 계산 후 mape_list에 삽입 \n",
    "# for idx,value in enumerate(y_test):\n",
    "#     mape_temp = {}\n",
    "#     predicate = int(y_pred[idx])\n",
    "#     mape = abs((value - predicate) / value) * 100\n",
    "#     mape_temp['pred'] = predicate\n",
    "#     mape_temp['real'] = value\n",
    "#     mape_temp['mape'] = mape\n",
    "#     mape_list[idx] = mape_temp\n",
    "# mape_list_sort = sorted(mape_list.values(), key=lambda x:(x['mape']), reverse=True)\n",
    "# mape_list_sort  "
   ]
  },
  {
   "cell_type": "code",
   "execution_count": 11,
   "metadata": {},
   "outputs": [
    {
     "data": {
      "text/plain": [
       "<matplotlib.axes._subplots.AxesSubplot at 0x7fba2789b290>"
      ]
     },
     "execution_count": 11,
     "metadata": {},
     "output_type": "execute_result"
    },
    {
     "data": {
      "image/png": "[encoded data removed]",
      "text/plain": [
       "<Figure size 432x288 with 1 Axes>"
      ]
     },
     "metadata": {
      "needs_background": "light"
     },
     "output_type": "display_data"
    }
   ],
   "source": [
    "xgb.plot_importance(best_model)"
   ]
  }
 ],
 "metadata": {
  "kernelspec": {
   "display_name": "Python 3",
   "language": "python",
   "name": "python3"
  },
  "language_info": {
   "codemirror_mode": {
    "name": "ipython",
    "version": 3
   },
   "file_extension": ".py",
   "mimetype": "text/x-python",
   "name": "python",
   "nbconvert_exporter": "python",
   "pygments_lexer": "ipython3",
   "version": "3.7.7"
  }
 },
 "nbformat": 4,
 "nbformat_minor": 4
}
