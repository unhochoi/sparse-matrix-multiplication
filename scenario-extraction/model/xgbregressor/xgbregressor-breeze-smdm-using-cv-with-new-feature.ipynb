{
 "cells": [
  {
   "cell_type": "code",
   "execution_count": 1,
   "metadata": {},
   "outputs": [],
   "source": [
    "import pandas as pd\n",
    "import numpy as np\n",
    "\n",
    "# 1727, 191\n",
    "train = pd.read_csv('/Users/bdlab/Desktop/sparse-matrix-multiplication/scenario-extraction/d-optimal/d-optimal-of-spmm/train-test-csv/1727-nonsquare-train-from-1918-nonsquare-spmm-over-3s.csv')\n",
    "test = pd.read_csv('/Users/bdlab/Desktop/sparse-matrix-multiplication/scenario-extraction/d-optimal/d-optimal-of-spmm/train-test-csv/191-nonsquare-test-from-1918-nonsquare-spmm-over-3s.csv')"
   ]
  },
  {
   "cell_type": "code",
   "execution_count": 2,
   "metadata": {},
   "outputs": [],
   "source": [
    "# 전체 feature -> MAPE 12\n",
    "\n",
    "# Train + Valid\n",
    "X_train = train[['lr','lc','rc','ld','rd','lnnz','rnnz','lr*lc','lc*rc','lr*rc','lr*lc*rc','lr*lc+lc*rc','ld*rd','lr*rc*ld*rd','lr*lc*rc*ld*rd','lnnz*rnnz','lnnz+rnnz','lnnz+lc*rc','lr*lc+rnnz']] \n",
    "y_train = train['bz_smdm']\n",
    "\n",
    "# Test\n",
    "X_test = test[['lr','lc','rc','ld','rd','lnnz','rnnz','lr*lc','lc*rc','lr*rc','lr*lc*rc','lr*lc+lc*rc','ld*rd','lr*rc*ld*rd','lr*lc*rc*ld*rd','lnnz*rnnz','lnnz+rnnz','lnnz+lc*rc','lr*lc+rnnz']] \n",
    "y_test = test['bz_smdm']"
   ]
  },
  {
   "cell_type": "code",
   "execution_count": 3,
   "metadata": {},
   "outputs": [],
   "source": [
    "# # 일부 feature -> MAPE 13\n",
    "\n",
    "# # Train + Valid\n",
    "# X_train = train[['lr','lc','rc','ld','rd','lnnz','rnnz','lr*lc','lc*rc','lr*rc','lr*lc*rc','ld*rd','lr*rc*ld*rd','lr*lc*rc*ld*rd','lnnz*rnnz']] \n",
    "# y_train = train['bz_smdm']\n",
    "\n",
    "# # Test\n",
    "# X_test = test[['lr','lc','rc','ld','rd','lnnz','rnnz','lr*lc','lc*rc','lr*rc','lr*lc*rc','ld*rd','lr*rc*ld*rd','lr*lc*rc*ld*rd','lnnz*rnnz']] \n",
    "# y_test = test['bz_smdm']"
   ]
  },
  {
   "cell_type": "code",
   "execution_count": 4,
   "metadata": {},
   "outputs": [],
   "source": [
    "# 일부 feature -> MAPE \n",
    "\n",
    "# Train + Valid\n",
    "X_train = train[['lr','lc','rc','ld','rd','lnnz','rnnz','lr*lc','lc*rc','lr*rc','lr*lc*rc','lr*lc+lc*rc','ld*rd','lr*rc*ld*rd','lr*lc*rc*ld*rd','lnnz*rnnz','lnnz+rnnz','lnnz+lc*rc']] \n",
    "y_train = train['bz_smdm']\n",
    "\n",
    "# Test\n",
    "X_test = test[['lr','lc','rc','ld','rd','lnnz','rnnz','lr*lc','lc*rc','lr*rc','lr*lc*rc','lr*lc+lc*rc','ld*rd','lr*rc*ld*rd','lr*lc*rc*ld*rd','lnnz*rnnz','lnnz+rnnz','lnnz+lc*rc']] \n",
    "y_test = test['bz_smdm']"
   ]
  },
  {
   "cell_type": "code",
   "execution_count": 5,
   "metadata": {},
   "outputs": [],
   "source": [
    "from sklearn.metrics import r2_score, mean_squared_error\n",
    "\n",
    "# Metric\n",
    "def mean_absolute_percentage_error(y_test, y_pred):\n",
    "    y_test, y_pred = np.array(y_test), np.array(y_pred)\n",
    "    return np.mean(np.abs((y_test - y_pred) / y_test)) * 100\n",
    "\n",
    "def custom_scoring(real, pred):\n",
    "    rmse = np.sqrt(mean_squared_error(real, pred))\n",
    "    r2 = r2_score(real, pred)\n",
    "    mape = mean_absolute_percentage_error(real, pred)\n",
    "    return mape"
   ]
  },
  {
   "cell_type": "code",
   "execution_count": 6,
   "metadata": {},
   "outputs": [],
   "source": [
    "import xgboost as xgb\n",
    "from sklearn.model_selection import cross_val_score\n",
    "from sklearn.model_selection import KFold\n",
    "from sklearn.metrics import make_scorer\n",
    "\n",
    "# 탐색 대상 함수 (XGBRegressor)\n",
    "def XGB(\n",
    "max_depth,\n",
    "learning_rate, \n",
    "n_estimators, \n",
    "min_child_weight, \n",
    "subsample,\n",
    "_lambda,\n",
    "#gamma ,\n",
    "#colsample_bytree, \n",
    "#_alpha,\n",
    "silent=True, \n",
    "n_jobs=-1):\n",
    "    \n",
    "    # 모델 정의\n",
    "    model = xgb.XGBRegressor( \n",
    "objective = 'reg:squarederror',\n",
    "max_depth=int(max_depth),\n",
    "learning_rate=learning_rate,\n",
    "n_estimators=int(n_estimators),\n",
    "min_child_weight=min_child_weight,\n",
    "subsample=subsample,\n",
    "reg_lambda=_lambda,        \n",
    "#gamma=gamma,\n",
    "#colsample_bytree=colsample_bytree, \n",
    "#reg_alpha=_alpha\n",
    "n_jobs=n_jobs        \n",
    "                              )\n",
    "    \n",
    "    # bayesian optimization을 통해 파라미터를 받아\n",
    "    # Train을 Train + Validation으로 나눠 cross-validation 성능 확인\n",
    "    kfold = KFold(n_splits=9, shuffle = True, random_state=0)\n",
    "\n",
    "    # cross-validation 평균 성능 성능 확인\n",
    "    score = cross_val_score(model,\n",
    "                            X_train, \n",
    "                            y_train, \n",
    "                            cv=kfold,\n",
    "                            scoring=make_scorer(custom_scoring,greater_is_better=False),\n",
    "                            n_jobs=-1\n",
    "                           ).mean()\n",
    "    \n",
    "    return score"
   ]
  },
  {
   "cell_type": "code",
   "execution_count": 7,
   "metadata": {},
   "outputs": [
    {
     "name": "stdout",
     "output_type": "stream",
     "text": [
      "|   iter    |  target   |  _lambda  | learni... | max_depth | min_ch... | n_esti... | subsample |\n",
      "-------------------------------------------------------------------------------------------------\n",
      "| \u001b[0m 1       \u001b[0m | \u001b[0m-31.68   \u001b[0m | \u001b[0m 0.4753  \u001b[0m | \u001b[0m 0.1469  \u001b[0m | \u001b[0m 12.0    \u001b[0m | \u001b[0m 0.3721  \u001b[0m | \u001b[0m 64.68   \u001b[0m | \u001b[0m 0.1831  \u001b[0m |\n",
      "| \u001b[95m 2       \u001b[0m | \u001b[95m-14.27   \u001b[0m | \u001b[95m 0.2676  \u001b[0m | \u001b[95m 0.07566 \u001b[0m | \u001b[95m 13.59   \u001b[0m | \u001b[95m 0.5849  \u001b[0m | \u001b[95m 91.92   \u001b[0m | \u001b[95m 0.7167  \u001b[0m |\n",
      "| \u001b[0m 3       \u001b[0m | \u001b[0m-14.41   \u001b[0m | \u001b[0m 0.2233  \u001b[0m | \u001b[0m 0.07657 \u001b[0m | \u001b[0m 13.92   \u001b[0m | \u001b[0m 0.4265  \u001b[0m | \u001b[0m 91.26   \u001b[0m | \u001b[0m 0.6252  \u001b[0m |\n",
      "| \u001b[0m 4       \u001b[0m | \u001b[0m-161.9   \u001b[0m | \u001b[0m 0.1     \u001b[0m | \u001b[0m 0.2     \u001b[0m | \u001b[0m 16.0    \u001b[0m | \u001b[0m 0.1     \u001b[0m | \u001b[0m 108.3   \u001b[0m | \u001b[0m 0.1     \u001b[0m |\n",
      "| \u001b[0m 5       \u001b[0m | \u001b[0m-44.7    \u001b[0m | \u001b[0m 1.0     \u001b[0m | \u001b[0m 0.01    \u001b[0m | \u001b[0m 12.0    \u001b[0m | \u001b[0m 1.0     \u001b[0m | \u001b[0m 79.65   \u001b[0m | \u001b[0m 1.0     \u001b[0m |\n",
      "| \u001b[0m 6       \u001b[0m | \u001b[0m-104.0   \u001b[0m | \u001b[0m 0.1     \u001b[0m | \u001b[0m 0.2     \u001b[0m | \u001b[0m 12.0    \u001b[0m | \u001b[0m 0.1     \u001b[0m | \u001b[0m 51.07   \u001b[0m | \u001b[0m 0.1     \u001b[0m |\n",
      "| \u001b[95m 7       \u001b[0m | \u001b[95m-13.6    \u001b[0m | \u001b[95m 0.9767  \u001b[0m | \u001b[95m 0.04484 \u001b[0m | \u001b[95m 12.09   \u001b[0m | \u001b[95m 0.6818  \u001b[0m | \u001b[95m 89.64   \u001b[0m | \u001b[95m 0.7442  \u001b[0m |\n",
      "| \u001b[0m 8       \u001b[0m | \u001b[0m-24.77   \u001b[0m | \u001b[0m 1.0     \u001b[0m | \u001b[0m 0.01    \u001b[0m | \u001b[0m 12.0    \u001b[0m | \u001b[0m 1.0     \u001b[0m | \u001b[0m 150.0   \u001b[0m | \u001b[0m 1.0     \u001b[0m |\n",
      "| \u001b[0m 9       \u001b[0m | \u001b[0m-90.85   \u001b[0m | \u001b[0m 1.0     \u001b[0m | \u001b[0m 0.2     \u001b[0m | \u001b[0m 16.0    \u001b[0m | \u001b[0m 0.1     \u001b[0m | \u001b[0m 140.4   \u001b[0m | \u001b[0m 0.1     \u001b[0m |\n",
      "| \u001b[0m 10      \u001b[0m | \u001b[0m-49.07   \u001b[0m | \u001b[0m 1.0     \u001b[0m | \u001b[0m 0.01    \u001b[0m | \u001b[0m 16.0    \u001b[0m | \u001b[0m 1.0     \u001b[0m | \u001b[0m 70.03   \u001b[0m | \u001b[0m 1.0     \u001b[0m |\n",
      "| \u001b[0m 11      \u001b[0m | \u001b[0m-73.35   \u001b[0m | \u001b[0m 1.0     \u001b[0m | \u001b[0m 0.2     \u001b[0m | \u001b[0m 12.0    \u001b[0m | \u001b[0m 1.0     \u001b[0m | \u001b[0m 91.41   \u001b[0m | \u001b[0m 0.1     \u001b[0m |\n",
      "| \u001b[0m 12      \u001b[0m | \u001b[0m-40.55   \u001b[0m | \u001b[0m 0.5072  \u001b[0m | \u001b[0m 0.01    \u001b[0m | \u001b[0m 12.99   \u001b[0m | \u001b[0m 0.3107  \u001b[0m | \u001b[0m 89.3    \u001b[0m | \u001b[0m 1.0     \u001b[0m |\n",
      "| \u001b[0m 13      \u001b[0m | \u001b[0m-39.58   \u001b[0m | \u001b[0m 0.1     \u001b[0m | \u001b[0m 0.01    \u001b[0m | \u001b[0m 14.5    \u001b[0m | \u001b[0m 0.3433  \u001b[0m | \u001b[0m 92.07   \u001b[0m | \u001b[0m 1.0     \u001b[0m |\n",
      "| \u001b[0m 14      \u001b[0m | \u001b[0m-39.87   \u001b[0m | \u001b[0m 0.1     \u001b[0m | \u001b[0m 0.01    \u001b[0m | \u001b[0m 13.21   \u001b[0m | \u001b[0m 0.1     \u001b[0m | \u001b[0m 91.32   \u001b[0m | \u001b[0m 1.0     \u001b[0m |\n",
      "| \u001b[0m 15      \u001b[0m | \u001b[0m-42.09   \u001b[0m | \u001b[0m 0.2109  \u001b[0m | \u001b[0m 0.18    \u001b[0m | \u001b[0m 13.94   \u001b[0m | \u001b[0m 1.0     \u001b[0m | \u001b[0m 91.56   \u001b[0m | \u001b[0m 0.1844  \u001b[0m |\n",
      "| \u001b[0m 16      \u001b[0m | \u001b[0m-17.75   \u001b[0m | \u001b[0m 0.846   \u001b[0m | \u001b[0m 0.02221 \u001b[0m | \u001b[0m 13.85   \u001b[0m | \u001b[0m 0.407   \u001b[0m | \u001b[0m 91.55   \u001b[0m | \u001b[0m 0.8352  \u001b[0m |\n",
      "| \u001b[95m 17      \u001b[0m | \u001b[95m-13.39   \u001b[0m | \u001b[95m 0.7594  \u001b[0m | \u001b[95m 0.04015 \u001b[0m | \u001b[95m 12.0    \u001b[0m | \u001b[95m 0.4597  \u001b[0m | \u001b[95m 88.79   \u001b[0m | \u001b[95m 0.5997  \u001b[0m |\n",
      "| \u001b[0m 18      \u001b[0m | \u001b[0m-16.05   \u001b[0m | \u001b[0m 1.0     \u001b[0m | \u001b[0m 0.2     \u001b[0m | \u001b[0m 12.0    \u001b[0m | \u001b[0m 1.0     \u001b[0m | \u001b[0m 89.0    \u001b[0m | \u001b[0m 0.9577  \u001b[0m |\n",
      "| \u001b[0m 19      \u001b[0m | \u001b[0m-40.22   \u001b[0m | \u001b[0m 1.0     \u001b[0m | \u001b[0m 0.01    \u001b[0m | \u001b[0m 12.0    \u001b[0m | \u001b[0m 0.8817  \u001b[0m | \u001b[0m 89.11   \u001b[0m | \u001b[0m 0.1     \u001b[0m |\n",
      "| \u001b[0m 20      \u001b[0m | \u001b[0m-15.79   \u001b[0m | \u001b[0m 1.0     \u001b[0m | \u001b[0m 0.1451  \u001b[0m | \u001b[0m 12.0    \u001b[0m | \u001b[0m 0.227   \u001b[0m | \u001b[0m 89.19   \u001b[0m | \u001b[0m 1.0     \u001b[0m |\n",
      "| \u001b[0m 21      \u001b[0m | \u001b[0m-40.6    \u001b[0m | \u001b[0m 0.3761  \u001b[0m | \u001b[0m 0.01    \u001b[0m | \u001b[0m 12.0    \u001b[0m | \u001b[0m 0.7038  \u001b[0m | \u001b[0m 89.23   \u001b[0m | \u001b[0m 1.0     \u001b[0m |\n",
      "| \u001b[0m 22      \u001b[0m | \u001b[0m-14.88   \u001b[0m | \u001b[0m 0.4985  \u001b[0m | \u001b[0m 0.1092  \u001b[0m | \u001b[0m 12.17   \u001b[0m | \u001b[0m 0.148   \u001b[0m | \u001b[0m 87.73   \u001b[0m | \u001b[0m 0.6747  \u001b[0m |\n",
      "| \u001b[0m 23      \u001b[0m | \u001b[0m-15.94   \u001b[0m | \u001b[0m 1.0     \u001b[0m | \u001b[0m 0.2     \u001b[0m | \u001b[0m 12.0    \u001b[0m | \u001b[0m 0.295   \u001b[0m | \u001b[0m 88.26   \u001b[0m | \u001b[0m 0.7874  \u001b[0m |\n",
      "| \u001b[0m 24      \u001b[0m | \u001b[0m-40.78   \u001b[0m | \u001b[0m 0.8147  \u001b[0m | \u001b[0m 0.01    \u001b[0m | \u001b[0m 12.89   \u001b[0m | \u001b[0m 0.1     \u001b[0m | \u001b[0m 87.58   \u001b[0m | \u001b[0m 0.1     \u001b[0m |\n",
      "| \u001b[0m 25      \u001b[0m | \u001b[0m-41.27   \u001b[0m | \u001b[0m 0.3158  \u001b[0m | \u001b[0m 0.01    \u001b[0m | \u001b[0m 12.0    \u001b[0m | \u001b[0m 0.8853  \u001b[0m | \u001b[0m 87.22   \u001b[0m | \u001b[0m 1.0     \u001b[0m |\n",
      "| \u001b[0m 26      \u001b[0m | \u001b[0m-38.97   \u001b[0m | \u001b[0m 0.4451  \u001b[0m | \u001b[0m 0.01    \u001b[0m | \u001b[0m 13.78   \u001b[0m | \u001b[0m 0.1     \u001b[0m | \u001b[0m 91.79   \u001b[0m | \u001b[0m 0.3574  \u001b[0m |\n",
      "| \u001b[0m 27      \u001b[0m | \u001b[0m-16.91   \u001b[0m | \u001b[0m 0.3319  \u001b[0m | \u001b[0m 0.1777  \u001b[0m | \u001b[0m 14.05   \u001b[0m | \u001b[0m 0.6729  \u001b[0m | \u001b[0m 91.29   \u001b[0m | \u001b[0m 0.984   \u001b[0m |\n",
      "| \u001b[0m 28      \u001b[0m | \u001b[0m-39.94   \u001b[0m | \u001b[0m 0.835   \u001b[0m | \u001b[0m 0.01    \u001b[0m | \u001b[0m 14.28   \u001b[0m | \u001b[0m 0.3061  \u001b[0m | \u001b[0m 90.51   \u001b[0m | \u001b[0m 0.7528  \u001b[0m |\n",
      "| \u001b[0m 29      \u001b[0m | \u001b[0m-40.05   \u001b[0m | \u001b[0m 0.4704  \u001b[0m | \u001b[0m 0.01    \u001b[0m | \u001b[0m 13.61   \u001b[0m | \u001b[0m 0.8189  \u001b[0m | \u001b[0m 91.77   \u001b[0m | \u001b[0m 1.0     \u001b[0m |\n",
      "| \u001b[0m 30      \u001b[0m | \u001b[0m-15.58   \u001b[0m | \u001b[0m 0.5823  \u001b[0m | \u001b[0m 0.148   \u001b[0m | \u001b[0m 12.27   \u001b[0m | \u001b[0m 0.2208  \u001b[0m | \u001b[0m 88.42   \u001b[0m | \u001b[0m 0.6028  \u001b[0m |\n",
      "| \u001b[0m 31      \u001b[0m | \u001b[0m-15.08   \u001b[0m | \u001b[0m 0.3081  \u001b[0m | \u001b[0m 0.1541  \u001b[0m | \u001b[0m 13.54   \u001b[0m | \u001b[0m 0.2867  \u001b[0m | \u001b[0m 92.71   \u001b[0m | \u001b[0m 0.7732  \u001b[0m |\n",
      "| \u001b[0m 32      \u001b[0m | \u001b[0m-16.37   \u001b[0m | \u001b[0m 0.1     \u001b[0m | \u001b[0m 0.2     \u001b[0m | \u001b[0m 13.45   \u001b[0m | \u001b[0m 0.4793  \u001b[0m | \u001b[0m 92.29   \u001b[0m | \u001b[0m 0.6934  \u001b[0m |\n",
      "| \u001b[0m 33      \u001b[0m | \u001b[0m-15.78   \u001b[0m | \u001b[0m 0.3196  \u001b[0m | \u001b[0m 0.2     \u001b[0m | \u001b[0m 13.31   \u001b[0m | \u001b[0m 0.2422  \u001b[0m | \u001b[0m 93.63   \u001b[0m | \u001b[0m 0.8561  \u001b[0m |\n",
      "| \u001b[0m 34      \u001b[0m | \u001b[0m-14.42   \u001b[0m | \u001b[0m 0.9611  \u001b[0m | \u001b[0m 0.07642 \u001b[0m | \u001b[0m 13.11   \u001b[0m | \u001b[0m 0.3538  \u001b[0m | \u001b[0m 93.28   \u001b[0m | \u001b[0m 0.8375  \u001b[0m |\n",
      "| \u001b[0m 35      \u001b[0m | \u001b[0m-15.9    \u001b[0m | \u001b[0m 0.9859  \u001b[0m | \u001b[0m 0.2     \u001b[0m | \u001b[0m 13.77   \u001b[0m | \u001b[0m 0.1     \u001b[0m | \u001b[0m 93.41   \u001b[0m | \u001b[0m 1.0     \u001b[0m |\n",
      "| \u001b[0m 36      \u001b[0m | \u001b[0m-21.62   \u001b[0m | \u001b[0m 0.7393  \u001b[0m | \u001b[0m 0.2     \u001b[0m | \u001b[0m 13.62   \u001b[0m | \u001b[0m 0.6406  \u001b[0m | \u001b[0m 93.44   \u001b[0m | \u001b[0m 0.4218  \u001b[0m |\n",
      "| \u001b[0m 37      \u001b[0m | \u001b[0m-38.98   \u001b[0m | \u001b[0m 1.0     \u001b[0m | \u001b[0m 0.01    \u001b[0m | \u001b[0m 13.07   \u001b[0m | \u001b[0m 0.1     \u001b[0m | \u001b[0m 94.2    \u001b[0m | \u001b[0m 1.0     \u001b[0m |\n",
      "| \u001b[0m 38      \u001b[0m | \u001b[0m-16.0    \u001b[0m | \u001b[0m 0.9837  \u001b[0m | \u001b[0m 0.0278  \u001b[0m | \u001b[0m 13.41   \u001b[0m | \u001b[0m 0.3355  \u001b[0m | \u001b[0m 92.89   \u001b[0m | \u001b[0m 0.9805  \u001b[0m |\n",
      "| \u001b[0m 39      \u001b[0m | \u001b[0m-13.7    \u001b[0m | \u001b[0m 0.4115  \u001b[0m | \u001b[0m 0.04709 \u001b[0m | \u001b[0m 12.98   \u001b[0m | \u001b[0m 0.1502  \u001b[0m | \u001b[0m 93.14   \u001b[0m | \u001b[0m 0.6424  \u001b[0m |\n",
      "| \u001b[0m 40      \u001b[0m | \u001b[0m-44.85   \u001b[0m | \u001b[0m 0.8845  \u001b[0m | \u001b[0m 0.1194  \u001b[0m | \u001b[0m 12.01   \u001b[0m | \u001b[0m 0.1607  \u001b[0m | \u001b[0m 149.1   \u001b[0m | \u001b[0m 0.1086  \u001b[0m |\n",
      "| \u001b[0m 41      \u001b[0m | \u001b[0m-14.51   \u001b[0m | \u001b[0m 0.1583  \u001b[0m | \u001b[0m 0.07033 \u001b[0m | \u001b[0m 13.23   \u001b[0m | \u001b[0m 0.7089  \u001b[0m | \u001b[0m 93.04   \u001b[0m | \u001b[0m 0.7554  \u001b[0m |\n",
      "| \u001b[0m 42      \u001b[0m | \u001b[0m-16.62   \u001b[0m | \u001b[0m 0.3659  \u001b[0m | \u001b[0m 0.1959  \u001b[0m | \u001b[0m 12.14   \u001b[0m | \u001b[0m 0.8267  \u001b[0m | \u001b[0m 93.4    \u001b[0m | \u001b[0m 0.9469  \u001b[0m |\n",
      "| \u001b[0m 43      \u001b[0m | \u001b[0m-15.12   \u001b[0m | \u001b[0m 0.3162  \u001b[0m | \u001b[0m 0.1574  \u001b[0m | \u001b[0m 12.68   \u001b[0m | \u001b[0m 0.6094  \u001b[0m | \u001b[0m 93.43   \u001b[0m | \u001b[0m 0.6379  \u001b[0m |\n",
      "| \u001b[0m 44      \u001b[0m | \u001b[0m-16.77   \u001b[0m | \u001b[0m 0.4387  \u001b[0m | \u001b[0m 0.1599  \u001b[0m | \u001b[0m 13.41   \u001b[0m | \u001b[0m 0.1182  \u001b[0m | \u001b[0m 92.98   \u001b[0m | \u001b[0m 0.9943  \u001b[0m |\n",
      "| \u001b[0m 45      \u001b[0m | \u001b[0m-36.8    \u001b[0m | \u001b[0m 0.1     \u001b[0m | \u001b[0m 0.01    \u001b[0m | \u001b[0m 12.0    \u001b[0m | \u001b[0m 1.0     \u001b[0m | \u001b[0m 94.16   \u001b[0m | \u001b[0m 0.2991  \u001b[0m |\n",
      "| \u001b[0m 46      \u001b[0m | \u001b[0m-16.17   \u001b[0m | \u001b[0m 1.0     \u001b[0m | \u001b[0m 0.2     \u001b[0m | \u001b[0m 15.17   \u001b[0m | \u001b[0m 0.1     \u001b[0m | \u001b[0m 94.18   \u001b[0m | \u001b[0m 1.0     \u001b[0m |\n",
      "| \u001b[0m 47      \u001b[0m | \u001b[0m-16.26   \u001b[0m | \u001b[0m 1.0     \u001b[0m | \u001b[0m 0.2     \u001b[0m | \u001b[0m 16.0    \u001b[0m | \u001b[0m 0.1     \u001b[0m | \u001b[0m 94.94   \u001b[0m | \u001b[0m 1.0     \u001b[0m |\n",
      "| \u001b[0m 48      \u001b[0m | \u001b[0m-18.21   \u001b[0m | \u001b[0m 0.1302  \u001b[0m | \u001b[0m 0.2     \u001b[0m | \u001b[0m 15.37   \u001b[0m | \u001b[0m 0.1     \u001b[0m | \u001b[0m 94.83   \u001b[0m | \u001b[0m 1.0     \u001b[0m |\n",
      "| \u001b[0m 49      \u001b[0m | \u001b[0m-16.75   \u001b[0m | \u001b[0m 0.828   \u001b[0m | \u001b[0m 0.1141  \u001b[0m | \u001b[0m 15.21   \u001b[0m | \u001b[0m 0.218   \u001b[0m | \u001b[0m 95.05   \u001b[0m | \u001b[0m 0.3627  \u001b[0m |\n",
      "| \u001b[0m 50      \u001b[0m | \u001b[0m-15.98   \u001b[0m | \u001b[0m 0.9022  \u001b[0m | \u001b[0m 0.2     \u001b[0m | \u001b[0m 15.48   \u001b[0m | \u001b[0m 1.0     \u001b[0m | \u001b[0m 94.76   \u001b[0m | \u001b[0m 1.0     \u001b[0m |\n"
     ]
    },
    {
     "name": "stdout",
     "output_type": "stream",
     "text": [
      "| \u001b[0m 51      \u001b[0m | \u001b[0m-24.65   \u001b[0m | \u001b[0m 0.6624  \u001b[0m | \u001b[0m 0.2     \u001b[0m | \u001b[0m 15.94   \u001b[0m | \u001b[0m 0.513   \u001b[0m | \u001b[0m 94.35   \u001b[0m | \u001b[0m 0.3333  \u001b[0m |\n",
      "| \u001b[0m 52      \u001b[0m | \u001b[0m-16.17   \u001b[0m | \u001b[0m 1.0     \u001b[0m | \u001b[0m 0.2     \u001b[0m | \u001b[0m 15.39   \u001b[0m | \u001b[0m 0.5339  \u001b[0m | \u001b[0m 95.78   \u001b[0m | \u001b[0m 1.0     \u001b[0m |\n",
      "=================================================================================================\n",
      "{'target': -13.394222561485842, 'params': {'_lambda': 0.7594217266458634, 'learning_rate': 0.04014987131145291, 'max_depth': 12.003800709486997, 'min_child_weight': 0.45965784164090273, 'n_estimators': 88.79259897427968, 'subsample': 0.5997133034805928}}\n",
      "\n"
     ]
    }
   ],
   "source": [
    "from bayes_opt import BayesianOptimization\n",
    "\n",
    "# 하이퍼파라미터 정의\n",
    "pbounds = {\n",
    "'max_depth': (12, 16), \n",
    "'learning_rate': (0.01, 0.2),\n",
    "'n_estimators': (50, 150),\n",
    "'min_child_weight': (0.1, 1),\n",
    "'subsample': (0.1, 1), \n",
    "'_lambda' : (0.1,1),    \n",
    "#'gamma': (0, 0.3),     \n",
    "#'colsample_bytree' :(0.5, 1)\n",
    "#'_alpha' : (0,1)           \n",
    "                      }\n",
    "\n",
    "# Bayesian optimization 객체 생성\n",
    "bo=BayesianOptimization(f=XGB, pbounds=pbounds, verbose=2, random_state=1 )    \n",
    "\n",
    "# 메소드를 이용해 최대화 과정 수행 (파라미터 넣고 목적함수 값 출력하고)\n",
    "bo.maximize(init_points=2, n_iter=50, acq='ei', xi=0.01)\n",
    "\n",
    "# 뽑힌 최적의 하이퍼파라미터 값 확인\n",
    "print(\"{}\\n\".format(bo.max))"
   ]
  },
  {
   "cell_type": "code",
   "execution_count": 8,
   "metadata": {},
   "outputs": [
    {
     "data": {
      "text/plain": [
       "XGBRegressor(learning_rate=0.04014987131145291, max_depth=12,\n",
       "             min_child_weight=0.45965784164090273, n_estimators=88, n_jobs=-1,\n",
       "             objective='reg:squarederror', reg_lambda=0.7594217266458634,\n",
       "             subsample=0.5997133034805928)"
      ]
     },
     "execution_count": 8,
     "metadata": {},
     "output_type": "execute_result"
    }
   ],
   "source": [
    "import xgboost as xgb\n",
    "\n",
    "# Train + Valid cross-validation을 거친, 최적의 하이퍼파라미터를 사용\n",
    "best_model = xgb.XGBRegressor(\n",
    "objective = 'reg:squarederror',\n",
    "max_depth=int(bo.max['params']['max_depth']),\n",
    "learning_rate=bo.max['params']['learning_rate'],\n",
    "n_estimators=int(bo.max['params']['n_estimators']),\n",
    "min_child_weight=bo.max['params']['min_child_weight'],\n",
    "subsample=bo.max['params']['subsample'],\n",
    "reg_lambda = bo.max['params']['_lambda'],    \n",
    "#gamma=bo.max['params']['gamma'],\n",
    "#colsample_bytree=bo.max['params']['colsample_bytree'],\n",
    "#reg_alpha = bo.max['params']['_alpha']\n",
    "n_jobs=-1\n",
    "                             )\n",
    "# 모델 훈련\n",
    "best_model.fit(X_train, y_train)"
   ]
  },
  {
   "cell_type": "code",
   "execution_count": 9,
   "metadata": {},
   "outputs": [
    {
     "name": "stdout",
     "output_type": "stream",
     "text": [
      "{'target': -13.394222561485842, 'params': {'_lambda': 0.7594217266458634, 'learning_rate': 0.04014987131145291, 'max_depth': 12.003800709486997, 'min_child_weight': 0.45965784164090273, 'n_estimators': 88.79259897427968, 'subsample': 0.5997133034805928}}\n",
      "\n",
      "-------- 훈련데이터 예측 --------------------------\n",
      "rmse : 69432.6737714712\n",
      "mape : 4.7845623649606726%\n",
      "\n",
      "\n",
      "-------- 검증데이터 예측 --------------------------\n",
      "mape : 13.394222561485842%\n",
      "\n",
      "\n",
      "-------- 테스트데이터 예측 -------------------------\n",
      "rmse : 143188.11973538165\n",
      "mape : 12.077820413462952%\n",
      "\n",
      "\n"
     ]
    }
   ],
   "source": [
    "# 최적의 하이퍼파라미터 값 확인\n",
    "print(\"{}\\n\".format(bo.max))\n",
    "\n",
    "# 훈련데이터 예측\n",
    "y_train_pred = best_model.predict(X_train)\n",
    "print(\"-------- 훈련데이터 예측 --------------------------\")\n",
    "print(\"rmse : {}\".format(np.sqrt(mean_squared_error(y_train, y_train_pred))))\n",
    "print(\"mape : {}%\".format(mean_absolute_percentage_error(y_train, y_train_pred)))\n",
    "print(\"\\n\")\n",
    "\n",
    "# 검증데이터 예측\n",
    "print(\"-------- 검증데이터 예측 --------------------------\")\n",
    "print(\"mape : {}%\".format(-bo.max['target']))\n",
    "print(\"\\n\")\n",
    "\n",
    "# 테스트데이터 예측\n",
    "y_pred = best_model.predict(X_test)\n",
    "print(\"-------- 테스트데이터 예측 -------------------------\")\n",
    "print(\"rmse : {}\".format(np.sqrt(mean_squared_error(y_test, y_pred))))\n",
    "print(\"mape : {}%\".format(mean_absolute_percentage_error(y_test, y_pred)))\n",
    "print(\"\\n\")"
   ]
  },
  {
   "cell_type": "code",
   "execution_count": 10,
   "metadata": {},
   "outputs": [],
   "source": [
    "# mape_list = {}\n",
    "# # 예측값, 실제값을 확인하며 mape 계산 후 mape_list에 삽입 \n",
    "# for idx,value in enumerate(y_test):\n",
    "#     mape_temp = {}\n",
    "#     predicate = int(y_pred[idx])\n",
    "#     mape = abs((value - predicate) / value) * 100\n",
    "#     mape_temp['pred'] = predicate\n",
    "#     mape_temp['real'] = value\n",
    "#     mape_temp['mape'] = mape\n",
    "#     mape_list[idx] = mape_temp\n",
    "# mape_list_sort = sorted(mape_list.values(), key=lambda x:(x['mape']), reverse=True)\n",
    "# mape_list_sort  "
   ]
  },
  {
   "cell_type": "code",
   "execution_count": 11,
   "metadata": {},
   "outputs": [
    {
     "data": {
      "text/plain": [
       "<matplotlib.axes._subplots.AxesSubplot at 0x7f91892f19d0>"
      ]
     },
     "execution_count": 11,
     "metadata": {},
     "output_type": "execute_result"
    },
    {
     "data": {
      "image/png": "[encoded data removed]",
      "text/plain": [
       "<Figure size 432x288 with 1 Axes>"
      ]
     },
     "metadata": {
      "needs_background": "light"
     },
     "output_type": "display_data"
    }
   ],
   "source": [
    "xgb.plot_importance(best_model)"
   ]
  }
 ],
 "metadata": {
  "kernelspec": {
   "display_name": "Python 3",
   "language": "python",
   "name": "python3"
  },
  "language_info": {
   "codemirror_mode": {
    "name": "ipython",
    "version": 3
   },
   "file_extension": ".py",
   "mimetype": "text/x-python",
   "name": "python",
   "nbconvert_exporter": "python",
   "pygments_lexer": "ipython3",
   "version": "3.7.7"
  }
 },
 "nbformat": 4,
 "nbformat_minor": 4
}
