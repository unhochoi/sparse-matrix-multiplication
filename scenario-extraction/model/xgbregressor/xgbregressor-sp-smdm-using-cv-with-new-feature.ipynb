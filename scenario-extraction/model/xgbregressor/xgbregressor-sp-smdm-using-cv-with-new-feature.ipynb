{
 "cells": [
  {
   "cell_type": "code",
   "execution_count": 1,
   "metadata": {},
   "outputs": [],
   "source": [
    "import pandas as pd\n",
    "import numpy as np\n",
    "\n",
    "# 1727, 191\n",
    "train = pd.read_csv('/Users/bdlab/Desktop/sparse-matrix-multiplication/scenario-extraction/d-optimal/d-optimal-of-spmm/train-test-csv/1727-nonsquare-train-from-1918-nonsquare-spmm-over-3s.csv')\n",
    "test = pd.read_csv('/Users/bdlab/Desktop/sparse-matrix-multiplication/scenario-extraction/d-optimal/d-optimal-of-spmm/train-test-csv/191-nonsquare-test-from-1918-nonsquare-spmm-over-3s.csv')"
   ]
  },
  {
   "cell_type": "code",
   "execution_count": 2,
   "metadata": {},
   "outputs": [],
   "source": [
    "# feature 1개 추가-> MAPE 12.3\n",
    "\n",
    "# Train + Valid\n",
    "X_train = train[['lr','lc','rc','ld','rd','lnnz','rnnz','lr*lc','lc*rc','lr*rc','lr*lc*rc','ld*rd','lr*rc*ld*rd','lr*lc*rc*ld*rd','lnnz*rnnz']] \n",
    "y_train = train['sp_smdm']\n",
    "\n",
    "# Test\n",
    "X_test = test[['lr','lc','rc','ld','rd','lnnz','rnnz','lr*lc','lc*rc','lr*rc','lr*lc*rc','ld*rd','lr*rc*ld*rd','lr*lc*rc*ld*rd','lnnz*rnnz']] \n",
    "y_test = test['sp_smdm']"
   ]
  },
  {
   "cell_type": "code",
   "execution_count": 3,
   "metadata": {},
   "outputs": [],
   "source": [
    "# #  feature 5개 추가 -> MAPE 13.3\n",
    "\n",
    "# # Train + Valid\n",
    "# X_train = train[['lr','lc','rc','ld','rd','lnnz','rnnz','lr*lc','lc*rc','lr*rc','lr*lc*rc','ld*rd','lr*rc*ld*rd','lr*lc*rc*ld*rd','lnnz*rnnz','lnnz+rnnz','lnnz+lc*rc','lr*lc+rnnz','lr*lc+lc*rc']] \n",
    "# y_train = train['sp_smdm']\n",
    "\n",
    "# # Test\n",
    "# X_test = test[['lr','lc','rc','ld','rd','lnnz','rnnz','lr*lc','lc*rc','lr*rc','lr*lc*rc','ld*rd','lr*rc*ld*rd','lr*lc*rc*ld*rd','lnnz*rnnz','lnnz+rnnz','lnnz+lc*rc','lr*lc+rnnz','lr*lc+lc*rc']] \n",
    "# y_test = test['sp_smdm']"
   ]
  },
  {
   "cell_type": "code",
   "execution_count": 4,
   "metadata": {},
   "outputs": [],
   "source": [
    "from sklearn.metrics import r2_score, mean_squared_error\n",
    "\n",
    "# Metric\n",
    "def mean_absolute_percentage_error(y_test, y_pred):\n",
    "    y_test, y_pred = np.array(y_test), np.array(y_pred)\n",
    "    return np.mean(np.abs((y_test - y_pred) / y_test)) * 100\n",
    "\n",
    "def custom_scoring(real, pred):\n",
    "    rmse = np.sqrt(mean_squared_error(real, pred))\n",
    "    r2 = r2_score(real, pred)\n",
    "    mape = mean_absolute_percentage_error(real, pred)\n",
    "    return mape"
   ]
  },
  {
   "cell_type": "code",
   "execution_count": 5,
   "metadata": {},
   "outputs": [],
   "source": [
    "import xgboost as xgb\n",
    "from sklearn.model_selection import cross_val_score\n",
    "from sklearn.model_selection import KFold\n",
    "from sklearn.metrics import make_scorer\n",
    "\n",
    "# 탐색 대상 함수 (XGBRegressor)\n",
    "def XGB(\n",
    "max_depth,\n",
    "learning_rate, \n",
    "n_estimators, \n",
    "min_child_weight, \n",
    "subsample,\n",
    "_lambda,\n",
    "#gamma ,\n",
    "#colsample_bytree, \n",
    "#_alpha,\n",
    "silent=True, \n",
    "n_jobs=-1):\n",
    "    \n",
    "    # 모델 정의\n",
    "    model = xgb.XGBRegressor( \n",
    "objective = 'reg:squarederror',\n",
    "max_depth=int(max_depth),\n",
    "learning_rate=learning_rate,\n",
    "n_estimators=int(n_estimators),\n",
    "min_child_weight=min_child_weight,\n",
    "subsample=subsample,\n",
    "reg_lambda=_lambda,        \n",
    "#gamma=gamma,\n",
    "#colsample_bytree=colsample_bytree, \n",
    "#reg_alpha=_alpha\n",
    "n_jobs=n_jobs        \n",
    "                              )\n",
    "    \n",
    "    # bayesian optimization을 통해 파라미터를 받아\n",
    "    # Train을 Train + Validation으로 나눠 cross-validation 성능 확인\n",
    "    kfold = KFold(n_splits=9, shuffle = True, random_state=0)\n",
    "\n",
    "    # cross-validation 평균 성능 성능 확인\n",
    "    score = cross_val_score(model,\n",
    "                            X_train, \n",
    "                            y_train, \n",
    "                            cv=kfold,\n",
    "                            scoring=make_scorer(custom_scoring,greater_is_better=False),\n",
    "                            n_jobs=-1\n",
    "                           ).mean()\n",
    "    \n",
    "    return score"
   ]
  },
  {
   "cell_type": "code",
   "execution_count": 6,
   "metadata": {},
   "outputs": [
    {
     "name": "stdout",
     "output_type": "stream",
     "text": [
      "|   iter    |  target   |  _lambda  | learni... | max_depth | min_ch... | n_esti... | subsample |\n",
      "-------------------------------------------------------------------------------------------------\n",
      "| \u001b[0m 1       \u001b[0m | \u001b[0m-19.48   \u001b[0m | \u001b[0m 0.4753  \u001b[0m | \u001b[0m 0.2189  \u001b[0m | \u001b[0m 12.0    \u001b[0m | \u001b[0m 0.3721  \u001b[0m | \u001b[0m 64.68   \u001b[0m | \u001b[0m 0.5462  \u001b[0m |\n",
      "| \u001b[95m 2       \u001b[0m | \u001b[95m-17.34   \u001b[0m | \u001b[95m 0.2676  \u001b[0m | \u001b[95m 0.1102  \u001b[0m | \u001b[95m 13.59   \u001b[0m | \u001b[95m 0.5849  \u001b[0m | \u001b[95m 91.92   \u001b[0m | \u001b[95m 0.8426  \u001b[0m |\n",
      "| \u001b[95m 3       \u001b[0m | \u001b[95m-17.31   \u001b[0m | \u001b[95m 0.2233  \u001b[0m | \u001b[95m 0.1116  \u001b[0m | \u001b[95m 13.92   \u001b[0m | \u001b[95m 0.4265  \u001b[0m | \u001b[95m 91.26   \u001b[0m | \u001b[95m 0.7918  \u001b[0m |\n",
      "| \u001b[0m 4       \u001b[0m | \u001b[0m-17.34   \u001b[0m | \u001b[0m 0.1     \u001b[0m | \u001b[0m 0.1306  \u001b[0m | \u001b[0m 16.0    \u001b[0m | \u001b[0m 0.1     \u001b[0m | \u001b[0m 116.3   \u001b[0m | \u001b[0m 0.5     \u001b[0m |\n",
      "| \u001b[0m 5       \u001b[0m | \u001b[0m-19.24   \u001b[0m | \u001b[0m 0.1     \u001b[0m | \u001b[0m 0.1925  \u001b[0m | \u001b[0m 16.0    \u001b[0m | \u001b[0m 0.1     \u001b[0m | \u001b[0m 129.7   \u001b[0m | \u001b[0m 0.5     \u001b[0m |\n",
      "| \u001b[95m 6       \u001b[0m | \u001b[95m-16.68   \u001b[0m | \u001b[95m 0.1     \u001b[0m | \u001b[95m 0.1108  \u001b[0m | \u001b[95m 16.0    \u001b[0m | \u001b[95m 0.1     \u001b[0m | \u001b[95m 109.2   \u001b[0m | \u001b[95m 0.5     \u001b[0m |\n",
      "| \u001b[0m 7       \u001b[0m | \u001b[0m-34.5    \u001b[0m | \u001b[0m 1.0     \u001b[0m | \u001b[0m 0.01    \u001b[0m | \u001b[0m 12.0    \u001b[0m | \u001b[0m 0.1     \u001b[0m | \u001b[0m 108.1   \u001b[0m | \u001b[0m 1.0     \u001b[0m |\n",
      "| \u001b[0m 8       \u001b[0m | \u001b[0m-18.92   \u001b[0m | \u001b[0m 0.1     \u001b[0m | \u001b[0m 0.1931  \u001b[0m | \u001b[0m 16.0    \u001b[0m | \u001b[0m 0.1     \u001b[0m | \u001b[0m 111.5   \u001b[0m | \u001b[0m 0.5     \u001b[0m |\n",
      "| \u001b[0m 9       \u001b[0m | \u001b[0m-18.83   \u001b[0m | \u001b[0m 0.276   \u001b[0m | \u001b[0m 0.1871  \u001b[0m | \u001b[0m 15.89   \u001b[0m | \u001b[0m 0.5458  \u001b[0m | \u001b[0m 92.68   \u001b[0m | \u001b[0m 0.527   \u001b[0m |\n",
      "| \u001b[0m 10      \u001b[0m | \u001b[0m-16.82   \u001b[0m | \u001b[0m 0.1     \u001b[0m | \u001b[0m 0.1056  \u001b[0m | \u001b[0m 16.0    \u001b[0m | \u001b[0m 0.1     \u001b[0m | \u001b[0m 119.1   \u001b[0m | \u001b[0m 0.5     \u001b[0m |\n",
      "| \u001b[95m 11      \u001b[0m | \u001b[95m-16.48   \u001b[0m | \u001b[95m 0.1079  \u001b[0m | \u001b[95m 0.05503 \u001b[0m | \u001b[95m 13.5    \u001b[0m | \u001b[95m 0.7189  \u001b[0m | \u001b[95m 118.3   \u001b[0m | \u001b[95m 0.7497  \u001b[0m |\n",
      "| \u001b[0m 12      \u001b[0m | \u001b[0m-22.37   \u001b[0m | \u001b[0m 1.0     \u001b[0m | \u001b[0m 0.3     \u001b[0m | \u001b[0m 13.38   \u001b[0m | \u001b[0m 0.1     \u001b[0m | \u001b[0m 121.0   \u001b[0m | \u001b[0m 0.5     \u001b[0m |\n",
      "| \u001b[95m 13      \u001b[0m | \u001b[95m-15.83   \u001b[0m | \u001b[95m 0.6647  \u001b[0m | \u001b[95m 0.03044 \u001b[0m | \u001b[95m 15.09   \u001b[0m | \u001b[95m 0.9476  \u001b[0m | \u001b[95m 117.6   \u001b[0m | \u001b[95m 0.7658  \u001b[0m |\n",
      "| \u001b[0m 14      \u001b[0m | \u001b[0m-32.64   \u001b[0m | \u001b[0m 0.1     \u001b[0m | \u001b[0m 0.01    \u001b[0m | \u001b[0m 13.13   \u001b[0m | \u001b[0m 1.0     \u001b[0m | \u001b[0m 116.3   \u001b[0m | \u001b[0m 1.0     \u001b[0m |\n",
      "| \u001b[0m 15      \u001b[0m | \u001b[0m-19.01   \u001b[0m | \u001b[0m 0.1621  \u001b[0m | \u001b[0m 0.272   \u001b[0m | \u001b[0m 14.78   \u001b[0m | \u001b[0m 0.6416  \u001b[0m | \u001b[0m 118.3   \u001b[0m | \u001b[0m 0.7956  \u001b[0m |\n",
      "| \u001b[0m 16      \u001b[0m | \u001b[0m-31.33   \u001b[0m | \u001b[0m 0.7444  \u001b[0m | \u001b[0m 0.01    \u001b[0m | \u001b[0m 15.91   \u001b[0m | \u001b[0m 0.663   \u001b[0m | \u001b[0m 117.5   \u001b[0m | \u001b[0m 0.5476  \u001b[0m |\n",
      "| \u001b[0m 17      \u001b[0m | \u001b[0m-16.54   \u001b[0m | \u001b[0m 0.7536  \u001b[0m | \u001b[0m 0.05163 \u001b[0m | \u001b[0m 15.19   \u001b[0m | \u001b[0m 0.8556  \u001b[0m | \u001b[0m 117.3   \u001b[0m | \u001b[0m 0.8802  \u001b[0m |\n",
      "| \u001b[0m 18      \u001b[0m | \u001b[0m-18.23   \u001b[0m | \u001b[0m 0.1688  \u001b[0m | \u001b[0m 0.2044  \u001b[0m | \u001b[0m 14.76   \u001b[0m | \u001b[0m 0.7172  \u001b[0m | \u001b[0m 77.99   \u001b[0m | \u001b[0m 0.8086  \u001b[0m |\n",
      "| \u001b[0m 19      \u001b[0m | \u001b[0m-47.48   \u001b[0m | \u001b[0m 0.8485  \u001b[0m | \u001b[0m 0.01214 \u001b[0m | \u001b[0m 12.16   \u001b[0m | \u001b[0m 0.827   \u001b[0m | \u001b[0m 59.04   \u001b[0m | \u001b[0m 0.8782  \u001b[0m |\n",
      "| \u001b[0m 20      \u001b[0m | \u001b[0m-16.04   \u001b[0m | \u001b[0m 0.6997  \u001b[0m | \u001b[0m 0.06238 \u001b[0m | \u001b[0m 14.19   \u001b[0m | \u001b[0m 0.8642  \u001b[0m | \u001b[0m 117.8   \u001b[0m | \u001b[0m 0.6765  \u001b[0m |\n",
      "| \u001b[0m 21      \u001b[0m | \u001b[0m-17.59   \u001b[0m | \u001b[0m 0.8897  \u001b[0m | \u001b[0m 0.0928  \u001b[0m | \u001b[0m 14.82   \u001b[0m | \u001b[0m 0.8676  \u001b[0m | \u001b[0m 117.1   \u001b[0m | \u001b[0m 0.9997  \u001b[0m |\n",
      "| \u001b[0m 22      \u001b[0m | \u001b[0m-31.86   \u001b[0m | \u001b[0m 0.85    \u001b[0m | \u001b[0m 0.01    \u001b[0m | \u001b[0m 14.05   \u001b[0m | \u001b[0m 1.0     \u001b[0m | \u001b[0m 118.5   \u001b[0m | \u001b[0m 1.0     \u001b[0m |\n",
      "| \u001b[0m 23      \u001b[0m | \u001b[0m-18.79   \u001b[0m | \u001b[0m 0.3736  \u001b[0m | \u001b[0m 0.299   \u001b[0m | \u001b[0m 14.38   \u001b[0m | \u001b[0m 0.835   \u001b[0m | \u001b[0m 117.5   \u001b[0m | \u001b[0m 0.8045  \u001b[0m |\n",
      "| \u001b[0m 24      \u001b[0m | \u001b[0m-17.83   \u001b[0m | \u001b[0m 0.7436  \u001b[0m | \u001b[0m 0.1864  \u001b[0m | \u001b[0m 14.67   \u001b[0m | \u001b[0m 0.4762  \u001b[0m | \u001b[0m 117.8   \u001b[0m | \u001b[0m 0.6356  \u001b[0m |\n",
      "| \u001b[0m 25      \u001b[0m | \u001b[0m-16.47   \u001b[0m | \u001b[0m 0.3187  \u001b[0m | \u001b[0m 0.0573  \u001b[0m | \u001b[0m 13.76   \u001b[0m | \u001b[0m 0.3878  \u001b[0m | \u001b[0m 117.8   \u001b[0m | \u001b[0m 0.6208  \u001b[0m |\n",
      "| \u001b[0m 26      \u001b[0m | \u001b[0m-18.08   \u001b[0m | \u001b[0m 0.1419  \u001b[0m | \u001b[0m 0.1868  \u001b[0m | \u001b[0m 12.75   \u001b[0m | \u001b[0m 0.376   \u001b[0m | \u001b[0m 118.5   \u001b[0m | \u001b[0m 0.5622  \u001b[0m |\n",
      "| \u001b[0m 27      \u001b[0m | \u001b[0m-17.52   \u001b[0m | \u001b[0m 0.1     \u001b[0m | \u001b[0m 0.1421  \u001b[0m | \u001b[0m 16.0    \u001b[0m | \u001b[0m 0.1     \u001b[0m | \u001b[0m 110.1   \u001b[0m | \u001b[0m 0.5     \u001b[0m |\n",
      "| \u001b[0m 28      \u001b[0m | \u001b[0m-31.23   \u001b[0m | \u001b[0m 0.7646  \u001b[0m | \u001b[0m 0.01    \u001b[0m | \u001b[0m 14.58   \u001b[0m | \u001b[0m 1.0     \u001b[0m | \u001b[0m 117.5   \u001b[0m | \u001b[0m 0.5     \u001b[0m |\n",
      "| \u001b[0m 29      \u001b[0m | \u001b[0m-18.15   \u001b[0m | \u001b[0m 0.2149  \u001b[0m | \u001b[0m 0.1945  \u001b[0m | \u001b[0m 15.9    \u001b[0m | \u001b[0m 0.2239  \u001b[0m | \u001b[0m 129.6   \u001b[0m | \u001b[0m 0.569   \u001b[0m |\n",
      "| \u001b[0m 30      \u001b[0m | \u001b[0m-17.43   \u001b[0m | \u001b[0m 0.424   \u001b[0m | \u001b[0m 0.1698  \u001b[0m | \u001b[0m 13.98   \u001b[0m | \u001b[0m 0.6884  \u001b[0m | \u001b[0m 118.0   \u001b[0m | \u001b[0m 0.7159  \u001b[0m |\n",
      "| \u001b[0m 31      \u001b[0m | \u001b[0m-18.48   \u001b[0m | \u001b[0m 0.6857  \u001b[0m | \u001b[0m 0.2455  \u001b[0m | \u001b[0m 14.03   \u001b[0m | \u001b[0m 0.6033  \u001b[0m | \u001b[0m 117.5   \u001b[0m | \u001b[0m 0.8897  \u001b[0m |\n",
      "| \u001b[0m 32      \u001b[0m | \u001b[0m-16.75   \u001b[0m | \u001b[0m 0.3668  \u001b[0m | \u001b[0m 0.07593 \u001b[0m | \u001b[0m 15.17   \u001b[0m | \u001b[0m 0.8189  \u001b[0m | \u001b[0m 117.5   \u001b[0m | \u001b[0m 0.8644  \u001b[0m |\n",
      "| \u001b[0m 33      \u001b[0m | \u001b[0m-17.77   \u001b[0m | \u001b[0m 0.2981  \u001b[0m | \u001b[0m 0.1723  \u001b[0m | \u001b[0m 12.81   \u001b[0m | \u001b[0m 0.8564  \u001b[0m | \u001b[0m 80.1    \u001b[0m | \u001b[0m 0.5558  \u001b[0m |\n",
      "| \u001b[0m 34      \u001b[0m | \u001b[0m-18.1    \u001b[0m | \u001b[0m 0.423   \u001b[0m | \u001b[0m 0.1417  \u001b[0m | \u001b[0m 12.39   \u001b[0m | \u001b[0m 0.535   \u001b[0m | \u001b[0m 80.09   \u001b[0m | \u001b[0m 0.9526  \u001b[0m |\n",
      "| \u001b[0m 35      \u001b[0m | \u001b[0m-16.68   \u001b[0m | \u001b[0m 0.2788  \u001b[0m | \u001b[0m 0.09309 \u001b[0m | \u001b[0m 13.49   \u001b[0m | \u001b[0m 0.2097  \u001b[0m | \u001b[0m 118.1   \u001b[0m | \u001b[0m 0.7142  \u001b[0m |\n",
      "| \u001b[0m 36      \u001b[0m | \u001b[0m-18.38   \u001b[0m | \u001b[0m 0.2111  \u001b[0m | \u001b[0m 0.05746 \u001b[0m | \u001b[0m 14.27   \u001b[0m | \u001b[0m 0.2316  \u001b[0m | \u001b[0m 62.71   \u001b[0m | \u001b[0m 0.9852  \u001b[0m |\n",
      "| \u001b[0m 37      \u001b[0m | \u001b[0m-16.55   \u001b[0m | \u001b[0m 0.733   \u001b[0m | \u001b[0m 0.04416 \u001b[0m | \u001b[0m 15.14   \u001b[0m | \u001b[0m 0.8875  \u001b[0m | \u001b[0m 118.0   \u001b[0m | \u001b[0m 0.898   \u001b[0m |\n",
      "| \u001b[0m 38      \u001b[0m | \u001b[0m-19.1    \u001b[0m | \u001b[0m 0.1937  \u001b[0m | \u001b[0m 0.2548  \u001b[0m | \u001b[0m 13.25   \u001b[0m | \u001b[0m 0.3284  \u001b[0m | \u001b[0m 117.9   \u001b[0m | \u001b[0m 0.6169  \u001b[0m |\n",
      "| \u001b[0m 39      \u001b[0m | \u001b[0m-17.58   \u001b[0m | \u001b[0m 0.5369  \u001b[0m | \u001b[0m 0.1617  \u001b[0m | \u001b[0m 15.04   \u001b[0m | \u001b[0m 0.7067  \u001b[0m | \u001b[0m 117.7   \u001b[0m | \u001b[0m 0.8562  \u001b[0m |\n",
      "| \u001b[0m 40      \u001b[0m | \u001b[0m-31.25   \u001b[0m | \u001b[0m 0.685   \u001b[0m | \u001b[0m 0.01    \u001b[0m | \u001b[0m 14.15   \u001b[0m | \u001b[0m 0.4661  \u001b[0m | \u001b[0m 117.9   \u001b[0m | \u001b[0m 0.6589  \u001b[0m |\n",
      "| \u001b[0m 41      \u001b[0m | \u001b[0m-18.46   \u001b[0m | \u001b[0m 0.2681  \u001b[0m | \u001b[0m 0.2175  \u001b[0m | \u001b[0m 14.83   \u001b[0m | \u001b[0m 0.8024  \u001b[0m | \u001b[0m 102.2   \u001b[0m | \u001b[0m 0.6356  \u001b[0m |\n",
      "| \u001b[0m 42      \u001b[0m | \u001b[0m-17.89   \u001b[0m | \u001b[0m 0.1149  \u001b[0m | \u001b[0m 0.1539  \u001b[0m | \u001b[0m 13.76   \u001b[0m | \u001b[0m 0.344   \u001b[0m | \u001b[0m 118.1   \u001b[0m | \u001b[0m 0.7553  \u001b[0m |\n",
      "| \u001b[0m 43      \u001b[0m | \u001b[0m-16.96   \u001b[0m | \u001b[0m 0.4428  \u001b[0m | \u001b[0m 0.1171  \u001b[0m | \u001b[0m 14.11   \u001b[0m | \u001b[0m 0.9801  \u001b[0m | \u001b[0m 117.7   \u001b[0m | \u001b[0m 0.8135  \u001b[0m |\n",
      "| \u001b[0m 44      \u001b[0m | \u001b[0m-16.22   \u001b[0m | \u001b[0m 0.25    \u001b[0m | \u001b[0m 0.09373 \u001b[0m | \u001b[0m 13.62   \u001b[0m | \u001b[0m 0.6397  \u001b[0m | \u001b[0m 118.0   \u001b[0m | \u001b[0m 0.6742  \u001b[0m |\n",
      "| \u001b[0m 45      \u001b[0m | \u001b[0m-19.07   \u001b[0m | \u001b[0m 0.3964  \u001b[0m | \u001b[0m 0.2967  \u001b[0m | \u001b[0m 14.37   \u001b[0m | \u001b[0m 0.7978  \u001b[0m | \u001b[0m 117.4   \u001b[0m | \u001b[0m 0.7287  \u001b[0m |\n",
      "| \u001b[0m 46      \u001b[0m | \u001b[0m-18.15   \u001b[0m | \u001b[0m 0.2521  \u001b[0m | \u001b[0m 0.2276  \u001b[0m | \u001b[0m 13.82   \u001b[0m | \u001b[0m 0.8633  \u001b[0m | \u001b[0m 117.7   \u001b[0m | \u001b[0m 0.7734  \u001b[0m |\n",
      "| \u001b[0m 47      \u001b[0m | \u001b[0m-18.85   \u001b[0m | \u001b[0m 0.9397  \u001b[0m | \u001b[0m 0.2353  \u001b[0m | \u001b[0m 13.6    \u001b[0m | \u001b[0m 0.1133  \u001b[0m | \u001b[0m 100.4   \u001b[0m | \u001b[0m 0.6245  \u001b[0m |\n",
      "| \u001b[0m 48      \u001b[0m | \u001b[0m-18.88   \u001b[0m | \u001b[0m 0.201   \u001b[0m | \u001b[0m 0.215   \u001b[0m | \u001b[0m 13.16   \u001b[0m | \u001b[0m 0.6297  \u001b[0m | \u001b[0m 118.5   \u001b[0m | \u001b[0m 0.5554  \u001b[0m |\n",
      "| \u001b[0m 49      \u001b[0m | \u001b[0m-30.93   \u001b[0m | \u001b[0m 0.1729  \u001b[0m | \u001b[0m 0.01    \u001b[0m | \u001b[0m 13.57   \u001b[0m | \u001b[0m 0.3808  \u001b[0m | \u001b[0m 117.8   \u001b[0m | \u001b[0m 0.8236  \u001b[0m |\n",
      "| \u001b[0m 50      \u001b[0m | \u001b[0m-17.13   \u001b[0m | \u001b[0m 0.2579  \u001b[0m | \u001b[0m 0.1457  \u001b[0m | \u001b[0m 13.91   \u001b[0m | \u001b[0m 0.1202  \u001b[0m | \u001b[0m 100.0   \u001b[0m | \u001b[0m 0.6108  \u001b[0m |\n"
     ]
    },
    {
     "name": "stdout",
     "output_type": "stream",
     "text": [
      "| \u001b[0m 51      \u001b[0m | \u001b[0m-16.43   \u001b[0m | \u001b[0m 0.2705  \u001b[0m | \u001b[0m 0.06872 \u001b[0m | \u001b[0m 13.88   \u001b[0m | \u001b[0m 0.72    \u001b[0m | \u001b[0m 118.3   \u001b[0m | \u001b[0m 0.7563  \u001b[0m |\n",
      "| \u001b[0m 52      \u001b[0m | \u001b[0m-15.93   \u001b[0m | \u001b[0m 0.1624  \u001b[0m | \u001b[0m 0.02516 \u001b[0m | \u001b[0m 15.92   \u001b[0m | \u001b[0m 0.1271  \u001b[0m | \u001b[0m 109.3   \u001b[0m | \u001b[0m 0.5175  \u001b[0m |\n",
      "=================================================================================================\n",
      "{'target': -15.830767063217925, 'params': {'_lambda': 0.6647400190467575, 'learning_rate': 0.03043527433312202, 'max_depth': 15.093392169130437, 'min_child_weight': 0.9475568411577447, 'n_estimators': 117.58408075805812, 'subsample': 0.7657624341353388}}\n",
      "\n"
     ]
    }
   ],
   "source": [
    "from bayes_opt import BayesianOptimization\n",
    "\n",
    "# 하이퍼파라미터 정의\n",
    "pbounds = {\n",
    "'max_depth': (12, 16), \n",
    "'learning_rate': (0.01, 0.3),\n",
    "'n_estimators': (50, 150),\n",
    "'min_child_weight': (0.1, 1),\n",
    "'subsample': (0.5, 1), \n",
    "'_lambda' : (0.1,1),    \n",
    "#'gamma': (0, 0.3),     \n",
    "#'colsample_bytree' :(0.5, 1)\n",
    "#'_alpha' : (0,1)           \n",
    "                      }\n",
    "\n",
    "# Bayesian optimization 객체 생성\n",
    "bo=BayesianOptimization(f=XGB, pbounds=pbounds, verbose=2, random_state=1 )    \n",
    "\n",
    "# 메소드를 이용해 최대화 과정 수행 (파라미터 넣고 목적함수 값 출력하고)\n",
    "bo.maximize(init_points=2, n_iter=50, acq='ei', xi=0.01)\n",
    "\n",
    "# 뽑힌 최적의 하이퍼파라미터 값 확인\n",
    "print(\"{}\\n\".format(bo.max))"
   ]
  },
  {
   "cell_type": "code",
   "execution_count": 7,
   "metadata": {},
   "outputs": [
    {
     "data": {
      "text/plain": [
       "XGBRegressor(learning_rate=0.03043527433312202, max_depth=15,\n",
       "             min_child_weight=0.9475568411577447, n_estimators=117, n_jobs=-1,\n",
       "             objective='reg:squarederror', reg_lambda=0.6647400190467575,\n",
       "             subsample=0.7657624341353388)"
      ]
     },
     "execution_count": 7,
     "metadata": {},
     "output_type": "execute_result"
    }
   ],
   "source": [
    "import xgboost as xgb\n",
    "\n",
    "# Train + Valid cross-validation을 거친, 최적의 하이퍼파라미터를 사용\n",
    "best_model = xgb.XGBRegressor(\n",
    "objective = 'reg:squarederror',\n",
    "max_depth=int(bo.max['params']['max_depth']),\n",
    "learning_rate=bo.max['params']['learning_rate'],\n",
    "n_estimators=int(bo.max['params']['n_estimators']),\n",
    "min_child_weight=bo.max['params']['min_child_weight'],\n",
    "subsample=bo.max['params']['subsample'],\n",
    "reg_lambda = bo.max['params']['_lambda'],    \n",
    "#gamma=bo.max['params']['gamma'],\n",
    "#colsample_bytree=bo.max['params']['colsample_bytree'],\n",
    "#reg_alpha = bo.max['params']['_alpha']\n",
    "n_jobs=-1\n",
    "                             )\n",
    "# 모델 훈련\n",
    "best_model.fit(X_train, y_train)"
   ]
  },
  {
   "cell_type": "code",
   "execution_count": 8,
   "metadata": {},
   "outputs": [
    {
     "name": "stdout",
     "output_type": "stream",
     "text": [
      "{'target': -15.830767063217925, 'params': {'_lambda': 0.6647400190467575, 'learning_rate': 0.03043527433312202, 'max_depth': 15.093392169130437, 'min_child_weight': 0.9475568411577447, 'n_estimators': 117.58408075805812, 'subsample': 0.7657624341353388}}\n",
      "\n",
      "-------- 훈련데이터 예측 --------------------------\n",
      "rmse : 18343.509301334332\n",
      "mape : 3.428402112070112%\n",
      "\n",
      "\n",
      "-------- 검증데이터 예측 --------------------------\n",
      "mape : 15.830767063217925%\n",
      "\n",
      "\n",
      "-------- 테스트데이터 예측 -------------------------\n",
      "rmse : 38861.84845781511\n",
      "mape : 13.363379739976134%\n",
      "\n",
      "\n"
     ]
    }
   ],
   "source": [
    "# 최적의 하이퍼파라미터 값 확인\n",
    "print(\"{}\\n\".format(bo.max))\n",
    "\n",
    "# 훈련데이터 예측\n",
    "y_train_pred = best_model.predict(X_train)\n",
    "print(\"-------- 훈련데이터 예측 --------------------------\")\n",
    "print(\"rmse : {}\".format(np.sqrt(mean_squared_error(y_train, y_train_pred))))\n",
    "print(\"mape : {}%\".format(mean_absolute_percentage_error(y_train, y_train_pred)))\n",
    "print(\"\\n\")\n",
    "\n",
    "# 검증데이터 예측\n",
    "print(\"-------- 검증데이터 예측 --------------------------\")\n",
    "print(\"mape : {}%\".format(-bo.max['target']))\n",
    "print(\"\\n\")\n",
    "\n",
    "# 테스트데이터 예측\n",
    "y_pred = best_model.predict(X_test)\n",
    "print(\"-------- 테스트데이터 예측 -------------------------\")\n",
    "print(\"rmse : {}\".format(np.sqrt(mean_squared_error(y_test, y_pred))))\n",
    "print(\"mape : {}%\".format(mean_absolute_percentage_error(y_test, y_pred)))\n",
    "print(\"\\n\")"
   ]
  },
  {
   "cell_type": "code",
   "execution_count": 9,
   "metadata": {},
   "outputs": [],
   "source": [
    "# mape_list = {}\n",
    "# # 예측값, 실제값을 확인하며 mape 계산 후 mape_list에 삽입 \n",
    "# for idx,value in enumerate(y_test):\n",
    "#     mape_temp = {}\n",
    "#     predicate = int(y_pred[idx])\n",
    "#     mape = abs((value - predicate) / value) * 100\n",
    "#     mape_temp['pred'] = predicate\n",
    "#     mape_temp['real'] = value\n",
    "#     mape_temp['mape'] = mape\n",
    "#     mape_list[idx] = mape_temp\n",
    "# mape_list_sort = sorted(mape_list.values(), key=lambda x:(x['mape']), reverse=True)\n",
    "# mape_list_sort  "
   ]
  },
  {
   "cell_type": "code",
   "execution_count": 10,
   "metadata": {},
   "outputs": [
    {
     "data": {
      "text/plain": [
       "<matplotlib.axes._subplots.AxesSubplot at 0x7fb79b9eea90>"
      ]
     },
     "execution_count": 10,
     "metadata": {},
     "output_type": "execute_result"
    },
    {
     "data": {
      "image/png": "[encoded data removed]",
      "text/plain": [
       "<Figure size 432x288 with 1 Axes>"
      ]
     },
     "metadata": {
      "needs_background": "light"
     },
     "output_type": "display_data"
    }
   ],
   "source": [
    "xgb.plot_importance(best_model)"
   ]
  }
 ],
 "metadata": {
  "kernelspec": {
   "display_name": "Python 3",
   "language": "python",
   "name": "python3"
  },
  "language_info": {
   "codemirror_mode": {
    "name": "ipython",
    "version": 3
   },
   "file_extension": ".py",
   "mimetype": "text/x-python",
   "name": "python",
   "nbconvert_exporter": "python",
   "pygments_lexer": "ipython3",
   "version": "3.7.0"
  }
 },
 "nbformat": 4,
 "nbformat_minor": 4
}
