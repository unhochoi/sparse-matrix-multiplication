{
 "cells": [
  {
   "cell_type": "code",
   "execution_count": 5,
   "metadata": {},
   "outputs": [],
   "source": [
    "import pandas as pd\n",
    "import numpy as np\n",
    "\n",
    "# 1035, 258\n",
    "train = pd.read_csv('/Users/bdlab/Desktop/sparse-matrix-multiplication/scenario-extraction/d-optimal/spmm-latency-traintest/train-test-csv/nonsquare-train-1035-from-spmm-contain-todense-over-3s-1293.csv')\n",
    "test = pd.read_csv('/Users/bdlab/Desktop/sparse-matrix-multiplication/scenario-extraction/d-optimal/spmm-latency-traintest/train-test-csv/nonsquare-test-258-from-spmm-contain-todense-over-3s-1293.csv')"
   ]
  },
  {
   "cell_type": "code",
   "execution_count": 6,
   "metadata": {},
   "outputs": [],
   "source": [
    "# Train + Valid\n",
    "X_train = train[['lr','lc','rc','ld','rd','lnnz','rnnz','lr*lc','lc*rc','lr*rc','lr*lc*rc','ld*rd','lr*rc*ld*rd','lr*lc*rc*ld*rd','lnnz*rnnz']] \n",
    "y_train = train['sp_smdm']\n",
    "\n",
    "# Test\n",
    "X_test = test[['lr','lc','rc','ld','rd','lnnz','rnnz','lr*lc','lc*rc','lr*rc','lr*lc*rc','ld*rd','lr*rc*ld*rd','lr*lc*rc*ld*rd','lnnz*rnnz']] \n",
    "y_test = test['sp_smdm']"
   ]
  },
  {
   "cell_type": "code",
   "execution_count": 7,
   "metadata": {},
   "outputs": [],
   "source": [
    "from sklearn.metrics import r2_score, mean_squared_error\n",
    "\n",
    "# Metric\n",
    "def mean_absolute_percentage_error(y_test, y_pred):\n",
    "    y_test, y_pred = np.array(y_test), np.array(y_pred)\n",
    "    return np.mean(np.abs((y_test - y_pred) / y_test)) * 100\n",
    "\n",
    "def custom_scoring(real, pred):\n",
    "    rmse = np.sqrt(mean_squared_error(real, pred))\n",
    "    r2 = r2_score(real, pred)\n",
    "    mape = mean_absolute_percentage_error(real, pred)\n",
    "    return mape"
   ]
  },
  {
   "cell_type": "code",
   "execution_count": 8,
   "metadata": {},
   "outputs": [],
   "source": [
    "import xgboost as xgb\n",
    "from sklearn.model_selection import cross_val_score\n",
    "from sklearn.model_selection import KFold\n",
    "from sklearn.metrics import make_scorer\n",
    "\n",
    "# 탐색 대상 함수 (XGBRegressor)\n",
    "def XGB(\n",
    "max_depth,\n",
    "learning_rate, \n",
    "n_estimators, \n",
    "min_child_weight, \n",
    "subsample,\n",
    "_lambda,\n",
    "#gamma ,\n",
    "#colsample_bytree, \n",
    "#_alpha,\n",
    "silent=True, \n",
    "n_jobs=-1):\n",
    "    \n",
    "    # 모델 정의\n",
    "    model = xgb.XGBRegressor( \n",
    "objective = 'reg:squarederror',\n",
    "max_depth=int(max_depth),\n",
    "learning_rate=learning_rate,\n",
    "n_estimators=int(n_estimators),\n",
    "min_child_weight=min_child_weight,\n",
    "subsample=subsample,\n",
    "reg_lambda=_lambda,        \n",
    "#gamma=gamma,\n",
    "#colsample_bytree=colsample_bytree, \n",
    "#reg_alpha=_alpha\n",
    "n_jobs=n_jobs        \n",
    "                              )\n",
    "    \n",
    "    # bayesian optimization을 통해 파라미터를 받아\n",
    "    # Train을 Train + Validation으로 나눠 cross-validation 성능 확인\n",
    "    kfold = KFold(n_splits=8, shuffle = True, random_state=0)\n",
    "\n",
    "    # cross-validation 평균 성능 성능 확인\n",
    "    score = cross_val_score(model,\n",
    "                            X_train, \n",
    "                            y_train, \n",
    "                            cv=kfold,\n",
    "                            scoring=make_scorer(custom_scoring,greater_is_better=False),\n",
    "                            n_jobs=-1\n",
    "                           ).mean()\n",
    "    \n",
    "    return score"
   ]
  },
  {
   "cell_type": "code",
   "execution_count": null,
   "metadata": {},
   "outputs": [
    {
     "name": "stdout",
     "output_type": "stream",
     "text": [
      "|   iter    |  target   |  _lambda  | learni... | max_depth | min_ch... | n_esti... | subsample |\n",
      "-------------------------------------------------------------------------------------------------\n",
      "| \u001b[0m 1       \u001b[0m | \u001b[0m-23.08   \u001b[0m | \u001b[0m 0.4753  \u001b[0m | \u001b[0m 0.2189  \u001b[0m | \u001b[0m 9.001   \u001b[0m | \u001b[0m 0.3721  \u001b[0m | \u001b[0m 64.68   \u001b[0m | \u001b[0m 0.5462  \u001b[0m |\n",
      "| \u001b[95m 2       \u001b[0m | \u001b[95m-19.76   \u001b[0m | \u001b[95m 0.2676  \u001b[0m | \u001b[95m 0.1102  \u001b[0m | \u001b[95m 10.98   \u001b[0m | \u001b[95m 0.5849  \u001b[0m | \u001b[95m 91.92   \u001b[0m | \u001b[95m 0.8426  \u001b[0m |\n",
      "| \u001b[0m 3       \u001b[0m | \u001b[0m-21.57   \u001b[0m | \u001b[0m 0.9299  \u001b[0m | \u001b[0m 0.2766  \u001b[0m | \u001b[0m 11.19   \u001b[0m | \u001b[0m 0.5718  \u001b[0m | \u001b[0m 91.71   \u001b[0m | \u001b[0m 0.9929  \u001b[0m |\n",
      "| \u001b[95m 4       \u001b[0m | \u001b[95m-19.69   \u001b[0m | \u001b[95m 0.6379  \u001b[0m | \u001b[95m 0.1023  \u001b[0m | \u001b[95m 12.32   \u001b[0m | \u001b[95m 0.5036  \u001b[0m | \u001b[95m 67.22   \u001b[0m | \u001b[95m 0.6515  \u001b[0m |\n",
      "| \u001b[0m 5       \u001b[0m | \u001b[0m-20.62   \u001b[0m | \u001b[0m 0.3037  \u001b[0m | \u001b[0m 0.1536  \u001b[0m | \u001b[0m 10.76   \u001b[0m | \u001b[0m 0.4972  \u001b[0m | \u001b[0m 92.17   \u001b[0m | \u001b[0m 0.9887  \u001b[0m |\n",
      "| \u001b[0m 6       \u001b[0m | \u001b[0m-28.2    \u001b[0m | \u001b[0m 0.1775  \u001b[0m | \u001b[0m 0.01399 \u001b[0m | \u001b[0m 10.7    \u001b[0m | \u001b[0m 0.5355  \u001b[0m | \u001b[0m 91.98   \u001b[0m | \u001b[0m 0.7505  \u001b[0m |\n",
      "| \u001b[0m 7       \u001b[0m | \u001b[0m-21.05   \u001b[0m | \u001b[0m 0.9251  \u001b[0m | \u001b[0m 0.03744 \u001b[0m | \u001b[0m 13.93   \u001b[0m | \u001b[0m 0.9523  \u001b[0m | \u001b[0m 51.33   \u001b[0m | \u001b[0m 0.727   \u001b[0m |\n",
      "| \u001b[0m 8       \u001b[0m | \u001b[0m-21.31   \u001b[0m | \u001b[0m 0.7246  \u001b[0m | \u001b[0m 0.1763  \u001b[0m | \u001b[0m 10.65   \u001b[0m | \u001b[0m 0.7388  \u001b[0m | \u001b[0m 129.7   \u001b[0m | \u001b[0m 0.5152  \u001b[0m |\n",
      "| \u001b[0m 9       \u001b[0m | \u001b[0m-19.94   \u001b[0m | \u001b[0m 0.2816  \u001b[0m | \u001b[0m 0.09517 \u001b[0m | \u001b[0m 9.796   \u001b[0m | \u001b[0m 0.3522  \u001b[0m | \u001b[0m 131.2   \u001b[0m | \u001b[0m 0.8532  \u001b[0m |\n",
      "| \u001b[0m 10      \u001b[0m | \u001b[0m-21.44   \u001b[0m | \u001b[0m 0.1042  \u001b[0m | \u001b[0m 0.2481  \u001b[0m | \u001b[0m 11.56   \u001b[0m | \u001b[0m 0.583   \u001b[0m | \u001b[0m 123.8   \u001b[0m | \u001b[0m 0.9726  \u001b[0m |\n",
      "| \u001b[0m 11      \u001b[0m | \u001b[0m-21.56   \u001b[0m | \u001b[0m 0.1307  \u001b[0m | \u001b[0m 0.2184  \u001b[0m | \u001b[0m 13.32   \u001b[0m | \u001b[0m 0.3704  \u001b[0m | \u001b[0m 134.7   \u001b[0m | \u001b[0m 0.711   \u001b[0m |\n",
      "| \u001b[95m 12      \u001b[0m | \u001b[95m-18.3    \u001b[0m | \u001b[95m 0.9083  \u001b[0m | \u001b[95m 0.03506 \u001b[0m | \u001b[95m 11.8    \u001b[0m | \u001b[95m 0.3293  \u001b[0m | \u001b[95m 125.6   \u001b[0m | \u001b[95m 0.6189  \u001b[0m |\n"
     ]
    }
   ],
   "source": [
    "from bayes_opt import BayesianOptimization\n",
    "\n",
    "# # 하이퍼파라미터 정의\n",
    "# pbounds = {\n",
    "# 'max_depth': (12, 16), \n",
    "# 'learning_rate': (0.01, 0.3),\n",
    "# 'n_estimators': (50, 150),\n",
    "# 'min_child_weight': (0.1, 1),\n",
    "# 'subsample': (0.5, 1), \n",
    "# '_lambda' : (0.1,1),    \n",
    "# #'gamma': (0, 0.3),     \n",
    "# #'colsample_bytree' :(0.5, 1)\n",
    "# #'_alpha' : (0,1)           \n",
    "#                       }\n",
    "\n",
    "# 하이퍼파라미터 정의\n",
    "pbounds = {\n",
    "'max_depth': (9, 14), \n",
    "'learning_rate': (0.01, 0.3),\n",
    "'n_estimators': (50, 150),\n",
    "'min_child_weight': (0.1, 1),\n",
    "'subsample': (0.5, 1), \n",
    "'_lambda' : (0.1,1),    \n",
    "#'gamma': (0, 0.3),     \n",
    "#'colsample_bytree' :(0.5, 1)\n",
    "#'_alpha' : (0,1)           \n",
    "                      }\n",
    "\n",
    "\n",
    "# Bayesian optimization 객체 생성\n",
    "bo=BayesianOptimization(f=XGB, pbounds=pbounds, verbose=2, random_state=1 )    \n",
    "\n",
    "# 메소드를 이용해 최대화 과정 수행 (파라미터 넣고 목적함수 값 출력하고)\n",
    "bo.maximize(init_points=2, n_iter=50, acq='ei', xi=0.01)\n",
    "\n",
    "# 뽑힌 최적의 하이퍼파라미터 값 확인\n",
    "print(\"{}\\n\".format(bo.max))"
   ]
  },
  {
   "cell_type": "code",
   "execution_count": null,
   "metadata": {},
   "outputs": [],
   "source": [
    "import xgboost as xgb\n",
    "\n",
    "# Train + Valid cross-validation을 거친, 최적의 하이퍼파라미터를 사용\n",
    "best_model = xgb.XGBRegressor(\n",
    "objective = 'reg:squarederror',\n",
    "max_depth=int(bo.max['params']['max_depth']),\n",
    "learning_rate=bo.max['params']['learning_rate'],\n",
    "n_estimators=int(bo.max['params']['n_estimators']),\n",
    "min_child_weight=bo.max['params']['min_child_weight'],\n",
    "subsample=bo.max['params']['subsample'],\n",
    "reg_lambda = bo.max['params']['_lambda'],    \n",
    "#gamma=bo.max['params']['gamma'],\n",
    "#colsample_bytree=bo.max['params']['colsample_bytree'],\n",
    "#reg_alpha = bo.max['params']['_alpha']\n",
    "n_jobs=-1\n",
    "                             )\n",
    "# 모델 훈련\n",
    "best_model.fit(X_train, y_train)"
   ]
  },
  {
   "cell_type": "code",
   "execution_count": null,
   "metadata": {},
   "outputs": [],
   "source": [
    "# 최적의 하이퍼파라미터 값 확인\n",
    "print(\"{}\\n\".format(bo.max))\n",
    "\n",
    "# 훈련데이터 예측\n",
    "y_train_pred = best_model.predict(X_train)\n",
    "print(\"-------- 훈련데이터 예측 --------------------------\")\n",
    "print(\"rmse : {}\".format(np.sqrt(mean_squared_error(y_train, y_train_pred))))\n",
    "print(\"mape : {}%\".format(mean_absolute_percentage_error(y_train, y_train_pred)))\n",
    "print(\"\\n\")\n",
    "\n",
    "# 검증데이터 예측\n",
    "print(\"-------- 검증데이터 예측 --------------------------\")\n",
    "print(\"mape : {}%\".format(-bo.max['target']))\n",
    "print(\"\\n\")\n",
    "\n",
    "# 테스트데이터 예측\n",
    "y_pred = best_model.predict(X_test)\n",
    "print(\"-------- 테스트데이터 예측 -------------------------\")\n",
    "print(\"rmse : {}\".format(np.sqrt(mean_squared_error(y_test, y_pred))))\n",
    "print(\"mape : {}%\".format(mean_absolute_percentage_error(y_test, y_pred)))\n",
    "print(\"\\n\")"
   ]
  },
  {
   "cell_type": "code",
   "execution_count": 12,
   "metadata": {},
   "outputs": [],
   "source": [
    "# mape_list = {}\n",
    "# # 예측값, 실제값을 확인하며 mape 계산 후 mape_list에 삽입 \n",
    "# for idx,value in enumerate(y_test):\n",
    "#     mape_temp = {}\n",
    "#     predicate = int(y_pred[idx])\n",
    "#     mape = abs((value - predicate) / value) * 100\n",
    "#     mape_temp['pred'] = predicate\n",
    "#     mape_temp['real'] = value\n",
    "#     mape_temp['mape'] = mape\n",
    "#     mape_list[idx] = mape_temp\n",
    "# mape_list_sort = sorted(mape_list.values(), key=lambda x:(x['mape']), reverse=True)\n",
    "# mape_list_sort  "
   ]
  },
  {
   "cell_type": "code",
   "execution_count": 13,
   "metadata": {},
   "outputs": [
    {
     "data": {
      "text/plain": [
       "<AxesSubplot:title={'center':'Feature importance'}, xlabel='F score', ylabel='Features'>"
      ]
     },
     "execution_count": 13,
     "metadata": {},
     "output_type": "execute_result"
    },
    {
     "data": {
      "image/png": "[encoded data removed]",
      "text/plain": [
       "<Figure size 432x288 with 1 Axes>"
      ]
     },
     "metadata": {
      "needs_background": "light"
     },
     "output_type": "display_data"
    }
   ],
   "source": [
    "xgb.plot_importance(best_model)"
   ]
  },
  {
   "cell_type": "code",
   "execution_count": null,
   "metadata": {},
   "outputs": [],
   "source": []
  }
 ],
 "metadata": {
  "kernelspec": {
   "display_name": "Python 3",
   "language": "python",
   "name": "python3"
  },
  "language_info": {
   "codemirror_mode": {
    "name": "ipython",
    "version": 3
   },
   "file_extension": ".py",
   "mimetype": "text/x-python",
   "name": "python",
   "nbconvert_exporter": "python",
   "pygments_lexer": "ipython3",
   "version": "3.7.0"
  }
 },
 "nbformat": 4,
 "nbformat_minor": 4
}
