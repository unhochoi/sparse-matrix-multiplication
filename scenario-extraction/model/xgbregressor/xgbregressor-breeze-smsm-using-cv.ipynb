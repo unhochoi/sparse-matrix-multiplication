{
 "cells": [
  {
   "cell_type": "code",
   "execution_count": 1,
   "metadata": {},
   "outputs": [],
   "source": [
    "import pandas as pd\n",
    "import numpy as np\n",
    "\n",
    "train = pd.read_csv('/Users/bdlab/Desktop/sparse-matrix-multiplication/scenario-extraction/d-optimal/d-optimal-of-spmm/train-test-csv/1164-train-from-1293-spmm-over-3s-and-add-feature.csv')\n",
    "test = pd.read_csv('/Users/bdlab/Desktop/sparse-matrix-multiplication/scenario-extraction/d-optimal/d-optimal-of-spmm/train-test-csv/129-test-from-1293-spmm-over-3s-and-add-feature.csv')"
   ]
  },
  {
   "cell_type": "code",
   "execution_count": 2,
   "metadata": {},
   "outputs": [],
   "source": [
    "# Train + Valid\n",
    "X_train = train[['lr','lc','rc','ld','rd','lnnz','rnnz','lr*lc','lc*rc','lr*rc','lr*lc*rc','ld*rd','lr*rc*ld*rd','lr*lc*rc*ld*rd']] \n",
    "y_train = train['bz_smsm']\n",
    "\n",
    "# Test\n",
    "X_test = test[['lr','lc','rc','ld','rd','lnnz','rnnz','lr*lc','lc*rc','lr*rc','lr*lc*rc','ld*rd','lr*rc*ld*rd','lr*lc*rc*ld*rd']] \n",
    "y_test = test['bz_smsm']"
   ]
  },
  {
   "cell_type": "code",
   "execution_count": 3,
   "metadata": {},
   "outputs": [],
   "source": [
    "from sklearn.metrics import r2_score, mean_squared_error\n",
    "\n",
    "# Metric\n",
    "def mean_absolute_percentage_error(y_test, y_pred):\n",
    "    y_test, y_pred = np.array(y_test), np.array(y_pred)\n",
    "    return np.mean(np.abs((y_test - y_pred) / y_test)) * 100\n",
    "\n",
    "def custom_scoring(real, pred):\n",
    "    rmse = np.sqrt(mean_squared_error(real, pred))\n",
    "    r2 = r2_score(real, pred)\n",
    "    mape = mean_absolute_percentage_error(real, pred)\n",
    "    return mape"
   ]
  },
  {
   "cell_type": "code",
   "execution_count": 4,
   "metadata": {},
   "outputs": [],
   "source": [
    "import xgboost as xgb\n",
    "from sklearn.model_selection import cross_val_score\n",
    "from sklearn.model_selection import KFold\n",
    "from sklearn.metrics import make_scorer\n",
    "\n",
    "# 탐색 대상 함수 (XGBRegressor)\n",
    "def XGB(\n",
    "max_depth,\n",
    "learning_rate, \n",
    "n_estimators, \n",
    "#min_child_weight, \n",
    "subsample,\n",
    "_lambda,\n",
    "#gamma ,\n",
    "colsample_bytree, \n",
    "#_alpha,\n",
    "silent=True, \n",
    "n_jobs=-1):\n",
    "    \n",
    "    # 모델 정의\n",
    "    model = xgb.XGBRegressor( \n",
    "objective = 'reg:squarederror',\n",
    "max_depth=int(max_depth),\n",
    "learning_rate=learning_rate,\n",
    "n_estimators=int(n_estimators),\n",
    "#min_child_weight=min_child_weight,\n",
    "subsample=subsample,\n",
    "reg_lambda=_lambda,        \n",
    "#gamma=gamma,\n",
    "colsample_bytree=colsample_bytree, \n",
    "#reg_alpha=_alpha\n",
    "n_jobs=n_jobs        \n",
    "                              )\n",
    "    \n",
    "    # bayesian optimization을 통해 파라미터를 받아\n",
    "    # Train을 Train + Validation으로 나눠 cross-validation 성능 확인\n",
    "    kfold = KFold(n_splits=5, shuffle = True, random_state=0)\n",
    "\n",
    "    # cross-validation 평균 성능 성능 확인\n",
    "    score = cross_val_score(model,\n",
    "                            X_train, \n",
    "                            y_train, \n",
    "                            cv=kfold,\n",
    "                            scoring=make_scorer(custom_scoring,greater_is_better=False),\n",
    "                            n_jobs=-1\n",
    "                           ).mean()\n",
    "    \n",
    "    return score"
   ]
  },
  {
   "cell_type": "code",
   "execution_count": 5,
   "metadata": {},
   "outputs": [
    {
     "name": "stdout",
     "output_type": "stream",
     "text": [
      "|   iter    |  target   |  _lambda  | colsam... | learni... | max_depth | n_esti... | subsample |\n",
      "-------------------------------------------------------------------------------------------------\n",
      "| \u001b[0m 1       \u001b[0m | \u001b[0m-70.15   \u001b[0m | \u001b[0m 0.4753  \u001b[0m | \u001b[0m 0.8602  \u001b[0m | \u001b[0m 0.005022\u001b[0m | \u001b[0m 18.02   \u001b[0m | \u001b[0m 64.68   \u001b[0m | \u001b[0m 0.5462  \u001b[0m |\n",
      "| \u001b[95m 2       \u001b[0m | \u001b[95m-25.9    \u001b[0m | \u001b[95m 0.2676  \u001b[0m | \u001b[95m 0.6728  \u001b[0m | \u001b[95m 0.08237 \u001b[0m | \u001b[95m 20.39   \u001b[0m | \u001b[95m 91.92   \u001b[0m | \u001b[95m 0.8426  \u001b[0m |\n",
      "| \u001b[0m 3       \u001b[0m | \u001b[0m-28.58   \u001b[0m | \u001b[0m 0.8332  \u001b[0m | \u001b[0m 0.5081  \u001b[0m | \u001b[0m 0.06893 \u001b[0m | \u001b[0m 20.44   \u001b[0m | \u001b[0m 92.38   \u001b[0m | \u001b[0m 0.7349  \u001b[0m |\n",
      "| \u001b[95m 4       \u001b[0m | \u001b[95m-24.14   \u001b[0m | \u001b[95m 0.1     \u001b[0m | \u001b[95m 1.0     \u001b[0m | \u001b[95m 0.2     \u001b[0m | \u001b[95m 19.76   \u001b[0m | \u001b[95m 87.13   \u001b[0m | \u001b[95m 1.0     \u001b[0m |\n",
      "| \u001b[95m 5       \u001b[0m | \u001b[95m-24.14   \u001b[0m | \u001b[95m 0.1     \u001b[0m | \u001b[95m 1.0     \u001b[0m | \u001b[95m 0.2     \u001b[0m | \u001b[95m 25.0    \u001b[0m | \u001b[95m 88.35   \u001b[0m | \u001b[95m 1.0     \u001b[0m |\n",
      "| \u001b[95m 6       \u001b[0m | \u001b[95m-24.14   \u001b[0m | \u001b[95m 0.1     \u001b[0m | \u001b[95m 1.0     \u001b[0m | \u001b[95m 0.2     \u001b[0m | \u001b[95m 15.0    \u001b[0m | \u001b[95m 150.0   \u001b[0m | \u001b[95m 1.0     \u001b[0m |\n",
      "| \u001b[0m 7       \u001b[0m | \u001b[0m-24.14   \u001b[0m | \u001b[0m 0.1     \u001b[0m | \u001b[0m 1.0     \u001b[0m | \u001b[0m 0.2     \u001b[0m | \u001b[0m 24.71   \u001b[0m | \u001b[0m 150.0   \u001b[0m | \u001b[0m 1.0     \u001b[0m |\n",
      "| \u001b[0m 8       \u001b[0m | \u001b[0m-24.14   \u001b[0m | \u001b[0m 0.1     \u001b[0m | \u001b[0m 1.0     \u001b[0m | \u001b[0m 0.2     \u001b[0m | \u001b[0m 19.85   \u001b[0m | \u001b[0m 140.9   \u001b[0m | \u001b[0m 1.0     \u001b[0m |\n",
      "| \u001b[0m 9       \u001b[0m | \u001b[0m-47.83   \u001b[0m | \u001b[0m 1.0     \u001b[0m | \u001b[0m 0.5     \u001b[0m | \u001b[0m 0.005   \u001b[0m | \u001b[0m 25.0    \u001b[0m | \u001b[0m 129.7   \u001b[0m | \u001b[0m 0.5     \u001b[0m |\n",
      "| \u001b[0m 10      \u001b[0m | \u001b[0m-44.19   \u001b[0m | \u001b[0m 1.0     \u001b[0m | \u001b[0m 0.5     \u001b[0m | \u001b[0m 0.005   \u001b[0m | \u001b[0m 19.47   \u001b[0m | \u001b[0m 146.1   \u001b[0m | \u001b[0m 0.5     \u001b[0m |\n",
      "| \u001b[0m 11      \u001b[0m | \u001b[0m-24.14   \u001b[0m | \u001b[0m 0.1     \u001b[0m | \u001b[0m 1.0     \u001b[0m | \u001b[0m 0.2     \u001b[0m | \u001b[0m 21.95   \u001b[0m | \u001b[0m 89.15   \u001b[0m | \u001b[0m 1.0     \u001b[0m |\n",
      "| \u001b[95m 12      \u001b[0m | \u001b[95m-24.14   \u001b[0m | \u001b[95m 0.1     \u001b[0m | \u001b[95m 1.0     \u001b[0m | \u001b[95m 0.2     \u001b[0m | \u001b[95m 17.7    \u001b[0m | \u001b[95m 138.0   \u001b[0m | \u001b[95m 1.0     \u001b[0m |\n",
      "| \u001b[0m 13      \u001b[0m | \u001b[0m-62.21   \u001b[0m | \u001b[0m 0.1     \u001b[0m | \u001b[0m 1.0     \u001b[0m | \u001b[0m 0.005   \u001b[0m | \u001b[0m 15.16   \u001b[0m | \u001b[0m 89.61   \u001b[0m | \u001b[0m 1.0     \u001b[0m |\n",
      "| \u001b[0m 14      \u001b[0m | \u001b[0m-28.65   \u001b[0m | \u001b[0m 0.1     \u001b[0m | \u001b[0m 0.842   \u001b[0m | \u001b[0m 0.2     \u001b[0m | \u001b[0m 22.23   \u001b[0m | \u001b[0m 85.4    \u001b[0m | \u001b[0m 0.9695  \u001b[0m |\n",
      "| \u001b[95m 15      \u001b[0m | \u001b[95m-20.3    \u001b[0m | \u001b[95m 0.1744  \u001b[0m | \u001b[95m 0.9879  \u001b[0m | \u001b[95m 0.03746 \u001b[0m | \u001b[95m 20.9    \u001b[0m | \u001b[95m 138.5   \u001b[0m | \u001b[95m 0.7206  \u001b[0m |\n",
      "| \u001b[0m 16      \u001b[0m | \u001b[0m-31.63   \u001b[0m | \u001b[0m 0.1606  \u001b[0m | \u001b[0m 0.8307  \u001b[0m | \u001b[0m 0.1982  \u001b[0m | \u001b[0m 24.0    \u001b[0m | \u001b[0m 139.8   \u001b[0m | \u001b[0m 0.5902  \u001b[0m |\n",
      "| \u001b[0m 17      \u001b[0m | \u001b[0m-24.14   \u001b[0m | \u001b[0m 0.1     \u001b[0m | \u001b[0m 1.0     \u001b[0m | \u001b[0m 0.2     \u001b[0m | \u001b[0m 25.0    \u001b[0m | \u001b[0m 92.5    \u001b[0m | \u001b[0m 1.0     \u001b[0m |\n",
      "| \u001b[0m 18      \u001b[0m | \u001b[0m-25.91   \u001b[0m | \u001b[0m 0.9434  \u001b[0m | \u001b[0m 0.5908  \u001b[0m | \u001b[0m 0.08144 \u001b[0m | \u001b[0m 19.69   \u001b[0m | \u001b[0m 138.8   \u001b[0m | \u001b[0m 0.9613  \u001b[0m |\n",
      "| \u001b[0m 19      \u001b[0m | \u001b[0m-23.09   \u001b[0m | \u001b[0m 0.1347  \u001b[0m | \u001b[0m 0.9296  \u001b[0m | \u001b[0m 0.1776  \u001b[0m | \u001b[0m 19.35   \u001b[0m | \u001b[0m 135.3   \u001b[0m | \u001b[0m 0.6007  \u001b[0m |\n",
      "| \u001b[0m 20      \u001b[0m | \u001b[0m-26.31   \u001b[0m | \u001b[0m 0.2724  \u001b[0m | \u001b[0m 0.789   \u001b[0m | \u001b[0m 0.1858  \u001b[0m | \u001b[0m 15.25   \u001b[0m | \u001b[0m 133.3   \u001b[0m | \u001b[0m 0.8707  \u001b[0m |\n",
      "| \u001b[0m 21      \u001b[0m | \u001b[0m-24.14   \u001b[0m | \u001b[0m 0.1     \u001b[0m | \u001b[0m 1.0     \u001b[0m | \u001b[0m 0.2     \u001b[0m | \u001b[0m 25.0    \u001b[0m | \u001b[0m 98.99   \u001b[0m | \u001b[0m 1.0     \u001b[0m |\n",
      "| \u001b[0m 22      \u001b[0m | \u001b[0m-24.14   \u001b[0m | \u001b[0m 0.1     \u001b[0m | \u001b[0m 1.0     \u001b[0m | \u001b[0m 0.2     \u001b[0m | \u001b[0m 25.0    \u001b[0m | \u001b[0m 104.1   \u001b[0m | \u001b[0m 1.0     \u001b[0m |\n",
      "| \u001b[0m 23      \u001b[0m | \u001b[0m-24.14   \u001b[0m | \u001b[0m 0.1     \u001b[0m | \u001b[0m 1.0     \u001b[0m | \u001b[0m 0.2     \u001b[0m | \u001b[0m 20.84   \u001b[0m | \u001b[0m 102.1   \u001b[0m | \u001b[0m 1.0     \u001b[0m |\n",
      "| \u001b[0m 24      \u001b[0m | \u001b[0m-52.0    \u001b[0m | \u001b[0m 0.1     \u001b[0m | \u001b[0m 0.5     \u001b[0m | \u001b[0m 0.005   \u001b[0m | \u001b[0m 20.79   \u001b[0m | \u001b[0m 107.4   \u001b[0m | \u001b[0m 1.0     \u001b[0m |\n",
      "| \u001b[0m 25      \u001b[0m | \u001b[0m-55.47   \u001b[0m | \u001b[0m 1.0     \u001b[0m | \u001b[0m 0.5     \u001b[0m | \u001b[0m 0.005   \u001b[0m | \u001b[0m 23.62   \u001b[0m | \u001b[0m 101.4   \u001b[0m | \u001b[0m 0.5     \u001b[0m |\n",
      "| \u001b[0m 26      \u001b[0m | \u001b[0m-26.61   \u001b[0m | \u001b[0m 0.4112  \u001b[0m | \u001b[0m 0.8996  \u001b[0m | \u001b[0m 0.1605  \u001b[0m | \u001b[0m 20.93   \u001b[0m | \u001b[0m 136.7   \u001b[0m | \u001b[0m 0.5984  \u001b[0m |\n",
      "| \u001b[0m 27      \u001b[0m | \u001b[0m-25.48   \u001b[0m | \u001b[0m 0.1488  \u001b[0m | \u001b[0m 0.7457  \u001b[0m | \u001b[0m 0.1389  \u001b[0m | \u001b[0m 23.9    \u001b[0m | \u001b[0m 90.71   \u001b[0m | \u001b[0m 0.5597  \u001b[0m |\n",
      "| \u001b[0m 28      \u001b[0m | \u001b[0m-24.14   \u001b[0m | \u001b[0m 0.1     \u001b[0m | \u001b[0m 1.0     \u001b[0m | \u001b[0m 0.2     \u001b[0m | \u001b[0m 25.0    \u001b[0m | \u001b[0m 96.9    \u001b[0m | \u001b[0m 1.0     \u001b[0m |\n",
      "| \u001b[0m 29      \u001b[0m | \u001b[0m-24.14   \u001b[0m | \u001b[0m 0.1     \u001b[0m | \u001b[0m 1.0     \u001b[0m | \u001b[0m 0.2     \u001b[0m | \u001b[0m 18.86   \u001b[0m | \u001b[0m 101.7   \u001b[0m | \u001b[0m 1.0     \u001b[0m |\n",
      "| \u001b[0m 30      \u001b[0m | \u001b[0m-47.65   \u001b[0m | \u001b[0m 0.1     \u001b[0m | \u001b[0m 1.0     \u001b[0m | \u001b[0m 0.005   \u001b[0m | \u001b[0m 17.11   \u001b[0m | \u001b[0m 135.5   \u001b[0m | \u001b[0m 0.5     \u001b[0m |\n",
      "| \u001b[0m 31      \u001b[0m | \u001b[0m-20.36   \u001b[0m | \u001b[0m 0.5791  \u001b[0m | \u001b[0m 0.9048  \u001b[0m | \u001b[0m 0.04063 \u001b[0m | \u001b[0m 21.23   \u001b[0m | \u001b[0m 139.9   \u001b[0m | \u001b[0m 0.6939  \u001b[0m |\n",
      "| \u001b[0m 32      \u001b[0m | \u001b[0m-27.42   \u001b[0m | \u001b[0m 0.3783  \u001b[0m | \u001b[0m 0.7803  \u001b[0m | \u001b[0m 0.1921  \u001b[0m | \u001b[0m 20.17   \u001b[0m | \u001b[0m 134.1   \u001b[0m | \u001b[0m 0.8467  \u001b[0m |\n",
      "| \u001b[0m 33      \u001b[0m | \u001b[0m-24.61   \u001b[0m | \u001b[0m 0.1     \u001b[0m | \u001b[0m 1.0     \u001b[0m | \u001b[0m 0.2     \u001b[0m | \u001b[0m 20.6    \u001b[0m | \u001b[0m 139.5   \u001b[0m | \u001b[0m 0.5     \u001b[0m |\n",
      "| \u001b[0m 34      \u001b[0m | \u001b[0m-22.39   \u001b[0m | \u001b[0m 0.9228  \u001b[0m | \u001b[0m 0.8511  \u001b[0m | \u001b[0m 0.1087  \u001b[0m | \u001b[0m 21.42   \u001b[0m | \u001b[0m 138.9   \u001b[0m | \u001b[0m 0.9027  \u001b[0m |\n",
      "| \u001b[0m 35      \u001b[0m | \u001b[0m-27.47   \u001b[0m | \u001b[0m 0.7272  \u001b[0m | \u001b[0m 0.5166  \u001b[0m | \u001b[0m 0.04922 \u001b[0m | \u001b[0m 21.8    \u001b[0m | \u001b[0m 141.5   \u001b[0m | \u001b[0m 0.8764  \u001b[0m |\n",
      "| \u001b[0m 36      \u001b[0m | \u001b[0m-25.46   \u001b[0m | \u001b[0m 0.3769  \u001b[0m | \u001b[0m 0.7618  \u001b[0m | \u001b[0m 0.1863  \u001b[0m | \u001b[0m 17.45   \u001b[0m | \u001b[0m 140.3   \u001b[0m | \u001b[0m 0.9988  \u001b[0m |\n",
      "| \u001b[0m 37      \u001b[0m | \u001b[0m-31.49   \u001b[0m | \u001b[0m 0.4328  \u001b[0m | \u001b[0m 0.567   \u001b[0m | \u001b[0m 0.2     \u001b[0m | \u001b[0m 15.0    \u001b[0m | \u001b[0m 131.1   \u001b[0m | \u001b[0m 1.0     \u001b[0m |\n",
      "| \u001b[0m 38      \u001b[0m | \u001b[0m-48.48   \u001b[0m | \u001b[0m 0.1     \u001b[0m | \u001b[0m 1.0     \u001b[0m | \u001b[0m 0.005   \u001b[0m | \u001b[0m 21.72   \u001b[0m | \u001b[0m 139.4   \u001b[0m | \u001b[0m 1.0     \u001b[0m |\n",
      "| \u001b[0m 39      \u001b[0m | \u001b[0m-20.46   \u001b[0m | \u001b[0m 0.835   \u001b[0m | \u001b[0m 0.7186  \u001b[0m | \u001b[0m 0.0363  \u001b[0m | \u001b[0m 21.31   \u001b[0m | \u001b[0m 138.9   \u001b[0m | \u001b[0m 0.9471  \u001b[0m |\n",
      "| \u001b[0m 40      \u001b[0m | \u001b[0m-23.43   \u001b[0m | \u001b[0m 0.9263  \u001b[0m | \u001b[0m 0.8829  \u001b[0m | \u001b[0m 0.1619  \u001b[0m | \u001b[0m 20.8    \u001b[0m | \u001b[0m 139.6   \u001b[0m | \u001b[0m 0.7441  \u001b[0m |\n",
      "| \u001b[0m 41      \u001b[0m | \u001b[0m-24.37   \u001b[0m | \u001b[0m 0.4888  \u001b[0m | \u001b[0m 0.7223  \u001b[0m | \u001b[0m 0.1417  \u001b[0m | \u001b[0m 21.09   \u001b[0m | \u001b[0m 138.4   \u001b[0m | \u001b[0m 0.7603  \u001b[0m |\n",
      "| \u001b[0m 42      \u001b[0m | \u001b[0m-46.39   \u001b[0m | \u001b[0m 0.6838  \u001b[0m | \u001b[0m 0.7218  \u001b[0m | \u001b[0m 0.005   \u001b[0m | \u001b[0m 21.03   \u001b[0m | \u001b[0m 140.3   \u001b[0m | \u001b[0m 0.5     \u001b[0m |\n",
      "| \u001b[0m 43      \u001b[0m | \u001b[0m-22.39   \u001b[0m | \u001b[0m 0.7971  \u001b[0m | \u001b[0m 0.8727  \u001b[0m | \u001b[0m 0.1249  \u001b[0m | \u001b[0m 20.76   \u001b[0m | \u001b[0m 139.0   \u001b[0m | \u001b[0m 0.9085  \u001b[0m |\n",
      "| \u001b[0m 44      \u001b[0m | \u001b[0m-35.58   \u001b[0m | \u001b[0m 0.4073  \u001b[0m | \u001b[0m 0.9437  \u001b[0m | \u001b[0m 0.007253\u001b[0m | \u001b[0m 20.9    \u001b[0m | \u001b[0m 138.7   \u001b[0m | \u001b[0m 0.6286  \u001b[0m |\n",
      "| \u001b[0m 45      \u001b[0m | \u001b[0m-23.56   \u001b[0m | \u001b[0m 0.8013  \u001b[0m | \u001b[0m 0.8723  \u001b[0m | \u001b[0m 0.1485  \u001b[0m | \u001b[0m 21.34   \u001b[0m | \u001b[0m 139.4   \u001b[0m | \u001b[0m 0.8658  \u001b[0m |\n",
      "| \u001b[0m 46      \u001b[0m | \u001b[0m-20.35   \u001b[0m | \u001b[0m 0.8019  \u001b[0m | \u001b[0m 0.9696  \u001b[0m | \u001b[0m 0.159   \u001b[0m | \u001b[0m 20.91   \u001b[0m | \u001b[0m 139.6   \u001b[0m | \u001b[0m 0.8799  \u001b[0m |\n",
      "| \u001b[0m 47      \u001b[0m | \u001b[0m-20.55   \u001b[0m | \u001b[0m 0.9397  \u001b[0m | \u001b[0m 0.8885  \u001b[0m | \u001b[0m 0.08305 \u001b[0m | \u001b[0m 15.15   \u001b[0m | \u001b[0m 100.4   \u001b[0m | \u001b[0m 0.6245  \u001b[0m |\n",
      "| \u001b[0m 48      \u001b[0m | \u001b[0m-25.93   \u001b[0m | \u001b[0m 0.6294  \u001b[0m | \u001b[0m 0.5657  \u001b[0m | \u001b[0m 0.02979 \u001b[0m | \u001b[0m 21.1    \u001b[0m | \u001b[0m 139.5   \u001b[0m | \u001b[0m 0.8031  \u001b[0m |\n",
      "| \u001b[0m 49      \u001b[0m | \u001b[0m-25.03   \u001b[0m | \u001b[0m 0.9154  \u001b[0m | \u001b[0m 0.6014  \u001b[0m | \u001b[0m 0.06024 \u001b[0m | \u001b[0m 21.32   \u001b[0m | \u001b[0m 138.9   \u001b[0m | \u001b[0m 0.9272  \u001b[0m |\n",
      "| \u001b[0m 50      \u001b[0m | \u001b[0m-20.46   \u001b[0m | \u001b[0m 0.1271  \u001b[0m | \u001b[0m 0.765   \u001b[0m | \u001b[0m 0.02257 \u001b[0m | \u001b[0m 21.0    \u001b[0m | \u001b[0m 138.0   \u001b[0m | \u001b[0m 0.6828  \u001b[0m |\n"
     ]
    },
    {
     "name": "stdout",
     "output_type": "stream",
     "text": [
      "| \u001b[0m 51      \u001b[0m | \u001b[0m-21.95   \u001b[0m | \u001b[0m 0.9122  \u001b[0m | \u001b[0m 0.7443  \u001b[0m | \u001b[0m 0.08548 \u001b[0m | \u001b[0m 20.94   \u001b[0m | \u001b[0m 139.2   \u001b[0m | \u001b[0m 0.9138  \u001b[0m |\n",
      "| \u001b[0m 52      \u001b[0m | \u001b[0m-24.09   \u001b[0m | \u001b[0m 0.7889  \u001b[0m | \u001b[0m 0.829   \u001b[0m | \u001b[0m 0.1165  \u001b[0m | \u001b[0m 20.8    \u001b[0m | \u001b[0m 139.5   \u001b[0m | \u001b[0m 0.7793  \u001b[0m |\n",
      "=================================================================================================\n",
      "{'target': -20.29669549816437, 'params': {'_lambda': 0.17442799795460104, 'colsample_bytree': 0.9879164037585435, 'learning_rate': 0.03746438801250545, 'max_depth': 20.89859289179659, 'n_estimators': 138.4961753113434, 'subsample': 0.720612232127243}}\n",
      "\n"
     ]
    }
   ],
   "source": [
    "from bayes_opt import BayesianOptimization\n",
    "\n",
    "# 하이퍼파라미터 정의\n",
    "pbounds = {\n",
    "'max_depth': (15, 23), \n",
    "'learning_rate': (0.01, 0.3),\n",
    "'n_estimators': (50, 150),\n",
    "#'min_child_weight': (0.1, 1),\n",
    "'subsample': (0.5, 1), \n",
    "'_lambda' : (0.1,1),    \n",
    "#'gamma': (0, 0.3),     \n",
    "'colsample_bytree' :(0.5, 1)\n",
    "#'_alpha' : (0,1)           \n",
    "                      }\n",
    "\n",
    "# Bayesian optimization 객체 생성\n",
    "bo=BayesianOptimization(f=XGB, pbounds=pbounds, verbose=2, random_state=1 )    \n",
    "\n",
    "# 메소드를 이용해 최대화 과정 수행 (파라미터 넣고 목적함수 값 출력하고)\n",
    "bo.maximize(init_points=2, n_iter=50, acq='ei', xi=0.01)\n",
    "\n",
    "# 뽑힌 최적의 하이퍼파라미터 값 확인\n",
    "print(\"{}\\n\".format(bo.max))"
   ]
  },
  {
   "cell_type": "code",
   "execution_count": 6,
   "metadata": {},
   "outputs": [
    {
     "data": {
      "text/plain": [
       "XGBRegressor(colsample_bytree=0.9879164037585435,\n",
       "             learning_rate=0.03746438801250545, max_depth=20, n_estimators=138,\n",
       "             n_jobs=-1, objective='reg:squarederror',\n",
       "             reg_lambda=0.17442799795460104, subsample=0.720612232127243)"
      ]
     },
     "execution_count": 6,
     "metadata": {},
     "output_type": "execute_result"
    }
   ],
   "source": [
    "import xgboost as xgb\n",
    "\n",
    "# Train + Valid cross-validation을 거친, 최적의 하이퍼파라미터를 사용\n",
    "best_model = xgb.XGBRegressor(\n",
    "objective = 'reg:squarederror',\n",
    "max_depth=int(bo.max['params']['max_depth']),\n",
    "learning_rate=bo.max['params']['learning_rate'],\n",
    "n_estimators=int(bo.max['params']['n_estimators']),\n",
    "#min_child_weight=bo.max['params']['min_child_weight'],\n",
    "subsample=bo.max['params']['subsample'],\n",
    "reg_lambda = bo.max['params']['_lambda'],    \n",
    "#gamma=bo.max['params']['gamma'],\n",
    "colsample_bytree=bo.max['params']['colsample_bytree'],\n",
    "#reg_alpha = bo.max['params']['_alpha']\n",
    "n_jobs=-1\n",
    "                             )\n",
    "# 모델 훈련\n",
    "best_model.fit(X_train, y_train)"
   ]
  },
  {
   "cell_type": "code",
   "execution_count": 7,
   "metadata": {},
   "outputs": [
    {
     "name": "stdout",
     "output_type": "stream",
     "text": [
      "{'target': -20.29669549816437, 'params': {'_lambda': 0.17442799795460104, 'colsample_bytree': 0.9879164037585435, 'learning_rate': 0.03746438801250545, 'max_depth': 20.89859289179659, 'n_estimators': 138.4961753113434, 'subsample': 0.720612232127243}}\n",
      "\n",
      "-------- train -> train -------------------------\n",
      "rmse : 1643.7977739688044\n",
      "mape : 0.8212506339569652%\n",
      "\n",
      "\n",
      "-------- train -> validation (cross-validation) --------\n",
      "mape : 20.29669549816437%\n",
      "\n",
      "\n",
      "-------- train -> test --------------------------\n",
      "rmse : 14547.41831542676\n",
      "mape : 13.761242330567674%\n",
      "\n",
      "\n"
     ]
    }
   ],
   "source": [
    "# 최적의 하이퍼파라미터 값 확인\n",
    "print(\"{}\\n\".format(bo.max))\n",
    "\n",
    "# Train -> Train 에러율\n",
    "y_train_pred = best_model.predict(X_train)\n",
    "print(\"-------- train -> train -------------------------\")\n",
    "print(\"rmse : {}\".format(np.sqrt(mean_squared_error(y_train, y_train_pred))))\n",
    "print(\"mape : {}%\".format(mean_absolute_percentage_error(y_train, y_train_pred)))\n",
    "print(\"\\n\")\n",
    "\n",
    "# Train -> dev (cross-validation) 에러율\n",
    "print(\"-------- train -> validation (cross-validation) --------\")\n",
    "print(\"mape : {}%\".format(-bo.max['target']))\n",
    "print(\"\\n\")\n",
    "\n",
    "# Train -> Test 에러율\n",
    "y_pred = best_model.predict(X_test)\n",
    "print(\"-------- train -> test --------------------------\")\n",
    "print(\"rmse : {}\".format(np.sqrt(mean_squared_error(y_test, y_pred))))\n",
    "print(\"mape : {}%\".format(mean_absolute_percentage_error(y_test, y_pred)))\n",
    "print(\"\\n\")"
   ]
  },
  {
   "cell_type": "code",
   "execution_count": 8,
   "metadata": {},
   "outputs": [],
   "source": [
    "# mape_list = {}\n",
    "# # 예측값, 실제값을 확인하며 mape 계산 후 mape_list에 삽입 \n",
    "# for idx,value in enumerate(y_test):\n",
    "#     mape_temp = {}\n",
    "#     predicate = int(y_pred[idx])\n",
    "#     mape = abs((value - predicate) / value) * 100\n",
    "#     mape_temp['pred'] = predicate\n",
    "#     mape_temp['real'] = value\n",
    "#     mape_temp['mape'] = mape\n",
    "#     mape_list[idx] = mape_temp\n",
    "# mape_list_sort = sorted(mape_list.values(), key=lambda x:(x['mape']), reverse=True)\n",
    "# mape_list_sort  "
   ]
  },
  {
   "cell_type": "code",
   "execution_count": null,
   "metadata": {},
   "outputs": [],
   "source": []
  }
 ],
 "metadata": {
  "kernelspec": {
   "display_name": "Python 3",
   "language": "python",
   "name": "python3"
  },
  "language_info": {
   "codemirror_mode": {
    "name": "ipython",
    "version": 3
   },
   "file_extension": ".py",
   "mimetype": "text/x-python",
   "name": "python",
   "nbconvert_exporter": "python",
   "pygments_lexer": "ipython3",
   "version": "3.7.7"
  }
 },
 "nbformat": 4,
 "nbformat_minor": 4
}
