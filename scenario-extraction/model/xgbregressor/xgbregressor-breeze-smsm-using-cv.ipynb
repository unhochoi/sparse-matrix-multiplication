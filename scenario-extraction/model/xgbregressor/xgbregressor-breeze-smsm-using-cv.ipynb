{
 "cells": [
  {
   "cell_type": "code",
   "execution_count": 1,
   "metadata": {},
   "outputs": [],
   "source": [
    "import pandas as pd\n",
    "import numpy as np\n",
    "\n",
    "# 1164, 129\n",
    "train = pd.read_csv('/Users/bdlab/Desktop/sparse-matrix-multiplication/scenario-extraction/d-optimal/d-optimal-of-spmm/train-test-csv/1164-train-from-1293-spmm-over-3s.csv')\n",
    "test = pd.read_csv('/Users/bdlab/Desktop/sparse-matrix-multiplication/scenario-extraction/d-optimal/d-optimal-of-spmm/train-test-csv/129-test-from-1293-spmm-over-3s.csv')\n",
    "\n",
    "# 2268, 226\n",
    "# train = pd.read_csv('/Users/bdlab/Desktop/sparse-matrix-multiplication/scenario-extraction/d-optimal/d-optimal-of-spmm/train-test-csv/2042-train-from-2268-spmm-over-3s.csv')\n",
    "# test = pd.read_csv('/Users/bdlab/Desktop/sparse-matrix-multiplication/scenario-extraction/d-optimal/d-optimal-of-spmm/train-test-csv/226-test-from-2268-spmm-over-3s.csv')\n",
    "\n",
    "# 1727, 191\n",
    "#train = pd.read_csv('/Users/bdlab/Desktop/sparse-matrix-multiplication/scenario-extraction/d-optimal/d-optimal-of-spmm/train-test-csv/1727-train-from-1918-spmm-over-3s.csv')\n",
    "#test = pd.read_csv('/Users/bdlab/Desktop/sparse-matrix-multiplication/scenario-extraction/d-optimal/d-optimal-of-spmm/train-test-csv/191-test-from-1918-spmm-over-3s.csv')\n"
   ]
  },
  {
   "cell_type": "code",
   "execution_count": 2,
   "metadata": {},
   "outputs": [],
   "source": [
    "# Train + Valid\n",
    "X_train = train[['lr','lc','rc','ld','rd','lnnz','rnnz','lr*lc','lc*rc','lr*rc','lr*lc*rc','ld*rd','lr*rc*ld*rd','lr*lc*rc*ld*rd']] \n",
    "y_train = train['bz_smsm']\n",
    "\n",
    "# Test\n",
    "X_test = test[['lr','lc','rc','ld','rd','lnnz','rnnz','lr*lc','lc*rc','lr*rc','lr*lc*rc','ld*rd','lr*rc*ld*rd','lr*lc*rc*ld*rd']] \n",
    "y_test = test['bz_smsm']"
   ]
  },
  {
   "cell_type": "code",
   "execution_count": 3,
   "metadata": {},
   "outputs": [],
   "source": [
    "from sklearn.metrics import r2_score, mean_squared_error\n",
    "\n",
    "# Metric\n",
    "def mean_absolute_percentage_error(y_test, y_pred):\n",
    "    y_test, y_pred = np.array(y_test), np.array(y_pred)\n",
    "    return np.mean(np.abs((y_test - y_pred) / y_test)) * 100\n",
    "\n",
    "def custom_scoring(real, pred):\n",
    "    rmse = np.sqrt(mean_squared_error(real, pred))\n",
    "    r2 = r2_score(real, pred)\n",
    "    mape = mean_absolute_percentage_error(real, pred)\n",
    "    return mape"
   ]
  },
  {
   "cell_type": "code",
   "execution_count": 4,
   "metadata": {},
   "outputs": [],
   "source": [
    "import xgboost as xgb\n",
    "from sklearn.model_selection import cross_val_score\n",
    "from sklearn.model_selection import KFold\n",
    "from sklearn.metrics import make_scorer\n",
    "\n",
    "# 탐색 대상 함수 (XGBRegressor)\n",
    "def XGB(\n",
    "max_depth,\n",
    "learning_rate, \n",
    "n_estimators, \n",
    "#min_child_weight, \n",
    "subsample,\n",
    "_lambda,\n",
    "#gamma ,\n",
    "colsample_bytree, \n",
    "#_alpha,\n",
    "silent=True, \n",
    "n_jobs=-1):\n",
    "    \n",
    "    # 모델 정의\n",
    "    model = xgb.XGBRegressor( \n",
    "objective = 'reg:squarederror',\n",
    "max_depth=int(max_depth),\n",
    "learning_rate=learning_rate,\n",
    "n_estimators=int(n_estimators),\n",
    "#min_child_weight=min_child_weight,\n",
    "subsample=subsample,\n",
    "reg_lambda=_lambda,        \n",
    "#gamma=gamma,\n",
    "colsample_bytree=colsample_bytree, \n",
    "#reg_alpha=_alpha\n",
    "n_jobs=n_jobs        \n",
    "                              )\n",
    "    \n",
    "    # bayesian optimization을 통해 파라미터를 받아\n",
    "    # Train을 Train + Validation으로 나눠 cross-validation 성능 확인\n",
    "    kfold = KFold(n_splits=9, shuffle = True, random_state=0)\n",
    "\n",
    "    # cross-validation 평균 성능 성능 확인\n",
    "    score = cross_val_score(model,\n",
    "                            X_train, \n",
    "                            y_train, \n",
    "                            cv=kfold,\n",
    "                            scoring=make_scorer(custom_scoring,greater_is_better=False),\n",
    "                            n_jobs=-1\n",
    "                           ).mean()\n",
    "    \n",
    "    return score"
   ]
  },
  {
   "cell_type": "code",
   "execution_count": 5,
   "metadata": {},
   "outputs": [
    {
     "name": "stdout",
     "output_type": "stream",
     "text": [
      "|   iter    |  target   |  _lambda  | colsam... | learni... | max_depth | n_esti... | subsample |\n",
      "-------------------------------------------------------------------------------------------------\n",
      "| \u001b[0m 1       \u001b[0m | \u001b[0m-51.57   \u001b[0m | \u001b[0m 0.4753  \u001b[0m | \u001b[0m 0.8602  \u001b[0m | \u001b[0m 0.01003 \u001b[0m | \u001b[0m 17.42   \u001b[0m | \u001b[0m 64.68   \u001b[0m | \u001b[0m 0.5462  \u001b[0m |\n",
      "| \u001b[95m 2       \u001b[0m | \u001b[95m-12.74   \u001b[0m | \u001b[95m 0.2676  \u001b[0m | \u001b[95m 0.6728  \u001b[0m | \u001b[95m 0.1251  \u001b[0m | \u001b[95m 19.31   \u001b[0m | \u001b[95m 91.92   \u001b[0m | \u001b[95m 0.8426  \u001b[0m |\n",
      "| \u001b[0m 3       \u001b[0m | \u001b[0m-15.25   \u001b[0m | \u001b[0m 0.8332  \u001b[0m | \u001b[0m 0.5081  \u001b[0m | \u001b[0m 0.1051  \u001b[0m | \u001b[0m 19.35   \u001b[0m | \u001b[0m 92.38   \u001b[0m | \u001b[0m 0.7349  \u001b[0m |\n",
      "| \u001b[95m 4       \u001b[0m | \u001b[95m-12.61   \u001b[0m | \u001b[95m 0.1     \u001b[0m | \u001b[95m 1.0     \u001b[0m | \u001b[95m 0.3     \u001b[0m | \u001b[95m 18.84   \u001b[0m | \u001b[95m 87.32   \u001b[0m | \u001b[95m 1.0     \u001b[0m |\n",
      "| \u001b[0m 5       \u001b[0m | \u001b[0m-39.96   \u001b[0m | \u001b[0m 0.1     \u001b[0m | \u001b[0m 1.0     \u001b[0m | \u001b[0m 0.01    \u001b[0m | \u001b[0m 15.0    \u001b[0m | \u001b[0m 90.22   \u001b[0m | \u001b[0m 1.0     \u001b[0m |\n",
      "| \u001b[0m 6       \u001b[0m | \u001b[0m-13.89   \u001b[0m | \u001b[0m 0.1     \u001b[0m | \u001b[0m 0.9043  \u001b[0m | \u001b[0m 0.3     \u001b[0m | \u001b[0m 21.0    \u001b[0m | \u001b[0m 89.57   \u001b[0m | \u001b[0m 0.9885  \u001b[0m |\n",
      "| \u001b[0m 7       \u001b[0m | \u001b[0m-17.02   \u001b[0m | \u001b[0m 0.1     \u001b[0m | \u001b[0m 0.6427  \u001b[0m | \u001b[0m 0.3     \u001b[0m | \u001b[0m 20.62   \u001b[0m | \u001b[0m 84.88   \u001b[0m | \u001b[0m 0.7354  \u001b[0m |\n",
      "| \u001b[0m 8       \u001b[0m | \u001b[0m-38.77   \u001b[0m | \u001b[0m 0.1     \u001b[0m | \u001b[0m 1.0     \u001b[0m | \u001b[0m 0.01    \u001b[0m | \u001b[0m 22.08   \u001b[0m | \u001b[0m 93.21   \u001b[0m | \u001b[0m 1.0     \u001b[0m |\n",
      "| \u001b[0m 9       \u001b[0m | \u001b[0m-21.51   \u001b[0m | \u001b[0m 0.637   \u001b[0m | \u001b[0m 0.5     \u001b[0m | \u001b[0m 0.3     \u001b[0m | \u001b[0m 19.38   \u001b[0m | \u001b[0m 89.77   \u001b[0m | \u001b[0m 0.5     \u001b[0m |\n",
      "| \u001b[0m 10      \u001b[0m | \u001b[0m-12.68   \u001b[0m | \u001b[0m 0.1     \u001b[0m | \u001b[0m 1.0     \u001b[0m | \u001b[0m 0.2765  \u001b[0m | \u001b[0m 20.62   \u001b[0m | \u001b[0m 87.36   \u001b[0m | \u001b[0m 1.0     \u001b[0m |\n",
      "| \u001b[0m 11      \u001b[0m | \u001b[0m-41.84   \u001b[0m | \u001b[0m 1.0     \u001b[0m | \u001b[0m 1.0     \u001b[0m | \u001b[0m 0.01    \u001b[0m | \u001b[0m 19.04   \u001b[0m | \u001b[0m 86.02   \u001b[0m | \u001b[0m 1.0     \u001b[0m |\n",
      "| \u001b[95m 12      \u001b[0m | \u001b[95m-12.6    \u001b[0m | \u001b[95m 0.1     \u001b[0m | \u001b[95m 1.0     \u001b[0m | \u001b[95m 0.3     \u001b[0m | \u001b[95m 19.67   \u001b[0m | \u001b[95m 87.97   \u001b[0m | \u001b[95m 1.0     \u001b[0m |\n",
      "| \u001b[0m 13      \u001b[0m | \u001b[0m-18.2    \u001b[0m | \u001b[0m 0.1     \u001b[0m | \u001b[0m 0.5395  \u001b[0m | \u001b[0m 0.3     \u001b[0m | \u001b[0m 21.17   \u001b[0m | \u001b[0m 88.29   \u001b[0m | \u001b[0m 1.0     \u001b[0m |\n",
      "| \u001b[0m 14      \u001b[0m | \u001b[0m-12.76   \u001b[0m | \u001b[0m 0.1     \u001b[0m | \u001b[0m 1.0     \u001b[0m | \u001b[0m 0.3     \u001b[0m | \u001b[0m 21.71   \u001b[0m | \u001b[0m 86.14   \u001b[0m | \u001b[0m 0.6352  \u001b[0m |\n",
      "| \u001b[0m 15      \u001b[0m | \u001b[0m-12.61   \u001b[0m | \u001b[0m 0.1     \u001b[0m | \u001b[0m 1.0     \u001b[0m | \u001b[0m 0.3     \u001b[0m | \u001b[0m 18.44   \u001b[0m | \u001b[0m 88.09   \u001b[0m | \u001b[0m 1.0     \u001b[0m |\n",
      "| \u001b[0m 16      \u001b[0m | \u001b[0m-18.54   \u001b[0m | \u001b[0m 0.1     \u001b[0m | \u001b[0m 0.5     \u001b[0m | \u001b[0m 0.3     \u001b[0m | \u001b[0m 22.38   \u001b[0m | \u001b[0m 84.61   \u001b[0m | \u001b[0m 0.7084  \u001b[0m |\n",
      "| \u001b[0m 17      \u001b[0m | \u001b[0m-12.61   \u001b[0m | \u001b[0m 0.1     \u001b[0m | \u001b[0m 1.0     \u001b[0m | \u001b[0m 0.3     \u001b[0m | \u001b[0m 18.31   \u001b[0m | \u001b[0m 92.58   \u001b[0m | \u001b[0m 1.0     \u001b[0m |\n",
      "| \u001b[0m 18      \u001b[0m | \u001b[0m-21.23   \u001b[0m | \u001b[0m 0.1     \u001b[0m | \u001b[0m 0.5     \u001b[0m | \u001b[0m 0.3     \u001b[0m | \u001b[0m 17.84   \u001b[0m | \u001b[0m 94.21   \u001b[0m | \u001b[0m 0.5     \u001b[0m |\n",
      "| \u001b[0m 19      \u001b[0m | \u001b[0m-39.68   \u001b[0m | \u001b[0m 0.5908  \u001b[0m | \u001b[0m 1.0     \u001b[0m | \u001b[0m 0.01    \u001b[0m | \u001b[0m 18.52   \u001b[0m | \u001b[0m 91.77   \u001b[0m | \u001b[0m 1.0     \u001b[0m |\n",
      "| \u001b[0m 20      \u001b[0m | \u001b[0m-13.48   \u001b[0m | \u001b[0m 0.1     \u001b[0m | \u001b[0m 0.9971  \u001b[0m | \u001b[0m 0.3     \u001b[0m | \u001b[0m 19.0    \u001b[0m | \u001b[0m 87.85   \u001b[0m | \u001b[0m 0.9989  \u001b[0m |\n",
      "| \u001b[0m 21      \u001b[0m | \u001b[0m-16.85   \u001b[0m | \u001b[0m 0.1     \u001b[0m | \u001b[0m 0.5709  \u001b[0m | \u001b[0m 0.3     \u001b[0m | \u001b[0m 19.38   \u001b[0m | \u001b[0m 92.46   \u001b[0m | \u001b[0m 0.7945  \u001b[0m |\n",
      "| \u001b[0m 22      \u001b[0m | \u001b[0m-12.61   \u001b[0m | \u001b[0m 0.1     \u001b[0m | \u001b[0m 1.0     \u001b[0m | \u001b[0m 0.3     \u001b[0m | \u001b[0m 18.3    \u001b[0m | \u001b[0m 93.09   \u001b[0m | \u001b[0m 1.0     \u001b[0m |\n",
      "| \u001b[0m 23      \u001b[0m | \u001b[0m-14.05   \u001b[0m | \u001b[0m 0.3011  \u001b[0m | \u001b[0m 0.5726  \u001b[0m | \u001b[0m 0.06213 \u001b[0m | \u001b[0m 19.72   \u001b[0m | \u001b[0m 91.78   \u001b[0m | \u001b[0m 0.6155  \u001b[0m |\n",
      "| \u001b[0m 24      \u001b[0m | \u001b[0m-36.26   \u001b[0m | \u001b[0m 0.3307  \u001b[0m | \u001b[0m 0.7453  \u001b[0m | \u001b[0m 0.01128 \u001b[0m | \u001b[0m 21.27   \u001b[0m | \u001b[0m 86.57   \u001b[0m | \u001b[0m 0.9997  \u001b[0m |\n",
      "| \u001b[0m 25      \u001b[0m | \u001b[0m-14.63   \u001b[0m | \u001b[0m 0.1     \u001b[0m | \u001b[0m 1.0     \u001b[0m | \u001b[0m 0.3     \u001b[0m | \u001b[0m 21.98   \u001b[0m | \u001b[0m 85.75   \u001b[0m | \u001b[0m 0.5     \u001b[0m |\n",
      "| \u001b[95m 26      \u001b[0m | \u001b[95m-12.25   \u001b[0m | \u001b[95m 0.1     \u001b[0m | \u001b[95m 1.0     \u001b[0m | \u001b[95m 0.3     \u001b[0m | \u001b[95m 20.27   \u001b[0m | \u001b[95m 87.73   \u001b[0m | \u001b[95m 0.9642  \u001b[0m |\n",
      "| \u001b[0m 27      \u001b[0m | \u001b[0m-13.63   \u001b[0m | \u001b[0m 0.1     \u001b[0m | \u001b[0m 1.0     \u001b[0m | \u001b[0m 0.3     \u001b[0m | \u001b[0m 18.41   \u001b[0m | \u001b[0m 87.62   \u001b[0m | \u001b[0m 0.5363  \u001b[0m |\n",
      "| \u001b[95m 28      \u001b[0m | \u001b[95m-11.1    \u001b[0m | \u001b[95m 0.3213  \u001b[0m | \u001b[95m 0.8092  \u001b[0m | \u001b[95m 0.04508 \u001b[0m | \u001b[95m 19.96   \u001b[0m | \u001b[95m 88.66   \u001b[0m | \u001b[95m 0.8835  \u001b[0m |\n",
      "| \u001b[0m 29      \u001b[0m | \u001b[0m-11.44   \u001b[0m | \u001b[0m 0.8045  \u001b[0m | \u001b[0m 0.9532  \u001b[0m | \u001b[0m 0.1394  \u001b[0m | \u001b[0m 20.16   \u001b[0m | \u001b[0m 88.1    \u001b[0m | \u001b[0m 0.8958  \u001b[0m |\n",
      "| \u001b[0m 30      \u001b[0m | \u001b[0m-12.64   \u001b[0m | \u001b[0m 0.6831  \u001b[0m | \u001b[0m 0.8288  \u001b[0m | \u001b[0m 0.02625 \u001b[0m | \u001b[0m 20.46   \u001b[0m | \u001b[0m 88.63   \u001b[0m | \u001b[0m 0.6148  \u001b[0m |\n",
      "| \u001b[0m 31      \u001b[0m | \u001b[0m-11.74   \u001b[0m | \u001b[0m 0.6146  \u001b[0m | \u001b[0m 0.6518  \u001b[0m | \u001b[0m 0.03202 \u001b[0m | \u001b[0m 19.77   \u001b[0m | \u001b[0m 88.19   \u001b[0m | \u001b[0m 0.6476  \u001b[0m |\n",
      "| \u001b[0m 32      \u001b[0m | \u001b[0m-40.95   \u001b[0m | \u001b[0m 0.9102  \u001b[0m | \u001b[0m 1.0     \u001b[0m | \u001b[0m 0.01    \u001b[0m | \u001b[0m 19.69   \u001b[0m | \u001b[0m 88.59   \u001b[0m | \u001b[0m 1.0     \u001b[0m |\n",
      "| \u001b[0m 33      \u001b[0m | \u001b[0m-12.11   \u001b[0m | \u001b[0m 0.2311  \u001b[0m | \u001b[0m 0.6868  \u001b[0m | \u001b[0m 0.04934 \u001b[0m | \u001b[0m 20.38   \u001b[0m | \u001b[0m 87.98   \u001b[0m | \u001b[0m 0.5594  \u001b[0m |\n",
      "| \u001b[0m 34      \u001b[0m | \u001b[0m-11.48   \u001b[0m | \u001b[0m 0.423   \u001b[0m | \u001b[0m 0.7271  \u001b[0m | \u001b[0m 0.0385  \u001b[0m | \u001b[0m 18.87   \u001b[0m | \u001b[0m 80.09   \u001b[0m | \u001b[0m 0.9526  \u001b[0m |\n",
      "| \u001b[0m 35      \u001b[0m | \u001b[0m-13.59   \u001b[0m | \u001b[0m 0.2163  \u001b[0m | \u001b[0m 0.5731  \u001b[0m | \u001b[0m 0.04347 \u001b[0m | \u001b[0m 20.01   \u001b[0m | \u001b[0m 88.45   \u001b[0m | \u001b[0m 0.7473  \u001b[0m |\n",
      "| \u001b[0m 36      \u001b[0m | \u001b[0m-14.77   \u001b[0m | \u001b[0m 0.2111  \u001b[0m | \u001b[0m 0.5818  \u001b[0m | \u001b[0m 0.1747  \u001b[0m | \u001b[0m 16.17   \u001b[0m | \u001b[0m 62.71   \u001b[0m | \u001b[0m 0.9852  \u001b[0m |\n",
      "| \u001b[0m 37      \u001b[0m | \u001b[0m-12.66   \u001b[0m | \u001b[0m 0.5685  \u001b[0m | \u001b[0m 0.8366  \u001b[0m | \u001b[0m 0.1872  \u001b[0m | \u001b[0m 20.14   \u001b[0m | \u001b[0m 87.96   \u001b[0m | \u001b[0m 0.6656  \u001b[0m |\n",
      "| \u001b[0m 38      \u001b[0m | \u001b[0m-11.78   \u001b[0m | \u001b[0m 0.1244  \u001b[0m | \u001b[0m 0.8305  \u001b[0m | \u001b[0m 0.1068  \u001b[0m | \u001b[0m 20.4    \u001b[0m | \u001b[0m 88.33   \u001b[0m | \u001b[0m 0.8175  \u001b[0m |\n",
      "| \u001b[0m 39      \u001b[0m | \u001b[0m-11.47   \u001b[0m | \u001b[0m 0.2015  \u001b[0m | \u001b[0m 0.8737  \u001b[0m | \u001b[0m 0.04691 \u001b[0m | \u001b[0m 20.45   \u001b[0m | \u001b[0m 88.87   \u001b[0m | \u001b[0m 0.9803  \u001b[0m |\n",
      "| \u001b[0m 40      \u001b[0m | \u001b[0m-40.75   \u001b[0m | \u001b[0m 0.5908  \u001b[0m | \u001b[0m 0.9635  \u001b[0m | \u001b[0m 0.01    \u001b[0m | \u001b[0m 20.52   \u001b[0m | \u001b[0m 88.05   \u001b[0m | \u001b[0m 1.0     \u001b[0m |\n",
      "| \u001b[0m 41      \u001b[0m | \u001b[0m-12.52   \u001b[0m | \u001b[0m 0.2681  \u001b[0m | \u001b[0m 0.8578  \u001b[0m | \u001b[0m 0.2152  \u001b[0m | \u001b[0m 21.24   \u001b[0m | \u001b[0m 102.2   \u001b[0m | \u001b[0m 0.6356  \u001b[0m |\n",
      "| \u001b[0m 42      \u001b[0m | \u001b[0m-15.86   \u001b[0m | \u001b[0m 0.4796  \u001b[0m | \u001b[0m 0.5814  \u001b[0m | \u001b[0m 0.2198  \u001b[0m | \u001b[0m 20.36   \u001b[0m | \u001b[0m 88.42   \u001b[0m | \u001b[0m 0.6526  \u001b[0m |\n",
      "| \u001b[0m 43      \u001b[0m | \u001b[0m-11.14   \u001b[0m | \u001b[0m 0.2004  \u001b[0m | \u001b[0m 0.8818  \u001b[0m | \u001b[0m 0.08266 \u001b[0m | \u001b[0m 20.23   \u001b[0m | \u001b[0m 88.65   \u001b[0m | \u001b[0m 0.7539  \u001b[0m |\n",
      "| \u001b[0m 44      \u001b[0m | \u001b[0m-13.08   \u001b[0m | \u001b[0m 0.1     \u001b[0m | \u001b[0m 0.8602  \u001b[0m | \u001b[0m 0.2126  \u001b[0m | \u001b[0m 20.06   \u001b[0m | \u001b[0m 88.1    \u001b[0m | \u001b[0m 0.6933  \u001b[0m |\n",
      "| \u001b[0m 45      \u001b[0m | \u001b[0m-15.53   \u001b[0m | \u001b[0m 0.8868  \u001b[0m | \u001b[0m 0.6103  \u001b[0m | \u001b[0m 0.1469  \u001b[0m | \u001b[0m 19.27   \u001b[0m | \u001b[0m 92.43   \u001b[0m | \u001b[0m 0.5628  \u001b[0m |\n",
      "| \u001b[0m 46      \u001b[0m | \u001b[0m-11.87   \u001b[0m | \u001b[0m 0.8826  \u001b[0m | \u001b[0m 0.6477  \u001b[0m | \u001b[0m 0.04307 \u001b[0m | \u001b[0m 19.92   \u001b[0m | \u001b[0m 88.05   \u001b[0m | \u001b[0m 0.5883  \u001b[0m |\n",
      "| \u001b[0m 47      \u001b[0m | \u001b[0m-11.47   \u001b[0m | \u001b[0m 0.9397  \u001b[0m | \u001b[0m 0.8885  \u001b[0m | \u001b[0m 0.1261  \u001b[0m | \u001b[0m 15.12   \u001b[0m | \u001b[0m 100.4   \u001b[0m | \u001b[0m 0.6245  \u001b[0m |\n",
      "| \u001b[0m 48      \u001b[0m | \u001b[0m-11.25   \u001b[0m | \u001b[0m 0.1857  \u001b[0m | \u001b[0m 0.8136  \u001b[0m | \u001b[0m 0.06395 \u001b[0m | \u001b[0m 20.51   \u001b[0m | \u001b[0m 88.9    \u001b[0m | \u001b[0m 0.6303  \u001b[0m |\n",
      "| \u001b[0m 49      \u001b[0m | \u001b[0m-11.47   \u001b[0m | \u001b[0m 0.3302  \u001b[0m | \u001b[0m 0.9383  \u001b[0m | \u001b[0m 0.1288  \u001b[0m | \u001b[0m 21.32   \u001b[0m | \u001b[0m 102.3   \u001b[0m | \u001b[0m 0.6886  \u001b[0m |\n",
      "| \u001b[0m 50      \u001b[0m | \u001b[0m-11.79   \u001b[0m | \u001b[0m 0.637   \u001b[0m | \u001b[0m 0.8078  \u001b[0m | \u001b[0m 0.1373  \u001b[0m | \u001b[0m 19.74   \u001b[0m | \u001b[0m 87.58   \u001b[0m | \u001b[0m 0.9172  \u001b[0m |\n"
     ]
    },
    {
     "name": "stdout",
     "output_type": "stream",
     "text": [
      "| \u001b[0m 51      \u001b[0m | \u001b[0m-15.57   \u001b[0m | \u001b[0m 0.6149  \u001b[0m | \u001b[0m 0.53    \u001b[0m | \u001b[0m 0.2386  \u001b[0m | \u001b[0m 19.94   \u001b[0m | \u001b[0m 87.88   \u001b[0m | \u001b[0m 0.928   \u001b[0m |\n",
      "| \u001b[0m 52      \u001b[0m | \u001b[0m-11.83   \u001b[0m | \u001b[0m 0.1305  \u001b[0m | \u001b[0m 0.6525  \u001b[0m | \u001b[0m 0.0258  \u001b[0m | \u001b[0m 19.78   \u001b[0m | \u001b[0m 128.4   \u001b[0m | \u001b[0m 0.633   \u001b[0m |\n",
      "=================================================================================================\n",
      "{'target': -11.100753522057545, 'params': {'_lambda': 0.32125595483930525, 'colsample_bytree': 0.8091782015318496, 'learning_rate': 0.045079832399914796, 'max_depth': 19.962939651538377, 'n_estimators': 88.66374576085676, 'subsample': 0.8834841968721233}}\n",
      "\n"
     ]
    }
   ],
   "source": [
    "from bayes_opt import BayesianOptimization\n",
    "\n",
    "# 하이퍼파라미터 정의\n",
    "pbounds = {\n",
    "'max_depth': (15, 23), \n",
    "'learning_rate': (0.01, 0.3),\n",
    "'n_estimators': (50, 150),\n",
    "#'min_child_weight': (0.1, 1),\n",
    "'subsample': (0.5, 1), \n",
    "'_lambda' : (0.1,1),    \n",
    "#'gamma': (0, 0.3),     \n",
    "'colsample_bytree' :(0.5, 1)\n",
    "#'_alpha' : (0,1)           \n",
    "                      }\n",
    "\n",
    "# Bayesian optimization 객체 생성\n",
    "bo=BayesianOptimization(f=XGB, pbounds=pbounds, verbose=2, random_state=1 )    \n",
    "\n",
    "# 메소드를 이용해 최대화 과정 수행 (파라미터 넣고 목적함수 값 출력하고)\n",
    "bo.maximize(init_points=2, n_iter=50, acq='ei', xi=0.01)\n",
    "\n",
    "# 뽑힌 최적의 하이퍼파라미터 값 확인\n",
    "print(\"{}\\n\".format(bo.max))"
   ]
  },
  {
   "cell_type": "code",
   "execution_count": 6,
   "metadata": {},
   "outputs": [
    {
     "data": {
      "text/plain": [
       "XGBRegressor(colsample_bytree=0.8091782015318496,\n",
       "             learning_rate=0.045079832399914796, max_depth=19, n_estimators=88,\n",
       "             n_jobs=-1, objective='reg:squarederror',\n",
       "             reg_lambda=0.32125595483930525, subsample=0.8834841968721233)"
      ]
     },
     "execution_count": 6,
     "metadata": {},
     "output_type": "execute_result"
    }
   ],
   "source": [
    "import xgboost as xgb\n",
    "\n",
    "# Train + Valid cross-validation을 거친, 최적의 하이퍼파라미터를 사용\n",
    "best_model = xgb.XGBRegressor(\n",
    "objective = 'reg:squarederror',\n",
    "max_depth=int(bo.max['params']['max_depth']),\n",
    "learning_rate=bo.max['params']['learning_rate'],\n",
    "n_estimators=int(bo.max['params']['n_estimators']),\n",
    "#min_child_weight=bo.max['params']['min_child_weight'],\n",
    "subsample=bo.max['params']['subsample'],\n",
    "reg_lambda = bo.max['params']['_lambda'],    \n",
    "#gamma=bo.max['params']['gamma'],\n",
    "colsample_bytree=bo.max['params']['colsample_bytree'],\n",
    "#reg_alpha = bo.max['params']['_alpha']\n",
    "n_jobs=-1\n",
    "                             )\n",
    "# 모델 훈련\n",
    "best_model.fit(X_train, y_train)"
   ]
  },
  {
   "cell_type": "code",
   "execution_count": 7,
   "metadata": {},
   "outputs": [
    {
     "name": "stdout",
     "output_type": "stream",
     "text": [
      "{'target': -11.100753522057545, 'params': {'_lambda': 0.32125595483930525, 'colsample_bytree': 0.8091782015318496, 'learning_rate': 0.045079832399914796, 'max_depth': 19.962939651538377, 'n_estimators': 88.66374576085676, 'subsample': 0.8834841968721233}}\n",
      "\n",
      "-------- 훈련데이터 예측 --------------------------\n",
      "rmse : 3983.649285813125\n",
      "mape : 1.9798104272431423%\n",
      "\n",
      "\n",
      "-------- 검증데이터 예측 --------------------------\n",
      "mape : 11.100753522057545%\n",
      "\n",
      "\n",
      "-------- 테스트데이터 예측 -------------------------\n",
      "rmse : 14358.682556224236\n",
      "mape : 9.46003487679663%\n",
      "\n",
      "\n"
     ]
    }
   ],
   "source": [
    "# 최적의 하이퍼파라미터 값 확인\n",
    "print(\"{}\\n\".format(bo.max))\n",
    "\n",
    "# 훈련데이터 예측\n",
    "y_train_pred = best_model.predict(X_train)\n",
    "print(\"-------- 훈련데이터 예측 --------------------------\")\n",
    "print(\"rmse : {}\".format(np.sqrt(mean_squared_error(y_train, y_train_pred))))\n",
    "print(\"mape : {}%\".format(mean_absolute_percentage_error(y_train, y_train_pred)))\n",
    "print(\"\\n\")\n",
    "\n",
    "# 검증데이터 예측\n",
    "print(\"-------- 검증데이터 예측 --------------------------\")\n",
    "print(\"mape : {}%\".format(-bo.max['target']))\n",
    "print(\"\\n\")\n",
    "\n",
    "# 테스트데이터 예측\n",
    "y_pred = best_model.predict(X_test)\n",
    "print(\"-------- 테스트데이터 예측 -------------------------\")\n",
    "print(\"rmse : {}\".format(np.sqrt(mean_squared_error(y_test, y_pred))))\n",
    "print(\"mape : {}%\".format(mean_absolute_percentage_error(y_test, y_pred)))\n",
    "print(\"\\n\")"
   ]
  },
  {
   "cell_type": "code",
   "execution_count": 8,
   "metadata": {},
   "outputs": [],
   "source": [
    "# mape_list = {}\n",
    "# # 예측값, 실제값을 확인하며 mape 계산 후 mape_list에 삽입 \n",
    "# for idx,value in enumerate(y_test):\n",
    "#     mape_temp = {}\n",
    "#     predicate = int(y_pred[idx])\n",
    "#     mape = abs((value - predicate) / value) * 100\n",
    "#     mape_temp['pred'] = predicate\n",
    "#     mape_temp['real'] = value\n",
    "#     mape_temp['mape'] = mape\n",
    "#     mape_list[idx] = mape_temp\n",
    "# mape_list_sort = sorted(mape_list.values(), key=lambda x:(x['mape']), reverse=True)\n",
    "# mape_list_sort  "
   ]
  },
  {
   "cell_type": "code",
   "execution_count": null,
   "metadata": {},
   "outputs": [],
   "source": []
  }
 ],
 "metadata": {
  "kernelspec": {
   "display_name": "Python 3",
   "language": "python",
   "name": "python3"
  },
  "language_info": {
   "codemirror_mode": {
    "name": "ipython",
    "version": 3
   },
   "file_extension": ".py",
   "mimetype": "text/x-python",
   "name": "python",
   "nbconvert_exporter": "python",
   "pygments_lexer": "ipython3",
   "version": "3.7.7"
  }
 },
 "nbformat": 4,
 "nbformat_minor": 4
}
