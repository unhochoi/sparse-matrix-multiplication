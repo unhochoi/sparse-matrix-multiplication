{
 "cells": [
  {
   "cell_type": "code",
   "execution_count": 1,
   "metadata": {},
   "outputs": [],
   "source": [
    "import pandas as pd\n",
    "import numpy as np\n",
    "\n",
    "train = pd.read_csv('/Users/bdlab/Desktop/sparse-matrix-multiplication/scenario-extraction/d-optimal/d-optimal-of-spmm/train-test-csv/1164-train-from-1293-spmm-over-3s-and-add-feature.csv')\n",
    "test = pd.read_csv('/Users/bdlab/Desktop/sparse-matrix-multiplication/scenario-extraction/d-optimal/d-optimal-of-spmm/train-test-csv/129-test-from-1293-spmm-over-3s-and-add-feature.csv')"
   ]
  },
  {
   "cell_type": "code",
   "execution_count": 2,
   "metadata": {},
   "outputs": [],
   "source": [
    "# Train + Valid\n",
    "X_train = train[['lr','lc','rc','ld','rd','lnnz','rnnz','lr*lc','lc*rc','lr*rc','lr*lc*rc','ld*rd','lr*rc*ld*rd','lr*lc*rc*ld*rd']] \n",
    "y_train = train['sp_smdm']\n",
    "\n",
    "# Test\n",
    "X_test = test[['lr','lc','rc','ld','rd','lnnz','rnnz','lr*lc','lc*rc','lr*rc','lr*lc*rc','ld*rd','lr*rc*ld*rd','lr*lc*rc*ld*rd']] \n",
    "y_test = test['sp_smdm']"
   ]
  },
  {
   "cell_type": "code",
   "execution_count": 3,
   "metadata": {},
   "outputs": [],
   "source": [
    "from sklearn.metrics import r2_score, mean_squared_error\n",
    "\n",
    "# Metric\n",
    "def mean_absolute_percentage_error(y_test, y_pred):\n",
    "    y_test, y_pred = np.array(y_test), np.array(y_pred)\n",
    "    return np.mean(np.abs((y_test - y_pred) / y_test)) * 100\n",
    "\n",
    "def custom_scoring(real, pred):\n",
    "    rmse = np.sqrt(mean_squared_error(real, pred))\n",
    "    r2 = r2_score(real, pred)\n",
    "    mape = mean_absolute_percentage_error(real, pred)\n",
    "    return mape"
   ]
  },
  {
   "cell_type": "code",
   "execution_count": 4,
   "metadata": {},
   "outputs": [],
   "source": [
    "import xgboost as xgb\n",
    "from sklearn.model_selection import cross_val_score\n",
    "from sklearn.model_selection import KFold\n",
    "from sklearn.metrics import make_scorer\n",
    "\n",
    "# 탐색 대상 함수 (XGBRegressor)\n",
    "def XGB(\n",
    "max_depth,\n",
    "learning_rate, \n",
    "n_estimators, \n",
    "min_child_weight, \n",
    "subsample,\n",
    "_lambda,\n",
    "#gamma ,\n",
    "#colsample_bytree, \n",
    "#_alpha,\n",
    "silent=True, \n",
    "n_jobs=-1):\n",
    "    \n",
    "    # 모델 정의\n",
    "    model = xgb.XGBRegressor( \n",
    "objective = 'reg:squarederror',\n",
    "max_depth=int(max_depth),\n",
    "learning_rate=learning_rate,\n",
    "n_estimators=int(n_estimators),\n",
    "min_child_weight=min_child_weight,\n",
    "subsample=subsample,\n",
    "reg_lambda=_lambda,        \n",
    "#gamma=gamma,\n",
    "#colsample_bytree=colsample_bytree, \n",
    "#reg_alpha=_alpha\n",
    "n_jobs=n_jobs        \n",
    "                              )\n",
    "    \n",
    "    # bayesian optimization을 통해 파라미터를 받아\n",
    "    # Train을 Train + Validation으로 나눠 cross-validation 성능 확인\n",
    "    kfold = KFold(n_splits=9, shuffle = True, random_state=0)\n",
    "\n",
    "    # cross-validation 평균 성능 성능 확인\n",
    "    score = cross_val_score(model,\n",
    "                            X_train, \n",
    "                            y_train, \n",
    "                            cv=kfold,\n",
    "                            scoring=make_scorer(custom_scoring,greater_is_better=False),\n",
    "                            n_jobs=-1\n",
    "                           ).mean()\n",
    "    \n",
    "    return score"
   ]
  },
  {
   "cell_type": "code",
   "execution_count": 5,
   "metadata": {},
   "outputs": [
    {
     "name": "stdout",
     "output_type": "stream",
     "text": [
      "|   iter    |  target   |  _lambda  | learni... | max_depth | min_ch... | n_esti... | subsample |\n",
      "-------------------------------------------------------------------------------------------------\n",
      "| \u001b[0m 1       \u001b[0m | \u001b[0m-23.3    \u001b[0m | \u001b[0m 0.4753  \u001b[0m | \u001b[0m 0.2189  \u001b[0m | \u001b[0m 15.0    \u001b[0m | \u001b[0m 0.3721  \u001b[0m | \u001b[0m 57.34   \u001b[0m | \u001b[0m 0.5462  \u001b[0m |\n",
      "| \u001b[95m 2       \u001b[0m | \u001b[95m-20.09   \u001b[0m | \u001b[95m 0.2676  \u001b[0m | \u001b[95m 0.1102  \u001b[0m | \u001b[95m 18.97   \u001b[0m | \u001b[95m 0.5849  \u001b[0m | \u001b[95m 70.96   \u001b[0m | \u001b[95m 0.8426  \u001b[0m |\n",
      "| \u001b[0m 3       \u001b[0m | \u001b[0m-20.19   \u001b[0m | \u001b[0m 0.3008  \u001b[0m | \u001b[0m 0.1009  \u001b[0m | \u001b[0m 18.94   \u001b[0m | \u001b[0m 0.3342  \u001b[0m | \u001b[0m 71.19   \u001b[0m | \u001b[0m 0.7811  \u001b[0m |\n",
      "| \u001b[0m 4       \u001b[0m | \u001b[0m-24.03   \u001b[0m | \u001b[0m 0.1     \u001b[0m | \u001b[0m 0.3     \u001b[0m | \u001b[0m 21.66   \u001b[0m | \u001b[0m 1.0     \u001b[0m | \u001b[0m 68.57   \u001b[0m | \u001b[0m 1.0     \u001b[0m |\n",
      "| \u001b[0m 5       \u001b[0m | \u001b[0m-22.88   \u001b[0m | \u001b[0m 0.1793  \u001b[0m | \u001b[0m 0.06113 \u001b[0m | \u001b[0m 17.73   \u001b[0m | \u001b[0m 1.0     \u001b[0m | \u001b[0m 70.98   \u001b[0m | \u001b[0m 1.0     \u001b[0m |\n",
      "| \u001b[0m 6       \u001b[0m | \u001b[0m-20.67   \u001b[0m | \u001b[0m 0.3988  \u001b[0m | \u001b[0m 0.1052  \u001b[0m | \u001b[0m 19.66   \u001b[0m | \u001b[0m 0.5688  \u001b[0m | \u001b[0m 70.82   \u001b[0m | \u001b[0m 0.7521  \u001b[0m |\n",
      "| \u001b[0m 7       \u001b[0m | \u001b[0m-24.02   \u001b[0m | \u001b[0m 0.1     \u001b[0m | \u001b[0m 0.3     \u001b[0m | \u001b[0m 19.28   \u001b[0m | \u001b[0m 0.7756  \u001b[0m | \u001b[0m 71.43   \u001b[0m | \u001b[0m 1.0     \u001b[0m |\n",
      "| \u001b[0m 8       \u001b[0m | \u001b[0m-21.82   \u001b[0m | \u001b[0m 0.7246  \u001b[0m | \u001b[0m 0.1763  \u001b[0m | \u001b[0m 18.29   \u001b[0m | \u001b[0m 0.7388  \u001b[0m | \u001b[0m 89.87   \u001b[0m | \u001b[0m 0.5152  \u001b[0m |\n",
      "| \u001b[0m 9       \u001b[0m | \u001b[0m-21.8    \u001b[0m | \u001b[0m 0.35    \u001b[0m | \u001b[0m 0.2255  \u001b[0m | \u001b[0m 19.15   \u001b[0m | \u001b[0m 0.5955  \u001b[0m | \u001b[0m 70.98   \u001b[0m | \u001b[0m 0.71    \u001b[0m |\n",
      "| \u001b[0m 10      \u001b[0m | \u001b[0m-23.42   \u001b[0m | \u001b[0m 0.1042  \u001b[0m | \u001b[0m 0.2481  \u001b[0m | \u001b[0m 20.12   \u001b[0m | \u001b[0m 0.583   \u001b[0m | \u001b[0m 86.92   \u001b[0m | \u001b[0m 0.9726  \u001b[0m |\n",
      "| \u001b[0m 11      \u001b[0m | \u001b[0m-21.28   \u001b[0m | \u001b[0m 0.3961  \u001b[0m | \u001b[0m 0.09161 \u001b[0m | \u001b[0m 18.76   \u001b[0m | \u001b[0m 0.5253  \u001b[0m | \u001b[0m 71.08   \u001b[0m | \u001b[0m 0.966   \u001b[0m |\n",
      "| \u001b[0m 12      \u001b[0m | \u001b[0m-23.93   \u001b[0m | \u001b[0m 0.1106  \u001b[0m | \u001b[0m 0.2932  \u001b[0m | \u001b[0m 18.96   \u001b[0m | \u001b[0m 0.4983  \u001b[0m | \u001b[0m 70.87   \u001b[0m | \u001b[0m 0.9987  \u001b[0m |\n",
      "| \u001b[0m 13      \u001b[0m | \u001b[0m-20.29   \u001b[0m | \u001b[0m 0.99    \u001b[0m | \u001b[0m 0.2263  \u001b[0m | \u001b[0m 18.23   \u001b[0m | \u001b[0m 0.4368  \u001b[0m | \u001b[0m 66.31   \u001b[0m | \u001b[0m 0.7904  \u001b[0m |\n",
      "| \u001b[0m 14      \u001b[0m | \u001b[0m-21.04   \u001b[0m | \u001b[0m 0.4835  \u001b[0m | \u001b[0m 0.161   \u001b[0m | \u001b[0m 19.71   \u001b[0m | \u001b[0m 0.6716  \u001b[0m | \u001b[0m 70.92   \u001b[0m | \u001b[0m 0.7423  \u001b[0m |\n",
      "| \u001b[0m 15      \u001b[0m | \u001b[0m-21.34   \u001b[0m | \u001b[0m 0.8865  \u001b[0m | \u001b[0m 0.2977  \u001b[0m | \u001b[0m 18.89   \u001b[0m | \u001b[0m 0.8767  \u001b[0m | \u001b[0m 89.58   \u001b[0m | \u001b[0m 0.8625  \u001b[0m |\n",
      "| \u001b[0m 16      \u001b[0m | \u001b[0m-22.64   \u001b[0m | \u001b[0m 0.2771  \u001b[0m | \u001b[0m 0.232   \u001b[0m | \u001b[0m 18.95   \u001b[0m | \u001b[0m 0.2348  \u001b[0m | \u001b[0m 71.04   \u001b[0m | \u001b[0m 0.6097  \u001b[0m |\n",
      "| \u001b[95m 17      \u001b[0m | \u001b[95m-19.09   \u001b[0m | \u001b[95m 0.9998  \u001b[0m | \u001b[95m 0.03406 \u001b[0m | \u001b[95m 18.1    \u001b[0m | \u001b[95m 0.3761  \u001b[0m | \u001b[95m 66.39   \u001b[0m | \u001b[95m 0.6259  \u001b[0m |\n",
      "| \u001b[0m 18      \u001b[0m | \u001b[0m-21.58   \u001b[0m | \u001b[0m 0.1688  \u001b[0m | \u001b[0m 0.2044  \u001b[0m | \u001b[0m 21.91   \u001b[0m | \u001b[0m 0.7172  \u001b[0m | \u001b[0m 63.99   \u001b[0m | \u001b[0m 0.8086  \u001b[0m |\n",
      "| \u001b[0m 19      \u001b[0m | \u001b[0m-50.82   \u001b[0m | \u001b[0m 0.8485  \u001b[0m | \u001b[0m 0.01214 \u001b[0m | \u001b[0m 15.39   \u001b[0m | \u001b[0m 0.827   \u001b[0m | \u001b[0m 54.52   \u001b[0m | \u001b[0m 0.8782  \u001b[0m |\n",
      "| \u001b[0m 20      \u001b[0m | \u001b[0m-50.29   \u001b[0m | \u001b[0m 1.0     \u001b[0m | \u001b[0m 0.01    \u001b[0m | \u001b[0m 17.12   \u001b[0m | \u001b[0m 0.1     \u001b[0m | \u001b[0m 66.83   \u001b[0m | \u001b[0m 0.5     \u001b[0m |\n",
      "| \u001b[0m 21      \u001b[0m | \u001b[0m-49.8    \u001b[0m | \u001b[0m 0.6086  \u001b[0m | \u001b[0m 0.01    \u001b[0m | \u001b[0m 18.52   \u001b[0m | \u001b[0m 0.5214  \u001b[0m | \u001b[0m 66.28   \u001b[0m | \u001b[0m 0.5799  \u001b[0m |\n",
      "| \u001b[0m 22      \u001b[0m | \u001b[0m-48.79   \u001b[0m | \u001b[0m 0.6449  \u001b[0m | \u001b[0m 0.01    \u001b[0m | \u001b[0m 19.38   \u001b[0m | \u001b[0m 0.2919  \u001b[0m | \u001b[0m 71.1    \u001b[0m | \u001b[0m 1.0     \u001b[0m |\n",
      "| \u001b[0m 23      \u001b[0m | \u001b[0m-22.59   \u001b[0m | \u001b[0m 0.2113  \u001b[0m | \u001b[0m 0.1763  \u001b[0m | \u001b[0m 19.64   \u001b[0m | \u001b[0m 0.7962  \u001b[0m | \u001b[0m 70.77   \u001b[0m | \u001b[0m 0.5901  \u001b[0m |\n",
      "| \u001b[0m 24      \u001b[0m | \u001b[0m-20.16   \u001b[0m | \u001b[0m 0.2188  \u001b[0m | \u001b[0m 0.09031 \u001b[0m | \u001b[0m 18.48   \u001b[0m | \u001b[0m 0.5373  \u001b[0m | \u001b[0m 71.4    \u001b[0m | \u001b[0m 0.5067  \u001b[0m |\n",
      "| \u001b[0m 25      \u001b[0m | \u001b[0m-20.77   \u001b[0m | \u001b[0m 0.5351  \u001b[0m | \u001b[0m 0.2305  \u001b[0m | \u001b[0m 23.11   \u001b[0m | \u001b[0m 0.8029  \u001b[0m | \u001b[0m 93.8    \u001b[0m | \u001b[0m 0.856   \u001b[0m |\n",
      "| \u001b[0m 26      \u001b[0m | \u001b[0m-22.83   \u001b[0m | \u001b[0m 0.4406  \u001b[0m | \u001b[0m 0.03399 \u001b[0m | \u001b[0m 20.07   \u001b[0m | \u001b[0m 0.482   \u001b[0m | \u001b[0m 51.45   \u001b[0m | \u001b[0m 0.578   \u001b[0m |\n",
      "| \u001b[0m 27      \u001b[0m | \u001b[0m-24.35   \u001b[0m | \u001b[0m 0.1885  \u001b[0m | \u001b[0m 0.2628  \u001b[0m | \u001b[0m 18.94   \u001b[0m | \u001b[0m 0.494   \u001b[0m | \u001b[0m 71.67   \u001b[0m | \u001b[0m 0.568   \u001b[0m |\n",
      "| \u001b[0m 28      \u001b[0m | \u001b[0m-20.7    \u001b[0m | \u001b[0m 0.8382  \u001b[0m | \u001b[0m 0.2583  \u001b[0m | \u001b[0m 19.14   \u001b[0m | \u001b[0m 0.8352  \u001b[0m | \u001b[0m 99.77   \u001b[0m | \u001b[0m 0.8486  \u001b[0m |\n",
      "| \u001b[0m 29      \u001b[0m | \u001b[0m-23.75   \u001b[0m | \u001b[0m 0.3756  \u001b[0m | \u001b[0m 0.03178 \u001b[0m | \u001b[0m 19.93   \u001b[0m | \u001b[0m 0.4158  \u001b[0m | \u001b[0m 51.31   \u001b[0m | \u001b[0m 0.5441  \u001b[0m |\n",
      "| \u001b[0m 30      \u001b[0m | \u001b[0m-19.75   \u001b[0m | \u001b[0m 0.1535  \u001b[0m | \u001b[0m 0.05098 \u001b[0m | \u001b[0m 18.78   \u001b[0m | \u001b[0m 0.5541  \u001b[0m | \u001b[0m 71.17   \u001b[0m | \u001b[0m 0.6771  \u001b[0m |\n",
      "| \u001b[0m 31      \u001b[0m | \u001b[0m-21.39   \u001b[0m | \u001b[0m 0.1802  \u001b[0m | \u001b[0m 0.167   \u001b[0m | \u001b[0m 18.23   \u001b[0m | \u001b[0m 0.6222  \u001b[0m | \u001b[0m 71.11   \u001b[0m | \u001b[0m 0.7207  \u001b[0m |\n",
      "| \u001b[0m 32      \u001b[0m | \u001b[0m-19.84   \u001b[0m | \u001b[0m 0.1932  \u001b[0m | \u001b[0m 0.03078 \u001b[0m | \u001b[0m 18.53   \u001b[0m | \u001b[0m 0.2094  \u001b[0m | \u001b[0m 71.31   \u001b[0m | \u001b[0m 0.7917  \u001b[0m |\n",
      "| \u001b[0m 33      \u001b[0m | \u001b[0m-21.33   \u001b[0m | \u001b[0m 0.4382  \u001b[0m | \u001b[0m 0.1422  \u001b[0m | \u001b[0m 20.12   \u001b[0m | \u001b[0m 0.6057  \u001b[0m | \u001b[0m 70.66   \u001b[0m | \u001b[0m 0.677   \u001b[0m |\n",
      "| \u001b[0m 34      \u001b[0m | \u001b[0m-21.04   \u001b[0m | \u001b[0m 0.423   \u001b[0m | \u001b[0m 0.1417  \u001b[0m | \u001b[0m 15.98   \u001b[0m | \u001b[0m 0.535   \u001b[0m | \u001b[0m 65.05   \u001b[0m | \u001b[0m 0.9526  \u001b[0m |\n",
      "| \u001b[0m 35      \u001b[0m | \u001b[0m-22.46   \u001b[0m | \u001b[0m 0.4955  \u001b[0m | \u001b[0m 0.1257  \u001b[0m | \u001b[0m 18.64   \u001b[0m | \u001b[0m 0.7569  \u001b[0m | \u001b[0m 70.96   \u001b[0m | \u001b[0m 0.5     \u001b[0m |\n",
      "| \u001b[0m 36      \u001b[0m | \u001b[0m-21.09   \u001b[0m | \u001b[0m 0.2111  \u001b[0m | \u001b[0m 0.05746 \u001b[0m | \u001b[0m 20.68   \u001b[0m | \u001b[0m 0.2316  \u001b[0m | \u001b[0m 56.35   \u001b[0m | \u001b[0m 0.9852  \u001b[0m |\n",
      "| \u001b[0m 37      \u001b[0m | \u001b[0m-21.46   \u001b[0m | \u001b[0m 0.5987  \u001b[0m | \u001b[0m 0.2211  \u001b[0m | \u001b[0m 19.72   \u001b[0m | \u001b[0m 0.7475  \u001b[0m | \u001b[0m 70.45   \u001b[0m | \u001b[0m 0.7019  \u001b[0m |\n",
      "| \u001b[0m 38      \u001b[0m | \u001b[0m-21.07   \u001b[0m | \u001b[0m 0.9347  \u001b[0m | \u001b[0m 0.07703 \u001b[0m | \u001b[0m 17.77   \u001b[0m | \u001b[0m 0.4902  \u001b[0m | \u001b[0m 66.32   \u001b[0m | \u001b[0m 0.9824  \u001b[0m |\n",
      "| \u001b[0m 39      \u001b[0m | \u001b[0m-19.86   \u001b[0m | \u001b[0m 0.596   \u001b[0m | \u001b[0m 0.0678  \u001b[0m | \u001b[0m 18.35   \u001b[0m | \u001b[0m 0.4467  \u001b[0m | \u001b[0m 71.51   \u001b[0m | \u001b[0m 0.8716  \u001b[0m |\n",
      "| \u001b[0m 40      \u001b[0m | \u001b[0m-20.98   \u001b[0m | \u001b[0m 0.2764  \u001b[0m | \u001b[0m 0.02924 \u001b[0m | \u001b[0m 18.05   \u001b[0m | \u001b[0m 0.217   \u001b[0m | \u001b[0m 71.44   \u001b[0m | \u001b[0m 0.9248  \u001b[0m |\n",
      "| \u001b[0m 41      \u001b[0m | \u001b[0m-23.25   \u001b[0m | \u001b[0m 0.2681  \u001b[0m | \u001b[0m 0.2175  \u001b[0m | \u001b[0m 22.08   \u001b[0m | \u001b[0m 0.8024  \u001b[0m | \u001b[0m 76.11   \u001b[0m | \u001b[0m 0.6356  \u001b[0m |\n",
      "| \u001b[0m 42      \u001b[0m | \u001b[0m-22.33   \u001b[0m | \u001b[0m 0.7198  \u001b[0m | \u001b[0m 0.2743  \u001b[0m | \u001b[0m 18.17   \u001b[0m | \u001b[0m 0.3351  \u001b[0m | \u001b[0m 71.26   \u001b[0m | \u001b[0m 0.604   \u001b[0m |\n",
      "| \u001b[0m 43      \u001b[0m | \u001b[0m-21.14   \u001b[0m | \u001b[0m 0.9566  \u001b[0m | \u001b[0m 0.2278  \u001b[0m | \u001b[0m 17.9    \u001b[0m | \u001b[0m 0.233   \u001b[0m | \u001b[0m 66.05   \u001b[0m | \u001b[0m 0.8253  \u001b[0m |\n",
      "| \u001b[0m 44      \u001b[0m | \u001b[0m-20.76   \u001b[0m | \u001b[0m 0.2438  \u001b[0m | \u001b[0m 0.1992  \u001b[0m | \u001b[0m 18.37   \u001b[0m | \u001b[0m 0.7103  \u001b[0m | \u001b[0m 71.79   \u001b[0m | \u001b[0m 0.9115  \u001b[0m |\n",
      "| \u001b[0m 45      \u001b[0m | \u001b[0m-46.98   \u001b[0m | \u001b[0m 0.4273  \u001b[0m | \u001b[0m 0.01    \u001b[0m | \u001b[0m 18.02   \u001b[0m | \u001b[0m 0.6619  \u001b[0m | \u001b[0m 71.68   \u001b[0m | \u001b[0m 0.5928  \u001b[0m |\n",
      "| \u001b[0m 46      \u001b[0m | \u001b[0m-22.48   \u001b[0m | \u001b[0m 0.2975  \u001b[0m | \u001b[0m 0.2852  \u001b[0m | \u001b[0m 18.41   \u001b[0m | \u001b[0m 0.2121  \u001b[0m | \u001b[0m 71.98   \u001b[0m | \u001b[0m 0.977   \u001b[0m |\n",
      "| \u001b[0m 47      \u001b[0m | \u001b[0m-22.65   \u001b[0m | \u001b[0m 0.9397  \u001b[0m | \u001b[0m 0.2353  \u001b[0m | \u001b[0m 19.0    \u001b[0m | \u001b[0m 0.1133  \u001b[0m | \u001b[0m 75.2    \u001b[0m | \u001b[0m 0.6245  \u001b[0m |\n",
      "| \u001b[0m 48      \u001b[0m | \u001b[0m-23.47   \u001b[0m | \u001b[0m 0.5169  \u001b[0m | \u001b[0m 0.2815  \u001b[0m | \u001b[0m 18.48   \u001b[0m | \u001b[0m 0.2834  \u001b[0m | \u001b[0m 71.49   \u001b[0m | \u001b[0m 0.6785  \u001b[0m |\n",
      "| \u001b[0m 49      \u001b[0m | \u001b[0m-25.4    \u001b[0m | \u001b[0m 0.1012  \u001b[0m | \u001b[0m 0.2968  \u001b[0m | \u001b[0m 18.99   \u001b[0m | \u001b[0m 0.2979  \u001b[0m | \u001b[0m 70.99   \u001b[0m | \u001b[0m 0.5531  \u001b[0m |\n",
      "| \u001b[0m 50      \u001b[0m | \u001b[0m-21.02   \u001b[0m | \u001b[0m 0.7511  \u001b[0m | \u001b[0m 0.03023 \u001b[0m | \u001b[0m 18.07   \u001b[0m | \u001b[0m 0.4787  \u001b[0m | \u001b[0m 70.96   \u001b[0m | \u001b[0m 0.9787  \u001b[0m |\n"
     ]
    },
    {
     "name": "stdout",
     "output_type": "stream",
     "text": [
      "| \u001b[0m 51      \u001b[0m | \u001b[0m-22.03   \u001b[0m | \u001b[0m 0.2373  \u001b[0m | \u001b[0m 0.1692  \u001b[0m | \u001b[0m 18.24   \u001b[0m | \u001b[0m 0.1974  \u001b[0m | \u001b[0m 71.29   \u001b[0m | \u001b[0m 0.9836  \u001b[0m |\n",
      "| \u001b[0m 52      \u001b[0m | \u001b[0m-20.45   \u001b[0m | \u001b[0m 0.1305  \u001b[0m | \u001b[0m 0.09845 \u001b[0m | \u001b[0m 15.54   \u001b[0m | \u001b[0m 0.6377  \u001b[0m | \u001b[0m 89.21   \u001b[0m | \u001b[0m 0.633   \u001b[0m |\n",
      "=================================================================================================\n",
      "{'target': -19.089683174022092, 'params': {'_lambda': 0.9998490383930189, 'learning_rate': 0.03405736231340852, 'max_depth': 18.09981371031183, 'min_child_weight': 0.37607617264488746, 'n_estimators': 66.38685400108382, 'subsample': 0.6258819254429664}}\n",
      "\n"
     ]
    }
   ],
   "source": [
    "from bayes_opt import BayesianOptimization\n",
    "\n",
    "# 하이퍼파라미터 정의\n",
    "pbounds = {\n",
    "'max_depth': (11, 14), \n",
    "'learning_rate': (0.01, 0.3),\n",
    "'n_estimators': (50, 100),\n",
    "'min_child_weight': (0.1, 1),\n",
    "'subsample': (0.5, 1), \n",
    "'_lambda' : (0.1,1),    \n",
    "#'gamma': (0, 0.3),     \n",
    "#'colsample_bytree' :(0.5, 1)\n",
    "#'_alpha' : (0,1)           \n",
    "                      }\n",
    "\n",
    "# Bayesian optimization 객체 생성\n",
    "bo=BayesianOptimization(f=XGB, pbounds=pbounds, verbose=2, random_state=1 )    \n",
    "\n",
    "# 메소드를 이용해 최대화 과정 수행 (파라미터 넣고 목적함수 값 출력하고)\n",
    "bo.maximize(init_points=2, n_iter=50, acq='ei', xi=0.01)\n",
    "\n",
    "# 뽑힌 최적의 하이퍼파라미터 값 확인\n",
    "print(\"{}\\n\".format(bo.max))"
   ]
  },
  {
   "cell_type": "code",
   "execution_count": 6,
   "metadata": {},
   "outputs": [
    {
     "data": {
      "text/plain": [
       "XGBRegressor(learning_rate=0.03405736231340852, max_depth=18,\n",
       "             min_child_weight=0.37607617264488746, n_estimators=66, n_jobs=-1,\n",
       "             objective='reg:squarederror', reg_lambda=0.9998490383930189,\n",
       "             subsample=0.6258819254429664)"
      ]
     },
     "execution_count": 6,
     "metadata": {},
     "output_type": "execute_result"
    }
   ],
   "source": [
    "import xgboost as xgb\n",
    "\n",
    "# Train + Valid cross-validation을 거친, 최적의 하이퍼파라미터를 사용\n",
    "best_model = xgb.XGBRegressor(\n",
    "objective = 'reg:squarederror',\n",
    "max_depth=int(bo.max['params']['max_depth']),\n",
    "learning_rate=bo.max['params']['learning_rate'],\n",
    "n_estimators=int(bo.max['params']['n_estimators']),\n",
    "min_child_weight=bo.max['params']['min_child_weight'],\n",
    "subsample=bo.max['params']['subsample'],\n",
    "reg_lambda = bo.max['params']['_lambda'],    \n",
    "#gamma=bo.max['params']['gamma'],\n",
    "#colsample_bytree=bo.max['params']['colsample_bytree'],\n",
    "#reg_alpha = bo.max['params']['_alpha']\n",
    "n_jobs=-1\n",
    "                             )\n",
    "# 모델 훈련\n",
    "best_model.fit(X_train, y_train)"
   ]
  },
  {
   "cell_type": "code",
   "execution_count": 7,
   "metadata": {},
   "outputs": [
    {
     "name": "stdout",
     "output_type": "stream",
     "text": [
      "{'target': -19.089683174022092, 'params': {'_lambda': 0.9998490383930189, 'learning_rate': 0.03405736231340852, 'max_depth': 18.09981371031183, 'min_child_weight': 0.37607617264488746, 'n_estimators': 66.38685400108382, 'subsample': 0.6258819254429664}}\n",
      "\n",
      "-------- train -> train -------------------------\n",
      "rmse : 24209.57388391213\n",
      "mape : 11.49255574114531%\n",
      "\n",
      "\n",
      "-------- train -> dev (cross-validation) --------\n",
      "mape : 19.089683174022092%\n",
      "\n",
      "\n",
      "-------- train -> test --------------------------\n",
      "rmse : 19251.545947353585\n",
      "mape : 17.044703043818103%\n",
      "\n",
      "\n"
     ]
    }
   ],
   "source": [
    "# 최적의 하이퍼파라미터 값 확인\n",
    "print(\"{}\\n\".format(bo.max))\n",
    "\n",
    "# Train -> Train 에러율\n",
    "y_train_pred = best_model.predict(X_train)\n",
    "print(\"-------- train -> train -------------------------\")\n",
    "print(\"rmse : {}\".format(np.sqrt(mean_squared_error(y_train, y_train_pred))))\n",
    "print(\"mape : {}%\".format(mean_absolute_percentage_error(y_train, y_train_pred)))\n",
    "print(\"\\n\")\n",
    "\n",
    "# Train -> dev (cross-validation) 에러율\n",
    "print(\"-------- train -> dev (cross-validation) --------\")\n",
    "print(\"mape : {}%\".format(-bo.max['target']))\n",
    "print(\"\\n\")\n",
    "\n",
    "# Train -> Test 에러율\n",
    "y_pred = best_model.predict(X_test)\n",
    "print(\"-------- train -> test --------------------------\")\n",
    "print(\"rmse : {}\".format(np.sqrt(mean_squared_error(y_test, y_pred))))\n",
    "print(\"mape : {}%\".format(mean_absolute_percentage_error(y_test, y_pred)))\n",
    "print(\"\\n\")"
   ]
  },
  {
   "cell_type": "code",
   "execution_count": 9,
   "metadata": {},
   "outputs": [],
   "source": [
    "# mape_list = {}\n",
    "# # 예측값, 실제값을 확인하며 mape 계산 후 mape_list에 삽입 \n",
    "# for idx,value in enumerate(y_test):\n",
    "#     mape_temp = {}\n",
    "#     predicate = int(y_pred[idx])\n",
    "#     mape = abs((value - predicate) / value) * 100\n",
    "#     mape_temp['pred'] = predicate\n",
    "#     mape_temp['real'] = value\n",
    "#     mape_temp['mape'] = mape\n",
    "#     mape_list[idx] = mape_temp\n",
    "# mape_list_sort = sorted(mape_list.values(), key=lambda x:(x['mape']), reverse=True)\n",
    "# mape_list_sort  "
   ]
  }
 ],
 "metadata": {
  "kernelspec": {
   "display_name": "Python 3",
   "language": "python",
   "name": "python3"
  },
  "language_info": {
   "codemirror_mode": {
    "name": "ipython",
    "version": 3
   },
   "file_extension": ".py",
   "mimetype": "text/x-python",
   "name": "python",
   "nbconvert_exporter": "python",
   "pygments_lexer": "ipython3",
   "version": "3.7.7"
  }
 },
 "nbformat": 4,
 "nbformat_minor": 4
}
