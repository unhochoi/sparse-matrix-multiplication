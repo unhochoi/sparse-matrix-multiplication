{
 "cells": [
  {
   "cell_type": "code",
   "execution_count": 1,
   "metadata": {},
   "outputs": [],
   "source": [
    "import pandas as pd\n",
    "import numpy as np\n",
    "\n",
    "# 1727, 191\n",
    "train = pd.read_csv('/Users/bdlab/Desktop/sparse-matrix-multiplication/scenario-extraction/d-optimal/d-optimal-of-spmm/train-test-csv/1727-nonsquare-train-from-1918-nonsquare-spmm-over-3s.csv')\n",
    "test = pd.read_csv('/Users/bdlab/Desktop/sparse-matrix-multiplication/scenario-extraction/d-optimal/d-optimal-of-spmm/train-test-csv/191-nonsquare-test-from-1918-nonsquare-spmm-over-3s.csv')"
   ]
  },
  {
   "cell_type": "code",
   "execution_count": 2,
   "metadata": {},
   "outputs": [],
   "source": [
    "# #  feature 5개 추가 -> MAPE 13\n",
    "\n",
    "# # Train + Valid\n",
    "# X_train = train[['lr','lc','rc','ld','rd','lnnz','rnnz','lr*lc','lc*rc','lr*rc','lr*lc*rc','ld*rd','lr*rc*ld*rd','lr*lc*rc*ld*rd','lnnz*rnnz','lnnz+rnnz','lnnz+lc*rc','lr*lc+rnnz','lr*lc+lc*rc']] \n",
    "# y_train = train['bz_smdm']\n",
    "\n",
    "# # Test\n",
    "# X_test = test[['lr','lc','rc','ld','rd','lnnz','rnnz','lr*lc','lc*rc','lr*rc','lr*lc*rc','ld*rd','lr*rc*ld*rd','lr*lc*rc*ld*rd','lnnz*rnnz','lnnz+rnnz','lnnz+lc*rc','lr*lc+rnnz','lr*lc+lc*rc']] \n",
    "# y_test = test['bz_smdm']"
   ]
  },
  {
   "cell_type": "code",
   "execution_count": 3,
   "metadata": {},
   "outputs": [],
   "source": [
    "#  feature 4개 추가 -> MAPE 12.3\n",
    "\n",
    "# Train + Valid\n",
    "X_train = train[['lr','lc','rc','ld','rd','lnnz','rnnz','lr*lc','lc*rc','lr*rc','lr*lc*rc','ld*rd','lr*rc*ld*rd','lr*lc*rc*ld*rd','lnnz*rnnz','lnnz+rnnz','lnnz+lc*rc','lr*lc+lc*rc']] \n",
    "y_train = train['bz_smdm']\n",
    "\n",
    "# Test\n",
    "X_test = test[['lr','lc','rc','ld','rd','lnnz','rnnz','lr*lc','lc*rc','lr*rc','lr*lc*rc','ld*rd','lr*rc*ld*rd','lr*lc*rc*ld*rd','lnnz*rnnz','lnnz+rnnz','lnnz+lc*rc','lr*lc+lc*rc']] \n",
    "y_test = test['bz_smdm']"
   ]
  },
  {
   "cell_type": "code",
   "execution_count": 4,
   "metadata": {},
   "outputs": [],
   "source": [
    "# #  feature 1개 추가 -> MAPE 14\n",
    "\n",
    "# # Train + Valid\n",
    "# X_train = train[['lr','lc','rc','ld','rd','lnnz','rnnz','lr*lc','lc*rc','lr*rc','lr*lc*rc','ld*rd','lr*rc*ld*rd','lr*lc*rc*ld*rd','lnnz*rnnz']] \n",
    "# y_train = train['bz_smdm']\n",
    "\n",
    "# # Test\n",
    "# X_test = test[['lr','lc','rc','ld','rd','lnnz','rnnz','lr*lc','lc*rc','lr*rc','lr*lc*rc','ld*rd','lr*rc*ld*rd','lr*lc*rc*ld*rd','lnnz*rnnz']] \n",
    "# y_test = test['bz_smdm']"
   ]
  },
  {
   "cell_type": "code",
   "execution_count": 5,
   "metadata": {},
   "outputs": [],
   "source": [
    "from sklearn.metrics import r2_score, mean_squared_error\n",
    "\n",
    "# Metric\n",
    "def mean_absolute_percentage_error(y_test, y_pred):\n",
    "    y_test, y_pred = np.array(y_test), np.array(y_pred)\n",
    "    return np.mean(np.abs((y_test - y_pred) / y_test)) * 100\n",
    "\n",
    "def custom_scoring(real, pred):\n",
    "    rmse = np.sqrt(mean_squared_error(real, pred))\n",
    "    r2 = r2_score(real, pred)\n",
    "    mape = mean_absolute_percentage_error(real, pred)\n",
    "    return mape"
   ]
  },
  {
   "cell_type": "code",
   "execution_count": 6,
   "metadata": {},
   "outputs": [],
   "source": [
    "import xgboost as xgb\n",
    "from sklearn.model_selection import cross_val_score\n",
    "from sklearn.model_selection import KFold\n",
    "from sklearn.metrics import make_scorer\n",
    "\n",
    "# 탐색 대상 함수 (XGBRegressor)\n",
    "def XGB(\n",
    "max_depth,\n",
    "learning_rate, \n",
    "n_estimators, \n",
    "min_child_weight, \n",
    "subsample,\n",
    "_lambda,\n",
    "#gamma ,\n",
    "#colsample_bytree, \n",
    "#_alpha,\n",
    "silent=True, \n",
    "n_jobs=-1):\n",
    "    \n",
    "    # 모델 정의\n",
    "    model = xgb.XGBRegressor( \n",
    "objective = 'reg:squarederror',\n",
    "max_depth=int(max_depth),\n",
    "learning_rate=learning_rate,\n",
    "n_estimators=int(n_estimators),\n",
    "min_child_weight=min_child_weight,\n",
    "subsample=subsample,\n",
    "reg_lambda=_lambda,        \n",
    "#gamma=gamma,\n",
    "#colsample_bytree=colsample_bytree, \n",
    "#reg_alpha=_alpha\n",
    "n_jobs=n_jobs        \n",
    "                              )\n",
    "    \n",
    "    # bayesian optimization을 통해 파라미터를 받아\n",
    "    # Train을 Train + Validation으로 나눠 cross-validation 성능 확인\n",
    "    kfold = KFold(n_splits=9, shuffle = True, random_state=0)\n",
    "\n",
    "    # cross-validation 평균 성능 성능 확인\n",
    "    score = cross_val_score(model,\n",
    "                            X_train, \n",
    "                            y_train, \n",
    "                            cv=kfold,\n",
    "                            scoring=make_scorer(custom_scoring,greater_is_better=False),\n",
    "                            n_jobs=-1\n",
    "                           ).mean()\n",
    "    \n",
    "    return score"
   ]
  },
  {
   "cell_type": "code",
   "execution_count": 7,
   "metadata": {},
   "outputs": [
    {
     "name": "stdout",
     "output_type": "stream",
     "text": [
      "|   iter    |  target   |  _lambda  | learni... | max_depth | min_ch... | n_esti... | subsample |\n",
      "-------------------------------------------------------------------------------------------------\n",
      "| \u001b[0m 1       \u001b[0m | \u001b[0m-32.27   \u001b[0m | \u001b[0m 0.4753  \u001b[0m | \u001b[0m 0.1469  \u001b[0m | \u001b[0m 12.0    \u001b[0m | \u001b[0m 0.3721  \u001b[0m | \u001b[0m 64.68   \u001b[0m | \u001b[0m 0.1831  \u001b[0m |\n",
      "| \u001b[95m 2       \u001b[0m | \u001b[95m-14.31   \u001b[0m | \u001b[95m 0.2676  \u001b[0m | \u001b[95m 0.07566 \u001b[0m | \u001b[95m 13.59   \u001b[0m | \u001b[95m 0.5849  \u001b[0m | \u001b[95m 91.92   \u001b[0m | \u001b[95m 0.7167  \u001b[0m |\n",
      "| \u001b[0m 3       \u001b[0m | \u001b[0m-14.5    \u001b[0m | \u001b[0m 0.2233  \u001b[0m | \u001b[0m 0.07657 \u001b[0m | \u001b[0m 13.92   \u001b[0m | \u001b[0m 0.4265  \u001b[0m | \u001b[0m 91.26   \u001b[0m | \u001b[0m 0.6252  \u001b[0m |\n",
      "| \u001b[0m 4       \u001b[0m | \u001b[0m-139.6   \u001b[0m | \u001b[0m 0.1     \u001b[0m | \u001b[0m 0.2     \u001b[0m | \u001b[0m 16.0    \u001b[0m | \u001b[0m 0.1     \u001b[0m | \u001b[0m 107.5   \u001b[0m | \u001b[0m 0.1     \u001b[0m |\n",
      "| \u001b[0m 5       \u001b[0m | \u001b[0m-44.27   \u001b[0m | \u001b[0m 1.0     \u001b[0m | \u001b[0m 0.01    \u001b[0m | \u001b[0m 12.0    \u001b[0m | \u001b[0m 1.0     \u001b[0m | \u001b[0m 80.65   \u001b[0m | \u001b[0m 1.0     \u001b[0m |\n",
      "| \u001b[0m 6       \u001b[0m | \u001b[0m-102.0   \u001b[0m | \u001b[0m 0.1     \u001b[0m | \u001b[0m 0.2     \u001b[0m | \u001b[0m 12.15   \u001b[0m | \u001b[0m 0.1     \u001b[0m | \u001b[0m 51.57   \u001b[0m | \u001b[0m 0.1     \u001b[0m |\n",
      "| \u001b[95m 7       \u001b[0m | \u001b[95m-13.62   \u001b[0m | \u001b[95m 0.9767  \u001b[0m | \u001b[95m 0.04484 \u001b[0m | \u001b[95m 12.09   \u001b[0m | \u001b[95m 0.6818  \u001b[0m | \u001b[95m 89.64   \u001b[0m | \u001b[95m 0.7442  \u001b[0m |\n",
      "| \u001b[0m 8       \u001b[0m | \u001b[0m-24.77   \u001b[0m | \u001b[0m 1.0     \u001b[0m | \u001b[0m 0.01    \u001b[0m | \u001b[0m 12.0    \u001b[0m | \u001b[0m 1.0     \u001b[0m | \u001b[0m 150.0   \u001b[0m | \u001b[0m 1.0     \u001b[0m |\n",
      "| \u001b[0m 9       \u001b[0m | \u001b[0m-90.5    \u001b[0m | \u001b[0m 1.0     \u001b[0m | \u001b[0m 0.2     \u001b[0m | \u001b[0m 16.0    \u001b[0m | \u001b[0m 0.1     \u001b[0m | \u001b[0m 140.3   \u001b[0m | \u001b[0m 0.1     \u001b[0m |\n",
      "| \u001b[0m 10      \u001b[0m | \u001b[0m-120.4   \u001b[0m | \u001b[0m 0.1     \u001b[0m | \u001b[0m 0.2     \u001b[0m | \u001b[0m 16.0    \u001b[0m | \u001b[0m 0.1     \u001b[0m | \u001b[0m 70.55   \u001b[0m | \u001b[0m 0.1     \u001b[0m |\n",
      "| \u001b[0m 11      \u001b[0m | \u001b[0m-16.17   \u001b[0m | \u001b[0m 1.0     \u001b[0m | \u001b[0m 0.2     \u001b[0m | \u001b[0m 15.71   \u001b[0m | \u001b[0m 1.0     \u001b[0m | \u001b[0m 86.56   \u001b[0m | \u001b[0m 1.0     \u001b[0m |\n",
      "| \u001b[0m 12      \u001b[0m | \u001b[0m-15.45   \u001b[0m | \u001b[0m 0.121   \u001b[0m | \u001b[0m 0.06188 \u001b[0m | \u001b[0m 12.13   \u001b[0m | \u001b[0m 0.7579  \u001b[0m | \u001b[0m 86.2    \u001b[0m | \u001b[0m 0.3699  \u001b[0m |\n",
      "| \u001b[0m 13      \u001b[0m | \u001b[0m-16.26   \u001b[0m | \u001b[0m 1.0     \u001b[0m | \u001b[0m 0.2     \u001b[0m | \u001b[0m 16.0    \u001b[0m | \u001b[0m 1.0     \u001b[0m | \u001b[0m 92.1    \u001b[0m | \u001b[0m 1.0     \u001b[0m |\n",
      "| \u001b[0m 14      \u001b[0m | \u001b[0m-65.15   \u001b[0m | \u001b[0m 1.0     \u001b[0m | \u001b[0m 0.2     \u001b[0m | \u001b[0m 13.95   \u001b[0m | \u001b[0m 1.0     \u001b[0m | \u001b[0m 88.49   \u001b[0m | \u001b[0m 0.1     \u001b[0m |\n",
      "| \u001b[0m 15      \u001b[0m | \u001b[0m-16.83   \u001b[0m | \u001b[0m 0.2603  \u001b[0m | \u001b[0m 0.04158 \u001b[0m | \u001b[0m 14.86   \u001b[0m | \u001b[0m 0.663   \u001b[0m | \u001b[0m 84.7    \u001b[0m | \u001b[0m 1.0     \u001b[0m |\n",
      "| \u001b[0m 16      \u001b[0m | \u001b[0m-40.22   \u001b[0m | \u001b[0m 0.1     \u001b[0m | \u001b[0m 0.01    \u001b[0m | \u001b[0m 12.0    \u001b[0m | \u001b[0m 0.1     \u001b[0m | \u001b[0m 90.7    \u001b[0m | \u001b[0m 1.0     \u001b[0m |\n",
      "| \u001b[0m 17      \u001b[0m | \u001b[0m-39.19   \u001b[0m | \u001b[0m 1.0     \u001b[0m | \u001b[0m 0.01    \u001b[0m | \u001b[0m 14.73   \u001b[0m | \u001b[0m 0.1     \u001b[0m | \u001b[0m 92.42   \u001b[0m | \u001b[0m 0.232   \u001b[0m |\n",
      "| \u001b[0m 18      \u001b[0m | \u001b[0m-18.76   \u001b[0m | \u001b[0m 0.1     \u001b[0m | \u001b[0m 0.2     \u001b[0m | \u001b[0m 14.6    \u001b[0m | \u001b[0m 1.0     \u001b[0m | \u001b[0m 91.66   \u001b[0m | \u001b[0m 1.0     \u001b[0m |\n",
      "| \u001b[0m 19      \u001b[0m | \u001b[0m-15.73   \u001b[0m | \u001b[0m 0.7803  \u001b[0m | \u001b[0m 0.1176  \u001b[0m | \u001b[0m 12.33   \u001b[0m | \u001b[0m 0.6343  \u001b[0m | \u001b[0m 84.71   \u001b[0m | \u001b[0m 0.9792  \u001b[0m |\n",
      "| \u001b[0m 20      \u001b[0m | \u001b[0m-16.26   \u001b[0m | \u001b[0m 1.0     \u001b[0m | \u001b[0m 0.2     \u001b[0m | \u001b[0m 16.0    \u001b[0m | \u001b[0m 0.1     \u001b[0m | \u001b[0m 85.39   \u001b[0m | \u001b[0m 1.0     \u001b[0m |\n",
      "| \u001b[0m 21      \u001b[0m | \u001b[0m-40.06   \u001b[0m | \u001b[0m 1.0     \u001b[0m | \u001b[0m 0.01    \u001b[0m | \u001b[0m 13.28   \u001b[0m | \u001b[0m 1.0     \u001b[0m | \u001b[0m 91.19   \u001b[0m | \u001b[0m 1.0     \u001b[0m |\n",
      "| \u001b[0m 22      \u001b[0m | \u001b[0m-16.57   \u001b[0m | \u001b[0m 0.3165  \u001b[0m | \u001b[0m 0.02812 \u001b[0m | \u001b[0m 13.44   \u001b[0m | \u001b[0m 0.1191  \u001b[0m | \u001b[0m 85.77   \u001b[0m | \u001b[0m 0.9383  \u001b[0m |\n",
      "| \u001b[0m 23      \u001b[0m | \u001b[0m-41.06   \u001b[0m | \u001b[0m 1.0     \u001b[0m | \u001b[0m 0.01    \u001b[0m | \u001b[0m 12.0    \u001b[0m | \u001b[0m 0.1     \u001b[0m | \u001b[0m 88.1    \u001b[0m | \u001b[0m 1.0     \u001b[0m |\n",
      "| \u001b[0m 24      \u001b[0m | \u001b[0m-25.04   \u001b[0m | \u001b[0m 0.8365  \u001b[0m | \u001b[0m 0.07807 \u001b[0m | \u001b[0m 13.23   \u001b[0m | \u001b[0m 0.8731  \u001b[0m | \u001b[0m 84.86   \u001b[0m | \u001b[0m 0.1458  \u001b[0m |\n",
      "| \u001b[0m 25      \u001b[0m | \u001b[0m-42.04   \u001b[0m | \u001b[0m 0.1     \u001b[0m | \u001b[0m 0.01    \u001b[0m | \u001b[0m 12.0    \u001b[0m | \u001b[0m 0.1     \u001b[0m | \u001b[0m 85.21   \u001b[0m | \u001b[0m 1.0     \u001b[0m |\n",
      "| \u001b[0m 26      \u001b[0m | \u001b[0m-18.76   \u001b[0m | \u001b[0m 0.1     \u001b[0m | \u001b[0m 0.2     \u001b[0m | \u001b[0m 14.24   \u001b[0m | \u001b[0m 1.0     \u001b[0m | \u001b[0m 85.89   \u001b[0m | \u001b[0m 1.0     \u001b[0m |\n",
      "| \u001b[0m 27      \u001b[0m | \u001b[0m-14.61   \u001b[0m | \u001b[0m 0.9921  \u001b[0m | \u001b[0m 0.04721 \u001b[0m | \u001b[0m 14.48   \u001b[0m | \u001b[0m 0.3568  \u001b[0m | \u001b[0m 85.57   \u001b[0m | \u001b[0m 0.9394  \u001b[0m |\n",
      "| \u001b[0m 28      \u001b[0m | \u001b[0m-19.31   \u001b[0m | \u001b[0m 0.1     \u001b[0m | \u001b[0m 0.2     \u001b[0m | \u001b[0m 16.0    \u001b[0m | \u001b[0m 0.1     \u001b[0m | \u001b[0m 91.22   \u001b[0m | \u001b[0m 1.0     \u001b[0m |\n",
      "| \u001b[0m 29      \u001b[0m | \u001b[0m-19.31   \u001b[0m | \u001b[0m 0.1     \u001b[0m | \u001b[0m 0.2     \u001b[0m | \u001b[0m 16.0    \u001b[0m | \u001b[0m 1.0     \u001b[0m | \u001b[0m 93.3    \u001b[0m | \u001b[0m 1.0     \u001b[0m |\n",
      "| \u001b[0m 30      \u001b[0m | \u001b[0m-15.81   \u001b[0m | \u001b[0m 1.0     \u001b[0m | \u001b[0m 0.2     \u001b[0m | \u001b[0m 12.62   \u001b[0m | \u001b[0m 1.0     \u001b[0m | \u001b[0m 85.62   \u001b[0m | \u001b[0m 1.0     \u001b[0m |\n",
      "| \u001b[95m 31      \u001b[0m | \u001b[95m-12.94   \u001b[0m | \u001b[95m 0.3655  \u001b[0m | \u001b[95m 0.02398 \u001b[0m | \u001b[95m 14.62   \u001b[0m | \u001b[95m 0.1081  \u001b[0m | \u001b[95m 149.7   \u001b[0m | \u001b[95m 0.5732  \u001b[0m |\n",
      "| \u001b[0m 32      \u001b[0m | \u001b[0m-13.32   \u001b[0m | \u001b[0m 0.6437  \u001b[0m | \u001b[0m 0.02035 \u001b[0m | \u001b[0m 14.16   \u001b[0m | \u001b[0m 0.9813  \u001b[0m | \u001b[0m 148.3   \u001b[0m | \u001b[0m 0.446   \u001b[0m |\n",
      "| \u001b[0m 33      \u001b[0m | \u001b[0m-24.28   \u001b[0m | \u001b[0m 0.9091  \u001b[0m | \u001b[0m 0.01001 \u001b[0m | \u001b[0m 15.91   \u001b[0m | \u001b[0m 0.1778  \u001b[0m | \u001b[0m 148.2   \u001b[0m | \u001b[0m 0.662   \u001b[0m |\n",
      "| \u001b[0m 34      \u001b[0m | \u001b[0m-22.19   \u001b[0m | \u001b[0m 0.3183  \u001b[0m | \u001b[0m 0.01122 \u001b[0m | \u001b[0m 13.21   \u001b[0m | \u001b[0m 0.1963  \u001b[0m | \u001b[0m 148.4   \u001b[0m | \u001b[0m 0.1302  \u001b[0m |\n",
      "| \u001b[0m 35      \u001b[0m | \u001b[0m-17.86   \u001b[0m | \u001b[0m 0.7601  \u001b[0m | \u001b[0m 0.09153 \u001b[0m | \u001b[0m 14.33   \u001b[0m | \u001b[0m 0.9595  \u001b[0m | \u001b[0m 149.9   \u001b[0m | \u001b[0m 0.2755  \u001b[0m |\n",
      "| \u001b[0m 36      \u001b[0m | \u001b[0m-18.94   \u001b[0m | \u001b[0m 0.1     \u001b[0m | \u001b[0m 0.2     \u001b[0m | \u001b[0m 15.93   \u001b[0m | \u001b[0m 1.0     \u001b[0m | \u001b[0m 150.0   \u001b[0m | \u001b[0m 1.0     \u001b[0m |\n",
      "| \u001b[0m 37      \u001b[0m | \u001b[0m-16.08   \u001b[0m | \u001b[0m 1.0     \u001b[0m | \u001b[0m 0.2     \u001b[0m | \u001b[0m 13.61   \u001b[0m | \u001b[0m 1.0     \u001b[0m | \u001b[0m 146.4   \u001b[0m | \u001b[0m 1.0     \u001b[0m |\n",
      "| \u001b[0m 38      \u001b[0m | \u001b[0m-42.04   \u001b[0m | \u001b[0m 0.1     \u001b[0m | \u001b[0m 0.01    \u001b[0m | \u001b[0m 16.0    \u001b[0m | \u001b[0m 0.1     \u001b[0m | \u001b[0m 86.37   \u001b[0m | \u001b[0m 1.0     \u001b[0m |\n",
      "| \u001b[0m 39      \u001b[0m | \u001b[0m-16.17   \u001b[0m | \u001b[0m 1.0     \u001b[0m | \u001b[0m 0.2     \u001b[0m | \u001b[0m 15.85   \u001b[0m | \u001b[0m 1.0     \u001b[0m | \u001b[0m 85.03   \u001b[0m | \u001b[0m 1.0     \u001b[0m |\n",
      "| \u001b[0m 40      \u001b[0m | \u001b[0m-17.07   \u001b[0m | \u001b[0m 0.1742  \u001b[0m | \u001b[0m 0.032   \u001b[0m | \u001b[0m 14.36   \u001b[0m | \u001b[0m 0.9972  \u001b[0m | \u001b[0m 147.6   \u001b[0m | \u001b[0m 0.9869  \u001b[0m |\n",
      "| \u001b[0m 41      \u001b[0m | \u001b[0m-19.36   \u001b[0m | \u001b[0m 0.6789  \u001b[0m | \u001b[0m 0.1058  \u001b[0m | \u001b[0m 12.02   \u001b[0m | \u001b[0m 0.2027  \u001b[0m | \u001b[0m 145.1   \u001b[0m | \u001b[0m 0.294   \u001b[0m |\n",
      "| \u001b[0m 42      \u001b[0m | \u001b[0m-25.47   \u001b[0m | \u001b[0m 1.0     \u001b[0m | \u001b[0m 0.01    \u001b[0m | \u001b[0m 12.0    \u001b[0m | \u001b[0m 1.0     \u001b[0m | \u001b[0m 147.0   \u001b[0m | \u001b[0m 1.0     \u001b[0m |\n",
      "| \u001b[0m 43      \u001b[0m | \u001b[0m-14.28   \u001b[0m | \u001b[0m 0.9907  \u001b[0m | \u001b[0m 0.07653 \u001b[0m | \u001b[0m 16.0    \u001b[0m | \u001b[0m 0.262   \u001b[0m | \u001b[0m 82.73   \u001b[0m | \u001b[0m 0.7349  \u001b[0m |\n",
      "| \u001b[0m 44      \u001b[0m | \u001b[0m-14.72   \u001b[0m | \u001b[0m 0.8681  \u001b[0m | \u001b[0m 0.0488  \u001b[0m | \u001b[0m 14.01   \u001b[0m | \u001b[0m 0.1381  \u001b[0m | \u001b[0m 83.15   \u001b[0m | \u001b[0m 0.9044  \u001b[0m |\n",
      "| \u001b[0m 45      \u001b[0m | \u001b[0m-28.28   \u001b[0m | \u001b[0m 0.418   \u001b[0m | \u001b[0m 0.1903  \u001b[0m | \u001b[0m 15.99   \u001b[0m | \u001b[0m 0.2439  \u001b[0m | \u001b[0m 80.69   \u001b[0m | \u001b[0m 0.2429  \u001b[0m |\n",
      "| \u001b[0m 46      \u001b[0m | \u001b[0m-29.25   \u001b[0m | \u001b[0m 0.2192  \u001b[0m | \u001b[0m 0.03269 \u001b[0m | \u001b[0m 14.11   \u001b[0m | \u001b[0m 0.1251  \u001b[0m | \u001b[0m 145.7   \u001b[0m | \u001b[0m 0.1073  \u001b[0m |\n",
      "| \u001b[0m 47      \u001b[0m | \u001b[0m-18.43   \u001b[0m | \u001b[0m 0.1     \u001b[0m | \u001b[0m 0.2     \u001b[0m | \u001b[0m 12.52   \u001b[0m | \u001b[0m 1.0     \u001b[0m | \u001b[0m 95.91   \u001b[0m | \u001b[0m 1.0     \u001b[0m |\n",
      "| \u001b[0m 48      \u001b[0m | \u001b[0m-18.76   \u001b[0m | \u001b[0m 0.1     \u001b[0m | \u001b[0m 0.2     \u001b[0m | \u001b[0m 14.45   \u001b[0m | \u001b[0m 1.0     \u001b[0m | \u001b[0m 97.59   \u001b[0m | \u001b[0m 1.0     \u001b[0m |\n",
      "| \u001b[0m 49      \u001b[0m | \u001b[0m-18.43   \u001b[0m | \u001b[0m 0.1     \u001b[0m | \u001b[0m 0.2     \u001b[0m | \u001b[0m 12.0    \u001b[0m | \u001b[0m 1.0     \u001b[0m | \u001b[0m 98.41   \u001b[0m | \u001b[0m 1.0     \u001b[0m |\n",
      "| \u001b[0m 50      \u001b[0m | \u001b[0m-37.0    \u001b[0m | \u001b[0m 1.0     \u001b[0m | \u001b[0m 0.01    \u001b[0m | \u001b[0m 13.55   \u001b[0m | \u001b[0m 0.1     \u001b[0m | \u001b[0m 99.17   \u001b[0m | \u001b[0m 0.1     \u001b[0m |\n"
     ]
    },
    {
     "name": "stdout",
     "output_type": "stream",
     "text": [
      "| \u001b[0m 51      \u001b[0m | \u001b[0m-16.17   \u001b[0m | \u001b[0m 1.0     \u001b[0m | \u001b[0m 0.2     \u001b[0m | \u001b[0m 15.17   \u001b[0m | \u001b[0m 0.1     \u001b[0m | \u001b[0m 83.87   \u001b[0m | \u001b[0m 1.0     \u001b[0m |\n",
      "| \u001b[0m 52      \u001b[0m | \u001b[0m-15.15   \u001b[0m | \u001b[0m 0.9956  \u001b[0m | \u001b[0m 0.08476 \u001b[0m | \u001b[0m 12.89   \u001b[0m | \u001b[0m 0.7707  \u001b[0m | \u001b[0m 83.89   \u001b[0m | \u001b[0m 0.9641  \u001b[0m |\n",
      "=================================================================================================\n",
      "{'target': -12.939491435241498, 'params': {'_lambda': 0.36548495335549436, 'learning_rate': 0.02398298537228648, 'max_depth': 14.620959399642693, 'min_child_weight': 0.10808048227399353, 'n_estimators': 149.67095184796315, 'subsample': 0.5732030368686496}}\n",
      "\n"
     ]
    }
   ],
   "source": [
    "from bayes_opt import BayesianOptimization\n",
    "\n",
    "# 하이퍼파라미터 정의\n",
    "pbounds = {\n",
    "'max_depth': (12, 16), \n",
    "'learning_rate': (0.01, 0.2),\n",
    "'n_estimators': (50, 150),\n",
    "'min_child_weight': (0.1, 1),\n",
    "'subsample': (0.1, 1), \n",
    "'_lambda' : (0.1,1),    \n",
    "#'gamma': (0, 0.3),     \n",
    "#'colsample_bytree' :(0.5, 1)\n",
    "#'_alpha' : (0,1)           \n",
    "                      }\n",
    "\n",
    "# Bayesian optimization 객체 생성\n",
    "bo=BayesianOptimization(f=XGB, pbounds=pbounds, verbose=2, random_state=1 )    \n",
    "\n",
    "# 메소드를 이용해 최대화 과정 수행 (파라미터 넣고 목적함수 값 출력하고)\n",
    "bo.maximize(init_points=2, n_iter=50, acq='ei', xi=0.01)\n",
    "\n",
    "# 뽑힌 최적의 하이퍼파라미터 값 확인\n",
    "print(\"{}\\n\".format(bo.max))"
   ]
  },
  {
   "cell_type": "code",
   "execution_count": 8,
   "metadata": {},
   "outputs": [
    {
     "data": {
      "text/plain": [
       "XGBRegressor(learning_rate=0.02398298537228648, max_depth=14,\n",
       "             min_child_weight=0.10808048227399353, n_estimators=149, n_jobs=-1,\n",
       "             objective='reg:squarederror', reg_lambda=0.36548495335549436,\n",
       "             subsample=0.5732030368686496)"
      ]
     },
     "execution_count": 8,
     "metadata": {},
     "output_type": "execute_result"
    }
   ],
   "source": [
    "import xgboost as xgb\n",
    "\n",
    "# Train + Valid cross-validation을 거친, 최적의 하이퍼파라미터를 사용\n",
    "best_model = xgb.XGBRegressor(\n",
    "objective = 'reg:squarederror',\n",
    "max_depth=int(bo.max['params']['max_depth']),\n",
    "learning_rate=bo.max['params']['learning_rate'],\n",
    "n_estimators=int(bo.max['params']['n_estimators']),\n",
    "min_child_weight=bo.max['params']['min_child_weight'],\n",
    "subsample=bo.max['params']['subsample'],\n",
    "reg_lambda = bo.max['params']['_lambda'],    \n",
    "#gamma=bo.max['params']['gamma'],\n",
    "#colsample_bytree=bo.max['params']['colsample_bytree'],\n",
    "#reg_alpha = bo.max['params']['_alpha']\n",
    "n_jobs=-1\n",
    "                             )\n",
    "# 모델 훈련\n",
    "best_model.fit(X_train, y_train)"
   ]
  },
  {
   "cell_type": "code",
   "execution_count": 9,
   "metadata": {},
   "outputs": [
    {
     "name": "stdout",
     "output_type": "stream",
     "text": [
      "{'target': -12.939491435241498, 'params': {'_lambda': 0.36548495335549436, 'learning_rate': 0.02398298537228648, 'max_depth': 14.620959399642693, 'min_child_weight': 0.10808048227399353, 'n_estimators': 149.67095184796315, 'subsample': 0.5732030368686496}}\n",
      "\n",
      "-------- 훈련데이터 예측 --------------------------\n",
      "rmse : 54413.0502551244\n",
      "mape : 3.8577035036164236%\n",
      "\n",
      "\n",
      "-------- 검증데이터 예측 --------------------------\n",
      "mape : 12.939491435241498%\n",
      "\n",
      "\n",
      "-------- 테스트데이터 예측 -------------------------\n",
      "rmse : 151536.5814569922\n",
      "mape : 12.307202381784455%\n",
      "\n",
      "\n"
     ]
    }
   ],
   "source": [
    "# 최적의 하이퍼파라미터 값 확인\n",
    "print(\"{}\\n\".format(bo.max))\n",
    "\n",
    "# 훈련데이터 예측\n",
    "y_train_pred = best_model.predict(X_train)\n",
    "print(\"-------- 훈련데이터 예측 --------------------------\")\n",
    "print(\"rmse : {}\".format(np.sqrt(mean_squared_error(y_train, y_train_pred))))\n",
    "print(\"mape : {}%\".format(mean_absolute_percentage_error(y_train, y_train_pred)))\n",
    "print(\"\\n\")\n",
    "\n",
    "# 검증데이터 예측\n",
    "print(\"-------- 검증데이터 예측 --------------------------\")\n",
    "print(\"mape : {}%\".format(-bo.max['target']))\n",
    "print(\"\\n\")\n",
    "\n",
    "# 테스트데이터 예측\n",
    "y_pred = best_model.predict(X_test)\n",
    "print(\"-------- 테스트데이터 예측 -------------------------\")\n",
    "print(\"rmse : {}\".format(np.sqrt(mean_squared_error(y_test, y_pred))))\n",
    "print(\"mape : {}%\".format(mean_absolute_percentage_error(y_test, y_pred)))\n",
    "print(\"\\n\")"
   ]
  },
  {
   "cell_type": "code",
   "execution_count": 10,
   "metadata": {},
   "outputs": [],
   "source": [
    "# mape_list = {}\n",
    "# # 예측값, 실제값을 확인하며 mape 계산 후 mape_list에 삽입 \n",
    "# for idx,value in enumerate(y_test):\n",
    "#     mape_temp = {}\n",
    "#     predicate = int(y_pred[idx])\n",
    "#     mape = abs((value - predicate) / value) * 100\n",
    "#     mape_temp['pred'] = predicate\n",
    "#     mape_temp['real'] = value\n",
    "#     mape_temp['mape'] = mape\n",
    "#     mape_list[idx] = mape_temp\n",
    "# mape_list_sort = sorted(mape_list.values(), key=lambda x:(x['mape']), reverse=True)\n",
    "# mape_list_sort  "
   ]
  },
  {
   "cell_type": "code",
   "execution_count": 11,
   "metadata": {},
   "outputs": [
    {
     "data": {
      "text/plain": [
       "<matplotlib.axes._subplots.AxesSubplot at 0x7f8e649dddd0>"
      ]
     },
     "execution_count": 11,
     "metadata": {},
     "output_type": "execute_result"
    },
    {
     "data": {
      "image/png": "[encoded data removed]",
      "text/plain": [
       "<Figure size 432x288 with 1 Axes>"
      ]
     },
     "metadata": {
      "needs_background": "light"
     },
     "output_type": "display_data"
    }
   ],
   "source": [
    "xgb.plot_importance(best_model)"
   ]
  }
 ],
 "metadata": {
  "kernelspec": {
   "display_name": "Python 3",
   "language": "python",
   "name": "python3"
  },
  "language_info": {
   "codemirror_mode": {
    "name": "ipython",
    "version": 3
   },
   "file_extension": ".py",
   "mimetype": "text/x-python",
   "name": "python",
   "nbconvert_exporter": "python",
   "pygments_lexer": "ipython3",
   "version": "3.7.7"
  }
 },
 "nbformat": 4,
 "nbformat_minor": 4
}
