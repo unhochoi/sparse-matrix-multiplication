{
 "cells": [
  {
   "cell_type": "code",
   "execution_count": 1,
   "metadata": {},
   "outputs": [],
   "source": [
    "import pandas as pd\n",
    "import numpy as np\n",
    "\n",
    "train = pd.read_csv('/Users/bdlab/Desktop/sparse-matrix-multiplication/scenario-extraction/d-optimal/d-optimal-of-spmm/train-test-csv/1164-train-from-1293-spmm-over-3s-and-add-feature.csv')\n",
    "test = pd.read_csv('/Users/bdlab/Desktop/sparse-matrix-multiplication/scenario-extraction/d-optimal/d-optimal-of-spmm/train-test-csv/129-test-from-1293-spmm-over-3s-and-add-feature.csv')"
   ]
  },
  {
   "cell_type": "code",
   "execution_count": 2,
   "metadata": {},
   "outputs": [],
   "source": [
    "# Train + Valid\n",
    "X_train = train[['lr','lc','rc','ld','rd','lnnz','rnnz','lr*lc','lc*rc','lr*rc','lr*lc*rc','ld*rd','lr*rc*ld*rd','lr*lc*rc*ld*rd']] \n",
    "y_train = train['bz_smsm']\n",
    "\n",
    "# Test\n",
    "X_test = test[['lr','lc','rc','ld','rd','lnnz','rnnz','lr*lc','lc*rc','lr*rc','lr*lc*rc','ld*rd','lr*rc*ld*rd','lr*lc*rc*ld*rd']] \n",
    "y_test = test['bz_smsm']"
   ]
  },
  {
   "cell_type": "code",
   "execution_count": 3,
   "metadata": {},
   "outputs": [],
   "source": [
    "from sklearn.metrics import r2_score, mean_squared_error\n",
    "\n",
    "# Metric\n",
    "def mean_absolute_percentage_error(y_test, y_pred):\n",
    "    y_test, y_pred = np.array(y_test), np.array(y_pred)\n",
    "    return np.mean(np.abs((y_test - y_pred) / y_test)) * 100\n",
    "\n",
    "def custom_scoring(real, pred):\n",
    "    rmse = np.sqrt(mean_squared_error(real, pred))\n",
    "    r2 = r2_score(real, pred)\n",
    "    mape = mean_absolute_percentage_error(real, pred)\n",
    "    return mape"
   ]
  },
  {
   "cell_type": "code",
   "execution_count": 4,
   "metadata": {},
   "outputs": [],
   "source": [
    "import xgboost as xgb\n",
    "from sklearn.model_selection import cross_val_score\n",
    "from sklearn.model_selection import KFold\n",
    "from sklearn.metrics import make_scorer\n",
    "\n",
    "# 탐색 대상 함수 (XGBRegressor)\n",
    "def XGB(\n",
    "max_depth,\n",
    "learning_rate, \n",
    "n_estimators, \n",
    "min_child_weight, \n",
    "subsample,\n",
    "_lambda,\n",
    "#gamma ,\n",
    "#colsample_bytree, \n",
    "#_alpha,\n",
    "silent=True, \n",
    "n_jobs=-1):\n",
    "    \n",
    "    # 모델 정의\n",
    "    model = xgb.XGBRegressor( \n",
    "objective = 'reg:squarederror',\n",
    "max_depth=int(max_depth),\n",
    "learning_rate=learning_rate,\n",
    "n_estimators=int(n_estimators),\n",
    "min_child_weight=min_child_weight,\n",
    "subsample=subsample,\n",
    "reg_lambda=_lambda,        \n",
    "#gamma=gamma,\n",
    "#colsample_bytree=colsample_bytree, \n",
    "#reg_alpha=_alpha\n",
    "n_jobs=n_jobs        \n",
    "                              )\n",
    "    \n",
    "    # bayesian optimization을 통해 파라미터를 받아\n",
    "    # Train을 Train + Validation으로 나눠 cross-validation 성능 확인\n",
    "    kfold = KFold(n_splits=9, shuffle = True, random_state=0)\n",
    "\n",
    "    # cross-validation 평균 성능 성능 확인\n",
    "    score = cross_val_score(model,\n",
    "                            X_train, \n",
    "                            y_train, \n",
    "                            cv=kfold,\n",
    "                            scoring=make_scorer(custom_scoring,greater_is_better=False),\n",
    "                            n_jobs=-1\n",
    "                           ).mean()\n",
    "    \n",
    "    return score"
   ]
  },
  {
   "cell_type": "code",
   "execution_count": 5,
   "metadata": {},
   "outputs": [
    {
     "name": "stdout",
     "output_type": "stream",
     "text": [
      "|   iter    |  target   |  _lambda  | learni... | max_depth | min_ch... | n_esti... | subsample |\n",
      "-------------------------------------------------------------------------------------------------\n",
      "| \u001b[0m 1       \u001b[0m | \u001b[0m-23.15   \u001b[0m | \u001b[0m 0.4753  \u001b[0m | \u001b[0m 0.2189  \u001b[0m | \u001b[0m 12.0    \u001b[0m | \u001b[0m 0.3721  \u001b[0m | \u001b[0m 57.34   \u001b[0m | \u001b[0m 0.5462  \u001b[0m |\n",
      "| \u001b[95m 2       \u001b[0m | \u001b[95m-21.96   \u001b[0m | \u001b[95m 0.2676  \u001b[0m | \u001b[95m 0.1102  \u001b[0m | \u001b[95m 13.59   \u001b[0m | \u001b[95m 0.5849  \u001b[0m | \u001b[95m 70.96   \u001b[0m | \u001b[95m 0.8426  \u001b[0m |\n",
      "| \u001b[95m 3       \u001b[0m | \u001b[95m-21.72   \u001b[0m | \u001b[95m 0.3008  \u001b[0m | \u001b[95m 0.1009  \u001b[0m | \u001b[95m 13.58   \u001b[0m | \u001b[95m 0.3342  \u001b[0m | \u001b[95m 71.19   \u001b[0m | \u001b[95m 0.7811  \u001b[0m |\n",
      "| \u001b[95m 4       \u001b[0m | \u001b[95m-20.47   \u001b[0m | \u001b[95m 0.3993  \u001b[0m | \u001b[95m 0.07341 \u001b[0m | \u001b[95m 13.54   \u001b[0m | \u001b[95m 0.1     \u001b[0m | \u001b[95m 71.87   \u001b[0m | \u001b[95m 0.5987  \u001b[0m |\n",
      "| \u001b[0m 5       \u001b[0m | \u001b[0m-20.86   \u001b[0m | \u001b[0m 0.4656  \u001b[0m | \u001b[0m 0.05487 \u001b[0m | \u001b[0m 13.52   \u001b[0m | \u001b[0m 0.1     \u001b[0m | \u001b[0m 72.33   \u001b[0m | \u001b[0m 0.5     \u001b[0m |\n",
      "| \u001b[0m 6       \u001b[0m | \u001b[0m-22.6    \u001b[0m | \u001b[0m 0.2936  \u001b[0m | \u001b[0m 0.1556  \u001b[0m | \u001b[0m 12.87   \u001b[0m | \u001b[0m 0.2142  \u001b[0m | \u001b[0m 72.03   \u001b[0m | \u001b[0m 0.6311  \u001b[0m |\n",
      "| \u001b[95m 7       \u001b[0m | \u001b[95m-19.76   \u001b[0m | \u001b[95m 0.4586  \u001b[0m | \u001b[95m 0.03823 \u001b[0m | \u001b[95m 13.77   \u001b[0m | \u001b[95m 0.1     \u001b[0m | \u001b[95m 71.97   \u001b[0m | \u001b[95m 0.5526  \u001b[0m |\n",
      "| \u001b[0m 8       \u001b[0m | \u001b[0m-47.23   \u001b[0m | \u001b[0m 0.5191  \u001b[0m | \u001b[0m 0.01    \u001b[0m | \u001b[0m 14.09   \u001b[0m | \u001b[0m 0.1     \u001b[0m | \u001b[0m 71.95   \u001b[0m | \u001b[0m 0.5075  \u001b[0m |\n",
      "| \u001b[0m 9       \u001b[0m | \u001b[0m-22.22   \u001b[0m | \u001b[0m 0.35    \u001b[0m | \u001b[0m 0.2255  \u001b[0m | \u001b[0m 13.66   \u001b[0m | \u001b[0m 0.5955  \u001b[0m | \u001b[0m 70.98   \u001b[0m | \u001b[0m 0.71    \u001b[0m |\n",
      "| \u001b[0m 10      \u001b[0m | \u001b[0m-25.0    \u001b[0m | \u001b[0m 0.1042  \u001b[0m | \u001b[0m 0.2481  \u001b[0m | \u001b[0m 14.05   \u001b[0m | \u001b[0m 0.583   \u001b[0m | \u001b[0m 86.92   \u001b[0m | \u001b[0m 0.9726  \u001b[0m |\n",
      "| \u001b[95m 11      \u001b[0m | \u001b[95m-19.05   \u001b[0m | \u001b[95m 0.4451  \u001b[0m | \u001b[95m 0.05142 \u001b[0m | \u001b[95m 13.41   \u001b[0m | \u001b[95m 0.2994  \u001b[0m | \u001b[95m 71.91   \u001b[0m | \u001b[95m 0.6047  \u001b[0m |\n",
      "| \u001b[0m 12      \u001b[0m | \u001b[0m-22.27   \u001b[0m | \u001b[0m 0.3593  \u001b[0m | \u001b[0m 0.1829  \u001b[0m | \u001b[0m 13.56   \u001b[0m | \u001b[0m 0.2194  \u001b[0m | \u001b[0m 71.76   \u001b[0m | \u001b[0m 0.5361  \u001b[0m |\n",
      "| \u001b[0m 13      \u001b[0m | \u001b[0m-22.29   \u001b[0m | \u001b[0m 0.99    \u001b[0m | \u001b[0m 0.2263  \u001b[0m | \u001b[0m 13.29   \u001b[0m | \u001b[0m 0.4368  \u001b[0m | \u001b[0m 66.31   \u001b[0m | \u001b[0m 0.7904  \u001b[0m |\n",
      "| \u001b[0m 14      \u001b[0m | \u001b[0m-21.42   \u001b[0m | \u001b[0m 0.2609  \u001b[0m | \u001b[0m 0.1269  \u001b[0m | \u001b[0m 13.53   \u001b[0m | \u001b[0m 0.2363  \u001b[0m | \u001b[0m 72.08   \u001b[0m | \u001b[0m 0.723   \u001b[0m |\n",
      "| \u001b[0m 15      \u001b[0m | \u001b[0m-22.97   \u001b[0m | \u001b[0m 0.8865  \u001b[0m | \u001b[0m 0.2977  \u001b[0m | \u001b[0m 13.55   \u001b[0m | \u001b[0m 0.8767  \u001b[0m | \u001b[0m 89.58   \u001b[0m | \u001b[0m 0.8625  \u001b[0m |\n",
      "| \u001b[0m 16      \u001b[0m | \u001b[0m-27.25   \u001b[0m | \u001b[0m 0.4483  \u001b[0m | \u001b[0m 0.01946 \u001b[0m | \u001b[0m 13.3    \u001b[0m | \u001b[0m 0.4675  \u001b[0m | \u001b[0m 71.94   \u001b[0m | \u001b[0m 0.5189  \u001b[0m |\n",
      "| \u001b[0m 17      \u001b[0m | \u001b[0m-24.57   \u001b[0m | \u001b[0m 0.2497  \u001b[0m | \u001b[0m 0.2947  \u001b[0m | \u001b[0m 13.62   \u001b[0m | \u001b[0m 0.6443  \u001b[0m | \u001b[0m 70.93   \u001b[0m | \u001b[0m 0.6633  \u001b[0m |\n",
      "| \u001b[0m 18      \u001b[0m | \u001b[0m-22.32   \u001b[0m | \u001b[0m 0.1688  \u001b[0m | \u001b[0m 0.2044  \u001b[0m | \u001b[0m 14.76   \u001b[0m | \u001b[0m 0.7172  \u001b[0m | \u001b[0m 63.99   \u001b[0m | \u001b[0m 0.8086  \u001b[0m |\n",
      "| \u001b[0m 19      \u001b[0m | \u001b[0m-50.9    \u001b[0m | \u001b[0m 0.8485  \u001b[0m | \u001b[0m 0.01214 \u001b[0m | \u001b[0m 12.16   \u001b[0m | \u001b[0m 0.827   \u001b[0m | \u001b[0m 54.52   \u001b[0m | \u001b[0m 0.8782  \u001b[0m |\n",
      "| \u001b[0m 20      \u001b[0m | \u001b[0m-27.89   \u001b[0m | \u001b[0m 0.1833  \u001b[0m | \u001b[0m 0.2982  \u001b[0m | \u001b[0m 13.85   \u001b[0m | \u001b[0m 0.2254  \u001b[0m | \u001b[0m 64.78   \u001b[0m | \u001b[0m 0.5583  \u001b[0m |\n",
      "| \u001b[0m 21      \u001b[0m | \u001b[0m-21.45   \u001b[0m | \u001b[0m 0.3659  \u001b[0m | \u001b[0m 0.1265  \u001b[0m | \u001b[0m 13.29   \u001b[0m | \u001b[0m 0.3715  \u001b[0m | \u001b[0m 71.94   \u001b[0m | \u001b[0m 0.7181  \u001b[0m |\n",
      "| \u001b[0m 22      \u001b[0m | \u001b[0m-19.11   \u001b[0m | \u001b[0m 0.4945  \u001b[0m | \u001b[0m 0.03714 \u001b[0m | \u001b[0m 13.61   \u001b[0m | \u001b[0m 0.1705  \u001b[0m | \u001b[0m 72.04   \u001b[0m | \u001b[0m 0.5785  \u001b[0m |\n",
      "| \u001b[0m 23      \u001b[0m | \u001b[0m-21.25   \u001b[0m | \u001b[0m 0.5982  \u001b[0m | \u001b[0m 0.07266 \u001b[0m | \u001b[0m 13.6    \u001b[0m | \u001b[0m 0.5365  \u001b[0m | \u001b[0m 71.14   \u001b[0m | \u001b[0m 0.8916  \u001b[0m |\n",
      "| \u001b[0m 24      \u001b[0m | \u001b[0m-20.85   \u001b[0m | \u001b[0m 0.4816  \u001b[0m | \u001b[0m 0.06239 \u001b[0m | \u001b[0m 13.5    \u001b[0m | \u001b[0m 0.1665  \u001b[0m | \u001b[0m 71.76   \u001b[0m | \u001b[0m 0.925   \u001b[0m |\n",
      "| \u001b[0m 25      \u001b[0m | \u001b[0m-21.46   \u001b[0m | \u001b[0m 0.5351  \u001b[0m | \u001b[0m 0.2305  \u001b[0m | \u001b[0m 15.24   \u001b[0m | \u001b[0m 0.8029  \u001b[0m | \u001b[0m 93.8    \u001b[0m | \u001b[0m 0.856   \u001b[0m |\n",
      "| \u001b[0m 26      \u001b[0m | \u001b[0m-22.69   \u001b[0m | \u001b[0m 0.4406  \u001b[0m | \u001b[0m 0.03399 \u001b[0m | \u001b[0m 14.03   \u001b[0m | \u001b[0m 0.482   \u001b[0m | \u001b[0m 51.45   \u001b[0m | \u001b[0m 0.578   \u001b[0m |\n",
      "| \u001b[0m 27      \u001b[0m | \u001b[0m-22.11   \u001b[0m | \u001b[0m 0.7401  \u001b[0m | \u001b[0m 0.1689  \u001b[0m | \u001b[0m 13.39   \u001b[0m | \u001b[0m 0.2446  \u001b[0m | \u001b[0m 71.83   \u001b[0m | \u001b[0m 0.6604  \u001b[0m |\n",
      "| \u001b[0m 28      \u001b[0m | \u001b[0m-21.35   \u001b[0m | \u001b[0m 0.8382  \u001b[0m | \u001b[0m 0.2583  \u001b[0m | \u001b[0m 13.65   \u001b[0m | \u001b[0m 0.8352  \u001b[0m | \u001b[0m 99.77   \u001b[0m | \u001b[0m 0.8486  \u001b[0m |\n",
      "| \u001b[0m 29      \u001b[0m | \u001b[0m-23.46   \u001b[0m | \u001b[0m 0.1095  \u001b[0m | \u001b[0m 0.2247  \u001b[0m | \u001b[0m 14.76   \u001b[0m | \u001b[0m 0.6965  \u001b[0m | \u001b[0m 97.46   \u001b[0m | \u001b[0m 0.5775  \u001b[0m |\n",
      "| \u001b[0m 30      \u001b[0m | \u001b[0m-21.62   \u001b[0m | \u001b[0m 0.6248  \u001b[0m | \u001b[0m 0.2498  \u001b[0m | \u001b[0m 13.58   \u001b[0m | \u001b[0m 0.1733  \u001b[0m | \u001b[0m 72.14   \u001b[0m | \u001b[0m 0.817   \u001b[0m |\n",
      "| \u001b[0m 31      \u001b[0m | \u001b[0m-22.53   \u001b[0m | \u001b[0m 0.4661  \u001b[0m | \u001b[0m 0.2262  \u001b[0m | \u001b[0m 13.43   \u001b[0m | \u001b[0m 0.2544  \u001b[0m | \u001b[0m 71.97   \u001b[0m | \u001b[0m 0.5955  \u001b[0m |\n",
      "| \u001b[0m 32      \u001b[0m | \u001b[0m-22.92   \u001b[0m | \u001b[0m 0.9672  \u001b[0m | \u001b[0m 0.2875  \u001b[0m | \u001b[0m 12.48   \u001b[0m | \u001b[0m 0.3242  \u001b[0m | \u001b[0m 56.11   \u001b[0m | \u001b[0m 0.8545  \u001b[0m |\n",
      "| \u001b[0m 33      \u001b[0m | \u001b[0m-22.22   \u001b[0m | \u001b[0m 0.2981  \u001b[0m | \u001b[0m 0.1723  \u001b[0m | \u001b[0m 12.81   \u001b[0m | \u001b[0m 0.8564  \u001b[0m | \u001b[0m 65.05   \u001b[0m | \u001b[0m 0.5558  \u001b[0m |\n",
      "| \u001b[0m 34      \u001b[0m | \u001b[0m-22.19   \u001b[0m | \u001b[0m 0.423   \u001b[0m | \u001b[0m 0.1417  \u001b[0m | \u001b[0m 12.39   \u001b[0m | \u001b[0m 0.535   \u001b[0m | \u001b[0m 65.05   \u001b[0m | \u001b[0m 0.9526  \u001b[0m |\n",
      "| \u001b[0m 35      \u001b[0m | \u001b[0m-20.68   \u001b[0m | \u001b[0m 0.3926  \u001b[0m | \u001b[0m 0.02235 \u001b[0m | \u001b[0m 13.02   \u001b[0m | \u001b[0m 0.3537  \u001b[0m | \u001b[0m 94.38   \u001b[0m | \u001b[0m 0.6896  \u001b[0m |\n",
      "| \u001b[0m 36      \u001b[0m | \u001b[0m-22.67   \u001b[0m | \u001b[0m 0.2111  \u001b[0m | \u001b[0m 0.05746 \u001b[0m | \u001b[0m 14.27   \u001b[0m | \u001b[0m 0.2316  \u001b[0m | \u001b[0m 56.35   \u001b[0m | \u001b[0m 0.9852  \u001b[0m |\n",
      "| \u001b[0m 37      \u001b[0m | \u001b[0m-21.21   \u001b[0m | \u001b[0m 0.4882  \u001b[0m | \u001b[0m 0.02909 \u001b[0m | \u001b[0m 13.67   \u001b[0m | \u001b[0m 0.2325  \u001b[0m | \u001b[0m 71.97   \u001b[0m | \u001b[0m 0.928   \u001b[0m |\n",
      "| \u001b[0m 38      \u001b[0m | \u001b[0m-20.53   \u001b[0m | \u001b[0m 0.9906  \u001b[0m | \u001b[0m 0.06586 \u001b[0m | \u001b[0m 13.33   \u001b[0m | \u001b[0m 0.964   \u001b[0m | \u001b[0m 88.82   \u001b[0m | \u001b[0m 0.6695  \u001b[0m |\n",
      "| \u001b[0m 39      \u001b[0m | \u001b[0m-20.71   \u001b[0m | \u001b[0m 0.9907  \u001b[0m | \u001b[0m 0.05812 \u001b[0m | \u001b[0m 12.15   \u001b[0m | \u001b[0m 0.2678  \u001b[0m | \u001b[0m 92.01   \u001b[0m | \u001b[0m 0.7596  \u001b[0m |\n",
      "| \u001b[0m 40      \u001b[0m | \u001b[0m-20.63   \u001b[0m | \u001b[0m 0.8215  \u001b[0m | \u001b[0m 0.07625 \u001b[0m | \u001b[0m 14.37   \u001b[0m | \u001b[0m 0.7278  \u001b[0m | \u001b[0m 76.02   \u001b[0m | \u001b[0m 0.6855  \u001b[0m |\n",
      "| \u001b[0m 41      \u001b[0m | \u001b[0m-23.18   \u001b[0m | \u001b[0m 0.2681  \u001b[0m | \u001b[0m 0.2175  \u001b[0m | \u001b[0m 14.83   \u001b[0m | \u001b[0m 0.8024  \u001b[0m | \u001b[0m 76.11   \u001b[0m | \u001b[0m 0.6356  \u001b[0m |\n",
      "| \u001b[0m 42      \u001b[0m | \u001b[0m-22.93   \u001b[0m | \u001b[0m 0.3247  \u001b[0m | \u001b[0m 0.1175  \u001b[0m | \u001b[0m 13.47   \u001b[0m | \u001b[0m 0.4058  \u001b[0m | \u001b[0m 71.75   \u001b[0m | \u001b[0m 0.9362  \u001b[0m |\n",
      "| \u001b[0m 43      \u001b[0m | \u001b[0m-46.37   \u001b[0m | \u001b[0m 0.3746  \u001b[0m | \u001b[0m 0.01    \u001b[0m | \u001b[0m 13.67   \u001b[0m | \u001b[0m 0.1     \u001b[0m | \u001b[0m 72.02   \u001b[0m | \u001b[0m 0.5811  \u001b[0m |\n",
      "| \u001b[0m 44      \u001b[0m | \u001b[0m-22.38   \u001b[0m | \u001b[0m 0.9181  \u001b[0m | \u001b[0m 0.1771  \u001b[0m | \u001b[0m 12.14   \u001b[0m | \u001b[0m 0.1363  \u001b[0m | \u001b[0m 96.63   \u001b[0m | \u001b[0m 0.9772  \u001b[0m |\n",
      "| \u001b[0m 45      \u001b[0m | \u001b[0m-21.99   \u001b[0m | \u001b[0m 0.4834  \u001b[0m | \u001b[0m 0.1483  \u001b[0m | \u001b[0m 14.63   \u001b[0m | \u001b[0m 0.8761  \u001b[0m | \u001b[0m 56.97   \u001b[0m | \u001b[0m 0.9472  \u001b[0m |\n",
      "| \u001b[0m 46      \u001b[0m | \u001b[0m-22.94   \u001b[0m | \u001b[0m 0.4476  \u001b[0m | \u001b[0m 0.2722  \u001b[0m | \u001b[0m 15.17   \u001b[0m | \u001b[0m 0.727   \u001b[0m | \u001b[0m 71.93   \u001b[0m | \u001b[0m 0.7266  \u001b[0m |\n",
      "| \u001b[0m 47      \u001b[0m | \u001b[0m-23.76   \u001b[0m | \u001b[0m 0.9397  \u001b[0m | \u001b[0m 0.2353  \u001b[0m | \u001b[0m 13.6    \u001b[0m | \u001b[0m 0.1133  \u001b[0m | \u001b[0m 75.2    \u001b[0m | \u001b[0m 0.6245  \u001b[0m |\n",
      "| \u001b[0m 48      \u001b[0m | \u001b[0m-30.21   \u001b[0m | \u001b[0m 0.4492  \u001b[0m | \u001b[0m 0.01259 \u001b[0m | \u001b[0m 15.01   \u001b[0m | \u001b[0m 0.2922  \u001b[0m | \u001b[0m 96.82   \u001b[0m | \u001b[0m 0.6425  \u001b[0m |\n",
      "| \u001b[0m 49      \u001b[0m | \u001b[0m-22.11   \u001b[0m | \u001b[0m 0.1723  \u001b[0m | \u001b[0m 0.2578  \u001b[0m | \u001b[0m 12.94   \u001b[0m | \u001b[0m 0.3429  \u001b[0m | \u001b[0m 83.39   \u001b[0m | \u001b[0m 0.74    \u001b[0m |\n",
      "| \u001b[0m 50      \u001b[0m | \u001b[0m-22.1    \u001b[0m | \u001b[0m 0.2579  \u001b[0m | \u001b[0m 0.1457  \u001b[0m | \u001b[0m 13.91   \u001b[0m | \u001b[0m 0.1202  \u001b[0m | \u001b[0m 75.02   \u001b[0m | \u001b[0m 0.6108  \u001b[0m |\n"
     ]
    },
    {
     "name": "stdout",
     "output_type": "stream",
     "text": [
      "| \u001b[0m 51      \u001b[0m | \u001b[0m-22.42   \u001b[0m | \u001b[0m 0.1991  \u001b[0m | \u001b[0m 0.107   \u001b[0m | \u001b[0m 14.98   \u001b[0m | \u001b[0m 0.9489  \u001b[0m | \u001b[0m 95.63   \u001b[0m | \u001b[0m 0.8711  \u001b[0m |\n",
      "| \u001b[0m 52      \u001b[0m | \u001b[0m-21.49   \u001b[0m | \u001b[0m 0.1305  \u001b[0m | \u001b[0m 0.09845 \u001b[0m | \u001b[0m 12.22   \u001b[0m | \u001b[0m 0.6377  \u001b[0m | \u001b[0m 89.21   \u001b[0m | \u001b[0m 0.633   \u001b[0m |\n",
      "=================================================================================================\n",
      "{'target': -19.049676343660906, 'params': {'_lambda': 0.4451073516364701, 'learning_rate': 0.051418108368339495, 'max_depth': 13.411458389705375, 'min_child_weight': 0.29938991545337756, 'n_estimators': 71.91100624527658, 'subsample': 0.6047260021552079}}\n",
      "\n"
     ]
    }
   ],
   "source": [
    "from bayes_opt import BayesianOptimization\n",
    "\n",
    "# 하이퍼파라미터 정의\n",
    "pbounds = {\n",
    "'max_depth': (12, 16), \n",
    "'learning_rate': (0.01, 0.3),\n",
    "'n_estimators': (50, 100),\n",
    "'min_child_weight': (0.1, 1),\n",
    "'subsample': (0.5, 1), \n",
    "'_lambda' : (0.1,1),    \n",
    "#'gamma': (0, 0.3),     \n",
    "#'colsample_bytree' :(0.5, 1)\n",
    "#'_alpha' : (0,1)           \n",
    "                      }\n",
    "\n",
    "# Bayesian optimization 객체 생성\n",
    "bo=BayesianOptimization(f=XGB, pbounds=pbounds, verbose=2, random_state=1 )    \n",
    "\n",
    "# 메소드를 이용해 최대화 과정 수행 (파라미터 넣고 목적함수 값 출력하고)\n",
    "bo.maximize(init_points=2, n_iter=50, acq='ei', xi=0.01)\n",
    "\n",
    "# 뽑힌 최적의 하이퍼파라미터 값 확인\n",
    "print(\"{}\\n\".format(bo.max))"
   ]
  },
  {
   "cell_type": "code",
   "execution_count": 6,
   "metadata": {},
   "outputs": [
    {
     "data": {
      "text/plain": [
       "XGBRegressor(learning_rate=0.051418108368339495, max_depth=13,\n",
       "             min_child_weight=0.29938991545337756, n_estimators=71, n_jobs=-1,\n",
       "             objective='reg:squarederror', reg_lambda=0.4451073516364701,\n",
       "             subsample=0.6047260021552079)"
      ]
     },
     "execution_count": 6,
     "metadata": {},
     "output_type": "execute_result"
    }
   ],
   "source": [
    "import xgboost as xgb\n",
    "\n",
    "# Train + Valid cross-validation을 거친, 최적의 하이퍼파라미터를 사용\n",
    "best_model = xgb.XGBRegressor(\n",
    "objective = 'reg:squarederror',\n",
    "max_depth=int(bo.max['params']['max_depth']),\n",
    "learning_rate=bo.max['params']['learning_rate'],\n",
    "n_estimators=int(bo.max['params']['n_estimators']),\n",
    "min_child_weight=bo.max['params']['min_child_weight'],\n",
    "subsample=bo.max['params']['subsample'],\n",
    "reg_lambda = bo.max['params']['_lambda'],    \n",
    "#gamma=bo.max['params']['gamma'],\n",
    "#colsample_bytree=bo.max['params']['colsample_bytree'],\n",
    "#reg_alpha = bo.max['params']['_alpha']\n",
    "n_jobs=-1\n",
    "                             )\n",
    "# 모델 훈련\n",
    "best_model.fit(X_train, y_train)"
   ]
  },
  {
   "cell_type": "code",
   "execution_count": 7,
   "metadata": {},
   "outputs": [
    {
     "name": "stdout",
     "output_type": "stream",
     "text": [
      "{'target': -19.049676343660906, 'params': {'_lambda': 0.4451073516364701, 'learning_rate': 0.051418108368339495, 'max_depth': 13.411458389705375, 'min_child_weight': 0.29938991545337756, 'n_estimators': 71.91100624527658, 'subsample': 0.6047260021552079}}\n",
      "\n",
      "-------- train -> train -------------------------\n",
      "rmse : 7914.855605276315\n",
      "mape : 3.8919476054713034%\n",
      "\n",
      "\n",
      "-------- train -> dev (cross-validation) --------\n",
      "mape : 19.049676343660906%\n",
      "\n",
      "\n",
      "-------- train -> test --------------------------\n",
      "rmse : 14166.707038272609\n",
      "mape : 13.517505781633663%\n",
      "\n",
      "\n"
     ]
    }
   ],
   "source": [
    "# 최적의 하이퍼파라미터 값 확인\n",
    "print(\"{}\\n\".format(bo.max))\n",
    "\n",
    "# Train -> Train 에러율\n",
    "y_train_pred = best_model.predict(X_train)\n",
    "print(\"-------- train -> train -------------------------\")\n",
    "print(\"rmse : {}\".format(np.sqrt(mean_squared_error(y_train, y_train_pred))))\n",
    "print(\"mape : {}%\".format(mean_absolute_percentage_error(y_train, y_train_pred)))\n",
    "print(\"\\n\")\n",
    "\n",
    "# Train -> dev (cross-validation) 에러율\n",
    "print(\"-------- train -> dev (cross-validation) --------\")\n",
    "print(\"mape : {}%\".format(-bo.max['target']))\n",
    "print(\"\\n\")\n",
    "\n",
    "# Train -> Test 에러율\n",
    "y_pred = best_model.predict(X_test)\n",
    "print(\"-------- train -> test --------------------------\")\n",
    "print(\"rmse : {}\".format(np.sqrt(mean_squared_error(y_test, y_pred))))\n",
    "print(\"mape : {}%\".format(mean_absolute_percentage_error(y_test, y_pred)))\n",
    "print(\"\\n\")"
   ]
  },
  {
   "cell_type": "code",
   "execution_count": 8,
   "metadata": {},
   "outputs": [],
   "source": [
    "# 1, 19, 13"
   ]
  },
  {
   "cell_type": "code",
   "execution_count": 9,
   "metadata": {},
   "outputs": [],
   "source": [
    "# mape_list = {}\n",
    "# # 예측값, 실제값을 확인하며 mape 계산 후 mape_list에 삽입 \n",
    "# for idx,value in enumerate(y_test):\n",
    "#     mape_temp = {}\n",
    "#     predicate = int(y_pred[idx])\n",
    "#     mape = abs((value - predicate) / value) * 100\n",
    "#     mape_temp['pred'] = predicate\n",
    "#     mape_temp['real'] = value\n",
    "#     mape_temp['mape'] = mape\n",
    "#     mape_list[idx] = mape_temp\n",
    "# mape_list_sort = sorted(mape_list.values(), key=lambda x:(x['mape']), reverse=True)\n",
    "# mape_list_sort  "
   ]
  }
 ],
 "metadata": {
  "kernelspec": {
   "display_name": "Python 3",
   "language": "python",
   "name": "python3"
  },
  "language_info": {
   "codemirror_mode": {
    "name": "ipython",
    "version": 3
   },
   "file_extension": ".py",
   "mimetype": "text/x-python",
   "name": "python",
   "nbconvert_exporter": "python",
   "pygments_lexer": "ipython3",
   "version": "3.7.7"
  }
 },
 "nbformat": 4,
 "nbformat_minor": 4
}
