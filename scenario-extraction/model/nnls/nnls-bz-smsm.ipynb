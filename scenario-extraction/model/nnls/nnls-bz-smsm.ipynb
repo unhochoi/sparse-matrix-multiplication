{
 "cells": [
  {
   "cell_type": "code",
   "execution_count": 14,
   "metadata": {},
   "outputs": [],
   "source": [
    "import pandas as pd\n",
    "import numpy as np\n",
    "import matplotlib.pyplot as plt\n",
    "\n",
    "# 1727, 191\n",
    "train = pd.read_csv('/Users/bdlab/Desktop/sparse-matrix-multiplication/scenario-extraction/d-optimal/d-optimal-of-spmm/train-test-csv/1727-nonsquare-train-from-1918-nonsquare-spmm-over-3s.csv')\n",
    "test = pd.read_csv('/Users/bdlab/Desktop/sparse-matrix-multiplication/scenario-extraction/d-optimal/d-optimal-of-spmm/train-test-csv/191-nonsquare-test-from-1918-nonsquare-spmm-over-3s.csv')"
   ]
  },
  {
   "cell_type": "code",
   "execution_count": 2,
   "metadata": {},
   "outputs": [],
   "source": [
    "# 일부 feature -> MAPE 9\n",
    "\n",
    "# Train + Valid\n",
    "X_train = train[['lr','lc','rc','ld','rd','lnnz','rnnz','lr*lc','lc*rc','lr*rc','lr*lc*rc','ld*rd','lr*rc*ld*rd','lr*lc*rc*ld*rd','lnnz*rnnz']] \n",
    "y_train = train['bz_smsm']\n",
    "\n",
    "# Test\n",
    "X_test = test[['lr','lc','rc','ld','rd','lnnz','rnnz','lr*lc','lc*rc','lr*rc','lr*lc*rc','ld*rd','lr*rc*ld*rd','lr*lc*rc*ld*rd','lnnz*rnnz']] \n",
    "y_test = test['bz_smsm']"
   ]
  },
  {
   "cell_type": "code",
   "execution_count": 4,
   "metadata": {},
   "outputs": [],
   "source": [
    "from sklearn.metrics import r2_score\n",
    "\n",
    "def mean_absolute_percentage_error(y_test, y_pred):\n",
    "    y_test, y_pred = np.array(y_test), np.array(y_pred)\n",
    "    return np.mean(np.abs((y_test - y_pred) / y_test)) * 100"
   ]
  },
  {
   "cell_type": "code",
   "execution_count": 5,
   "metadata": {},
   "outputs": [
    {
     "name": "stdout",
     "output_type": "stream",
     "text": [
      "[1.61431379e-03 0.00000000e+00 0.00000000e+00 3.43040664e-03\n",
      " 1.22149347e-03 0.00000000e+00 0.00000000e+00 2.03721158e-05\n",
      " 6.05874409e-11 0.00000000e+00 7.86831244e-02]\n",
      "2690168.943210229\n"
     ]
    }
   ],
   "source": [
    "from scipy.optimize import nnls\n",
    "\n",
    "# NNLS(Non-Negative Least Squares)회귀모델 정의 및 훈련데이터로 학습\n",
    "# (모든 가중치가 0 또는 양수값을 가진다.)\n",
    "nnls_coef, nnls_intercept =nnls(X_train.to_numpy(), y_train.to_numpy(), maxiter=1000)\n"
   ]
  },
  {
   "cell_type": "code",
   "execution_count": 6,
   "metadata": {},
   "outputs": [],
   "source": [
    "# NNLS를 통해 나온 각 weight 추출\n",
    "C1=np.array(pd.DataFrame(nnls_coef).iloc[0])\n",
    "C2=np.array(pd.DataFrame(nnls_coef).iloc[1])\n",
    "C3=np.array(pd.DataFrame(nnls_coef).iloc[2])\n",
    "C4=np.array(pd.DataFrame(nnls_coef).iloc[3])\n",
    "C5=np.array(pd.DataFrame(nnls_coef).iloc[4])\n",
    "C6=np.array(pd.DataFrame(nnls_coef).iloc[5])\n",
    "C7=np.array(pd.DataFrame(nnls_coef).iloc[6])\n",
    "C8=np.array(pd.DataFrame(nnls_coef).iloc[7])\n",
    "C9=np.array(pd.DataFrame(nnls_coef).iloc[8])\n",
    "C10=np.array(pd.DataFrame(nnls_coef).iloc[9])\n",
    "C11=np.array(pd.DataFrame(nnls_coef).iloc[10])\n",
    "C12=np.array(pd.DataFrame(nnls_coef).iloc[11])\n",
    "C13=np.array(pd.DataFrame(nnls_coef).iloc[12])\n",
    "C14=np.array(pd.DataFrame(nnls_coef).iloc[13])\n",
    "C15=np.array(pd.DataFrame(nnls_coef).iloc[14])\n",
    "\n",
    "# 테스트 데이터 예측값 도출\n",
    "y_pred = C1*X_test['lr']+C2*X_test['lc']+C3*X_test['rc']+C4*X_test['ld']+C5*X_test['rd']+C6*X_test['lnnz']+C7*X_test['rnnz']+C8*X_test['lr*lc']+C9*X_test['lc*rc']+C10*X_test['lr*rc']+C11*X_test['lr*lc*rc']+C12*X_test['ld*rd']+C13*X_test['lr*rc*ld*rd']+C14*X_test['lr*lc*rc*ld*rd']+C15*X_test['lnnz*rnnz']"
   ]
  },
  {
   "cell_type": "code",
   "execution_count": 8,
   "metadata": {},
   "outputs": [
    {
     "name": "stdout",
     "output_type": "stream",
     "text": [
      "\n",
      "MAPE :  233.161168728383\n",
      "R^2 :  0.6839923594448862\n"
     ]
    }
   ],
   "source": [
    "# nnls metric\n",
    "print(\"\\nMAPE : \", mean_absolute_percentage_error(y_test,y_pred))\n",
    "print(\"R^2 : \", r2_score(y_test, y_pred))"
   ]
  },
  {
   "cell_type": "code",
   "execution_count": 9,
   "metadata": {},
   "outputs": [
    {
     "data": {
      "text/plain": [
       "[{'pred': 98988, 'real': 3095, 'mape': 3098.319870759289},\n",
       " {'pred': 77633, 'real': 3236, 'mape': 2299.0420271940666},\n",
       " {'pred': 85805, 'real': 3922, 'mape': 2087.7868434472207},\n",
       " {'pred': 60548, 'real': 3014, 'mape': 1908.8918380889183},\n",
       " {'pred': 68165, 'real': 3470, 'mape': 1864.4092219020174},\n",
       " {'pred': 72716, 'real': 4176, 'mape': 1641.2835249042146},\n",
       " {'pred': 84147, 'real': 4839, 'mape': 1638.9336639801613},\n",
       " {'pred': 124799, 'real': 9288, 'mape': 1243.658484065461},\n",
       " {'pred': 73795, 'real': 5719, 'mape': 1190.3479629305823},\n",
       " {'pred': 59067, 'real': 4584, 'mape': 1188.5471204188482},\n",
       " {'pred': 59730, 'real': 5127, 'mape': 1065.0087770626096},\n",
       " {'pred': 40576, 'real': 3650, 'mape': 1011.6712328767123},\n",
       " {'pred': 49416, 'real': 4822, 'mape': 924.8029863127334},\n",
       " {'pred': 55021, 'real': 5460, 'mape': 907.7106227106228},\n",
       " {'pred': 38820, 'real': 4411, 'mape': 780.0725459079573},\n",
       " {'pred': 32051, 'real': 3651, 'mape': 777.869076965215},\n",
       " {'pred': 33854, 'real': 4131, 'mape': 719.5110142822562},\n",
       " {'pred': 47917, 'real': 6235, 'mape': 668.5164394546913},\n",
       " {'pred': 68011, 'real': 8876, 'mape': 666.2347904461469},\n",
       " {'pred': 76291, 'real': 10547, 'mape': 623.3431307480801},\n",
       " {'pred': 75479, 'real': 10640, 'mape': 609.3890977443609},\n",
       " {'pred': 70702, 'real': 9999, 'mape': 607.090709070907},\n",
       " {'pred': 53021, 'real': 7928, 'mape': 568.7815338042382},\n",
       " {'pred': 81853, 'real': 12841, 'mape': 537.4347792228019},\n",
       " {'pred': 26083, 'real': 4171, 'mape': 525.3416446895229},\n",
       " {'pred': 84222, 'real': 13787, 'mape': 510.87981431783567},\n",
       " {'pred': 78232, 'real': 13574, 'mape': 476.3371150729336},\n",
       " {'pred': 116691, 'real': 20717, 'mape': 463.2620553168895},\n",
       " {'pred': 26328, 'real': 4691, 'mape': 461.24493711362186},\n",
       " {'pred': 17466, 'real': 3457, 'mape': 405.2357535435348},\n",
       " {'pred': 23240, 'real': 4693, 'mape': 395.2056253995312},\n",
       " {'pred': 35215, 'real': 7171, 'mape': 391.07516385441363},\n",
       " {'pred': 26033, 'real': 5487, 'mape': 374.4486969199927},\n",
       " {'pred': 32638, 'real': 6960, 'mape': 368.9367816091954},\n",
       " {'pred': 56260, 'real': 12138, 'mape': 363.50304827813477},\n",
       " {'pred': 140244, 'real': 31007, 'mape': 352.2978682233044},\n",
       " {'pred': 30339, 'real': 7146, 'mape': 324.5591939546599},\n",
       " {'pred': 14812, 'real': 3600, 'mape': 311.44444444444446},\n",
       " {'pred': 62524, 'real': 15340, 'mape': 307.58800521512387},\n",
       " {'pred': 18379, 'real': 4748, 'mape': 287.089300758214},\n",
       " {'pred': 27135, 'real': 7171, 'mape': 278.39910751638547},\n",
       " {'pred': 40784, 'real': 10819, 'mape': 276.96644791570384},\n",
       " {'pred': 86055, 'real': 23173, 'mape': 271.35890907521684},\n",
       " {'pred': 69170, 'real': 18850, 'mape': 266.9496021220159},\n",
       " {'pred': 43102, 'real': 12031, 'mape': 258.25783392901667},\n",
       " {'pred': 67600, 'real': 19148, 'mape': 253.03948193022768},\n",
       " {'pred': 76992, 'real': 22611, 'mape': 240.5068329574101},\n",
       " {'pred': 125236, 'real': 37429, 'mape': 234.59616874615938},\n",
       " {'pred': 65134, 'real': 20147, 'mape': 223.29379063880478},\n",
       " {'pred': 17606, 'real': 5592, 'mape': 214.84263233190273},\n",
       " {'pred': 12960, 'real': 4286, 'mape': 202.3798413439104},\n",
       " {'pred': 52929, 'real': 17687, 'mape': 199.25368915022332},\n",
       " {'pred': 67207, 'real': 22668, 'mape': 196.48403035115584},\n",
       " {'pred': 61986, 'real': 21240, 'mape': 191.83615819209038},\n",
       " {'pred': 57365, 'real': 19749, 'mape': 190.47040356473747},\n",
       " {'pred': 86133, 'real': 29867, 'mape': 188.38852244952625},\n",
       " {'pred': 26396, 'real': 9281, 'mape': 184.40900765003772},\n",
       " {'pred': 25696, 'real': 9281, 'mape': 176.86671694860468},\n",
       " {'pred': 100519, 'real': 38294, 'mape': 162.49281871833708},\n",
       " {'pred': 281088, 'real': 107097, 'mape': 162.46113336508026},\n",
       " {'pred': 83239, 'real': 31808, 'mape': 161.69202716297787},\n",
       " {'pred': 93405, 'real': 36401, 'mape': 156.60009340402738},\n",
       " {'pred': 116048, 'real': 45563, 'mape': 154.69789083247372},\n",
       " {'pred': 81375, 'real': 34431, 'mape': 136.34224971682497},\n",
       " {'pred': 31731, 'real': 13562, 'mape': 133.96991594160153},\n",
       " {'pred': 86180, 'real': 39323, 'mape': 119.15927065585026},\n",
       " {'pred': 61750, 'real': 29478, 'mape': 109.47825496980799},\n",
       " {'pred': 60412, 'real': 28851, 'mape': 109.39308862777719},\n",
       " {'pred': 91402, 'real': 44369, 'mape': 106.00419211611711},\n",
       " {'pred': 84239, 'real': 41727, 'mape': 101.88127591247873},\n",
       " {'pred': 27463, 'real': 13791, 'mape': 99.1371184105576},\n",
       " {'pred': 67163, 'real': 34386, 'mape': 95.32077008084686},\n",
       " {'pred': 74068, 'real': 38543, 'mape': 92.1697843966479},\n",
       " {'pred': 19050, 'real': 9944, 'mape': 91.57280772325021},\n",
       " {'pred': 51421, 'real': 27233, 'mape': 88.81871259134138},\n",
       " {'pred': 64984, 'real': 35739, 'mape': 81.82937407314138},\n",
       " {'pred': 48245, 'real': 26809, 'mape': 79.95822298481853},\n",
       " {'pred': 64094, 'real': 35894, 'mape': 78.5646626177077},\n",
       " {'pred': 81161, 'real': 45468, 'mape': 78.50136359637547},\n",
       " {'pred': 23879, 'real': 13549, 'mape': 76.2417890619234},\n",
       " {'pred': 50921, 'real': 29144, 'mape': 74.72206972275598},\n",
       " {'pred': 29907, 'real': 17169, 'mape': 74.19185741743841},\n",
       " {'pred': 38666, 'real': 22328, 'mape': 73.17269795772124},\n",
       " {'pred': 128982, 'real': 75752, 'mape': 70.26877178160312},\n",
       " {'pred': 62995, 'real': 37109, 'mape': 69.7566628041715},\n",
       " {'pred': 59884, 'real': 35713, 'mape': 67.68123652451489},\n",
       " {'pred': 76669, 'real': 46048, 'mape': 66.49800208478109},\n",
       " {'pred': 28680, 'real': 17650, 'mape': 62.492917847025495},\n",
       " {'pred': 59758, 'real': 38450, 'mape': 55.41742522756827},\n",
       " {'pred': 14067, 'real': 9068, 'mape': 55.127922364358184},\n",
       " {'pred': 52302, 'real': 33824, 'mape': 54.629848628193},\n",
       " {'pred': 69902, 'real': 45662, 'mape': 53.08571678857693},\n",
       " {'pred': 93286, 'real': 62160, 'mape': 50.07400257400258},\n",
       " {'pred': 52474, 'real': 35098, 'mape': 49.50709442133455},\n",
       " {'pred': 118474, 'real': 232804, 'mape': 49.10998092816274},\n",
       " {'pred': 46870, 'real': 31552, 'mape': 48.54842799188641},\n",
       " {'pred': 421615, 'real': 816153, 'mape': 48.34118112657798},\n",
       " {'pred': 46355, 'real': 31320, 'mape': 48.00446998722861},\n",
       " {'pred': 218565, 'real': 416693, 'mape': 47.547714984412984},\n",
       " {'pred': 49826, 'real': 33853, 'mape': 47.18341062830473},\n",
       " {'pred': 45854, 'real': 86582, 'mape': 47.03980042041071},\n",
       " {'pred': 95138, 'real': 176750, 'mape': 46.173691654879775},\n",
       " {'pred': 331919, 'real': 602109, 'mape': 44.87393478589425},\n",
       " {'pred': 37878, 'real': 26377, 'mape': 43.60238086211472},\n",
       " {'pred': 55844, 'real': 98644, 'mape': 43.3883459713718},\n",
       " {'pred': 86145, 'real': 60091, 'mape': 43.35757434557588},\n",
       " {'pred': 26068, 'real': 18239, 'mape': 42.924502439826746},\n",
       " {'pred': 132035, 'real': 230110, 'mape': 42.62092042935987},\n",
       " {'pred': 60562, 'real': 42529, 'mape': 42.40165534106139},\n",
       " {'pred': 164897, 'real': 271436, 'mape': 39.25013631205883},\n",
       " {'pred': 89146, 'real': 145838, 'mape': 38.87327034106337},\n",
       " {'pred': 107979, 'real': 77954, 'mape': 38.51630448726172},\n",
       " {'pred': 65497, 'real': 47358, 'mape': 38.30187085603277},\n",
       " {'pred': 318911, 'real': 513242, 'mape': 37.863425050950624},\n",
       " {'pred': 70963, 'real': 113552, 'mape': 37.506164576581654},\n",
       " {'pred': 128776, 'real': 94023, 'mape': 36.962232645203834},\n",
       " {'pred': 87314, 'real': 63892, 'mape': 36.658736618042944},\n",
       " {'pred': 82307, 'real': 127256, 'mape': 35.32171371094487},\n",
       " {'pred': 74840, 'real': 115501, 'mape': 35.20402420758262},\n",
       " {'pred': 116772, 'real': 179105, 'mape': 34.8024901594037},\n",
       " {'pred': 63885, 'real': 97186, 'mape': 34.265223386084415},\n",
       " {'pred': 201225, 'real': 304693, 'mape': 33.95811521761248},\n",
       " {'pred': 51867, 'real': 78164, 'mape': 33.64336523207615},\n",
       " {'pred': 109255, 'real': 164522, 'mape': 33.59246787663656},\n",
       " {'pred': 37953, 'real': 56863, 'mape': 33.25536816559098},\n",
       " {'pred': 75150, 'real': 111936, 'mape': 32.86342195540309},\n",
       " {'pred': 98842, 'real': 146681, 'mape': 32.61431269216872},\n",
       " {'pred': 134971, 'real': 197935, 'mape': 31.81044282213858},\n",
       " {'pred': 112021, 'real': 85009, 'mape': 31.775459069039748},\n",
       " {'pred': 74670, 'real': 107419, 'mape': 30.487157765386012},\n",
       " {'pred': 134358, 'real': 193091, 'mape': 30.41726439865141},\n",
       " {'pred': 64438, 'real': 92404, 'mape': 30.26492359638111},\n",
       " {'pred': 37456, 'real': 28764, 'mape': 30.218328466138228},\n",
       " {'pred': 110453, 'real': 156999, 'mape': 29.647322594411428},\n",
       " {'pred': 32735, 'real': 46085, 'mape': 28.9682109146143},\n",
       " {'pred': 56302, 'real': 43867, 'mape': 28.347049034581808},\n",
       " {'pred': 74248, 'real': 102041, 'mape': 27.23709097323625},\n",
       " {'pred': 92498, 'real': 126595, 'mape': 26.93392314072436},\n",
       " {'pred': 120675, 'real': 95317, 'mape': 26.60385870306451},\n",
       " {'pred': 86621, 'real': 114766, 'mape': 24.52381367303905},\n",
       " {'pred': 68939, 'real': 90347, 'mape': 23.695308089919976},\n",
       " {'pred': 209557, 'real': 169896, 'mape': 23.344281207326837},\n",
       " {'pred': 350768, 'real': 455431, 'mape': 22.981088243883267},\n",
       " {'pred': 47709, 'real': 38801, 'mape': 22.958171181155123},\n",
       " {'pred': 28652, 'real': 23352, 'mape': 22.696128811236722},\n",
       " {'pred': 105761, 'real': 136643, 'mape': 22.60049911082163},\n",
       " {'pred': 275098, 'real': 354393, 'mape': 22.374877607627692},\n",
       " {'pred': 58761, 'real': 48037, 'mape': 22.324458230114285},\n",
       " {'pred': 68174, 'real': 87437, 'mape': 22.030719260724865},\n",
       " {'pred': 30966, 'real': 39491, 'mape': 21.587197082879644},\n",
       " {'pred': 86882, 'real': 110694, 'mape': 21.511554375124216},\n",
       " {'pred': 81424, 'real': 67057, 'mape': 21.425056295390487},\n",
       " {'pred': 246495, 'real': 313388, 'mape': 21.34510574750788},\n",
       " {'pred': 66064, 'real': 83940, 'mape': 21.29616392661425},\n",
       " {'pred': 64756, 'real': 81733, 'mape': 20.7712918894449},\n",
       " {'pred': 143485, 'real': 178099, 'mape': 19.435257918348782},\n",
       " {'pred': 145829, 'real': 122161, 'mape': 19.374432101898314},\n",
       " {'pred': 29193, 'real': 24762, 'mape': 17.894354252483645},\n",
       " {'pred': 36677, 'real': 44205, 'mape': 17.02974776608981},\n",
       " {'pred': 97697, 'real': 116536, 'mape': 16.1658200041189},\n",
       " {'pred': 24615, 'real': 21197, 'mape': 16.124923338208237},\n",
       " {'pred': 31736, 'real': 27403, 'mape': 15.812137357223662},\n",
       " {'pred': 65316, 'real': 56435, 'mape': 15.736688225392042},\n",
       " {'pred': 80620, 'real': 69718, 'mape': 15.637281620241545},\n",
       " {'pred': 38537, 'real': 33352, 'mape': 15.546294075317821},\n",
       " {'pred': 180736, 'real': 213525, 'mape': 15.356047301252781},\n",
       " {'pred': 80664, 'real': 95081, 'mape': 15.162861139449522},\n",
       " {'pred': 124210, 'real': 108542, 'mape': 14.434965266901292},\n",
       " {'pred': 85948, 'real': 100237, 'mape': 14.255215140117922},\n",
       " {'pred': 98854, 'real': 86949, 'mape': 13.691934352321475},\n",
       " {'pred': 40310, 'real': 46605, 'mape': 13.507134427636519},\n",
       " {'pred': 25937, 'real': 29914, 'mape': 13.294778364645316},\n",
       " {'pred': 100027, 'real': 112551, 'mape': 11.12740002310064},\n",
       " {'pred': 57281, 'real': 51931, 'mape': 10.302131674722228},\n",
       " {'pred': 270307, 'real': 299355, 'mape': 9.703529254563978},\n",
       " {'pred': 40619, 'real': 44417, 'mape': 8.550780106715896},\n",
       " {'pred': 94452, 'real': 102673, 'mape': 8.006973595784675},\n",
       " {'pred': 45829, 'real': 49699, 'mape': 7.786876999537213},\n",
       " {'pred': 65810, 'real': 70980, 'mape': 7.283741899126514},\n",
       " {'pred': 51848, 'real': 55799, 'mape': 7.0807720568468975},\n",
       " {'pred': 16176, 'real': 15269, 'mape': 5.940140153251686},\n",
       " {'pred': 125735, 'real': 118700, 'mape': 5.92670598146588},\n",
       " {'pred': 211698, 'real': 224158, 'mape': 5.558579216445543},\n",
       " {'pred': 38949, 'real': 37055, 'mape': 5.111321009310484},\n",
       " {'pred': 97762, 'real': 93033, 'mape': 5.083142540818849},\n",
       " {'pred': 22479, 'real': 21734, 'mape': 3.4278089629152477},\n",
       " {'pred': 106033, 'real': 102648, 'mape': 3.2976774998051592},\n",
       " {'pred': 92523, 'real': 94940, 'mape': 2.545818411628397},\n",
       " {'pred': 123198, 'real': 125146, 'mape': 1.5565819123264026},\n",
       " {'pred': 68966, 'real': 68059, 'mape': 1.3326672445966},\n",
       " {'pred': 115643, 'real': 114244, 'mape': 1.2245719687686005},\n",
       " {'pred': 75268, 'real': 75249, 'mape': 0.025249504976810326}]"
      ]
     },
     "execution_count": 9,
     "metadata": {},
     "output_type": "execute_result"
    }
   ],
   "source": [
    "mape_list = {}\n",
    "# 예측값, 실제값을 확인하며 mape 계산 후 mape_list에 삽입 \n",
    "for idx,value in enumerate(y_test):\n",
    "    mape_temp = {}\n",
    "    predicate = int(y_pred[idx])\n",
    "    mape = abs((value - predicate) / value) * 100\n",
    "    mape_temp['pred'] = predicate\n",
    "    mape_temp['real'] = value\n",
    "    mape_temp['mape'] = mape\n",
    "    mape_list[idx] = mape_temp\n",
    "mape_list_sort = sorted(mape_list.values(), key=lambda x:(x['mape']), reverse=True)\n",
    "mape_list_sort  "
   ]
  },
  {
   "cell_type": "code",
   "execution_count": 10,
   "metadata": {},
   "outputs": [
    {
     "name": "stdout",
     "output_type": "stream",
     "text": [
      "[1.61431379e-03 0.00000000e+00 0.00000000e+00 3.43040664e-03\n",
      " 1.22149347e-03 0.00000000e+00 0.00000000e+00 2.03721158e-05\n",
      " 6.05874409e-11 0.00000000e+00 7.86831244e-02]\n",
      "2690168.943210229\n"
     ]
    }
   ],
   "source": [
    "# 모델의 weight(가중치)와 bias(절편) 출력\n",
    "print(nnls_coef)\n",
    "print(nnls_intercept)"
   ]
  },
  {
   "cell_type": "code",
   "execution_count": 19,
   "metadata": {},
   "outputs": [
    {
     "data": {
      "text/plain": [
       "[<matplotlib.lines.Line2D at 0x7f83b9c3c9d0>,\n",
       " <matplotlib.lines.Line2D at 0x7f83b9bcee50>,\n",
       " <matplotlib.lines.Line2D at 0x7f83b9c3c6d0>,\n",
       " <matplotlib.lines.Line2D at 0x7f83b9c3cc10>,\n",
       " <matplotlib.lines.Line2D at 0x7f83b9c3cdd0>,\n",
       " <matplotlib.lines.Line2D at 0x7f83b961e390>,\n",
       " <matplotlib.lines.Line2D at 0x7f83b9c3cf10>,\n",
       " <matplotlib.lines.Line2D at 0x7f83b9c4b2d0>,\n",
       " <matplotlib.lines.Line2D at 0x7f83b9c4b490>,\n",
       " <matplotlib.lines.Line2D at 0x7f83b961e410>,\n",
       " <matplotlib.lines.Line2D at 0x7f83b9c4b7d0>]"
      ]
     },
     "execution_count": 19,
     "metadata": {},
     "output_type": "execute_result"
    },
    {
     "data": {
      "image/png": "[encoded data removed]",
      "text/plain": [
       "<Figure size 432x288 with 1 Axes>"
      ]
     },
     "metadata": {
      "needs_background": "light"
     },
     "output_type": "display_data"
    }
   ],
   "source": [
    "# 산점도 그리기\n",
    "plt.plot(X_test, y_test, 'o')\n",
    "\n",
    "# 직선 그리기 \n",
    "plt.plot(X_test, nnls_coef*X_test + nnls_intercept, 'o')"
   ]
  },
  {
   "cell_type": "code",
   "execution_count": null,
   "metadata": {},
   "outputs": [],
   "source": []
  }
 ],
 "metadata": {
  "kernelspec": {
   "display_name": "Python 3",
   "language": "python",
   "name": "python3"
  },
  "language_info": {
   "codemirror_mode": {
    "name": "ipython",
    "version": 3
   },
   "file_extension": ".py",
   "mimetype": "text/x-python",
   "name": "python",
   "nbconvert_exporter": "python",
   "pygments_lexer": "ipython3",
   "version": "3.7.7"
  }
 },
 "nbformat": 4,
 "nbformat_minor": 4
}
