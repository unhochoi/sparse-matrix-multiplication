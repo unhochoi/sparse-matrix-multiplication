{
 "cells": [
  {
   "cell_type": "code",
   "execution_count": 1,
   "metadata": {},
   "outputs": [],
   "source": [
    "import pandas as pd\n",
    "import numpy as np\n",
    "\n",
    "# 1727, 191\n",
    "train = pd.read_csv('/Users/bdlab/Desktop/sparse-matrix-multiplication/scenario-extraction/d-optimal/d-optimal-of-spmm/train-test-csv/1727-nonsquare-train-from-1918-nonsquare-spmm-over-3s.csv')\n",
    "test = pd.read_csv('/Users/bdlab/Desktop/sparse-matrix-multiplication/scenario-extraction/d-optimal/d-optimal-of-spmm/train-test-csv/191-nonsquare-test-from-1918-nonsquare-spmm-over-3s.csv')"
   ]
  },
  {
   "cell_type": "code",
   "execution_count": 2,
   "metadata": {},
   "outputs": [],
   "source": [
    "# 일부 feature -> MAPE 9\n",
    "\n",
    "# Train + Valid\n",
    "X_train = train[['lr','lc','rc','ld','rd','lnnz','rnnz','lr*lc','lc*rc','lr*rc','lr*lc*rc','ld*rd','lr*rc*ld*rd','lr*lc*rc*ld*rd','lnnz*rnnz']] \n",
    "y_train = train['bz_smsm']\n",
    "\n",
    "# Test\n",
    "X_test = test[['lr','lc','rc','ld','rd','lnnz','rnnz','lr*lc','lc*rc','lr*rc','lr*lc*rc','ld*rd','lr*rc*ld*rd','lr*lc*rc*ld*rd','lnnz*rnnz']] \n",
    "y_test = test['bz_smsm']"
   ]
  },
  {
   "cell_type": "code",
   "execution_count": 4,
   "metadata": {},
   "outputs": [
    {
     "data": {
      "text/plain": [
       "LinearRegression()"
      ]
     },
     "execution_count": 4,
     "metadata": {},
     "output_type": "execute_result"
    }
   ],
   "source": [
    "from sklearn.linear_model import LinearRegression\n",
    "\n",
    "# 기본선형회귀모델 정의 및 훈련데이터로 학습\n",
    "LR = LinearRegression()\n",
    "LR.fit(X_train,y_train)\n",
    "\n",
    "# # 모델의 weight(가중치)와 bias(절편) 출력\n",
    "# print('Coefficients: \\n',LR.coef_) \n",
    "# print('Intercept term: ',LR.intercept_)"
   ]
  },
  {
   "cell_type": "code",
   "execution_count": 7,
   "metadata": {},
   "outputs": [],
   "source": [
    "# 테스트 데이터 예측값 도출\n",
    "LR_Y_pred = LR.predict(X_test) "
   ]
  },
  {
   "cell_type": "code",
   "execution_count": 12,
   "metadata": {},
   "outputs": [
    {
     "name": "stdout",
     "output_type": "stream",
     "text": [
      "[1.21672907e-01 0.00000000e+00 0.00000000e+00 0.00000000e+00\n",
      " 0.00000000e+00 0.00000000e+00 5.16188458e-04 0.00000000e+00\n",
      " 0.00000000e+00 3.08837530e-05 0.00000000e+00 0.00000000e+00\n",
      " 6.27070417e-02 6.55179440e-07 1.39430967e-10]\n",
      "2122587.6851577903\n"
     ]
    }
   ],
   "source": [
    "from scipy.optimize import nnls\n",
    "\n",
    "# NNLS(Non-Negative Least Squares)회귀모델 정의 및 훈련데이터로 학습\n",
    "# (모든 가중치가 0 또는 양수값을 가진다.)\n",
    "nnls_coef, nnls_intercept =nnls(X_train.to_numpy(), y_train.to_numpy(), maxiter=1000)\n",
    "\n",
    "# 모델의 weight(가중치)와 bias(절편) 출력\n",
    "print(nnls_coef)\n",
    "print(nnls_intercept)"
   ]
  },
  {
   "cell_type": "code",
   "execution_count": 13,
   "metadata": {},
   "outputs": [],
   "source": [
    "# NNLS를 통해 나온 각 weight 추출\n",
    "C1=np.array(pd.DataFrame(nnls_coef).iloc[0])\n",
    "C2=np.array(pd.DataFrame(nnls_coef).iloc[1])\n",
    "C3=np.array(pd.DataFrame(nnls_coef).iloc[2])\n",
    "C4=np.array(pd.DataFrame(nnls_coef).iloc[3])\n",
    "C5=np.array(pd.DataFrame(nnls_coef).iloc[4])\n",
    "C6=np.array(pd.DataFrame(nnls_coef).iloc[5])\n",
    "C7=np.array(pd.DataFrame(nnls_coef).iloc[6])\n",
    "C8=np.array(pd.DataFrame(nnls_coef).iloc[7])\n",
    "C9=np.array(pd.DataFrame(nnls_coef).iloc[8])\n",
    "C10=np.array(pd.DataFrame(nnls_coef).iloc[9])\n",
    "C11=np.array(pd.DataFrame(nnls_coef).iloc[10])\n",
    "C12=np.array(pd.DataFrame(nnls_coef).iloc[11])\n",
    "C13=np.array(pd.DataFrame(nnls_coef).iloc[12])\n",
    "C14=np.array(pd.DataFrame(nnls_coef).iloc[13])\n",
    "C15=np.array(pd.DataFrame(nnls_coef).iloc[14])\n",
    "\n",
    "# 테스트 데이터 예측값 도출\n",
    "nnls_Y_pred = C1*X_test['lr']+C2*X_test['lc']+C3*X_test['rc']+C4*X_test['ld']+C5*X_test['rd']+C6*X_test['lnnz']+C7*X_test['rnnz']+C8*X_test['lr*lc']+C9*X_test['lc*rc']+C10*X_test['lr*rc']+C11*X_test['lr*lc*rc']+C12*X_test['ld*rd']+C13*X_test['lr*rc*ld*rd']+C14*X_test['lr*lc*rc*ld*rd']+C15*X_test['lnnz*rnnz']"
   ]
  },
  {
   "cell_type": "code",
   "execution_count": 5,
   "metadata": {},
   "outputs": [],
   "source": [
    "from sklearn.metrics import r2_score\n",
    "\n",
    "def mean_absolute_percentage_error(y_test, y_pred):\n",
    "    y_test, y_pred = np.array(y_test), np.array(y_pred)\n",
    "    return np.mean(np.abs((y_test - y_pred) / y_test)) * 100"
   ]
  },
  {
   "cell_type": "code",
   "execution_count": 9,
   "metadata": {},
   "outputs": [
    {
     "name": "stdout",
     "output_type": "stream",
     "text": [
      "\n",
      "MAPE :  163.48235833522463\n",
      "R^2 :  0.843041289116834\n"
     ]
    }
   ],
   "source": [
    "# 기본선형회귀 metric\n",
    "print(\"\\nMAPE : \", mean_absolute_percentage_error(y_test, LR_Y_pred))\n",
    "print(\"R^2 : \", r2_score(y_test, LR_Y_pred))"
   ]
  },
  {
   "cell_type": "code",
   "execution_count": 15,
   "metadata": {},
   "outputs": [
    {
     "name": "stdout",
     "output_type": "stream",
     "text": [
      "\n",
      "MAPE :  168.3022965601271\n",
      "R^2 :  0.8294545599504937\n"
     ]
    }
   ],
   "source": [
    "# nnls metric\n",
    "print(\"\\nMAPE : \", mean_absolute_percentage_error(y_test,nnls_Y_pred))\n",
    "print(\"R^2 : \", r2_score(y_test, nnls_Y_pred))"
   ]
  }
 ],
 "metadata": {
  "kernelspec": {
   "display_name": "Python 3",
   "language": "python",
   "name": "python3"
  },
  "language_info": {
   "codemirror_mode": {
    "name": "ipython",
    "version": 3
   },
   "file_extension": ".py",
   "mimetype": "text/x-python",
   "name": "python",
   "nbconvert_exporter": "python",
   "pygments_lexer": "ipython3",
   "version": "3.7.7"
  }
 },
 "nbformat": 4,
 "nbformat_minor": 4
}
