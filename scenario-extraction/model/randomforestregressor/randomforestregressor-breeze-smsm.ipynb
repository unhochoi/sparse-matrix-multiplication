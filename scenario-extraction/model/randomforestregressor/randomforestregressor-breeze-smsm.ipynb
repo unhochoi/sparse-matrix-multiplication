{
 "cells": [
  {
   "cell_type": "code",
   "execution_count": 1,
   "metadata": {},
   "outputs": [],
   "source": [
    "import pandas as pd\n",
    "import numpy as np\n",
    "\n",
    "# 1727, 191\n",
    "train = pd.read_csv('./1727-nonsquare-train-from-1918-nonsquare-spmm-over-3s.csv')\n",
    "test = pd.read_csv('./191-nonsquare-test-from-1918-nonsquare-spmm-over-3s.csv')"
   ]
  },
  {
   "cell_type": "code",
   "execution_count": 2,
   "metadata": {},
   "outputs": [],
   "source": [
    "# Train + Valid\n",
    "X_train = train[['lr','lc','rc','ld','rd','lnnz','rnnz','lr*lc','lc*rc','lr*rc','lr*lc*rc','ld*rd','lr*rc*ld*rd','lr*lc*rc*ld*rd']] \n",
    "y_train = train['bz_smsm']\n",
    "\n",
    "# Test\n",
    "X_test = test[['lr','lc','rc','ld','rd','lnnz','rnnz','lr*lc','lc*rc','lr*rc','lr*lc*rc','ld*rd','lr*rc*ld*rd','lr*lc*rc*ld*rd']] \n",
    "y_test = test['bz_smsm']"
   ]
  },
  {
   "cell_type": "code",
   "execution_count": 3,
   "metadata": {},
   "outputs": [],
   "source": [
    "from sklearn.metrics import mean_squared_error\n",
    "\n",
    "def mean_absolute_percentage_error(y_test, y_pred):\n",
    "    y_test, y_pred = np.array(y_test), np.array(y_pred)\n",
    "    return np.mean(np.abs((y_test - y_pred) / y_test)) * 100\n",
    "\n",
    "def rmse(y_true, y_pred):\n",
    "    rmse = np.sqrt(np.mean(np.square(y_pred - y_true))) \n",
    "    return rmse\n",
    "\n",
    "def custom_scoring(y_test, y_pred):\n",
    "\n",
    "    rmse = np.sqrt(mean_squared_error(y_test, y_pred))\n",
    "    mape = mean_absolute_percentage_error(y_test, y_pred)\n",
    "\n",
    "    return mape"
   ]
  },
  {
   "cell_type": "code",
   "execution_count": 4,
   "metadata": {},
   "outputs": [
    {
     "name": "stdout",
     "output_type": "stream",
     "text": [
      "Fitting 10 folds for each of 300 candidates, totalling 3000 fits\n"
     ]
    },
    {
     "name": "stderr",
     "output_type": "stream",
     "text": [
      "[Parallel(n_jobs=-1)]: Using backend LokyBackend with 48 concurrent workers.\n",
      "[Parallel(n_jobs=-1)]: Done  32 tasks      | elapsed:   10.5s\n",
      "[Parallel(n_jobs=-1)]: Done 192 tasks      | elapsed:   31.0s\n",
      "[Parallel(n_jobs=-1)]: Done 416 tasks      | elapsed:   57.4s\n",
      "[Parallel(n_jobs=-1)]: Done 704 tasks      | elapsed:  1.6min\n",
      "[Parallel(n_jobs=-1)]: Done 1056 tasks      | elapsed:  2.3min\n",
      "[Parallel(n_jobs=-1)]: Done 1472 tasks      | elapsed:  3.2min\n",
      "[Parallel(n_jobs=-1)]: Done 1952 tasks      | elapsed:  4.2min\n",
      "[Parallel(n_jobs=-1)]: Done 2496 tasks      | elapsed:  5.4min\n",
      "[Parallel(n_jobs=-1)]: Done 3000 out of 3000 | elapsed:  6.5min finished\n"
     ]
    },
    {
     "name": "stdout",
     "output_type": "stream",
     "text": [
      "최고의 파라미터 : {'criterion': 'mse', 'max_depth': 18, 'min_samples_leaf': 2, 'min_samples_split': 2, 'n_estimators': 100}\n"
     ]
    }
   ],
   "source": [
    "from sklearn.ensemble import RandomForestRegressor\n",
    "from sklearn.model_selection import GridSearchCV\n",
    "from sklearn.model_selection import KFold\n",
    "from sklearn.metrics import make_scorer\n",
    "\n",
    "\n",
    "grid = {\n",
    "    'max_depth' : [16,18,20,22,24],\n",
    "    'min_samples_leaf' : [1,2,3,4],\n",
    "    'min_samples_split' : [2,3,4,6,8,10],\n",
    "    'n_estimators' : [200,400,600,800,1000]\n",
    "}\n",
    "\n",
    "regressor = RandomForestRegressor(n_jobs=-1)\n",
    "\n",
    "kf = KFold(n_splits=9,\n",
    "           shuffle=True,\n",
    "           random_state=30\n",
    "          )\n",
    "\n",
    "regressor_grid = GridSearchCV(regressor, \n",
    "                              param_grid = grid, \n",
    "                              scoring = make_scorer(custom_scoring, greater_is_better=False),\n",
    "                              cv=kf, \n",
    "                              n_jobs=-1,\n",
    "                              verbose=3) \n",
    "\n",
    "regressor_grid.fit(X_train, y_train)\n",
    "\n",
    "print(\"최고의 파라미터 :\", regressor_grid.best_params_)"
   ]
  },
  {
   "cell_type": "code",
   "execution_count": 5,
   "metadata": {},
   "outputs": [],
   "source": [
    "regressor = RandomForestRegressor(\n",
    "criterion='mse',\n",
    "max_depth=18,\n",
    "min_samples_leaf=2, \n",
    "min_samples_split=4, \n",
    "n_estimators=400\n",
    ")\n",
    "regressor.fit(X_train, y_train)\n",
    "\n",
    "y_pred_train = regressor.predict(X_train)\n",
    "y_pred = regressor.predict(X_test)"
   ]
  },
  {
   "cell_type": "code",
   "execution_count": 6,
   "metadata": {},
   "outputs": [
    {
     "name": "stdout",
     "output_type": "stream",
     "text": [
      "--------train 에러율--------\n",
      "rmse : 29321.784605081888\n",
      "mape : 27.040270422963737\n",
      "--------test 에러율--------\n",
      "rmse : 29321.784605081888\n",
      "mape : 43.37778453651863\n"
     ]
    }
   ],
   "source": [
    "# 훈련데이터 예측\n",
    "y_train_pred = best_model.predict(X_train)\n",
    "print(\"-------- 훈련데이터 예측 --------------------------\")\n",
    "print(\"rmse : {}\".format(np.sqrt(mean_squared_error(y_train, y_train_pred))))\n",
    "print(\"mape : {}%\".format(mean_absolute_percentage_error(y_train, y_train_pred)))\n",
    "print(\"\\n\")\n",
    "\n",
    "# 테스트데이터 예측\n",
    "y_pred = best_model.predict(X_test)\n",
    "print(\"-------- 테스트데이터 예측 -------------------------\")\n",
    "print(\"rmse : {}\".format(np.sqrt(mean_squared_error(y_test, y_pred))))\n",
    "print(\"mape : {}%\".format(mean_absolute_percentage_error(y_test, y_pred)))\n",
    "print(\"\\n\")"
   ]
  },
  {
   "cell_type": "code",
   "execution_count": null,
   "metadata": {},
   "outputs": [],
   "source": [
    "import matplotlib.pyplot as plt\n",
    "\n",
    "n_feature = X_train.shape[1]\n",
    "index = np.arange(n_feature)\n",
    "\n",
    "plt.barh(index, regressor.feature_importances_, align='center')\n",
    "\n",
    "plt.yticks(index, X_train.columns)\n",
    "\n",
    "plt.ylim(-1, n_feature)\n",
    "\n",
    "plt.xlabel('feature importance', size=15)\n",
    "\n",
    "plt.ylabel('feature', size=15)\n",
    "\n",
    "plt.show()"
   ]
  }
 ],
 "metadata": {
  "kernelspec": {
   "display_name": "Python 3",
   "language": "python",
   "name": "python3"
  },
  "language_info": {
   "codemirror_mode": {
    "name": "ipython",
    "version": 3
   },
   "file_extension": ".py",
   "mimetype": "text/x-python",
   "name": "python",
   "nbconvert_exporter": "python",
   "pygments_lexer": "ipython3",
   "version": "3.7.7"
  }
 },
 "nbformat": 4,
 "nbformat_minor": 2
}
