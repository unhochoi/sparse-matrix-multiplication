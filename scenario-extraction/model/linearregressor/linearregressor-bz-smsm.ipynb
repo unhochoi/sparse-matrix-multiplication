{
 "cells": [
  {
   "cell_type": "code",
   "execution_count": 10,
   "metadata": {},
   "outputs": [],
   "source": [
    "import pandas as pd\n",
    "import numpy as np\n",
    "import matplotlib.pyplot as plt\n",
    "\n",
    "# 1727, 191\n",
    "train = pd.read_csv('/Users/bdlab/Desktop/sparse-matrix-multiplication/scenario-extraction/d-optimal/d-optimal-of-spmm/train-test-csv/1727-nonsquare-train-from-1918-nonsquare-spmm-over-3s.csv')\n",
    "test = pd.read_csv('/Users/bdlab/Desktop/sparse-matrix-multiplication/scenario-extraction/d-optimal/d-optimal-of-spmm/train-test-csv/191-nonsquare-test-from-1918-nonsquare-spmm-over-3s.csv')"
   ]
  },
  {
   "cell_type": "code",
   "execution_count": 2,
   "metadata": {},
   "outputs": [],
   "source": [
    "# 일부 feature -> MAPE 9\n",
    "\n",
    "# Train + Valid\n",
    "X_train = train[['lr','lc','rc','ld','rd','lnnz','rnnz','lr*lc','lc*rc','lr*rc','lr*lc*rc','ld*rd','lr*rc*ld*rd','lr*lc*rc*ld*rd','lnnz*rnnz']] \n",
    "y_train = train['bz_smsm']\n",
    "\n",
    "# Test\n",
    "X_test = test[['lr','lc','rc','ld','rd','lnnz','rnnz','lr*lc','lc*rc','lr*rc','lr*lc*rc','ld*rd','lr*rc*ld*rd','lr*lc*rc*ld*rd','lnnz*rnnz']] \n",
    "y_test = test['bz_smsm']"
   ]
  },
  {
   "cell_type": "code",
   "execution_count": 4,
   "metadata": {},
   "outputs": [],
   "source": [
    "from sklearn.metrics import r2_score\n",
    "\n",
    "def mean_absolute_percentage_error(y_test, y_pred):\n",
    "    y_test, y_pred = np.array(y_test), np.array(y_pred)\n",
    "    return np.mean(np.abs((y_test - y_pred) / y_test)) * 100"
   ]
  },
  {
   "cell_type": "code",
   "execution_count": 5,
   "metadata": {},
   "outputs": [
    {
     "data": {
      "text/plain": [
       "LinearRegression()"
      ]
     },
     "execution_count": 5,
     "metadata": {},
     "output_type": "execute_result"
    }
   ],
   "source": [
    "from sklearn.linear_model import LinearRegression\n",
    "\n",
    "# 기본선형회귀모델 정의 및 훈련데이터로 학습\n",
    "LR = LinearRegression()\n",
    "LR.fit(X_train,y_train)"
   ]
  },
  {
   "cell_type": "code",
   "execution_count": 6,
   "metadata": {},
   "outputs": [],
   "source": [
    "# 테스트 데이터 예측값 도출\n",
    "y_pred = LR.predict(X_test) "
   ]
  },
  {
   "cell_type": "code",
   "execution_count": 7,
   "metadata": {},
   "outputs": [
    {
     "name": "stdout",
     "output_type": "stream",
     "text": [
      "\n",
      "MAPE :  224.64208464833777\n",
      "R^2 :  0.7507201636721551\n"
     ]
    }
   ],
   "source": [
    "# 기본선형회귀 metric\n",
    "print(\"\\nMAPE : \", mean_absolute_percentage_error(y_test, y_pred))\n",
    "print(\"R^2 : \", r2_score(y_test, y_pred))"
   ]
  },
  {
   "cell_type": "code",
   "execution_count": 8,
   "metadata": {},
   "outputs": [
    {
     "data": {
      "text/plain": [
       "[{'pred': 118028, 'real': 3095, 'mape': 3713.5056542810985},\n",
       " {'pred': 88733, 'real': 3922, 'mape': 2162.442631310556},\n",
       " {'pred': 92129, 'real': 4176, 'mape': 2106.1542145593867},\n",
       " {'pred': 66921, 'real': 3470, 'mape': 1828.5590778097983},\n",
       " {'pred': 59815, 'real': 3236, 'mape': 1748.423980222497},\n",
       " {'pred': 79996, 'real': 4839, 'mape': 1553.151477578012},\n",
       " {'pred': 44459, 'real': 3014, 'mape': 1375.0829462508295},\n",
       " {'pred': -43007, 'real': 3457, 'mape': 1344.0555394851026},\n",
       " {'pred': 65159, 'real': 5127, 'mape': 1170.8991613029061},\n",
       " {'pred': 59044, 'real': 4822, 'mape': 1124.4711737868106},\n",
       " {'pred': -41312, 'real': 4286, 'mape': 1063.8824078394773},\n",
       " {'pred': -30206, 'real': 3600, 'mape': 939.0555555555557},\n",
       " {'pred': -34660, 'real': 4171, 'mape': 930.9757851834092},\n",
       " {'pred': 52472, 'real': 5719, 'mape': 817.5030599755202},\n",
       " {'pred': -33515, 'real': 4748, 'mape': 805.8761583824769},\n",
       " {'pred': 183332, 'real': 20717, 'mape': 784.9350774726071},\n",
       " {'pred': 82115, 'real': 9288, 'mape': 784.0977605512489},\n",
       " {'pred': -39767, 'real': 6960, 'mape': 671.3649425287357},\n",
       " {'pred': -19195, 'real': 3650, 'mape': 625.8904109589041},\n",
       " {'pred': -46482, 'real': 9068, 'mape': 612.5937362152624},\n",
       " {'pred': -19637, 'real': 4131, 'mape': 575.357056402808},\n",
       " {'pred': 71135, 'real': 10640, 'mape': 568.562030075188},\n",
       " {'pred': 82193, 'real': 12841, 'mape': 540.0825480881551},\n",
       " {'pred': 85729, 'real': 13787, 'mape': 521.8104011024878},\n",
       " {'pred': 53024, 'real': 8876, 'mape': 497.3862100045065},\n",
       " {'pred': -13163, 'real': 3651, 'mape': 460.5313612708847},\n",
       " {'pred': 103386, 'real': 18850, 'mape': 448.4668435013263},\n",
       " {'pred': -24674, 'real': 7171, 'mape': 444.0803235253103},\n",
       " {'pred': 24702, 'real': 4693, 'mape': 426.3584061367995},\n",
       " {'pred': 22796, 'real': 4584, 'mape': 397.29493891797557},\n",
       " {'pred': 52186, 'real': 10547, 'mape': 394.79472835877505},\n",
       " {'pred': -18379, 'real': 7171, 'mape': 356.29619299958165},\n",
       " {'pred': 43278, 'real': 9999, 'mape': 332.82328232823284},\n",
       " {'pred': -27782, 'real': 13549, 'mape': 305.0483430511477},\n",
       " {'pred': -18879, 'real': 9281, 'mape': 303.41558021764894},\n",
       " {'pred': -21471, 'real': 10819, 'mape': 298.4564192624087},\n",
       " {'pred': 21506, 'real': 5460, 'mape': 293.8827838827839},\n",
       " {'pred': 142323, 'real': 37429, 'mape': 280.2479360923348},\n",
       " {'pred': 71225, 'real': 19749, 'mape': 260.6511722112512},\n",
       " {'pred': -10439, 'real': 7146, 'mape': 246.08172404142178},\n",
       " {'pred': 77688, 'real': 23173, 'mape': 235.25223320243387},\n",
       " {'pred': -7188, 'real': 5592, 'mape': 228.54077253218884},\n",
       " {'pred': -19522, 'real': 17169, 'mape': 213.70493331003556},\n",
       " {'pred': 118314, 'real': 38294, 'mape': 208.96223951532878},\n",
       " {'pred': -5586, 'real': 5487, 'mape': 201.80426462547842},\n",
       " {'pred': -24744, 'real': 24762, 'mape': 199.92730797189242},\n",
       " {'pred': 88143, 'real': 29478, 'mape': 199.0128231223285},\n",
       " {'pred': 38813, 'real': 13574, 'mape': 185.93634890231326},\n",
       " {'pred': -3915, 'real': 4691, 'mape': 183.45768492858664},\n",
       " {'pred': 85582, 'real': 31007, 'mape': 176.00864320959784},\n",
       " {'pred': 61843, 'real': 22611, 'mape': 173.5084693290876},\n",
       " {'pred': -14139, 'real': 22328, 'mape': 163.32407739161593},\n",
       " {'pred': 59357, 'real': 22668, 'mape': 161.85371448738312},\n",
       " {'pred': -8382, 'real': 13562, 'mape': 161.805043503908},\n",
       " {'pred': 40115, 'real': 15340, 'mape': 161.5058670143416},\n",
       " {'pred': -10624, 'real': 17650, 'mape': 160.1926345609065},\n",
       " {'pred': 276757, 'real': 107097, 'mape': 158.41713586748463},\n",
       " {'pred': 23773, 'real': 9281, 'mape': 156.1469669216679},\n",
       " {'pred': 30856, 'real': 12138, 'mape': 154.20991926182236},\n",
       " {'pred': -5143, 'real': 9944, 'mape': 151.71962992759453},\n",
       " {'pred': 85725, 'real': 34386, 'mape': 149.30204152852906},\n",
       " {'pred': 65834, 'real': 26809, 'mape': 145.56678727293072},\n",
       " {'pred': 95129, 'real': 39323, 'mape': 141.91694428197238},\n",
       " {'pred': 105101, 'real': 44369, 'mape': 136.8793527012103},\n",
       " {'pred': 18478, 'real': 7928, 'mape': 133.07265388496467},\n",
       " {'pred': 68343, 'real': 29867, 'mape': 128.82445508420665},\n",
       " {'pred': 71711, 'real': 31808, 'mape': 125.44957243460763},\n",
       " {'pred': 9662, 'real': 4411, 'mape': 119.04330083881207},\n",
       " {'pred': -3447, 'real': 20147, 'mape': 117.10924703429791},\n",
       " {'pred': -1895, 'real': 12031, 'mape': 115.75097664367051},\n",
       " {'pred': 126614, 'real': 60091, 'mape': 110.70376595496829},\n",
       " {'pred': -4340, 'real': 46605, 'mape': 109.31230554661518},\n",
       " {'pred': -2479, 'real': 33352, 'mape': 107.43283761093787},\n",
       " {'pred': 70757, 'real': 34431, 'mape': 105.50376114547937},\n",
       " {'pred': -1094, 'real': 21197, 'mape': 105.16110770392038},\n",
       " {'pred': -208, 'real': 37055, 'mape': 100.56132775603832},\n",
       " {'pred': 837, 'real': 31552, 'mape': 97.34723630831643},\n",
       " {'pred': 3216, 'real': 21734, 'mape': 85.20290788626116},\n",
       " {'pred': 38830, 'real': 21240, 'mape': 82.81544256120527},\n",
       " {'pred': 3217, 'real': 17687, 'mape': 81.81149997173065},\n",
       " {'pred': 85690, 'real': 47358, 'mape': 80.94091811309599},\n",
       " {'pred': 10568, 'real': 44417, 'mape': 76.20730801269784},\n",
       " {'pred': 72239, 'real': 41727, 'mape': 73.12291801471468},\n",
       " {'pred': 4454, 'real': 15269, 'mape': 70.82978584059205},\n",
       " {'pred': 145030, 'real': 85009, 'mape': 70.60546530367372},\n",
       " {'pred': 63646, 'real': 38801, 'mape': 64.03185484910183},\n",
       " {'pred': 42768, 'real': 26377, 'mape': 62.14125943056451},\n",
       " {'pred': 62227, 'real': 38543, 'mape': 61.448252600991104},\n",
       " {'pred': 37271, 'real': 23352, 'mape': 59.60517300445358},\n",
       " {'pred': 72301, 'real': 45563, 'mape': 58.68358097579176},\n",
       " {'pred': 38280, 'real': 92404, 'mape': 58.57322193844422},\n",
       " {'pred': 56335, 'real': 35739, 'mape': 57.62892078681552},\n",
       " {'pred': 15749, 'real': 37109, 'mape': 57.56016060793877},\n",
       " {'pred': 30957, 'real': 67057, 'mape': 53.83479726203081},\n",
       " {'pred': 52052, 'real': 110694, 'mape': 52.976674435832116},\n",
       " {'pred': 85123, 'real': 176750, 'mape': 51.83988684582744},\n",
       " {'pred': 54484, 'real': 111936, 'mape': 51.32575757575758},\n",
       " {'pred': 3221, 'real': 6235, 'mape': 48.34001603849239},\n",
       " {'pred': 66178, 'real': 126595, 'mape': 47.72463367431573},\n",
       " {'pred': 41398, 'real': 78164, 'mape': 47.03699913003428},\n",
       " {'pred': 68668, 'real': 127256, 'mape': 46.03947947444521},\n",
       " {'pred': 31176, 'real': 56863, 'mape': 45.173487153333454},\n",
       " {'pred': 89286, 'real': 62160, 'mape': 43.63899613899614},\n",
       " {'pred': 41397, 'real': 28851, 'mape': 43.485494436934594},\n",
       " {'pred': 17139, 'real': 29144, 'mape': 41.19201207795773},\n",
       " {'pred': 40187, 'real': 68059, 'mape': 40.952702801980635},\n",
       " {'pred': 491345, 'real': 816153, 'mape': 39.797439940795414},\n",
       " {'pred': 53846, 'real': 87437, 'mape': 38.41737479556709},\n",
       " {'pred': 262312, 'real': 416693, 'mape': 37.04909849697499},\n",
       " {'pred': 25005, 'real': 39491, 'mape': 36.681775594439245},\n",
       " {'pred': 382485, 'real': 602109, 'mape': 36.47578760656293},\n",
       " {'pred': 19009, 'real': 29914, 'mape': 36.45450290833723},\n",
       " {'pred': 62212, 'real': 45662, 'mape': 36.24457973807542},\n",
       " {'pred': 105567, 'real': 164522, 'mape': 35.83411337085618},\n",
       " {'pred': 52965, 'real': 81733, 'mape': 35.19753343202868},\n",
       " {'pred': 149239, 'real': 230110, 'mape': 35.14449611055582},\n",
       " {'pred': 76002, 'real': 116536, 'mape': 34.78238484245212},\n",
       " {'pred': 46475, 'real': 70980, 'mape': 34.523809523809526},\n",
       " {'pred': 48613, 'real': 36401, 'mape': 33.54852888656905},\n",
       " {'pred': 71691, 'real': 107419, 'mape': 33.260410169523084},\n",
       " {'pred': 32760, 'real': 48037, 'mape': 31.80256885317568},\n",
       " {'pred': 99574, 'real': 145838, 'mape': 31.722870582427078},\n",
       " {'pred': 66787, 'real': 97186, 'mape': 31.279196592101744},\n",
       " {'pred': 102780, 'real': 146681, 'mape': 29.929575064255083},\n",
       " {'pred': 361043, 'real': 513242, 'mape': 29.654432022320854},\n",
       " {'pred': 29996, 'real': 42529, 'mape': 29.469303298925436},\n",
       " {'pred': 122509, 'real': 95317, 'mape': 28.527964581344357},\n",
       " {'pred': 70549, 'real': 98644, 'mape': 28.481205141721748},\n",
       " {'pred': 195225, 'real': 271436, 'mape': 28.07696841981167},\n",
       " {'pred': 219941, 'real': 304693, 'mape': 27.81553891950258},\n",
       " {'pred': 140951, 'real': 193091, 'mape': 27.002812145568672},\n",
       " {'pred': 172338, 'real': 232804, 'mape': 25.972921427466883},\n",
       " {'pred': 84464, 'real': 113552, 'mape': 25.61645765816542},\n",
       " {'pred': 34342, 'real': 46085, 'mape': 25.4811760876641},\n",
       " {'pred': 94993, 'real': 75752, 'mape': 25.399989439222725},\n",
       " {'pred': 152914, 'real': 122161, 'mape': 25.174155417850212},\n",
       " {'pred': 212188, 'real': 169896, 'mape': 24.89287564156896},\n",
       " {'pred': 48407, 'real': 63892, 'mape': 24.236211106241782},\n",
       " {'pred': 38591, 'real': 31320, 'mape': 23.215197956577267},\n",
       " {'pred': 53751, 'real': 69718, 'mape': 22.90226340399897},\n",
       " {'pred': 140026, 'real': 114244, 'mape': 22.567487132803475},\n",
       " {'pred': 116215, 'real': 94940, 'mape': 22.408889825152727},\n",
       " {'pred': 66116, 'real': 83940, 'mape': 21.234214915415773},\n",
       " {'pred': 44452, 'real': 55799, 'mape': 20.335489883331242},\n",
       " {'pred': 135363, 'real': 112551, 'mape': 20.268145107551245},\n",
       " {'pred': 81544, 'real': 102041, 'mape': 20.087023843357084},\n",
       " {'pred': 39751, 'real': 49699, 'mape': 20.01649932594217},\n",
       " {'pred': 22060, 'real': 27403, 'mape': 19.49786519724118},\n",
       " {'pred': 69733, 'real': 86582, 'mape': 19.460164930355038},\n",
       " {'pred': 162282, 'real': 197935, 'mape': 18.012478844064972},\n",
       " {'pred': 109389, 'real': 93033, 'mape': 17.58085840508207},\n",
       " {'pred': 74540, 'real': 90347, 'mape': 17.495877007537604},\n",
       " {'pred': 23939, 'real': 28764, 'mape': 16.774440272562927},\n",
       " {'pred': 31734, 'real': 27233, 'mape': 16.52774207762641},\n",
       " {'pred': 148727, 'real': 178099, 'mape': 16.491951105845626},\n",
       " {'pred': 39104, 'real': 33824, 'mape': 15.610217596972564},\n",
       " {'pred': 157185, 'real': 136643, 'mape': 15.033335040946117},\n",
       " {'pred': 266859, 'real': 313388, 'mape': 14.847090507613563},\n",
       " {'pred': 304281, 'real': 354393, 'mape': 14.140234146836987},\n",
       " {'pred': 52167, 'real': 46048, 'mape': 13.288307852675468},\n",
       " {'pred': 398307, 'real': 455431, 'mape': 12.542844031258301},\n",
       " {'pred': 187248, 'real': 213525, 'mape': 12.30628731998595},\n",
       " {'pred': 38580, 'real': 43867, 'mape': 12.052340027811338},\n",
       " {'pred': 110735, 'real': 125146, 'mape': 11.515350071116934},\n",
       " {'pred': 91416, 'real': 102673, 'mape': 10.963934043029813},\n",
       " {'pred': 140445, 'real': 156999, 'mape': 10.544016203924865},\n",
       " {'pred': 50064, 'real': 45468, 'mape': 10.10820797044075},\n",
       " {'pred': 39283, 'real': 35713, 'mape': 9.996359868955281},\n",
       " {'pred': 130426, 'real': 118700, 'mape': 9.878685762426285},\n",
       " {'pred': 42246, 'real': 38450, 'mape': 9.87256176853056},\n",
       " {'pred': 79269, 'real': 86949, 'mape': 8.832764034088948},\n",
       " {'pred': 85795, 'real': 94023, 'mape': 8.75105027493273},\n",
       " {'pred': 69298, 'real': 75249, 'mape': 7.908410742999907},\n",
       " {'pred': 165556, 'real': 179105, 'mape': 7.564836269227548},\n",
       " {'pred': 19588, 'real': 18239, 'mape': 7.396238828883163},\n",
       " {'pred': 31609, 'real': 33853, 'mape': 6.628659203024842},\n",
       " {'pred': 106394, 'real': 100237, 'mape': 6.142442411484781},\n",
       " {'pred': 20250, 'real': 19148, 'mape': 5.755170252767913},\n",
       " {'pred': 107760, 'real': 102648, 'mape': 4.980126256722001},\n",
       " {'pred': 37494, 'real': 35894, 'mape': 4.45756951022455},\n",
       " {'pred': 287217, 'real': 299355, 'mape': 4.054717642932305},\n",
       " {'pred': 91720, 'real': 95081, 'mape': 3.5348807858562696},\n",
       " {'pred': 45694, 'real': 44205, 'mape': 3.368397240131207},\n",
       " {'pred': 217373, 'real': 224158, 'mape': 3.026882823722553},\n",
       " {'pred': 111824, 'real': 108542, 'mape': 3.02371432256638},\n",
       " {'pred': 54915, 'real': 56435, 'mape': 2.693364047133871},\n",
       " {'pred': 53319, 'real': 51931, 'mape': 2.6727773391615797},\n",
       " {'pred': 35785, 'real': 35098, 'mape': 1.9573764886888143},\n",
       " {'pred': 113815, 'real': 115501, 'mape': 1.4597276214058752},\n",
       " {'pred': 13952, 'real': 13791, 'mape': 1.1674280327749982},\n",
       " {'pred': 78230, 'real': 77954, 'mape': 0.354054955486569},\n",
       " {'pred': 114829, 'real': 114766, 'mape': 0.0548943066761933}]"
      ]
     },
     "execution_count": 8,
     "metadata": {},
     "output_type": "execute_result"
    }
   ],
   "source": [
    "mape_list = {}\n",
    "# 예측값, 실제값을 확인하며 mape 계산 후 mape_list에 삽입 \n",
    "for idx,value in enumerate(y_test):\n",
    "    mape_temp = {}\n",
    "    predicate = int(y_pred[idx])\n",
    "    mape = abs((value - predicate) / value) * 100\n",
    "    mape_temp['pred'] = predicate\n",
    "    mape_temp['real'] = value\n",
    "    mape_temp['mape'] = mape\n",
    "    mape_list[idx] = mape_temp\n",
    "mape_list_sort = sorted(mape_list.values(), key=lambda x:(x['mape']), reverse=True)\n",
    "mape_list_sort  "
   ]
  },
  {
   "cell_type": "code",
   "execution_count": 9,
   "metadata": {},
   "outputs": [
    {
     "name": "stdout",
     "output_type": "stream",
     "text": [
      "Coefficients: \n",
      " [ 4.74967367e-01 -6.34849550e-01 -1.38481240e+00  4.08400073e-03\n",
      "  2.13589979e-03 -2.48731209e-06  3.60105651e-05  3.19670374e-05\n",
      "  7.32476908e-11  6.82239081e-09  7.50349613e-02]\n",
      "Intercept term:  -46544.71659597078\n"
     ]
    }
   ],
   "source": [
    "# 모델의 weight(가중치)와 bias(절편) 출력\n",
    "print('Coefficients: \\n',LR.coef_) \n",
    "print('Intercept term: ',LR.intercept_)"
   ]
  },
  {
   "cell_type": "code",
   "execution_count": null,
   "metadata": {},
   "outputs": [],
   "source": []
  },
  {
   "cell_type": "code",
   "execution_count": null,
   "metadata": {},
   "outputs": [],
   "source": []
  },
  {
   "cell_type": "code",
   "execution_count": null,
   "metadata": {},
   "outputs": [],
   "source": []
  }
 ],
 "metadata": {
  "kernelspec": {
   "display_name": "Python 3",
   "language": "python",
   "name": "python3"
  },
  "language_info": {
   "codemirror_mode": {
    "name": "ipython",
    "version": 3
   },
   "file_extension": ".py",
   "mimetype": "text/x-python",
   "name": "python",
   "nbconvert_exporter": "python",
   "pygments_lexer": "ipython3",
   "version": "3.7.7"
  }
 },
 "nbformat": 4,
 "nbformat_minor": 4
}
