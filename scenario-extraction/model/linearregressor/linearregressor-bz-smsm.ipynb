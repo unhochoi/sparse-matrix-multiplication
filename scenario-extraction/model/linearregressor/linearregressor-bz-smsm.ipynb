{
 "cells": [
  {
   "cell_type": "code",
   "execution_count": 1,
   "metadata": {},
   "outputs": [],
   "source": [
    "import pandas as pd\n",
    "import numpy as np\n",
    "import matplotlib.pyplot as plt\n",
    "\n",
    "# 1727, 191\n",
    "train = pd.read_csv('/Users/bdlab/Desktop/sparse-matrix-multiplication/scenario-extraction/d-optimal/d-optimal-of-spmm/train-test-csv/1727-nonsquare-train-from-1918-nonsquare-spmm-over-3s.csv')\n",
    "test = pd.read_csv('/Users/bdlab/Desktop/sparse-matrix-multiplication/scenario-extraction/d-optimal/d-optimal-of-spmm/train-test-csv/191-nonsquare-test-from-1918-nonsquare-spmm-over-3s.csv')"
   ]
  },
  {
   "cell_type": "code",
   "execution_count": 2,
   "metadata": {},
   "outputs": [],
   "source": [
    "# 일부 feature -> MAPE 9\n",
    "\n",
    "# Train + Valid\n",
    "X_train = train[['lr','lc','rc','ld','rd','lnnz','rnnz','lr*lc','lc*rc','lr*rc','lr*lc*rc','ld*rd','lr*rc*ld*rd','lr*lc*rc*ld*rd','lnnz*rnnz']] \n",
    "y_train = train['bz_smsm']\n",
    "\n",
    "# Test\n",
    "X_test = test[['lr','lc','rc','ld','rd','lnnz','rnnz','lr*lc','lc*rc','lr*rc','lr*lc*rc','ld*rd','lr*rc*ld*rd','lr*lc*rc*ld*rd','lnnz*rnnz']] \n",
    "y_test = test['bz_smsm']"
   ]
  },
  {
   "cell_type": "code",
   "execution_count": 3,
   "metadata": {},
   "outputs": [],
   "source": [
    "from sklearn.metrics import r2_score\n",
    "\n",
    "def mean_absolute_percentage_error(y_test, y_pred):\n",
    "    y_test, y_pred = np.array(y_test), np.array(y_pred)\n",
    "    return np.mean(np.abs((y_test - y_pred) / y_test)) * 100"
   ]
  },
  {
   "cell_type": "code",
   "execution_count": 4,
   "metadata": {},
   "outputs": [
    {
     "data": {
      "text/plain": [
       "LinearRegression()"
      ]
     },
     "execution_count": 4,
     "metadata": {},
     "output_type": "execute_result"
    }
   ],
   "source": [
    "from sklearn.linear_model import LinearRegression\n",
    "\n",
    "LR = LinearRegression()\n",
    "\n",
    "LR.fit(X_train,y_train)"
   ]
  },
  {
   "cell_type": "code",
   "execution_count": 5,
   "metadata": {},
   "outputs": [],
   "source": [
    "# 테스트 데이터 예측값 도출\n",
    "y_pred = LR.predict(X_test) "
   ]
  },
  {
   "cell_type": "code",
   "execution_count": 6,
   "metadata": {},
   "outputs": [
    {
     "name": "stdout",
     "output_type": "stream",
     "text": [
      "\n",
      "MAPE :  163.48235833522463\n",
      "R^2 :  0.843041289116834\n"
     ]
    }
   ],
   "source": [
    "# 기본선형회귀 metric\n",
    "print(\"\\nMAPE : \", mean_absolute_percentage_error(y_test, y_pred))\n",
    "print(\"R^2 : \", r2_score(y_test, y_pred))"
   ]
  },
  {
   "cell_type": "code",
   "execution_count": 7,
   "metadata": {},
   "outputs": [
    {
     "data": {
      "text/plain": [
       "[{'pred': 98515, 'real': 3095, 'mape': 3083.037156704362},\n",
       " {'pred': 83294, 'real': 4176, 'mape': 1894.5881226053639},\n",
       " {'pred': 56398, 'real': 3470, 'mape': 1525.3025936599422},\n",
       " {'pred': 61065, 'real': 3922, 'mape': 1456.9862315145335},\n",
       " {'pred': 56845, 'real': 4822, 'mape': 1078.8676897552882},\n",
       " {'pred': 36415, 'real': 3236, 'mape': 1025.3090234857848},\n",
       " {'pred': 53748, 'real': 5127, 'mape': 948.3323581041544},\n",
       " {'pred': 29481, 'real': 3014, 'mape': 878.1353682813536},\n",
       " {'pred': 44953, 'real': 4839, 'mape': 828.9729282909692},\n",
       " {'pred': -24524, 'real': 3650, 'mape': 771.8904109589041},\n",
       " {'pred': 40691, 'real': 4693, 'mape': 767.05731941189},\n",
       " {'pred': 46010, 'real': 5460, 'mape': 742.6739926739926},\n",
       " {'pred': -17886, 'real': 3457, 'mape': 617.3850159097483},\n",
       " {'pred': 145798, 'real': 20717, 'mape': 603.7601969397114},\n",
       " {'pred': -30604, 'real': 6960, 'mape': 539.7126436781609},\n",
       " {'pred': -18410, 'real': 4286, 'mape': 529.5380307979468},\n",
       " {'pred': -15108, 'real': 3600, 'mape': 519.6666666666666},\n",
       " {'pred': -17440, 'real': 4171, 'mape': 518.1251498441621},\n",
       " {'pred': -26917, 'real': 9068, 'mape': 396.8350242611381},\n",
       " {'pred': 28217, 'real': 5719, 'mape': 393.39045287637697},\n",
       " {'pred': -13233, 'real': 4748, 'mape': 378.70682392586355},\n",
       " {'pred': 43899, 'real': 9281, 'mape': 372.99859928886974},\n",
       " {'pred': 88247, 'real': 18850, 'mape': 368.15384615384613},\n",
       " {'pred': -27785, 'real': 10819, 'mape': 356.8167113411591},\n",
       " {'pred': 87397, 'real': 19749, 'mape': 342.5388627272267},\n",
       " {'pred': 46729, 'real': 10640, 'mape': 339.18233082706763},\n",
       " {'pred': 15748, 'real': 3651, 'mape': 331.33388112845796},\n",
       " {'pred': 54377, 'real': 12841, 'mape': 323.46390468032087},\n",
       " {'pred': -15011, 'real': 7171, 'mape': 309.3292427834333},\n",
       " {'pred': 34265, 'real': 8876, 'mape': 286.0410094637224},\n",
       " {'pred': 53210, 'real': 13787, 'mape': 285.94327990135633},\n",
       " {'pred': 101259, 'real': 29478, 'mape': 243.50702218603706},\n",
       " {'pred': -26798, 'real': 20147, 'mape': 233.0123591601727},\n",
       " {'pred': 14359, 'real': 4691, 'mape': 206.0967810701343},\n",
       " {'pred': 92659, 'real': 31007, 'mape': 198.83252168865096},\n",
       " {'pred': 111339, 'real': 37429, 'mape': 197.46720457399343},\n",
       " {'pred': -3699, 'real': 4131, 'mape': 189.5424836601307},\n",
       " {'pred': 77600, 'real': 26809, 'mape': 189.4550337573203},\n",
       " {'pred': 20353, 'real': 7171, 'mape': 183.8237344861247},\n",
       " {'pred': -10579, 'real': 13549, 'mape': 178.07956306738504},\n",
       " {'pred': -11892, 'real': 17169, 'mape': 169.26437183295477},\n",
       " {'pred': 27142, 'real': 10547, 'mape': 157.3433203754622},\n",
       " {'pred': -11925, 'real': 24762, 'mape': 148.15846862127452},\n",
       " {'pred': -2728, 'real': 6235, 'mape': 143.7530072173216},\n",
       " {'pred': 260901, 'real': 107097, 'mape': 143.61186587859603},\n",
       " {'pred': 79973, 'real': 34386, 'mape': 132.5743034956087},\n",
       " {'pred': -2596, 'real': 9281, 'mape': 127.97112380131452},\n",
       " {'pred': 89265, 'real': 39323, 'mape': 127.0045520433334},\n",
       " {'pred': 52520, 'real': 23173, 'mape': 126.64307599361327},\n",
       " {'pred': 85484, 'real': 38294, 'mape': 123.23079333577063},\n",
       " {'pred': 11997, 'real': 5592, 'mape': 114.53862660944205},\n",
       " {'pred': 9456, 'real': 4411, 'mape': 114.37315801405576},\n",
       " {'pred': 21077, 'real': 9999, 'mape': 110.79107910791079},\n",
       " {'pred': 9580, 'real': 4584, 'mape': 108.98778359511343},\n",
       " {'pred': -661, 'real': 9288, 'mape': 107.11670973298881},\n",
       " {'pred': 27721, 'real': 13791, 'mape': 101.00790370531504},\n",
       " {'pred': 44819, 'real': 22611, 'mape': 98.21768165936933},\n",
       " {'pred': 44586, 'real': 22668, 'mape': 96.69137109581789},\n",
       " {'pred': 75835, 'real': 38801, 'mape': 95.44599365995722},\n",
       " {'pred': 1028, 'real': 17650, 'mape': 94.17563739376772},\n",
       " {'pred': 29743, 'real': 15340, 'mape': 93.89178617992178},\n",
       " {'pred': 1529, 'real': 22328, 'mape': 93.15209602293085},\n",
       " {'pred': 83742, 'real': 44369, 'mape': 88.73988595641102},\n",
       " {'pred': 1562, 'real': 13562, 'mape': 88.48252470137147},\n",
       " {'pred': 49443, 'real': 26377, 'mape': 87.44739735375516},\n",
       " {'pred': 4854, 'real': 31552, 'mape': 84.61587221095334},\n",
       " {'pred': 9128, 'real': 46605, 'mape': 80.41411865679649},\n",
       " {'pred': 49088, 'real': 27233, 'mape': 80.25190026805714},\n",
       " {'pred': 107854, 'real': 60091, 'mape': 79.48444858631076},\n",
       " {'pred': 32684, 'real': 18239, 'mape': 79.19842096606173},\n",
       " {'pred': 40944, 'real': 23352, 'mape': 75.33401849948612},\n",
       " {'pred': 13439, 'real': 45563, 'mape': 70.50457608146962},\n",
       " {'pred': 9275, 'real': 5487, 'mape': 69.0359030435575},\n",
       " {'pred': 12411, 'real': 37055, 'mape': 66.50654432600189},\n",
       " {'pred': 57590, 'real': 35098, 'mape': 64.08342355689783},\n",
       " {'pred': 23108, 'real': 63892, 'mape': 63.83271771113754},\n",
       " {'pred': 5163, 'real': 13574, 'mape': 61.9640489170473},\n",
       " {'pred': 58893, 'real': 36401, 'mape': 61.78951127716271},\n",
       " {'pred': 17244, 'real': 44417, 'mape': 61.177026814057676},\n",
       " {'pred': 47937, 'real': 29867, 'mape': 60.50155690226672},\n",
       " {'pred': 56461, 'real': 35739, 'mape': 57.98147681804191},\n",
       " {'pred': 71803, 'real': 45662, 'mape': 57.24891594761509},\n",
       " {'pred': 19059, 'real': 12138, 'mape': 57.01927829955512},\n",
       " {'pred': 55486, 'real': 35713, 'mape': 55.36639319015485},\n",
       " {'pred': 73399, 'real': 47358, 'mape': 54.987541703619236},\n",
       " {'pred': 50836, 'real': 110694, 'mape': 54.07519829439716},\n",
       " {'pred': 43713, 'real': 92404, 'mape': 52.69360633738799},\n",
       " {'pred': 8847, 'real': 17687, 'mape': 49.98021145474077},\n",
       " {'pred': 89696, 'real': 176750, 'mape': 49.25261669024045},\n",
       " {'pred': 64472, 'real': 126595, 'mape': 49.072238240056876},\n",
       " {'pred': 57050, 'real': 111936, 'mape': 49.03337621497999},\n",
       " {'pred': 42840, 'real': 28764, 'mape': 48.93617021276596},\n",
       " {'pred': 19304, 'real': 37109, 'mape': 47.98027432698267},\n",
       " {'pred': 17401, 'real': 33352, 'mape': 47.82621731830175},\n",
       " {'pred': 178913, 'real': 122161, 'mape': 46.456725141411745},\n",
       " {'pred': 36061, 'real': 67057, 'mape': 46.22336221423565},\n",
       " {'pred': 10457, 'real': 19148, 'mape': 45.388552329224986},\n",
       " {'pred': 11972, 'real': 21197, 'mape': 43.520309477756285},\n",
       " {'pred': 59815, 'real': 41727, 'mape': 43.34843147122966},\n",
       " {'pred': 49239, 'real': 34431, 'mape': 43.007754639714214},\n",
       " {'pred': 5668, 'real': 9944, 'mape': 43.00080450522928},\n",
       " {'pred': 72768, 'real': 127256, 'mape': 42.81762745960898},\n",
       " {'pred': 52658, 'real': 87437, 'mape': 39.776067339913304},\n",
       " {'pred': 43102, 'real': 70980, 'mape': 39.27585235277543},\n",
       " {'pred': 16747, 'real': 12031, 'mape': 39.198736597124096},\n",
       " {'pred': 21162, 'real': 15269, 'mape': 38.59453795271465},\n",
       " {'pred': 50256, 'real': 81733, 'mape': 38.51198414349161},\n",
       " {'pred': 42127, 'real': 68059, 'mape': 38.10223482566597},\n",
       " {'pred': 115593, 'real': 85009, 'mape': 35.977367102306815},\n",
       " {'pred': 93697, 'real': 145838, 'mape': 35.75268448552503},\n",
       " {'pred': 42902, 'real': 31808, 'mape': 34.87801810865191},\n",
       " {'pred': 419952, 'real': 313388, 'mape': 34.003854646636114},\n",
       " {'pred': 77094, 'real': 116536, 'mape': 33.84533534701723},\n",
       " {'pred': 52141, 'real': 78164, 'mape': 33.29282022414411},\n",
       " {'pred': 397205, 'real': 299355, 'mape': 32.68694359539677},\n",
       " {'pred': 28135, 'real': 21240, 'mape': 32.462335216572505},\n",
       " {'pred': 115655, 'real': 169896, 'mape': 31.926001789329945},\n",
       " {'pred': 73187, 'real': 107419, 'mape': 31.867732896414974},\n",
       " {'pred': 4888, 'real': 7146, 'mape': 31.598096837391548},\n",
       " {'pred': 294479, 'real': 224158, 'mape': 31.37117568857681},\n",
       " {'pred': 158464, 'real': 230110, 'mape': 31.13554387032289},\n",
       " {'pred': 59553, 'real': 45468, 'mape': 30.977830562153603},\n",
       " {'pred': 113582, 'real': 164522, 'mape': 30.96242447818529},\n",
       " {'pred': 161542, 'real': 232804, 'mape': 30.610298792116975},\n",
       " {'pred': 101952, 'real': 146681, 'mape': 30.49406535270417},\n",
       " {'pred': 40002, 'real': 56863, 'mape': 29.651970525649368},\n",
       " {'pred': 68535, 'real': 97186, 'mape': 29.4805836231556},\n",
       " {'pred': 15339, 'real': 21734, 'mape': 29.423944050795985},\n",
       " {'pred': 37327, 'real': 28851, 'mape': 29.37853107344633},\n",
       " {'pred': 122628, 'real': 94940, 'mape': 29.163682325679375},\n",
       " {'pred': 194195, 'real': 271436, 'mape': 28.456431718710856},\n",
       " {'pred': 83270, 'real': 113552, 'mape': 26.667958292236154},\n",
       " {'pred': 307763, 'real': 416693, 'mape': 26.141547854175617},\n",
       " {'pred': 146527, 'real': 197935, 'mape': 25.972162578624296},\n",
       " {'pred': 609940, 'real': 816153, 'mape': 25.26646351848244},\n",
       " {'pred': 76953, 'real': 102041, 'mape': 24.586195744847657},\n",
       " {'pred': 394710, 'real': 513242, 'mape': 23.0947584180562},\n",
       " {'pred': 121227, 'real': 156999, 'mape': 22.784858502283452},\n",
       " {'pred': 557143, 'real': 455431, 'mape': 22.33313059497487},\n",
       " {'pred': 65272, 'real': 83940, 'mape': 22.23969502025256},\n",
       " {'pred': 61105, 'real': 77954, 'mape': 21.61402878620725},\n",
       " {'pred': 38538, 'real': 48037, 'mape': 19.774340612444576},\n",
       " {'pred': 52816, 'real': 44205, 'mape': 19.479696866870263},\n",
       " {'pred': 254536, 'real': 213525, 'mape': 19.206650275143424},\n",
       " {'pred': 56379, 'real': 69718, 'mape': 19.132792105338652},\n",
       " {'pred': 35542, 'real': 29914, 'mape': 18.81393327538945},\n",
       " {'pred': 61119, 'real': 75249, 'mape': 18.777658174859464},\n",
       " {'pred': 145998, 'real': 179105, 'mape': 18.484687752994052},\n",
       " {'pred': 89483, 'real': 75752, 'mape': 18.126254092301195},\n",
       " {'pred': 80937, 'real': 98644, 'mape': 17.950407526053283},\n",
       " {'pred': 89534, 'real': 108542, 'mape': 17.51211512594203},\n",
       " {'pred': 103708, 'real': 125146, 'mape': 17.13039170249149},\n",
       " {'pred': 160558, 'real': 193091, 'mape': 16.84853255718806},\n",
       " {'pred': 99188, 'real': 118700, 'mape': 16.438079191238415},\n",
       " {'pred': 46756, 'real': 55799, 'mape': 16.206383626946717},\n",
       " {'pred': 71926, 'real': 62160, 'mape': 15.711068211068211},\n",
       " {'pred': 35975, 'real': 31320, 'mape': 14.862707535121327},\n",
       " {'pred': 44238, 'real': 38543, 'mape': 14.775705056689931},\n",
       " {'pred': 74643, 'real': 86949, 'mape': 14.153124245247215},\n",
       " {'pred': 31065, 'real': 27403, 'mape': 13.36350034667737},\n",
       " {'pred': 63654, 'real': 56435, 'mape': 12.791707273854877},\n",
       " {'pred': 43449, 'real': 49699, 'mape': 12.57570574860661},\n",
       " {'pred': 100488, 'real': 114766, 'mape': 12.44096683686806},\n",
       " {'pred': 527440, 'real': 602109, 'mape': 12.40124296431377},\n",
       " {'pred': 126284, 'real': 112551, 'mape': 12.201579728300949},\n",
       " {'pred': 33817, 'real': 38450, 'mape': 12.049414824447334},\n",
       " {'pred': 37869, 'real': 33824, 'mape': 11.958964049195837},\n",
       " {'pred': 48655, 'real': 43867, 'mape': 10.914810677730411},\n",
       " {'pred': 8736, 'real': 7928, 'mape': 10.191725529767911},\n",
       " {'pred': 77933, 'real': 86582, 'mape': 9.98937423482941},\n",
       " {'pred': 36472, 'real': 39491, 'mape': 7.644779823250867},\n",
       " {'pred': 49142, 'real': 46048, 'mape': 6.71907574704656},\n",
       " {'pred': 100811, 'real': 95317, 'mape': 5.763924588478445},\n",
       " {'pred': 320647, 'real': 304693, 'mape': 5.236090097245424},\n",
       " {'pred': 186484, 'real': 178099, 'mape': 4.708055631979966},\n",
       " {'pred': 48227, 'real': 46085, 'mape': 4.64793316697407},\n",
       " {'pred': 27870, 'real': 29144, 'mape': 4.371397200109799},\n",
       " {'pred': 86409, 'real': 90347, 'mape': 4.358750152190996},\n",
       " {'pred': 368181, 'real': 354393, 'mape': 3.8905960332173604},\n",
       " {'pred': 32574, 'real': 33853, 'mape': 3.7780994298880453},\n",
       " {'pred': 34619, 'real': 35894, 'mape': 3.5521257034601885},\n",
       " {'pred': 99063, 'real': 102673, 'mape': 3.5160168690892446},\n",
       " {'pred': 43796, 'real': 42529, 'mape': 2.9791436431611373},\n",
       " {'pred': 91353, 'real': 93033, 'mape': 1.8058108413143723},\n",
       " {'pred': 100805, 'real': 102648, 'mape': 1.7954563167329125},\n",
       " {'pred': 92391, 'real': 94023, 'mape': 1.7357455090775662},\n",
       " {'pred': 115824, 'real': 114244, 'mape': 1.3830047967508141},\n",
       " {'pred': 94119, 'real': 95081, 'mape': 1.0117689128216993},\n",
       " {'pred': 115983, 'real': 115501, 'mape': 0.41731240422160853},\n",
       " {'pred': 100520, 'real': 100237, 'mape': 0.2823308758242964},\n",
       " {'pred': 136358, 'real': 136643, 'mape': 0.20857270405362882},\n",
       " {'pred': 51849, 'real': 51931, 'mape': 0.1579018312761164}]"
      ]
     },
     "execution_count": 7,
     "metadata": {},
     "output_type": "execute_result"
    }
   ],
   "source": [
    "mape_list = {}\n",
    "# 예측값, 실제값을 확인하며 mape 계산 후 mape_list에 삽입 \n",
    "for idx,value in enumerate(y_test):\n",
    "    mape_temp = {}\n",
    "    predicate = int(y_pred[idx])\n",
    "    mape = abs((value - predicate) / value) * 100\n",
    "    mape_temp['pred'] = predicate\n",
    "    mape_temp['real'] = value\n",
    "    mape_temp['mape'] = mape\n",
    "    mape_list[idx] = mape_temp\n",
    "mape_list_sort = sorted(mape_list.values(), key=lambda x:(x['mape']), reverse=True)\n",
    "mape_list_sort  "
   ]
  },
  {
   "cell_type": "code",
   "execution_count": 8,
   "metadata": {},
   "outputs": [
    {
     "name": "stdout",
     "output_type": "stream",
     "text": [
      "Coefficients: \n",
      " [ 4.52305773e-01 -5.77601686e-01 -1.15992343e+00  6.82327038e-08\n",
      "  1.23478368e-06  8.59090527e-04  1.21766128e-03 -2.58033181e-06\n",
      "  3.21912276e-05  3.28348420e-05  7.30946481e-11  6.17747681e-09\n",
      "  6.22463135e-02  5.10983739e-07  1.23180900e-10]\n",
      "Intercept term:  -22134.576636345548\n"
     ]
    }
   ],
   "source": [
    "# 모델의 weight(가중치)와 bias(절편) 출력\n",
    "print('Coefficients: \\n',LR.coef_) \n",
    "print('Intercept term: ',LR.intercept_)"
   ]
  },
  {
   "cell_type": "code",
   "execution_count": null,
   "metadata": {},
   "outputs": [],
   "source": []
  }
 ],
 "metadata": {
  "kernelspec": {
   "display_name": "Python 3",
   "language": "python",
   "name": "python3"
  },
  "language_info": {
   "codemirror_mode": {
    "name": "ipython",
    "version": 3
   },
   "file_extension": ".py",
   "mimetype": "text/x-python",
   "name": "python",
   "nbconvert_exporter": "python",
   "pygments_lexer": "ipython3",
   "version": "3.7.7"
  }
 },
 "nbformat": 4,
 "nbformat_minor": 4
}
