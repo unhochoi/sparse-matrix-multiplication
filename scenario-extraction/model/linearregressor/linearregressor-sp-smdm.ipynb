{
 "cells": [
  {
   "cell_type": "code",
   "execution_count": 1,
   "metadata": {},
   "outputs": [],
   "source": [
    "import pandas as pd\n",
    "import numpy as np\n",
    "import matplotlib.pyplot as plt\n",
    "\n",
    "# 1727, 191\n",
    "train = pd.read_csv('/Users/bdlab/Desktop/sparse-matrix-multiplication/scenario-extraction/d-optimal/d-optimal-of-spmm/train-test-csv/1727-nonsquare-train-from-1918-nonsquare-spmm-over-3s.csv')\n",
    "test = pd.read_csv('/Users/bdlab/Desktop/sparse-matrix-multiplication/scenario-extraction/d-optimal/d-optimal-of-spmm/train-test-csv/191-nonsquare-test-from-1918-nonsquare-spmm-over-3s.csv')"
   ]
  },
  {
   "cell_type": "code",
   "execution_count": 2,
   "metadata": {},
   "outputs": [],
   "source": [
    "# 일부 feature -> MAPE \n",
    "\n",
    "# Train + Valid\n",
    "X_train = train[['lr','lc','rc','ld','rd','lnnz','rnnz','lr*lc','lc*rc','lr*rc','lr*lc*rc','ld*rd','lr*rc*ld*rd','lr*lc*rc*ld*rd','lnnz*rnnz']] \n",
    "y_train = train['sp_smdm']\n",
    "\n",
    "# Test\n",
    "X_test = test[['lr','lc','rc','ld','rd','lnnz','rnnz','lr*lc','lc*rc','lr*rc','lr*lc*rc','ld*rd','lr*rc*ld*rd','lr*lc*rc*ld*rd','lnnz*rnnz']] \n",
    "y_test = test['sp_smdm']"
   ]
  },
  {
   "cell_type": "code",
   "execution_count": 3,
   "metadata": {},
   "outputs": [],
   "source": [
    "from sklearn.metrics import r2_score\n",
    "\n",
    "def mean_absolute_percentage_error(y_test, y_pred):\n",
    "    y_test, y_pred = np.array(y_test), np.array(y_pred)\n",
    "    return np.mean(np.abs((y_test - y_pred) / y_test)) * 100"
   ]
  },
  {
   "cell_type": "code",
   "execution_count": 4,
   "metadata": {},
   "outputs": [
    {
     "data": {
      "text/plain": [
       "LinearRegression()"
      ]
     },
     "execution_count": 4,
     "metadata": {},
     "output_type": "execute_result"
    }
   ],
   "source": [
    "from sklearn.linear_model import LinearRegression\n",
    "\n",
    "LR = LinearRegression()\n",
    "\n",
    "LR.fit(X_train,y_train)"
   ]
  },
  {
   "cell_type": "code",
   "execution_count": 5,
   "metadata": {},
   "outputs": [],
   "source": [
    "# 테스트 데이터 예측값 도출\n",
    "y_pred = LR.predict(X_test) "
   ]
  },
  {
   "cell_type": "code",
   "execution_count": 6,
   "metadata": {},
   "outputs": [
    {
     "name": "stdout",
     "output_type": "stream",
     "text": [
      "\n",
      "MAPE :  217.28147338557292\n",
      "R^2 :  0.8198077709311408\n"
     ]
    }
   ],
   "source": [
    "# 기본선형회귀 metric\n",
    "print(\"\\nMAPE : \", mean_absolute_percentage_error(y_test, y_pred))\n",
    "print(\"R^2 : \", r2_score(y_test, y_pred))"
   ]
  },
  {
   "cell_type": "code",
   "execution_count": 7,
   "metadata": {},
   "outputs": [
    {
     "data": {
      "text/plain": [
       "[{'pred': -91744, 'real': 3975, 'mape': 2408.0251572327043},\n",
       " {'pred': -95748, 'real': 5025, 'mape': 2005.4328358208957},\n",
       " {'pred': -79956, 'real': 4745, 'mape': 1785.0579557428873},\n",
       " {'pred': -63344, 'real': 4363, 'mape': 1551.8450607380244},\n",
       " {'pred': -43435, 'real': 3060, 'mape': 1519.4444444444446},\n",
       " {'pred': -73064, 'real': 5164, 'mape': 1514.872192099148},\n",
       " {'pred': -45515, 'real': 3253, 'mape': 1499.1699969259143},\n",
       " {'pred': 233284, 'real': 15038, 'mape': 1451.2967149886952},\n",
       " {'pred': -78211, 'real': 6244, 'mape': 1352.578475336323},\n",
       " {'pred': -136462, 'real': 10982, 'mape': 1342.596976871244},\n",
       " {'pred': -73326, 'real': 5957, 'mape': 1330.9216048346484},\n",
       " {'pred': -83338, 'real': 6835, 'mape': 1319.2831016825164},\n",
       " {'pred': -35783, 'real': 4552, 'mape': 886.0940246045693},\n",
       " {'pred': -42176, 'real': 6321, 'mape': 767.2361968043031},\n",
       " {'pred': -56686, 'real': 9925, 'mape': 671.1435768261965},\n",
       " {'pred': -54735, 'real': 9690, 'mape': 664.8606811145511},\n",
       " {'pred': -22920, 'real': 4750, 'mape': 582.5263157894736},\n",
       " {'pred': 262674, 'real': 38662, 'mape': 579.4113082613419},\n",
       " {'pred': -64164, 'real': 13601, 'mape': 571.7594294537166},\n",
       " {'pred': -102682, 'real': 23063, 'mape': 545.2239517842431},\n",
       " {'pred': -18576, 'real': 4463, 'mape': 516.2222720143402},\n",
       " {'pred': -40714, 'real': 10260, 'mape': 496.82261208576995},\n",
       " {'pred': -23475, 'real': 6498, 'mape': 461.2650046168052},\n",
       " {'pred': -43706, 'real': 12187, 'mape': 458.62804627882167},\n",
       " {'pred': -70437, 'real': 21604, 'mape': 426.03684502869845},\n",
       " {'pred': -20630, 'real': 6613, 'mape': 411.9612883713897},\n",
       " {'pred': -46159, 'real': 16575, 'mape': 378.48567119155354},\n",
       " {'pred': -43726, 'real': 16468, 'mape': 365.5210104444984},\n",
       " {'pred': -17922, 'real': 6759, 'mape': 365.1575676875277},\n",
       " {'pred': -35136, 'real': 16263, 'mape': 316.04869950193694},\n",
       " {'pred': -28983, 'real': 13824, 'mape': 309.65711805555554},\n",
       " {'pred': -15253, 'real': 7471, 'mape': 304.16276268237186},\n",
       " {'pred': -13807, 'real': 7338, 'mape': 288.1575361133824},\n",
       " {'pred': -39359, 'real': 22135, 'mape': 277.8134176643325},\n",
       " {'pred': -23130, 'real': 13606, 'mape': 269.99853006026757},\n",
       " {'pred': -14119, 'real': 8986, 'mape': 257.1221900734476},\n",
       " {'pred': -29062, 'real': 19202, 'mape': 251.34881783147586},\n",
       " {'pred': -25784, 'real': 17398, 'mape': 248.20094263708472},\n",
       " {'pred': 115890, 'real': 33796, 'mape': 242.91040359805893},\n",
       " {'pred': -15297, 'real': 11563, 'mape': 232.29265761480585},\n",
       " {'pred': -21157, 'real': 16283, 'mape': 229.93305901860833},\n",
       " {'pred': 229702, 'real': 71149, 'mape': 222.84642089136884},\n",
       " {'pred': -38397, 'real': 35055, 'mape': 209.5335900727428},\n",
       " {'pred': 98103, 'real': 32770, 'mape': 199.3683246872139},\n",
       " {'pred': -11377, 'real': 12204, 'mape': 193.22353326778105},\n",
       " {'pred': 232256, 'real': 81227, 'mape': 185.9344799143142},\n",
       " {'pred': 141129, 'real': 50465, 'mape': 179.6571881502031},\n",
       " {'pred': 262932, 'real': 94304, 'mape': 178.81319986426877},\n",
       " {'pred': -5173, 'real': 6687, 'mape': 177.35905488260804},\n",
       " {'pred': -11855, 'real': 15942, 'mape': 174.36331702421276},\n",
       " {'pred': 168806, 'real': 62435, 'mape': 170.37078561704172},\n",
       " {'pred': 677378, 'real': 250958, 'mape': 169.9168785215056},\n",
       " {'pred': -11592, 'real': 17102, 'mape': 167.78154601800958},\n",
       " {'pred': 87350, 'real': 33516, 'mape': 160.62179257667978},\n",
       " {'pred': -5708, 'real': 10414, 'mape': 154.81083157288268},\n",
       " {'pred': -11156, 'real': 20471, 'mape': 154.49660495334865},\n",
       " {'pred': -6546, 'real': 12664, 'mape': 151.68982943777638},\n",
       " {'pred': 93552, 'real': 37394, 'mape': 150.17917312937905},\n",
       " {'pred': -6565, 'real': 13248, 'mape': 149.5546497584541},\n",
       " {'pred': -10579, 'real': 22429, 'mape': 147.16661465067546},\n",
       " {'pred': -10302, 'real': 23037, 'mape': 144.719364500586},\n",
       " {'pred': -8549, 'real': 19953, 'mape': 142.84568736530846},\n",
       " {'pred': 58174, 'real': 24374, 'mape': 138.67235578895546},\n",
       " {'pred': 461080, 'real': 193726, 'mape': 138.0062562588398},\n",
       " {'pred': -5647, 'real': 15450, 'mape': 136.55016181229774},\n",
       " {'pred': 21098, 'real': 8970, 'mape': 135.20624303233},\n",
       " {'pred': 95423, 'real': 40930, 'mape': 133.1370632787686},\n",
       " {'pred': 105342, 'real': 45412, 'mape': 131.96952347397163},\n",
       " {'pred': 99167, 'real': 43214, 'mape': 129.47887258758735},\n",
       " {'pred': -3893, 'real': 15202, 'mape': 125.60847256939876},\n",
       " {'pred': 85363, 'real': 38343, 'mape': 122.62994549200637},\n",
       " {'pred': 102336, 'real': 46008, 'mape': 122.43088158581116},\n",
       " {'pred': -6525, 'real': 33172, 'mape': 119.67020378632583},\n",
       " {'pred': -4905, 'real': 28625, 'mape': 117.1353711790393},\n",
       " {'pred': -2891, 'real': 17051, 'mape': 116.95501730103805},\n",
       " {'pred': -1430, 'real': 9282, 'mape': 115.40616246498598},\n",
       " {'pred': 137433, 'real': 64903, 'mape': 111.75138283284285},\n",
       " {'pred': 59485, 'real': 28241, 'mape': 110.63347615169434},\n",
       " {'pred': 68616, 'real': 32687, 'mape': 109.91831615015144},\n",
       " {'pred': 199966, 'real': 96098, 'mape': 108.08549605610939},\n",
       " {'pred': 80723, 'real': 39376, 'mape': 105.00558715969117},\n",
       " {'pred': 316593, 'real': 156010, 'mape': 102.93122235754117},\n",
       " {'pred': -468, 'real': 18578, 'mape': 102.51910862310258},\n",
       " {'pred': -19, 'real': 55633, 'mape': 100.03415239156617},\n",
       " {'pred': 450, 'real': 18176, 'mape': 97.52420774647888},\n",
       " {'pred': 71518, 'real': 36739, 'mape': 94.66506981681592},\n",
       " {'pred': 79727, 'real': 40966, 'mape': 94.61748767270419},\n",
       " {'pred': 1726, 'real': 28233, 'mape': 93.88658661849608},\n",
       " {'pred': 144684, 'real': 75464, 'mape': 91.72585603731581},\n",
       " {'pred': 55947, 'real': 29621, 'mape': 88.87613517436954},\n",
       " {'pred': 3151, 'real': 26982, 'mape': 88.32184419242458},\n",
       " {'pred': 4663, 'real': 34251, 'mape': 86.38579895477504},\n",
       " {'pred': 235655, 'real': 126833, 'mape': 85.79943705502511},\n",
       " {'pred': 486634, 'real': 263691, 'mape': 84.5470645566212},\n",
       " {'pred': 156786, 'real': 86127, 'mape': 82.04047511233411},\n",
       " {'pred': 3383, 'real': 18635, 'mape': 81.84598873088275},\n",
       " {'pred': 53148, 'real': 29746, 'mape': 78.67276272439992},\n",
       " {'pred': 3596, 'real': 16718, 'mape': 78.49025002990788},\n",
       " {'pred': 299010, 'real': 170175, 'mape': 75.70736007051565},\n",
       " {'pred': 135035, 'real': 76871, 'mape': 75.66442481560016},\n",
       " {'pred': 3666, 'real': 14359, 'mape': 74.46897416254615},\n",
       " {'pred': 30867, 'real': 17700, 'mape': 74.38983050847457},\n",
       " {'pred': 42118, 'real': 24172, 'mape': 74.24292569915605},\n",
       " {'pred': 74071, 'real': 44481, 'mape': 66.52278500932982},\n",
       " {'pred': 78244, 'real': 47517, 'mape': 64.66527769008987},\n",
       " {'pred': 76177, 'real': 47641, 'mape': 59.89798702798011},\n",
       " {'pred': 77921, 'real': 49451, 'mape': 57.57214212048291},\n",
       " {'pred': 583218, 'real': 373401, 'mape': 56.19079756079925},\n",
       " {'pred': 11668, 'real': 26564, 'mape': 56.075892184911915},\n",
       " {'pred': 35836, 'real': 22964, 'mape': 56.05295244730883},\n",
       " {'pred': 134692, 'real': 88332, 'mape': 52.48381107639361},\n",
       " {'pred': 248132, 'real': 163267, 'mape': 51.979273215040386},\n",
       " {'pred': 16879, 'real': 34394, 'mape': 50.92457986858173},\n",
       " {'pred': 58525, 'real': 38940, 'mape': 50.29532614278377},\n",
       " {'pred': 130063, 'real': 86842, 'mape': 49.769696690541444},\n",
       " {'pred': 27476, 'real': 54611, 'mape': 49.68779183680944},\n",
       " {'pred': 354231, 'real': 236676, 'mape': 49.669167976474164},\n",
       " {'pred': 33584, 'real': 65729, 'mape': 48.905353801214076},\n",
       " {'pred': 463471, 'real': 312134, 'mape': 48.48462519302607},\n",
       " {'pred': 124270, 'real': 83752, 'mape': 48.37854618397173},\n",
       " {'pred': 353799, 'real': 684674, 'mape': 48.3259186123615},\n",
       " {'pred': 106913, 'real': 73757, 'mape': 44.95302140813753},\n",
       " {'pred': 17452, 'real': 31280, 'mape': 44.20716112531969},\n",
       " {'pred': 3922, 'real': 7017, 'mape': 44.10716830554368},\n",
       " {'pred': 27153, 'real': 18997, 'mape': 42.93309469916303},\n",
       " {'pred': 8940, 'real': 15377, 'mape': 41.86122130454575},\n",
       " {'pred': 55396, 'real': 39889, 'mape': 38.87537917721678},\n",
       " {'pred': 36013, 'real': 25965, 'mape': 38.69824764105527},\n",
       " {'pred': 19954, 'real': 32353, 'mape': 38.324112137977934},\n",
       " {'pred': 296033, 'real': 214583, 'mape': 37.95734051625711},\n",
       " {'pred': 25336, 'real': 18374, 'mape': 37.89049744203766},\n",
       " {'pred': 313801, 'real': 227838, 'mape': 37.7298782468245},\n",
       " {'pred': 59309, 'real': 43302, 'mape': 36.96596000184749},\n",
       " {'pred': 512451, 'real': 789097, 'mape': 35.05855427152809},\n",
       " {'pred': 43855, 'real': 32653, 'mape': 34.306189324104984},\n",
       " {'pred': 8465, 'real': 12848, 'mape': 34.11425902864259},\n",
       " {'pred': 173390, 'real': 129739, 'mape': 33.64524160044397},\n",
       " {'pred': 1293726, 'real': 1948960, 'mape': 33.619674082587636},\n",
       " {'pred': 874389, 'real': 1303947, 'mape': 32.942903354200745},\n",
       " {'pred': 24917, 'real': 36690, 'mape': 32.08776233306078},\n",
       " {'pred': 381258, 'real': 289155, 'mape': 31.85246667012502},\n",
       " {'pred': 15021, 'real': 21933, 'mape': 31.514156750102586},\n",
       " {'pred': 998937, 'real': 1453712, 'mape': 31.283706814004425},\n",
       " {'pred': 313517, 'real': 455639, 'mape': 31.191798770517888},\n",
       " {'pred': 995721, 'real': 1430273, 'mape': 30.382451462063536},\n",
       " {'pred': 94226, 'real': 73296, 'mape': 28.555446409080986},\n",
       " {'pred': 41223, 'real': 56513, 'mape': 27.055721692353973},\n",
       " {'pred': 22331, 'real': 17615, 'mape': 26.7726369571388},\n",
       " {'pred': 35761, 'real': 28369, 'mape': 26.056611089569596},\n",
       " {'pred': 457037, 'real': 364490, 'mape': 25.390820049932785},\n",
       " {'pred': 35255, 'real': 46393, 'mape': 24.007932231155564},\n",
       " {'pred': 80508, 'real': 105371, 'mape': 23.59567622970267},\n",
       " {'pred': 928509, 'real': 758285, 'mape': 22.448551665930356},\n",
       " {'pred': 194779, 'real': 247887, 'mape': 21.424277997636022},\n",
       " {'pred': 137341, 'real': 113954, 'mape': 20.523193569334993},\n",
       " {'pred': 550093, 'real': 458892, 'mape': 19.874175187190012},\n",
       " {'pred': 22326, 'real': 27841, 'mape': 19.8089149096656},\n",
       " {'pred': 46345, 'real': 57735, 'mape': 19.728067896423312},\n",
       " {'pred': 753306, 'real': 923861, 'mape': 18.461110491729816},\n",
       " {'pred': 303702, 'real': 256834, 'mape': 18.248362755709913},\n",
       " {'pred': 98579, 'real': 83477, 'mape': 18.09121075266241},\n",
       " {'pred': 439172, 'real': 376280, 'mape': 16.714149037950463},\n",
       " {'pred': 610683, 'real': 527020, 'mape': 15.87472961177944},\n",
       " {'pred': 430167, 'real': 505289, 'mape': 14.86713544130191},\n",
       " {'pred': 156759, 'real': 138506, 'mape': 13.178490462507039},\n",
       " {'pred': 45836, 'real': 40650, 'mape': 12.757687576875767},\n",
       " {'pred': 34152, 'real': 30421, 'mape': 12.264554090924033},\n",
       " {'pred': 34934, 'real': 39785, 'mape': 12.193037576976247},\n",
       " {'pred': 30215, 'real': 34302, 'mape': 11.914757157017084},\n",
       " {'pred': 72345, 'real': 80791, 'mape': 10.454134742731243},\n",
       " {'pred': 317019, 'real': 353303, 'mape': 10.269938268285296},\n",
       " {'pred': 71653, 'real': 79804, 'mape': 10.213773745676908},\n",
       " {'pred': 11956, 'real': 10948, 'mape': 9.207161125319693},\n",
       " {'pred': 104719, 'real': 96017, 'mape': 9.062978430902861},\n",
       " {'pred': 183382, 'real': 198283, 'mape': 7.5150164159307655},\n",
       " {'pred': 257616, 'real': 239740, 'mape': 7.456411112038042},\n",
       " {'pred': 63541, 'real': 59642, 'mape': 6.537339458770665},\n",
       " {'pred': 198073, 'real': 186192, 'mape': 6.381047520838703},\n",
       " {'pred': 11035, 'real': 11785, 'mape': 6.364022061943148},\n",
       " {'pred': 94335, 'real': 88970, 'mape': 6.030122513206699},\n",
       " {'pred': 32355, 'real': 30529, 'mape': 5.981198204985424},\n",
       " {'pred': 264359, 'real': 280837, 'mape': 5.867460484195459},\n",
       " {'pred': 35401, 'real': 37234, 'mape': 4.922919911908471},\n",
       " {'pred': 27895, 'real': 29120, 'mape': 4.206730769230769},\n",
       " {'pred': 294762, 'real': 283880, 'mape': 3.8333098492320703},\n",
       " {'pred': 50632, 'real': 52251, 'mape': 3.098505291764751},\n",
       " {'pred': 8092, 'real': 8320, 'mape': 2.7403846153846154},\n",
       " {'pred': 209350, 'real': 204657, 'mape': 2.293105048935536},\n",
       " {'pred': 279675, 'real': 285741, 'mape': 2.1229015087089356},\n",
       " {'pred': 431601, 'real': 425480, 'mape': 1.4386105104822788},\n",
       " {'pred': 24121, 'real': 24438, 'mape': 1.297160160405925},\n",
       " {'pred': 53498, 'real': 53072, 'mape': 0.8026831474223697}]"
      ]
     },
     "execution_count": 7,
     "metadata": {},
     "output_type": "execute_result"
    }
   ],
   "source": [
    "mape_list = {}\n",
    "# 예측값, 실제값을 확인하며 mape 계산 후 mape_list에 삽입 \n",
    "for idx,value in enumerate(y_test):\n",
    "    mape_temp = {}\n",
    "    predicate = int(y_pred[idx])\n",
    "    mape = abs((value - predicate) / value) * 100\n",
    "    mape_temp['pred'] = predicate\n",
    "    mape_temp['real'] = value\n",
    "    mape_temp['mape'] = mape\n",
    "    mape_list[idx] = mape_temp\n",
    "mape_list_sort = sorted(mape_list.values(), key=lambda x:(x['mape']), reverse=True)\n",
    "mape_list_sort  "
   ]
  },
  {
   "cell_type": "code",
   "execution_count": 8,
   "metadata": {},
   "outputs": [
    {
     "name": "stdout",
     "output_type": "stream",
     "text": [
      "Coefficients: \n",
      " [-2.74229838e-01 -1.65003108e+00 -8.80804824e-01  1.21829920e-07\n",
      "  1.39409573e-06  1.63257093e-02  1.75110041e-04 -2.75032944e-06\n",
      "  9.21779753e-05  4.61598116e-05  2.59120988e-09  1.39815959e-08\n",
      "  1.92724990e-02  3.64891403e-06 -6.95510843e-11]\n",
      "Intercept term:  -20478.416765726404\n"
     ]
    }
   ],
   "source": [
    "# 모델의 weight(가중치)와 bias(절편) 출력\n",
    "print('Coefficients: \\n',LR.coef_) \n",
    "print('Intercept term: ',LR.intercept_)"
   ]
  },
  {
   "cell_type": "code",
   "execution_count": null,
   "metadata": {},
   "outputs": [],
   "source": []
  }
 ],
 "metadata": {
  "kernelspec": {
   "display_name": "Python 3",
   "language": "python",
   "name": "python3"
  },
  "language_info": {
   "codemirror_mode": {
    "name": "ipython",
    "version": 3
   },
   "file_extension": ".py",
   "mimetype": "text/x-python",
   "name": "python",
   "nbconvert_exporter": "python",
   "pygments_lexer": "ipython3",
   "version": "3.7.7"
  }
 },
 "nbformat": 4,
 "nbformat_minor": 4
}
