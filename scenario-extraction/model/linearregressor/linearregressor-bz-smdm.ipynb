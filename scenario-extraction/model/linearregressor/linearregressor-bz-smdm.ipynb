{
 "cells": [
  {
   "cell_type": "code",
   "execution_count": 1,
   "metadata": {},
   "outputs": [],
   "source": [
    "import pandas as pd\n",
    "import numpy as np\n",
    "import matplotlib.pyplot as plt\n",
    "\n",
    "# 1727, 191\n",
    "train = pd.read_csv('/Users/bdlab/Desktop/sparse-matrix-multiplication/scenario-extraction/d-optimal/d-optimal-of-spmm/train-test-csv/1727-nonsquare-train-from-1918-nonsquare-spmm-over-3s.csv')\n",
    "test = pd.read_csv('/Users/bdlab/Desktop/sparse-matrix-multiplication/scenario-extraction/d-optimal/d-optimal-of-spmm/train-test-csv/191-nonsquare-test-from-1918-nonsquare-spmm-over-3s.csv')"
   ]
  },
  {
   "cell_type": "code",
   "execution_count": 2,
   "metadata": {},
   "outputs": [],
   "source": [
    "#  feature 4개 추가 -> MAPE \n",
    "\n",
    "# Train + Valid\n",
    "X_train = train[['lr','lc','rc','ld','rd','lnnz','rnnz','lr*lc','lc*rc','lr*rc','lr*lc*rc','ld*rd','lr*rc*ld*rd','lr*lc*rc*ld*rd','lnnz*rnnz','lnnz+rnnz','lnnz+lc*rc','lr*lc+lc*rc']] \n",
    "y_train = train['bz_smdm']\n",
    "\n",
    "# Test\n",
    "X_test = test[['lr','lc','rc','ld','rd','lnnz','rnnz','lr*lc','lc*rc','lr*rc','lr*lc*rc','ld*rd','lr*rc*ld*rd','lr*lc*rc*ld*rd','lnnz*rnnz','lnnz+rnnz','lnnz+lc*rc','lr*lc+lc*rc']] \n",
    "y_test = test['bz_smdm']"
   ]
  },
  {
   "cell_type": "code",
   "execution_count": 3,
   "metadata": {},
   "outputs": [],
   "source": [
    "from sklearn.metrics import r2_score\n",
    "\n",
    "def mean_absolute_percentage_error(y_test, y_pred):\n",
    "    y_test, y_pred = np.array(y_test), np.array(y_pred)\n",
    "    return np.mean(np.abs((y_test - y_pred) / y_test)) * 100"
   ]
  },
  {
   "cell_type": "code",
   "execution_count": 4,
   "metadata": {},
   "outputs": [
    {
     "data": {
      "text/plain": [
       "LinearRegression()"
      ]
     },
     "execution_count": 4,
     "metadata": {},
     "output_type": "execute_result"
    }
   ],
   "source": [
    "from sklearn.linear_model import LinearRegression\n",
    "\n",
    "LR = LinearRegression()\n",
    "\n",
    "LR.fit(X_train,y_train)"
   ]
  },
  {
   "cell_type": "code",
   "execution_count": 5,
   "metadata": {},
   "outputs": [],
   "source": [
    "# 테스트 데이터 예측값 도출\n",
    "y_pred = LR.predict(X_test) "
   ]
  },
  {
   "cell_type": "code",
   "execution_count": 6,
   "metadata": {},
   "outputs": [
    {
     "name": "stdout",
     "output_type": "stream",
     "text": [
      "\n",
      "MAPE :  325.3364869516089\n",
      "R^2 :  0.7788144913119498\n"
     ]
    }
   ],
   "source": [
    "# 기본선형회귀 metric\n",
    "print(\"\\nMAPE : \", mean_absolute_percentage_error(y_test, y_pred))\n",
    "print(\"R^2 : \", r2_score(y_test, y_pred))"
   ]
  },
  {
   "cell_type": "code",
   "execution_count": 7,
   "metadata": {},
   "outputs": [
    {
     "data": {
      "text/plain": [
       "[{'pred': -370939, 'real': 7369, 'mape': 5133.77663183607},\n",
       " {'pred': -250418, 'real': 8647, 'mape': 2996.0101769399794},\n",
       " {'pred': -111722, 'real': 4686, 'mape': 2484.1655996585573},\n",
       " {'pred': -463732, 'real': 25881, 'mape': 1891.7854796955296},\n",
       " {'pred': -101154, 'real': 5729, 'mape': 1865.6484552277884},\n",
       " {'pred': -241013, 'real': 13699, 'mape': 1859.3473976202642},\n",
       " {'pred': -217665, 'real': 13110, 'mape': 1760.2974828375284},\n",
       " {'pred': -160852, 'real': 10965, 'mape': 1566.9585043319653},\n",
       " {'pred': -158583, 'real': 11269, 'mape': 1507.2499778152453},\n",
       " {'pred': -155139, 'real': 11087, 'mape': 1499.2874537746911},\n",
       " {'pred': -175356, 'real': 12925, 'mape': 1456.7195357833657},\n",
       " {'pred': -114639, 'real': 9760, 'mape': 1274.5799180327867},\n",
       " {'pred': -309418, 'real': 28130, 'mape': 1199.9573409171703},\n",
       " {'pred': -184539, 'real': 16821, 'mape': 1197.075084715534},\n",
       " {'pred': 626237, 'real': 51306, 'mape': 1120.5921334736677},\n",
       " {'pred': -94891, 'real': 9352, 'mape': 1114.6599657827203},\n",
       " {'pred': 563948, 'real': 49356, 'mape': 1042.6128535537725},\n",
       " {'pred': -147335, 'real': 16617, 'mape': 986.6522236264068},\n",
       " {'pred': -122671, 'real': 14229, 'mape': 962.119614871038},\n",
       " {'pred': -46574, 'real': 5543, 'mape': 940.2309218834565},\n",
       " {'pred': -151436, 'real': 19803, 'mape': 864.7124173105086},\n",
       " {'pred': -74120, 'real': 9862, 'mape': 851.5716893125127},\n",
       " {'pred': 122877, 'real': 13334, 'mape': 821.5314234288286},\n",
       " {'pred': -193596, 'real': 28835, 'mape': 771.3924050632911},\n",
       " {'pred': -142730, 'real': 21956, 'mape': 750.0728730187648},\n",
       " {'pred': -275046, 'real': 43430, 'mape': 733.308772737739},\n",
       " {'pred': -40460, 'real': 6487, 'mape': 723.708956374287},\n",
       " {'pred': -79366, 'real': 13113, 'mape': 705.2467017463587},\n",
       " {'pred': -102363, 'real': 19638, 'mape': 621.2496180873816},\n",
       " {'pred': -57286, 'real': 11100, 'mape': 616.0900900900901},\n",
       " {'pred': -76283, 'real': 14793, 'mape': 615.6695734469006},\n",
       " {'pred': 612358, 'real': 87046, 'mape': 603.4878110424373},\n",
       " {'pred': 216923, 'real': 31380, 'mape': 591.2778840025494},\n",
       " {'pred': -47556, 'real': 10530, 'mape': 551.6239316239316},\n",
       " {'pred': 487401, 'real': 77798, 'mape': 526.4955397310985},\n",
       " {'pred': -124015, 'real': 30792, 'mape': 502.75071447129125},\n",
       " {'pred': -126621, 'real': 32690, 'mape': 487.3386356684001},\n",
       " {'pred': -179988, 'real': 46710, 'mape': 485.3307642903019},\n",
       " {'pred': 245971, 'real': 44557, 'mape': 452.03671701416164},\n",
       " {'pred': -78201, 'real': 25294, 'mape': 409.1681821775915},\n",
       " {'pred': -56149, 'real': 20867, 'mape': 369.0803661283366},\n",
       " {'pred': -141853, 'real': 55405, 'mape': 356.0292392383359},\n",
       " {'pred': -190448, 'real': 78642, 'mape': 342.17085018183667},\n",
       " {'pred': -53047, 'real': 22029, 'mape': 340.80530210177494},\n",
       " {'pred': 173898, 'real': 39679, 'mape': 338.26205297512536},\n",
       " {'pred': -117770, 'real': 52737, 'mape': 323.3156986555929},\n",
       " {'pred': 327852, 'real': 77551, 'mape': 322.7566375675362},\n",
       " {'pred': -148946, 'real': 67247, 'mape': 321.49092152809794},\n",
       " {'pred': -91231, 'real': 44795, 'mape': 303.66335528518806},\n",
       " {'pred': -28043, 'real': 14269, 'mape': 296.53094120120545},\n",
       " {'pred': 114386, 'real': 29229, 'mape': 291.3442129392042},\n",
       " {'pred': -69189, 'real': 36559, 'mape': 289.2529883202494},\n",
       " {'pred': -59434, 'real': 31902, 'mape': 286.3017992602345},\n",
       " {'pred': 165677, 'real': 43682, 'mape': 279.2797948811868},\n",
       " {'pred': 73421, 'real': 19563, 'mape': 275.3054235035526},\n",
       " {'pred': 74417, 'real': 20022, 'mape': 271.676156228149},\n",
       " {'pred': -31480, 'real': 18351, 'mape': 271.54378507983216},\n",
       " {'pred': 166366, 'real': 44802, 'mape': 271.3361010669166},\n",
       " {'pred': -50789, 'real': 31557, 'mape': 260.9436891973255},\n",
       " {'pred': 329265, 'real': 93092, 'mape': 253.69849181454907},\n",
       " {'pred': 260968, 'real': 74495, 'mape': 250.31612859923484},\n",
       " {'pred': 245675, 'real': 70154, 'mape': 250.19385922399292},\n",
       " {'pred': 175436, 'real': 50508, 'mape': 247.34299516908212},\n",
       " {'pred': 337637, 'real': 98308, 'mape': 243.4481425723237},\n",
       " {'pred': -24697, 'real': 18245, 'mape': 235.36311318169362},\n",
       " {'pred': 696198, 'real': 210460, 'mape': 230.7982514492065},\n",
       " {'pred': 216811, 'real': 66346, 'mape': 226.78835197299009},\n",
       " {'pred': 160356, 'real': 49823, 'mape': 221.8513537924252},\n",
       " {'pred': 949023, 'real': 295223, 'mape': 221.45971011743666},\n",
       " {'pred': 185421, 'real': 58975, 'mape': 214.4061042814752},\n",
       " {'pred': -105290, 'real': 103961, 'mape': 201.27836400188534},\n",
       " {'pred': -61174, 'real': 65382, 'mape': 193.5639778532318},\n",
       " {'pred': -45607, 'real': 49944, 'mape': 191.3162742271344},\n",
       " {'pred': -34158, 'real': 38015, 'mape': 189.85400499802708},\n",
       " {'pred': 87713, 'real': 31359, 'mape': 179.7059855224975},\n",
       " {'pred': 250378, 'real': 92391, 'mape': 170.99825740602438},\n",
       " {'pred': -47417, 'real': 68873, 'mape': 168.8470082615829},\n",
       " {'pred': 49154, 'real': 18406, 'mape': 167.05422144952732},\n",
       " {'pred': 169833, 'real': 64162, 'mape': 164.6940556715813},\n",
       " {'pred': -26661, 'real': 41750, 'mape': 163.85868263473054},\n",
       " {'pred': -19693, 'real': 31577, 'mape': 162.36501250910473},\n",
       " {'pred': 437973, 'real': 167215, 'mape': 161.92207636874681},\n",
       " {'pred': 668396, 'real': 260394, 'mape': 156.6864059847769},\n",
       " {'pred': 97802, 'real': 38151, 'mape': 156.35501035359493},\n",
       " {'pred': -9492, 'real': 17374, 'mape': 154.63336019339243},\n",
       " {'pred': 93015, 'real': 37097, 'mape': 150.734560746152},\n",
       " {'pred': -13742, 'real': 30261, 'mape': 145.41158586960114},\n",
       " {'pred': -9523, 'real': 25816, 'mape': 136.88797644871397},\n",
       " {'pred': 1813202, 'real': 773234, 'mape': 134.49589645566542},\n",
       " {'pred': 1371182, 'real': 622865, 'mape': 120.14112207300138},\n",
       " {'pred': 101928, 'real': 46310, 'mape': 120.09933059814296},\n",
       " {'pred': -6573, 'real': 78718, 'mape': 108.35005970680149},\n",
       " {'pred': -10031, 'real': 121029, 'mape': 108.28809624139669},\n",
       " {'pred': 742817, 'real': 360627, 'mape': 105.97930826033549},\n",
       " {'pred': 389902, 'real': 190964, 'mape': 104.17565614461364},\n",
       " {'pred': 2350, 'real': 39551, 'mape': 94.05830446764936},\n",
       " {'pred': 2155, 'real': 30475, 'mape': 92.92863002461034},\n",
       " {'pred': 4800, 'real': 63564, 'mape': 92.44855578629412},\n",
       " {'pred': 1108, 'real': 13626, 'mape': 91.86848671657127},\n",
       " {'pred': 4460, 'real': 36328, 'mape': 87.72296850913895},\n",
       " {'pred': 573023, 'real': 305757, 'mape': 87.41124487746805},\n",
       " {'pred': 1173144, 'real': 627928, 'mape': 86.827789173281},\n",
       " {'pred': 12063, 'real': 91244, 'mape': 86.77940467318399},\n",
       " {'pred': 512688, 'real': 276319, 'mape': 85.54207274924997},\n",
       " {'pred': 232048, 'real': 126101, 'mape': 84.01757321512122},\n",
       " {'pred': 244511, 'real': 133872, 'mape': 82.6453627345524},\n",
       " {'pred': 377957, 'real': 211421, 'mape': 78.76984783914558},\n",
       " {'pred': 436786, 'real': 244678, 'mape': 78.51461921382388},\n",
       " {'pred': 809266, 'real': 464198, 'mape': 74.33638231961362},\n",
       " {'pred': 28162, 'real': 109182, 'mape': 74.20637101353704},\n",
       " {'pred': 73761, 'real': 42413, 'mape': 73.9113007804211},\n",
       " {'pred': 18294, 'real': 65894, 'mape': 72.23722948978663},\n",
       " {'pred': 80889, 'real': 47983, 'mape': 68.57845486943293},\n",
       " {'pred': 18497, 'real': 53416, 'mape': 65.3717987119964},\n",
       " {'pred': 1508476, 'real': 917973, 'mape': 64.32683749957788},\n",
       " {'pred': 745112, 'real': 453645, 'mape': 64.25001928820994},\n",
       " {'pred': 35757, 'real': 97298, 'mape': 63.25001541655533},\n",
       " {'pred': 5245, 'real': 14078, 'mape': 62.743287398778236},\n",
       " {'pred': 40808, 'real': 25090, 'mape': 62.64647269828617},\n",
       " {'pred': 181275, 'real': 116566, 'mape': 55.51275672151399},\n",
       " {'pred': 1089094, 'real': 2330004, 'mape': 53.25784848438029},\n",
       " {'pred': 17044, 'real': 36276, 'mape': 53.015768000882126},\n",
       " {'pred': 908674, 'real': 598523, 'mape': 51.81939541170515},\n",
       " {'pred': 1328483, 'real': 877427, 'mape': 51.40666972864979},\n",
       " {'pred': 646425, 'real': 432817, 'mape': 49.35295979594147},\n",
       " {'pred': 255032, 'real': 172021, 'mape': 48.25631754262561},\n",
       " {'pred': 320377, 'real': 216479, 'mape': 47.99449369222881},\n",
       " {'pred': 36023, 'real': 68167, 'mape': 47.15478163920959},\n",
       " {'pred': 132108, 'real': 89910, 'mape': 46.9336002669336},\n",
       " {'pred': 12073, 'real': 22416, 'mape': 46.14114917915774},\n",
       " {'pred': 183775, 'real': 128247, 'mape': 43.2976989715159},\n",
       " {'pred': 3598775, 'real': 6344489, 'mape': 43.27714966485087},\n",
       " {'pred': 205664, 'real': 143737, 'mape': 43.08354842524889},\n",
       " {'pred': 2749417, 'real': 4777338, 'mape': 42.448765400312894},\n",
       " {'pred': 56210, 'real': 96990, 'mape': 42.04557170842355},\n",
       " {'pred': 2758323, 'real': 4727456, 'mape': 41.653121678974905},\n",
       " {'pred': 1074986, 'real': 759959, 'mape': 41.45315734138289},\n",
       " {'pred': 76648, 'real': 130844, 'mape': 41.42031732444743},\n",
       " {'pred': 71030, 'real': 120592, 'mape': 41.09891203396577},\n",
       " {'pred': 921128, 'real': 1558644, 'mape': 40.90196350160781},\n",
       " {'pred': 86192, 'real': 135060, 'mape': 36.18243743521398},\n",
       " {'pred': 158904, 'real': 119665, 'mape': 32.79070739146785},\n",
       " {'pred': 128317, 'real': 190442, 'mape': 32.62148055575976},\n",
       " {'pred': 742314, 'real': 560004, 'mape': 32.55512460625281},\n",
       " {'pred': 92986, 'real': 136734, 'mape': 31.99496833267512},\n",
       " {'pred': 18728, 'real': 27256, 'mape': 31.288523627825064},\n",
       " {'pred': 12741, 'real': 18527, 'mape': 31.230096615749986},\n",
       " {'pred': 914232, 'real': 705863, 'mape': 29.51975099983991},\n",
       " {'pred': 199439, 'real': 279834, 'mape': 28.72953250855865},\n",
       " {'pred': 23236, 'real': 32273, 'mape': 28.00173519660397},\n",
       " {'pred': 729859, 'real': 1004111, 'mape': 27.312916599857985},\n",
       " {'pred': 105329, 'real': 144060, 'mape': 26.885325558794946},\n",
       " {'pred': 229547, 'real': 181070, 'mape': 26.77251891533661},\n",
       " {'pred': 191187, 'real': 151100, 'mape': 26.53011250827267},\n",
       " {'pred': 835128, 'real': 663222, 'mape': 25.91982774998417},\n",
       " {'pred': 1306475, 'real': 1754542, 'mape': 25.537547690508404},\n",
       " {'pred': 539900, 'real': 432681, 'mape': 24.78014981013726},\n",
       " {'pred': 1621397, 'real': 1304262, 'mape': 24.31528327897309},\n",
       " {'pred': 241744, 'real': 196380, 'mape': 23.100112027701396},\n",
       " {'pred': 236481, 'real': 301658, 'mape': 21.606256091335222},\n",
       " {'pred': 505436, 'real': 630627, 'mape': 19.851830004107025},\n",
       " {'pred': 348044, 'real': 292271, 'mape': 19.08263221462273},\n",
       " {'pred': 2269998, 'real': 2803943, 'mape': 19.04264815654241},\n",
       " {'pred': 285252, 'real': 341110, 'mape': 16.375362786198},\n",
       " {'pred': 190588, 'real': 165377, 'mape': 15.2445624240372},\n",
       " {'pred': 1253812, 'real': 1089733, 'mape': 15.056807493211641},\n",
       " {'pred': 44173, 'real': 51936, 'mape': 14.947242760320394},\n",
       " {'pred': 147378, 'real': 128294, 'mape': 14.875208505464013},\n",
       " {'pred': 991187, 'real': 1154837, 'mape': 14.170831035029185},\n",
       " {'pred': 244101, 'real': 281644, 'mape': 13.329948445555381},\n",
       " {'pred': 417232, 'real': 369161, 'mape': 13.021689723453994},\n",
       " {'pred': 251489, 'real': 222732, 'mape': 12.911032092380081},\n",
       " {'pred': 1998723, 'real': 2243000, 'mape': 10.890637539010255},\n",
       " {'pred': 1098423, 'real': 1224120, 'mape': 10.268356043525143},\n",
       " {'pred': 1230344, 'real': 1347968, 'mape': 8.726023169689489},\n",
       " {'pred': 55430, 'real': 60379, 'mape': 8.196558406068336},\n",
       " {'pred': 288965, 'real': 270598, 'mape': 6.7875594054649335},\n",
       " {'pred': 676817, 'real': 633867, 'mape': 6.775869385849082},\n",
       " {'pred': 796241, 'real': 747211, 'mape': 6.561734235711198},\n",
       " {'pred': 708622, 'real': 758334, 'mape': 6.555422808419509},\n",
       " {'pred': 361695, 'real': 343975, 'mape': 5.151537175666836},\n",
       " {'pred': 776301, 'real': 813244, 'mape': 4.542671080266193},\n",
       " {'pred': 144576, 'real': 139591, 'mape': 3.5711471369930727},\n",
       " {'pred': 910145, 'real': 940945, 'mape': 3.273305028455436},\n",
       " {'pred': 91406, 'real': 94388, 'mape': 3.159299911005636},\n",
       " {'pred': 463561, 'real': 451656, 'mape': 2.635855606922082},\n",
       " {'pred': 659558, 'real': 672265, 'mape': 1.8901772366551879},\n",
       " {'pred': 53738, 'real': 54445, 'mape': 1.2985581779777757},\n",
       " {'pred': 1301899, 'real': 1286669, 'mape': 1.1836766099128835},\n",
       " {'pred': 21756, 'real': 21553, 'mape': 0.9418642416368951},\n",
       " {'pred': 1542993, 'real': 1533202, 'mape': 0.6385981755828651},\n",
       " {'pred': 2539465, 'real': 2523708, 'mape': 0.6243590779915901}]"
      ]
     },
     "execution_count": 7,
     "metadata": {},
     "output_type": "execute_result"
    }
   ],
   "source": [
    "mape_list = {}\n",
    "# 예측값, 실제값을 확인하며 mape 계산 후 mape_list에 삽입 \n",
    "for idx,value in enumerate(y_test):\n",
    "    mape_temp = {}\n",
    "    predicate = int(y_pred[idx])\n",
    "    mape = abs((value - predicate) / value) * 100\n",
    "    mape_temp['pred'] = predicate\n",
    "    mape_temp['real'] = value\n",
    "    mape_temp['mape'] = mape\n",
    "    mape_list[idx] = mape_temp\n",
    "mape_list_sort = sorted(mape_list.values(), key=lambda x:(x['mape']), reverse=True)\n",
    "mape_list_sort  "
   ]
  },
  {
   "cell_type": "code",
   "execution_count": 8,
   "metadata": {},
   "outputs": [
    {
     "name": "stdout",
     "output_type": "stream",
     "text": [
      "Coefficients: \n",
      " [-1.57157086e+00 -4.12567955e+00 -3.52989179e+00  3.94810223e-07\n",
      "  4.13137377e-06  2.05689719e-02 -1.07156229e-02  4.01753464e-03\n",
      " -8.04473188e-03  1.53751511e-04  4.87367330e-09  4.19702870e-08\n",
      "  5.22958023e-02  9.50956688e-06 -1.37477049e-10  9.85334900e-03\n",
      "  1.25242400e-02 -4.02719674e-03]\n",
      "Intercept term:  -4686.516197408375\n"
     ]
    }
   ],
   "source": [
    "# 모델의 weight(가중치)와 bias(절편) 출력\n",
    "print('Coefficients: \\n',LR.coef_) \n",
    "print('Intercept term: ',LR.intercept_)"
   ]
  },
  {
   "cell_type": "code",
   "execution_count": null,
   "metadata": {},
   "outputs": [],
   "source": []
  }
 ],
 "metadata": {
  "kernelspec": {
   "display_name": "Python 3",
   "language": "python",
   "name": "python3"
  },
  "language_info": {
   "codemirror_mode": {
    "name": "ipython",
    "version": 3
   },
   "file_extension": ".py",
   "mimetype": "text/x-python",
   "name": "python",
   "nbconvert_exporter": "python",
   "pygments_lexer": "ipython3",
   "version": "3.7.7"
  }
 },
 "nbformat": 4,
 "nbformat_minor": 4
}
