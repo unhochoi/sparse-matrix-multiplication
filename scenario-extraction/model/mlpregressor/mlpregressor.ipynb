{
 "cells": [
  {
   "cell_type": "code",
   "execution_count": 1,
   "metadata": {},
   "outputs": [],
   "source": [
    "import pandas as pd\n",
    "import numpy as np\n",
    "\n",
    "nonsquare_df1 = pd.read_csv('./spmm-nonsquare-traindata-v2-doptimal-900.csv')\n",
    "nonsquare_df2 = pd.read_csv('./spmm-nonsquare-traindata-v2-doptimal-100.csv')"
   ]
  },
  {
   "cell_type": "code",
   "execution_count": 2,
   "metadata": {},
   "outputs": [],
   "source": [
    "from sklearn.model_selection import train_test_split\n",
    "\n",
    "# 900개\n",
    "X_train = nonsquare_df1[['lr','lc','rc','ld','rd','lnnz','rnnz','lr*lc','lc*rc','lr*rc','lr*lc*rc','ld*rd','lr*rc*ld*rd','lr*lc*rc*ld*rd']] \n",
    "y_train = nonsquare_df1['bz_smdm_median']\n",
    "# 100개\n",
    "X_test = nonsquare_df2[['lr','lc','rc','ld','rd','lnnz','rnnz','lr*lc','lc*rc','lr*rc','lr*lc*rc','ld*rd','lr*rc*ld*rd','lr*lc*rc*ld*rd']] \n",
    "y_test = nonsquare_df2['bz_smdm_median']"
   ]
  },
  {
   "cell_type": "code",
   "execution_count": 3,
   "metadata": {},
   "outputs": [],
   "source": [
    "# 데이터 정규화\n",
    "mean = X_train.mean(axis=0)\n",
    "X_train -= mean\n",
    "std = X_train.std(axis=0)\n",
    "X_train /= std\n",
    "\n",
    "X_test -= mean\n",
    "X_test /= std"
   ]
  },
  {
   "cell_type": "code",
   "execution_count": 4,
   "metadata": {},
   "outputs": [],
   "source": [
    "from sklearn.decomposition import PCA\n",
    "\n",
    "pca = PCA(n_components=5)\n",
    "X_train = pca.fit_transform(X_train)\n",
    "X_test = pca.transform(X_test)"
   ]
  },
  {
   "cell_type": "code",
   "execution_count": 5,
   "metadata": {},
   "outputs": [],
   "source": [
    "from sklearn.metrics import mean_squared_error\n",
    "\n",
    "def mean_absolute_percentage_error(y_test, y_pred):\n",
    "    y_test, y_pred = np.array(y_test), np.array(y_pred)\n",
    "    return np.mean(np.abs((y_test - y_pred) / y_test)) * 100\n",
    "\n",
    "def rmse(y_true, y_pred):\n",
    "    rmse = np.sqrt(np.mean(np.square(y_pred - y_true))) \n",
    "    return rmse\n",
    "\n",
    "def custom_scoring(y_test, y_pred):\n",
    "\n",
    "    rmse = np.sqrt(mean_squared_error(y_test, y_pred))\n",
    "    mape = mean_absolute_percentage_error(y_test, y_pred)\n",
    "\n",
    "    return mape"
   ]
  },
  {
   "cell_type": "code",
   "execution_count": 6,
   "metadata": {},
   "outputs": [],
   "source": [
    "# from sklearn.neural_network import MLPRegressor\n",
    "# from sklearn.model_selection import GridSearchCV\n",
    "# from sklearn.model_selection import KFold\n",
    "# from sklearn.metrics import make_scorer\n",
    "\n",
    "# grid = {\n",
    "#     'hidden_layer_sizes' : [],\n",
    "#     'learning_rate_init' : [0.0005,0.001,0.005]\n",
    "# }\n",
    "\n",
    "# regressor = MLPRegressor(max_iter=5000,early_stopping=True)\n",
    "\n",
    "# regressor_grid = GridSearchCV(regressor, \n",
    "#                               param_grid = grid, \n",
    "#                               scoring = make_scorer(custom_scoring, greater_is_better=False),\n",
    "#                               n_jobs=-1,\n",
    "#                               verbose=3) \n",
    "\n",
    "# regressor_grid.fit(X_train, y_train)\n",
    "\n",
    "# print(\"최고의 파라미터 :\", regressor_grid.best_params_)\n",
    "# print(\"최고 평균 정확도 : {}\".format(regressor_grid.best_score_)) "
   ]
  },
  {
   "cell_type": "code",
   "execution_count": 7,
   "metadata": {},
   "outputs": [],
   "source": [
    "# from sklearn.neural_network import MLPRegressor\n",
    "# from sklearn.model_selection import GridSearchCV\n",
    "# from sklearn.model_selection import KFold\n",
    "# from sklearn.metrics import make_scorer\n",
    "\n",
    "# kf = KFold(random_state=30,\n",
    "#            n_splits=10,\n",
    "#            shuffle=True,\n",
    "#           )\n",
    "\n",
    "# grid = {\n",
    "#     'hidden_layer_sizes' : [(16,),(32,),(64,)],\n",
    "#     'alpha' : [0.0001,0.0005,0.001, 0.005, 0.01],\n",
    "#     'learning_rate_init' : [0.005, 0.01, 0.05, 0.1],\n",
    "# }\n",
    "\n",
    "# regressor = MLPRegressor(max_iter=5000)\n",
    "\n",
    "# regressor_grid = GridSearchCV(regressor, \n",
    "#                               param_grid = grid, \n",
    "#                               scoring = make_scorer(custom_scoring, greater_is_better=False),\n",
    "#                               cv=kf, \n",
    "#                               n_jobs=-1,\n",
    "#                               verbose=3) \n",
    "\n",
    "# regressor_grid.fit(X_train, y_train)\n",
    "\n",
    "# print(\"최고의 파라미터 :\", regressor_grid.best_params_)\n",
    "# print(\"최고 평균 정확도 : {}\".format(regressor_grid.best_score_))"
   ]
  },
  {
   "cell_type": "code",
   "execution_count": null,
   "metadata": {},
   "outputs": [],
   "source": [
    "from sklearn.neural_network import MLPRegressor\n",
    "\n",
    "regressor = MLPRegressor(hidden_layer_sizes=(128, 512, 1024, 2048, 1024, 512, 128,), \n",
    "                         max_iter=5000,\n",
    "                         #activation='relu',\n",
    "                         #alpha=0.0001,\n",
    "                         #learning_rate_init=0.001,\n",
    "                         early_stopping=False\n",
    "                         )\n",
    "\n",
    "regressor.fit(X_train, y_train)\n",
    "\n",
    "y_pred_train = regressor.predict(X_train)\n",
    "y_pred = regressor.predict(X_test)"
   ]
  },
  {
   "cell_type": "code",
   "execution_count": null,
   "metadata": {},
   "outputs": [],
   "source": [
    "# 훈련 자체 에러율\n",
    "print(\"--------train 에러율--------\")\n",
    "print(\"rmse : {}\".format(rmse(y_train,y_pred_train)))\n",
    "print(\"mape : {}\".format(mean_absolute_percentage_error(y_train, y_pred_train)))\n",
    "\n",
    "# 테스트 에러율\n",
    "print(\"--------test 에러율--------\")\n",
    "print(\"rmse : {}\".format(rmse(y_test,y_pred)))\n",
    "print(\"mape : {}\".format(mean_absolute_percentage_error(y_test,y_pred)))"
   ]
  },
  {
   "cell_type": "code",
   "execution_count": null,
   "metadata": {},
   "outputs": [],
   "source": []
  }
 ],
 "metadata": {
  "kernelspec": {
   "display_name": "Python 3",
   "language": "python",
   "name": "python3"
  },
  "language_info": {
   "codemirror_mode": {
    "name": "ipython",
    "version": 3
   },
   "file_extension": ".py",
   "mimetype": "text/x-python",
   "name": "python",
   "nbconvert_exporter": "python",
   "pygments_lexer": "ipython3",
   "version": "3.6.9"
  }
 },
 "nbformat": 4,
 "nbformat_minor": 2
}
