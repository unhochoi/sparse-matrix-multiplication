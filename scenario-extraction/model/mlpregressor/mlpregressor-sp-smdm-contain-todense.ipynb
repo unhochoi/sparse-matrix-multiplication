{
 "cells": [
  {
   "cell_type": "code",
   "execution_count": 1,
   "metadata": {},
   "outputs": [],
   "source": [
    "import pandas as pd\n",
    "import numpy as np\n",
    "\n",
    "# 1035, 258\n",
    "train = pd.read_csv('/Users/bdlab/Desktop/sparse-matrix-multiplication/scenario-extraction/d-optimal/spmm-latency-traintest/train-test-csv/nonsquare-train-1035-from-spmm-contain-todense-over-3s-1293.csv')\n",
    "test = pd.read_csv('/Users/bdlab/Desktop/sparse-matrix-multiplication/scenario-extraction/d-optimal/spmm-latency-traintest/train-test-csv/nonsquare-test-258-from-spmm-contain-todense-over-3s-1293.csv')"
   ]
  },
  {
   "cell_type": "code",
   "execution_count": 2,
   "metadata": {},
   "outputs": [],
   "source": [
    "# Train + Valid\n",
    "X_train = train[['lr','lc','rc','ld','rd','lnnz','rnnz','lr*lc','lc*rc','lr*rc','lr*lc*rc','ld*rd','lr*rc*ld*rd','lr*lc*rc*ld*rd','lnnz*rnnz']] \n",
    "y_train = train['sp_smdm']\n",
    "\n",
    "# Test\n",
    "X_test = test[['lr','lc','rc','ld','rd','lnnz','rnnz','lr*lc','lc*rc','lr*rc','lr*lc*rc','ld*rd','lr*rc*ld*rd','lr*lc*rc*ld*rd','lnnz*rnnz']] \n",
    "y_test = test['sp_smdm']"
   ]
  },
  {
   "cell_type": "code",
   "execution_count": 3,
   "metadata": {},
   "outputs": [],
   "source": [
    "# 데이터 표준화(Standardization)\n",
    "# 회귀 문제에선 MinMaxScaler가 좋음\n",
    "from sklearn.preprocessing import MinMaxScaler\n",
    "\n",
    "# 변형 객체 생성\n",
    "minmax_scaler = MinMaxScaler()\n",
    "\n",
    "# 훈련데이터의 모수 분포 저장\n",
    "minmax_scaler.fit(X_train)\n",
    "\n",
    "# 훈련 데이터 스케일링\n",
    "X_train = minmax_scaler.transform(X_train)\n",
    "\n",
    "# 테스트 데이터의 스케일링\n",
    "X_test = minmax_scaler.transform(X_test)"
   ]
  },
  {
   "cell_type": "code",
   "execution_count": 4,
   "metadata": {},
   "outputs": [],
   "source": [
    "from sklearn.metrics import mean_squared_error\n",
    "\n",
    "def mean_absolute_percentage_error(y_test, y_pred):\n",
    "    y_test, y_pred = np.array(y_test), np.array(y_pred)\n",
    "    return np.mean(np.abs((y_test - y_pred) / y_test)) * 100\n",
    "\n",
    "def rmse(y_true, y_pred):\n",
    "    rmse = np.sqrt(np.mean(np.square(y_pred - y_true))) \n",
    "    return rmse\n",
    "\n",
    "def custom_scoring(y_test, y_pred):\n",
    "\n",
    "    rmse = np.sqrt(mean_squared_error(y_test, y_pred))\n",
    "    mape = mean_absolute_percentage_error(y_test, y_pred)\n",
    "\n",
    "    return mape"
   ]
  },
  {
   "cell_type": "code",
   "execution_count": 5,
   "metadata": {},
   "outputs": [],
   "source": [
    "# from sklearn.neural_network import MLPRegressor\n",
    "# from sklearn.model_selection import GridSearchCV\n",
    "# from sklearn.model_selection import KFold\n",
    "# from sklearn.metrics import make_scorer\n",
    "\n",
    "# grid = {\n",
    "#     'hidden_layer_sizes' : [],\n",
    "#     'learning_rate_init' : [0.0005,0.001,0.005]\n",
    "# }\n",
    "\n",
    "# regressor = MLPRegressor(max_iter=5000,early_stopping=True)\n",
    "\n",
    "# regressor_grid = GridSearchCV(regressor, \n",
    "#                               param_grid = grid, \n",
    "#                               scoring = make_scorer(custom_scoring, greater_is_better=False),\n",
    "#                               n_jobs=-1,\n",
    "#                               verbose=3) \n",
    "\n",
    "# regressor_grid.fit(X_train, y_train)\n",
    "\n",
    "# print(\"최고의 파라미터 :\", regressor_grid.best_params_)\n",
    "# print(\"최고 평균 정확도 : {}\".format(regressor_grid.best_score_)) "
   ]
  },
  {
   "cell_type": "code",
   "execution_count": 6,
   "metadata": {},
   "outputs": [],
   "source": [
    "# from sklearn.neural_network import MLPRegressor\n",
    "# from sklearn.model_selection import GridSearchCV\n",
    "# from sklearn.model_selection import KFold\n",
    "# from sklearn.metrics import make_scorer\n",
    "\n",
    "# kf = KFold(random_state=30,\n",
    "#            n_splits=10,\n",
    "#            shuffle=True,\n",
    "#           )\n",
    "\n",
    "# grid = {\n",
    "#     'hidden_layer_sizes' : [(16,),(32,),(64,)],\n",
    "#     'alpha' : [0.0001,0.0005,0.001, 0.005, 0.01],\n",
    "#     'learning_rate_init' : [0.005, 0.01, 0.05, 0.1],\n",
    "# }\n",
    "\n",
    "# regressor = MLPRegressor(max_iter=5000)\n",
    "\n",
    "# regressor_grid = GridSearchCV(regressor, \n",
    "#                               param_grid = grid, \n",
    "#                               scoring = make_scorer(custom_scoring, greater_is_better=False),\n",
    "#                               cv=kf, \n",
    "#                               n_jobs=-1,\n",
    "#                               verbose=3) \n",
    "\n",
    "# regressor_grid.fit(X_train, y_train)\n",
    "\n",
    "# print(\"최고의 파라미터 :\", regressor_grid.best_params_)\n",
    "# print(\"최고 평균 정확도 : {}\".format(regressor_grid.best_score_))"
   ]
  },
  {
   "cell_type": "code",
   "execution_count": 9,
   "metadata": {},
   "outputs": [],
   "source": [
    "from sklearn.neural_network import MLPRegressor\n",
    "\n",
    "regressor = MLPRegressor(hidden_layer_sizes=(1024, 256, 64, 16, 1,), \n",
    "                         max_iter=1000,\n",
    "                         activation='relu',\n",
    "                         alpha=0.01,\n",
    "                         learning_rate_init=0.001,\n",
    "                         early_stopping=False\n",
    "                         )\n",
    "\n",
    "regressor.fit(X_train, y_train)\n",
    "\n",
    "y_pred_train = regressor.predict(X_train)\n",
    "y_pred = regressor.predict(X_test)"
   ]
  },
  {
   "cell_type": "code",
   "execution_count": 10,
   "metadata": {},
   "outputs": [
    {
     "name": "stdout",
     "output_type": "stream",
     "text": [
      "--------train 에러율--------\n",
      "rmse : 22955.068915097167\n",
      "mape : 19.38236518374932\n",
      "--------test 에러율--------\n",
      "rmse : 27559.838830254357\n",
      "mape : 22.10957880464378\n"
     ]
    }
   ],
   "source": [
    "# 훈련 자체 에러율\n",
    "print(\"--------train 에러율--------\")\n",
    "print(\"rmse : {}\".format(rmse(y_train,y_pred_train)))\n",
    "print(\"mape : {}\".format(mean_absolute_percentage_error(y_train, y_pred_train)))\n",
    "\n",
    "# 테스트 에러율\n",
    "print(\"--------test 에러율--------\")\n",
    "print(\"rmse : {}\".format(rmse(y_test,y_pred)))\n",
    "print(\"mape : {}\".format(mean_absolute_percentage_error(y_test,y_pred)))"
   ]
  },
  {
   "cell_type": "code",
   "execution_count": null,
   "metadata": {},
   "outputs": [],
   "source": []
  }
 ],
 "metadata": {
  "kernelspec": {
   "display_name": "Python 3",
   "language": "python",
   "name": "python3"
  },
  "language_info": {
   "codemirror_mode": {
    "name": "ipython",
    "version": 3
   },
   "file_extension": ".py",
   "mimetype": "text/x-python",
   "name": "python",
   "nbconvert_exporter": "python",
   "pygments_lexer": "ipython3",
   "version": "3.7.0"
  }
 },
 "nbformat": 4,
 "nbformat_minor": 2
}
